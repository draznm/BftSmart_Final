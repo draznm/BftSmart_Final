{
 "cells": [
  {
   "cell_type": "code",
   "execution_count": 1,
   "id": "e494524a",
   "metadata": {},
   "outputs": [],
   "source": [
    "import os\n",
    "from joblib import Parallel, delayed\n",
    "import time\n",
    "import numpy as np"
   ]
  },
  {
   "cell_type": "code",
   "execution_count": 2,
   "id": "032960c1",
   "metadata": {},
   "outputs": [],
   "source": [
    "# time.sleep(30)"
   ]
  },
  {
   "cell_type": "code",
   "execution_count": 3,
   "id": "4937b574",
   "metadata": {},
   "outputs": [
    {
     "name": "stdout",
     "output_type": "stream",
     "text": [
      "ssh -i \"MAKWest.pem\" ubuntu@ec2-127-0-0-1.us-west-1.compute.amazonaws.com\n",
      "ssh -i \"MAKWest.pem\" ubuntu@ec2-127-0-0-1.us-west-1.compute.amazonaws.com\n",
      "ssh -i \"MAKWest.pem\" ubuntu@ec2-127-0-0-1.us-west-1.compute.amazonaws.com\n",
      "ssh -i \"MAKWest.pem\" ubuntu@ec2-127-0-0-1.us-west-1.compute.amazonaws.com\n",
      "ssh -i \"MAKWest.pem\" ubuntu@ec2-127-0-0-1.us-west-1.compute.amazonaws.com\n",
      "ssh -i \"MAKWest.pem\" ubuntu@ec2-127-0-0-1.us-west-1.compute.amazonaws.com\n",
      "ssh -i \"MAKWest.pem\" ubuntu@ec2-127-0-0-1.us-west-1.compute.amazonaws.com\n",
      "ssh -i \"MAKWest.pem\" ubuntu@ec2-127-0-0-1.us-west-1.compute.amazonaws.com\n",
      "ssh -i \"MAKWest.pem\" ubuntu@ec2-127-0-0-1.us-west-1.compute.amazonaws.com\n",
      "ssh -i \"MAKWest.pem\" ubuntu@ec2-127-0-0-1.us-west-1.compute.amazonaws.com\n",
      "ssh -i \"MAKWest.pem\" ubuntu@ec2-127-0-0-1.us-west-1.compute.amazonaws.com\n",
      "ssh -i \"MAKWest.pem\" ubuntu@ec2-127-0-0-1.us-west-1.compute.amazonaws.com\n",
      "ssh -i \"MAKWest.pem\" ubuntu@ec2-127-0-0-1.us-west-1.compute.amazonaws.com\n",
      "ssh -i \"MAKWest.pem\" ubuntu@ec2-127-0-0-1.us-west-1.compute.amazonaws.com\n",
      "ssh -i \"MAKWest.pem\" ubuntu@ec2-127-0-0-1.us-west-1.compute.amazonaws.com\n",
      "ssh -i \"MAKWest.pem\" ubuntu@ec2-127-0-0-1.us-west-1.compute.amazonaws.com\n",
      "ssh -i \"MAKWest.pem\" ubuntu@ec2-127-0-0-1.us-west-1.compute.amazonaws.com\n",
      "ssh -i \"MAKWest.pem\" ubuntu@ec2-127-0-0-1.us-west-1.compute.amazonaws.com\n",
      "ssh -i \"MAKWest.pem\" ubuntu@ec2-127-0-0-1.us-west-1.compute.amazonaws.com\n",
      "ssh -i \"MAKWest.pem\" ubuntu@ec2-127-0-0-1.us-west-1.compute.amazonaws.com\n",
      "ssh -i \"MAKWest.pem\" ubuntu@ec2-127-0-0-1.us-west-1.compute.amazonaws.com\n",
      "ssh -i \"MAKWest.pem\" ubuntu@ec2-127-0-0-1.us-west-1.compute.amazonaws.com\n"
     ]
    }
   ],
   "source": [
    "with open('all_external_ips') as f:\n",
    "    lines = f.read().splitlines()\n",
    "\n",
    "\n",
    "lines = [x for x in lines if x!='None']\n",
    "lines\n",
    "\n",
    "for ip in lines:\n",
    "    if ip!='None':\n",
    "        current = (ip.split('.'))\n",
    "\n",
    "        print('ssh -i \"MAKWest.pem\" ubuntu@ec2-'+str(current[0])+'-'\\\n",
    "              +str(current[1])+'-'+str(current[2])+'-'+str(current[3])+'.us-west-1.compute.amazonaws.com')"
   ]
  },
  {
   "cell_type": "markdown",
   "id": "c7a63295",
   "metadata": {},
   "source": [
    "## Set number of clusters"
   ]
  },
  {
   "cell_type": "code",
   "execution_count": 4,
   "id": "cdd2f92b",
   "metadata": {},
   "outputs": [
    {
     "name": "stdout",
     "output_type": "stream",
     "text": [
      "2\n"
     ]
    }
   ],
   "source": [
    "nclusters = 0\n",
    "\n",
    "for folder in os.listdir('.'):\n",
    "    if 'config' in folder and folder!='config':\n",
    "        nclusters = nclusters + 1\n",
    "        \n",
    "        \n",
    "print(nclusters)\n",
    "\n",
    "\n",
    "total_count = 20\n",
    "\n",
    "\n",
    "nreplicas = int(total_count/nclusters)\n",
    "nodeIps = lines[:nclusters* nreplicas]\n",
    "\n",
    "nclients = 2\n",
    "\n",
    "# no_cluster_yet_nodes = lines[nclusters* nreplicas:-(nclusters)]\n",
    "no_cluster_yet_nodes = lines[nclusters* nreplicas:-nclients]\n",
    "\n",
    "\n",
    "\n",
    "\n",
    "# clientIps = lines[-(nclusters):]\n",
    "clientIps = lines[-nclients:]\n",
    "\n"
   ]
  },
  {
   "cell_type": "code",
   "execution_count": 5,
   "id": "5b1fbf03",
   "metadata": {},
   "outputs": [
    {
     "data": {
      "text/plain": [
       "(['127.0.0.1', '127.0.0.1'], [])"
      ]
     },
     "execution_count": 5,
     "metadata": {},
     "output_type": "execute_result"
    }
   ],
   "source": [
    "clientIps, no_cluster_yet_nodes"
   ]
  },
  {
   "cell_type": "markdown",
   "id": "3e6aaf82",
   "metadata": {},
   "source": [
    "## Functions"
   ]
  },
  {
   "cell_type": "code",
   "execution_count": 6,
   "id": "6eaca464",
   "metadata": {},
   "outputs": [],
   "source": [
    "def setup(i):\n",
    "\n",
    "    ip = lines[i]\n",
    "    if ip!='None':\n",
    "        current = (ip.split('.'))\n",
    "        command = 'scp -o StrictHostKeyChecking=no -i /home/tejas/Downloads/MAKWest.pem '+'commands.sh'+' ubuntu@ec2-'+str(current[0])+'-'\\\n",
    "              +str(current[1])+'-'+str(current[2])+'-'+str(current[3])+'.us-west-1.compute.amazonaws.com:commands.sh'\n",
    "        \n",
    "        \n",
    "        os.system(command)\n",
    "\n",
    "        \n",
    "def compile_job(i):\n",
    "    ip = lines[i]\n",
    "    if ip!='None':\n",
    "        current = (ip.split('.'))\n",
    "        command = 'echo 3108 | sudo -S ./gradlew installDist'\n",
    "        \n",
    "        \n",
    "        os.system(command)\n",
    "\n",
    "        \n",
    "        \n",
    "def clean_job(i):\n",
    "    ip = lines[i]\n",
    "    \n",
    "#     rm_command = 'sudo rm config/currentView; '\n",
    "#     for iter_ in range(nclusters):\n",
    "#         rm_command = rm_command + 'rm config'+str(iter_)+'/currentView; '\n",
    "        \n",
    "    \n",
    "    if ip!='None':\n",
    "        current = (ip.split('.'))\n",
    "        command = 'echo 3108 | sudo -S rm ../dump_files/nohup*.out; echo 3108 | sudo -S rm config*/currentView;'\n",
    "        \n",
    "        \n",
    "        os.system(command)\n",
    "        \n",
    "        \n",
    "\n",
    "        \n",
    "def run_server_node(i):\n",
    "    ip = lines[i]\n",
    "#     if ip!='None' and( ip in nodeIps or ip in no_cluster_yet_nodes):\n",
    "    if ip!='None' and( ip in nodeIps):\n",
    "        \n",
    "        current = (ip.split('.'))\n",
    "        command = 'nohup ./runscripts/startReplicaYCSB.sh '+str(i)+' >../dump_files/nohup_s'+str(i)+'.out 2>&1 & echo $! > ../dump_files/jobID_s'+str(i)+'.txt'\n",
    "        \n",
    "        print(command)\n",
    "        os.system(command)\n",
    "        \n",
    "        \n",
    "        \n",
    "    if ip!='None' and( ip in no_cluster_yet_nodes):\n",
    "        \n",
    "        current = (ip.split('.'))\n",
    "        command = 'nohup ./runscripts/startReplicaYCSB.sh '+str(i)+' >../dump_files/nohup_s'+str(i)+'.out 2>&1 &'\n",
    "        \n",
    "        \n",
    "        os.system(command)        \n",
    "#         print(command)\n",
    "\n",
    "\n",
    "\n",
    "def run_basic_client(i):\n",
    "    cmd_arg = ''\n",
    "    \n",
    "    ip = lines[i]\n",
    "    if ip!='None' and ip in clientIps:\n",
    "#     if ip!='None' and ip in nodeIps[1:1+len(clientIps)]:\n",
    "        \n",
    "        current = (ip.split('.'))\n",
    "        \n",
    "#         cmd_arg = nodeIps[1:1+len(clientIps)].index(ip)\n",
    "        \n",
    "        for iter__ in range(len(clientIps)):\n",
    "            if ip==clientIps[iter__]:\n",
    "                cmd_arg = iter__\n",
    "                \n",
    "                \n",
    "        \n",
    "#         print(i, cmd_arg)\n",
    "            \n",
    "        current = (ip.split('.'))\n",
    "        command = 'nohup ./runscripts/ycsbClient.sh '+str(i-len(nodeIps)-len(no_cluster_yet_nodes))+' >../dump_files/nohup_c'+str(i)+'.out 2>&1 &'\n",
    "\n",
    "        \n",
    "        os.system(command)\n",
    "\n",
    "\n",
    "def kill_java(i):\n",
    "    ip = lines[i]\n",
    "    \n",
    "    if ip!='None':\n",
    "        current = (ip.split('.'))\n",
    "        command = 'echo 3108 | sudo -S killall java;echo 3108: sudo -S killall nohup'\n",
    "        \n",
    "        \n",
    "        os.system(command)\n",
    "        \n",
    "        \n",
    "        \n",
    "def kill_clients(i):\n",
    "    ip = lines[i]\n",
    "    if ip!='None' and ip in clientIps:\n",
    "        current = (ip.split('.'))\n",
    "        command = 'killall java;  killall nohup\"'\n",
    "        \n",
    "        \n",
    "        os.system(command)\n",
    "\n",
    "def run_server_node_check(i):\n",
    "    ip = lines[i]\n",
    "#     if ip!='None' and( ip in nodeIps or ip in no_cluster_yet_nodes):\n",
    "    if ip!='None' and( ip in nodeIps):\n",
    "        \n",
    "        current = (ip.split('.'))\n",
    "        command = ' nohup ./runscripts/startReplicaYCSB.sh '+str(i)+' >../dump_files/nohup_s'+str(i)+'.out 2>&1 &'\n",
    "        \n",
    "        \n",
    "        print(command)\n",
    "        \n",
    "        \n",
    "\n",
    "# for i in range(len(lines)):\n",
    "#     run_server_node_check(i)\n",
    "\n",
    "def run_basic_client_check(i):\n",
    "    cmd_arg = ''\n",
    "    \n",
    "    ip = lines[i]\n",
    "    if ip!='None' and ip in clientIps:\n",
    "        \n",
    "        for iter__ in range(len(clientIps)):\n",
    "            if ip==clientIps[iter__]:\n",
    "                cmd_arg = iter__\n",
    "                \n",
    "                \n",
    "        \n",
    "#         print(i, cmd_arg)\n",
    "            \n",
    "        current = (ip.split('.'))\n",
    "        command = 'nohup ./runscripts/ycsbClient.sh '+str(cmd_arg)+' >../dump_files/nohup_c'+str(i)+'.out 2>&1 &'\n",
    "\n",
    "        \n",
    "        print(command)\n",
    "\n",
    "# for i in range(len(lines)):\n",
    "#     run_basic_client_check(i)\n",
    "\n",
    "\n",
    "\n",
    "def join_node1(i):\n",
    "    ip = lines[i]\n",
    "    if ip!='None':\n",
    "        \n",
    "        current = (ip.split('.'))\n",
    "        command = 'nohup  ./runscripts/smartrun.sh bftsmart.reconfiguration.util.DefaultVMServices '+str(i)+' 127.0.0.1 11080 11081 config0 >../dump_files/nohup_j'+str(i)+'.out 2>&1 &'\n",
    "        \n",
    "        \n",
    "        os.system(command)   \n",
    "        \n",
    "        \n",
    "def join_node2(i):\n",
    "    ip = lines[i]\n",
    "    if ip!='None':\n",
    "        \n",
    "        current = (ip.split('.'))\n",
    "        command = 'nohup  ./runscripts/smartrun.sh bftsmart.reconfiguration.util.DefaultVMServices '+str(i)+' 127.0.0.1 11090 11091 config0 >../dump_files/nohup_j'+str(i)+'.out 2>&1 &'\n",
    "        \n",
    "        \n",
    "        os.system(command) \n",
    "        \n",
    "def join_node3(i):\n",
    "    ip = lines[i]\n",
    "    if ip!='None':\n",
    "        \n",
    "        current = (ip.split('.'))\n",
    "        command = 'nohup  ./runscripts/smartrun.sh bftsmart.reconfiguration.util.DefaultVMServices '+str(i)+' 127.0.0.1 11100 11101 config0 >../dump_files/nohup_j'+str(i)+'.out 2>&1 &'\n",
    "        \n",
    "        \n",
    "        os.system(command) "
   ]
  },
  {
   "cell_type": "code",
   "execution_count": null,
   "id": "ef663c29",
   "metadata": {},
   "outputs": [],
   "source": []
  },
  {
   "cell_type": "markdown",
   "id": "0cda82ca",
   "metadata": {},
   "source": [
    "## Compile Job"
   ]
  },
  {
   "cell_type": "code",
   "execution_count": null,
   "id": "f2db7285",
   "metadata": {
    "scrolled": true
   },
   "outputs": [],
   "source": []
  },
  {
   "cell_type": "markdown",
   "id": "fcbc2a0d",
   "metadata": {},
   "source": [
    "## Setup Client and nodeIPS"
   ]
  },
  {
   "cell_type": "code",
   "execution_count": 7,
   "id": "b3e8af22",
   "metadata": {},
   "outputs": [
    {
     "data": {
      "text/plain": [
       "22"
      ]
     },
     "execution_count": 7,
     "metadata": {},
     "output_type": "execute_result"
    }
   ],
   "source": [
    "len(lines)"
   ]
  },
  {
   "cell_type": "code",
   "execution_count": 8,
   "id": "255a3e30",
   "metadata": {},
   "outputs": [
    {
     "data": {
      "text/plain": [
       "(20, 2)"
      ]
     },
     "execution_count": 8,
     "metadata": {},
     "output_type": "execute_result"
    }
   ],
   "source": [
    "len(nodeIps), len(clientIps)"
   ]
  },
  {
   "cell_type": "markdown",
   "id": "b1e1b5c7",
   "metadata": {},
   "source": [
    "## RUN SERVERS"
   ]
  },
  {
   "cell_type": "code",
   "execution_count": 9,
   "id": "822f5c03",
   "metadata": {
    "scrolled": true
   },
   "outputs": [
    {
     "name": "stdout",
     "output_type": "stream",
     "text": [
      "3108: sudo -S killall nohup\n",
      "3108: sudo -S killall nohup\n",
      "3108: sudo -S killall nohup\n",
      "3108: sudo -S killall nohup\n"
     ]
    },
    {
     "name": "stderr",
     "output_type": "stream",
     "text": [
      "[sudo] password for tejas: [sudo] password for tejas: [sudo] password for tejas: [sudo] password for tejas: [sudo] password for tejas: [sudo] password for tejas: "
     ]
    },
    {
     "name": "stdout",
     "output_type": "stream",
     "text": [
      "3108: sudo -S killall nohup\n",
      "3108: sudo -S killall nohup\n",
      "3108: sudo -S killall nohup\n",
      "3108: sudo -S killall nohup\n",
      "3108: sudo -S killall nohup\n"
     ]
    },
    {
     "name": "stderr",
     "output_type": "stream",
     "text": [
      "[sudo] password for tejas: [sudo] password for tejas: [sudo] password for tejas: "
     ]
    },
    {
     "name": "stdout",
     "output_type": "stream",
     "text": [
      "3108: sudo -S killall nohup\n",
      "3108: sudo -S killall nohup\n"
     ]
    },
    {
     "name": "stderr",
     "output_type": "stream",
     "text": [
      "[sudo] password for tejas: java: no process found\n",
      "[sudo] password for tejas: java: no process found\n",
      "[sudo] password for tejas: "
     ]
    },
    {
     "name": "stdout",
     "output_type": "stream",
     "text": [
      "3108: sudo -S killall nohup\n"
     ]
    },
    {
     "name": "stderr",
     "output_type": "stream",
     "text": [
      "java: no process found\n",
      "[sudo] password for tejas: java: no process found\n",
      "[sudo] password for tejas: java: no process found\n",
      "[sudo] password for tejas: "
     ]
    },
    {
     "name": "stdout",
     "output_type": "stream",
     "text": [
      "3108: sudo -S killall nohup\n",
      "3108: sudo -S killall nohup\n",
      "3108: sudo -S killall nohup\n"
     ]
    },
    {
     "name": "stderr",
     "output_type": "stream",
     "text": [
      "java: no process found\n",
      "[sudo] password for tejas: java: no process found\n",
      "[sudo] password for tejas: java: no process found\n",
      "[sudo] password for tejas: java: no process found\n",
      "[sudo] password for tejas: "
     ]
    },
    {
     "name": "stdout",
     "output_type": "stream",
     "text": [
      "3108: sudo -S killall nohup\n",
      "3108: sudo -S killall nohup\n",
      "3108: sudo -S killall nohup\n",
      "3108: sudo -S killall nohup\n"
     ]
    },
    {
     "name": "stderr",
     "output_type": "stream",
     "text": [
      "java: no process found\n",
      "[sudo] password for tejas: java: no process found\n",
      "[sudo] password for tejas: java: no process found\n",
      "[sudo] password for tejas: java: no process found\n",
      "[sudo] password for tejas: "
     ]
    },
    {
     "name": "stdout",
     "output_type": "stream",
     "text": [
      "3108: sudo -S killall nohup\n",
      "3108: sudo -S killall nohup\n",
      "3108: sudo -S killall nohup\n"
     ]
    },
    {
     "name": "stderr",
     "output_type": "stream",
     "text": [
      "[sudo] password for tejas: rm: cannot remove '../dump_files/nohup*.out': No such file or directory\n",
      "rm: cannot remove 'config*/currentView': No such file or directory\n",
      "[sudo] password for tejas: rm: cannot remove '../dump_files/nohup*.out': No such file or directory\n",
      "rm: cannot remove 'config*/currentView': No such file or directory\n",
      "[sudo] password for tejas: rm: cannot remove '../dump_files/nohup*.out': No such file or directory\n",
      "rm: cannot remove 'config*/currentView': No such file or directory\n",
      "[sudo] password for tejas: rm: cannot remove '../dump_files/nohup*.out': No such file or directory\n",
      "rm: cannot remove 'config*/currentView': No such file or directory\n",
      "[sudo] password for tejas: rm: cannot remove '../dump_files/nohup*.out': No such file or directory\n",
      "rm: cannot remove 'config*/currentView': No such file or directory\n",
      "[sudo] password for tejas: rm: cannot remove '../dump_files/nohup*.out': No such file or directory\n",
      "rm: cannot remove 'config*/currentView': No such file or directory\n",
      "[sudo] password for tejas: rm: cannot remove '../dump_files/nohup*.out': No such file or directory\n",
      "rm: cannot remove 'config*/currentView': No such file or directory\n",
      "[sudo] password for tejas: rm: cannot remove '../dump_files/nohup*.out': No such file or directory\n",
      "rm: cannot remove 'config*/currentView': No such file or directory\n",
      "[sudo] password for tejas: rm: cannot remove '../dump_files/nohup*.out': No such file or directory\n",
      "rm: cannot remove 'config*/currentView': No such file or directory\n",
      "[sudo] password for tejas: rm: cannot remove '../dump_files/nohup*.out': No such file or directory\n",
      "rm: cannot remove 'config*/currentView': No such file or directory\n",
      "[sudo] password for tejas: rm: cannot remove '../dump_files/nohup*.out': No such file or directory\n",
      "rm: cannot remove 'config*/currentView': No such file or directory\n",
      "[sudo] password for tejas: rm: cannot remove '../dump_files/nohup*.out': No such file or directory\n",
      "rm: cannot remove 'config*/currentView': No such file or directory\n",
      "[sudo] password for tejas: rm: cannot remove '../dump_files/nohup*.out': No such file or directory\n",
      "rm: cannot remove 'config*/currentView': No such file or directory\n",
      "[sudo] password for tejas: rm: cannot remove '../dump_files/nohup*.out': No such file or directory\n",
      "rm: cannot remove 'config*/currentView': No such file or directory\n",
      "[sudo] password for tejas: rm: cannot remove '../dump_files/nohup*.out': No such file or directory\n",
      "rm: cannot remove 'config*/currentView': No such file or directory\n",
      "[sudo] password for tejas: rm: cannot remove '../dump_files/nohup*.out': No such file or directory\n",
      "rm: cannot remove 'config*/currentView': No such file or directory\n",
      "[sudo] password for tejas: rm: cannot remove '../dump_files/nohup*.out': No such file or directory\n",
      "rm: cannot remove 'config*/currentView': No such file or directory\n",
      "[sudo] password for tejas: rm: cannot remove '../dump_files/nohup*.out': No such file or directory\n",
      "rm: cannot remove 'config*/currentView': No such file or directory\n",
      "[sudo] password for tejas: rm: cannot remove '../dump_files/nohup*.out': No such file or directory\n",
      "rm: cannot remove 'config*/currentView': No such file or directory\n",
      "[sudo] password for tejas: rm: cannot remove '../dump_files/nohup*.out': No such file or directory\n",
      "rm: cannot remove 'config*/currentView': No such file or directory\n",
      "[sudo] password for tejas: rm: cannot remove '../dump_files/nohup*.out': No such file or directory\n",
      "rm: cannot remove 'config*/currentView': No such file or directory\n",
      "[sudo] password for tejas: "
     ]
    },
    {
     "name": "stdout",
     "output_type": "stream",
     "text": [
      "Starting a Gradle Daemon (subsequent builds will be faster)\n",
      "\n",
      "> Task :compileJava\n",
      "\n",
      "> Task :processResources NO-SOURCE\n",
      "> Task :classes\n",
      "> Task :jar\n"
     ]
    },
    {
     "name": "stderr",
     "output_type": "stream",
     "text": [
      "Note: Some input files use unchecked or unsafe operations.\n",
      "Note: Recompile with -Xlint:unchecked for details.\n"
     ]
    },
    {
     "name": "stdout",
     "output_type": "stream",
     "text": [
      "> Task :installDist\n",
      "\n",
      "BUILD SUCCESSFUL in 9s\n",
      "3 actionable tasks: 3 executed\n"
     ]
    }
   ],
   "source": [
    "for i in range(len(lines)):\n",
    "    kill_java(i)\n",
    "\n",
    "for i in range(len(lines)):\n",
    "    clean_job(i)\n",
    "    \n",
    "compile_job(1)\n",
    "\n"
   ]
  },
  {
   "cell_type": "code",
   "execution_count": 10,
   "id": "61165bc7",
   "metadata": {},
   "outputs": [
    {
     "name": "stdout",
     "output_type": "stream",
     "text": [
      "0\n",
      "nohup ./runscripts/startReplicaYCSB.sh 0 >../dump_files/nohup_s0.out 2>&1 & echo $! > ../dump_files/jobID_s0.txt\n",
      "1\n",
      "nohup ./runscripts/startReplicaYCSB.sh 1 >../dump_files/nohup_s1.out 2>&1 & echo $! > ../dump_files/jobID_s1.txt\n",
      "2\n",
      "nohup ./runscripts/startReplicaYCSB.sh 2 >../dump_files/nohup_s2.out 2>&1 & echo $! > ../dump_files/jobID_s2.txt\n",
      "3\n",
      "nohup ./runscripts/startReplicaYCSB.sh 3 >../dump_files/nohup_s3.out 2>&1 & echo $! > ../dump_files/jobID_s3.txt\n",
      "4\n",
      "nohup ./runscripts/startReplicaYCSB.sh 4 >../dump_files/nohup_s4.out 2>&1 & echo $! > ../dump_files/jobID_s4.txt\n",
      "5\n",
      "nohup ./runscripts/startReplicaYCSB.sh 5 >../dump_files/nohup_s5.out 2>&1 & echo $! > ../dump_files/jobID_s5.txt\n",
      "6\n",
      "nohup ./runscripts/startReplicaYCSB.sh 6 >../dump_files/nohup_s6.out 2>&1 & echo $! > ../dump_files/jobID_s6.txt\n",
      "10\n",
      "nohup ./runscripts/startReplicaYCSB.sh 10 >../dump_files/nohup_s10.out 2>&1 & echo $! > ../dump_files/jobID_s10.txt\n",
      "11\n",
      "nohup ./runscripts/startReplicaYCSB.sh 11 >../dump_files/nohup_s11.out 2>&1 & echo $! > ../dump_files/jobID_s11.txt\n",
      "12\n",
      "nohup ./runscripts/startReplicaYCSB.sh 12 >../dump_files/nohup_s12.out 2>&1 & echo $! > ../dump_files/jobID_s12.txt\n",
      "13\n",
      "nohup ./runscripts/startReplicaYCSB.sh 13 >../dump_files/nohup_s13.out 2>&1 & echo $! > ../dump_files/jobID_s13.txt\n",
      "14\n",
      "nohup ./runscripts/startReplicaYCSB.sh 14 >../dump_files/nohup_s14.out 2>&1 & echo $! > ../dump_files/jobID_s14.txt\n",
      "15\n",
      "nohup ./runscripts/startReplicaYCSB.sh 15 >../dump_files/nohup_s15.out 2>&1 & echo $! > ../dump_files/jobID_s15.txt\n",
      "16\n",
      "nohup ./runscripts/startReplicaYCSB.sh 16 >../dump_files/nohup_s16.out 2>&1 & echo $! > ../dump_files/jobID_s16.txt\n",
      "17\n",
      "nohup ./runscripts/startReplicaYCSB.sh 17 >../dump_files/nohup_s17.out 2>&1 & echo $! > ../dump_files/jobID_s17.txt\n",
      "18\n",
      "nohup ./runscripts/startReplicaYCSB.sh 18 >../dump_files/nohup_s18.out 2>&1 & echo $! > ../dump_files/jobID_s18.txt\n",
      "19\n",
      "nohup ./runscripts/startReplicaYCSB.sh 19 >../dump_files/nohup_s19.out 2>&1 & echo $! > ../dump_files/jobID_s19.txt\n"
     ]
    }
   ],
   "source": [
    "    \n",
    "for i in [0,1,2,3,4,5,6,10,11,12,13,14,15,16,17,18,19]:\n",
    "    print(i)\n",
    "    run_server_node(i)"
   ]
  },
  {
   "cell_type": "code",
   "execution_count": 11,
   "id": "c5833797",
   "metadata": {},
   "outputs": [],
   "source": [
    "# os.system('nohup ./runscripts/startReplicaYCSB.sh '+str(8)+' >../dump_files/nohup_s'+str(8)+'.out 2>&1 &')"
   ]
  },
  {
   "cell_type": "code",
   "execution_count": 12,
   "id": "34e2d5b7",
   "metadata": {},
   "outputs": [],
   "source": [
    "# os.system('nohup ./runscripts/startReplicaYCSB.sh '+str(9)+' >../dump_files/nohup_s'+str(9)+'.out 2>&1 &')\n",
    "# os.system('nohup ./runscripts/startReplicaYCSB.sh '+str(10)+' >../dump_files/nohup_s'+str(10)+'.out 2>&1 &')\n"
   ]
  },
  {
   "cell_type": "code",
   "execution_count": 13,
   "id": "15f0f554",
   "metadata": {},
   "outputs": [],
   "source": [
    "def join_node1(i):\n",
    "    ip = lines[i]\n",
    "    if ip!='None':\n",
    "        \n",
    "        current = (ip.split('.'))\n",
    "        command = 'sudo nohup  ./runscripts/smartrun.sh bftsmart.reconfiguration.util.DefaultVMServices 8 127.0.0.1 11080 11081 config0 >../dump_files/nohup_j1.out 2>&1 &\"'\n",
    "        \n",
    "        \n",
    "        os.system(command)   \n",
    "        \n"
   ]
  },
  {
   "cell_type": "code",
   "execution_count": null,
   "id": "aee0f110",
   "metadata": {},
   "outputs": [],
   "source": []
  },
  {
   "cell_type": "code",
   "execution_count": 14,
   "id": "ddcbb9c8",
   "metadata": {},
   "outputs": [
    {
     "data": {
      "text/plain": [
       "(['127.0.0.1',\n",
       "  '127.0.0.1',\n",
       "  '127.0.0.1',\n",
       "  '127.0.0.1',\n",
       "  '127.0.0.1',\n",
       "  '127.0.0.1',\n",
       "  '127.0.0.1',\n",
       "  '127.0.0.1',\n",
       "  '127.0.0.1',\n",
       "  '127.0.0.1',\n",
       "  '127.0.0.1',\n",
       "  '127.0.0.1',\n",
       "  '127.0.0.1',\n",
       "  '127.0.0.1',\n",
       "  '127.0.0.1',\n",
       "  '127.0.0.1',\n",
       "  '127.0.0.1',\n",
       "  '127.0.0.1',\n",
       "  '127.0.0.1',\n",
       "  '127.0.0.1',\n",
       "  '127.0.0.1',\n",
       "  '127.0.0.1'],\n",
       " 22)"
      ]
     },
     "execution_count": 14,
     "metadata": {},
     "output_type": "execute_result"
    }
   ],
   "source": [
    "lines, len(lines)"
   ]
  },
  {
   "cell_type": "code",
   "execution_count": 15,
   "id": "7f0293c0",
   "metadata": {
    "scrolled": true
   },
   "outputs": [
    {
     "name": "stdout",
     "output_type": "stream",
     "text": [
      "-- Received 1 replies for query ID 7 with quorum 6\r\n",
      "-- Received  CID reply from replica ( or smsg.getSender()) 5 with smsg.getCID() 7 (expecting queryID 7),  waitingCID -1, isInitializing true\r\n",
      "-- smsg.getSender() 5, smsg.getState().getLastCID() -1\r\n",
      "-- Received 2 replies for query ID 7 with quorum 6\r\n",
      "-- Received  CID reply from replica ( or smsg.getSender()) 6 with smsg.getCID() 7 (expecting queryID 7),  waitingCID -1, isInitializing true\r\n",
      "-- smsg.getSender() 6, smsg.getState().getLastCID() -1\r\n",
      "-- Received 3 replies for query ID 7 with quorum 6\r\n",
      "-- Received  CID reply from replica ( or smsg.getSender()) 1 with smsg.getCID() 7 (expecting queryID 7),  waitingCID -1, isInitializing true\r\n",
      "-- smsg.getSender() 1, smsg.getState().getLastCID() -1\r\n",
      "-- Received 4 replies for query ID 7 with quorum 6\r\n",
      "-- Received  CID reply from replica ( or smsg.getSender()) 4 with smsg.getCID() 7 (expecting queryID 7),  waitingCID -1, isInitializing true\r\n",
      "-- smsg.getSender() 4, smsg.getState().getLastCID() -1\r\n",
      "-- Received 5 replies for query ID 7 with quorum 6\r\n",
      "-- Received CID query from 6 with ID 3\r\n",
      "-- Going to send back response to CID query with CID: -1\r\n",
      "-- Sent CID reply to replica 6 with ID 3\r\n",
      "-- Received CID query from 3 with ID 5\r\n",
      "-- Going to send back response to CID query with CID: -1\r\n",
      "-- Sent CID reply to replica 3 with ID 5\r\n",
      "-- Received CID query from 5 with ID 4\r\n",
      "-- Going to send back response to CID query with CID: -1\r\n",
      "-- Sent CID reply to replica 5 with ID 4\r\n",
      "-- Tejas: Sending CID query with ID 7 to replicas [1, 2, 3, 4, 5, 6, 7, 8, 9]\r\n",
      "-- Received  CID reply from replica ( or smsg.getSender()) 5 with smsg.getCID() 8 (expecting queryID 8),  waitingCID -1, isInitializing true\r\n",
      "-- smsg.getSender() 5, smsg.getState().getLastCID() -1\r\n",
      "-- Received 1 replies for query ID 8 with quorum 6\r\n",
      "-- Received  CID reply from replica ( or smsg.getSender()) 2 with smsg.getCID() 8 (expecting queryID 8),  waitingCID -1, isInitializing true\r\n",
      "-- smsg.getSender() 2, smsg.getState().getLastCID() -1\r\n",
      "-- Received 2 replies for query ID 8 with quorum 6\r\n",
      "-- Received  CID reply from replica ( or smsg.getSender()) 1 with smsg.getCID() 8 (expecting queryID 8),  waitingCID -1, isInitializing true\r\n",
      "-- smsg.getSender() 1, smsg.getState().getLastCID() -1\r\n",
      "-- Received 3 replies for query ID 8 with quorum 6\r\n",
      "-- Received  CID reply from replica ( or smsg.getSender()) 3 with smsg.getCID() 8 (expecting queryID 8),  waitingCID -1, isInitializing true\r\n",
      "-- smsg.getSender() 3, smsg.getState().getLastCID() -1\r\n",
      "-- Received 4 replies for query ID 8 with quorum 6\r\n",
      "-- Received  CID reply from replica ( or smsg.getSender()) 4 with smsg.getCID() 8 (expecting queryID 8),  waitingCID -1, isInitializing true\r\n",
      "-- smsg.getSender() 4, smsg.getState().getLastCID() -1\r\n",
      "-- Received 5 replies for query ID 8 with quorum 6\r\n",
      "-- Received  CID reply from replica ( or smsg.getSender()) 6 with smsg.getCID() 8 (expecting queryID 8),  waitingCID -1, isInitializing true\r\n",
      "-- smsg.getSender() 6, smsg.getState().getLastCID() -1\r\n",
      "-- Received 6 replies for query ID 8 with quorum 6\r\n",
      "-- Received quorum of replies for query ID 8, replies.size(): 6\r\n",
      "-- CID -1 came from 6 replicas with quorum 6\r\n",
      "-- There is a quorum for CID -1 with lastCID -1\r\n",
      "-- Replica state is up to date\r\n",
      "-- \r\n",
      "\t\t###################################\r\n",
      "\t\t    Ready to process operations    \r\n",
      "\t\t###################################\r\n",
      "-- zsdqwd Before the prewait\r\n"
     ]
    }
   ],
   "source": [
    "time.sleep(30)\n",
    "!tail ../dump_files/nohup_s0.out -n 50"
   ]
  },
  {
   "cell_type": "code",
   "execution_count": 16,
   "id": "41900dd9",
   "metadata": {},
   "outputs": [],
   "source": [
    "\n",
    "\n",
    "# for i in range(len(lines)):\n",
    "#     kill_java(i)"
   ]
  },
  {
   "cell_type": "code",
   "execution_count": 17,
   "id": "4c1e4ec0",
   "metadata": {},
   "outputs": [
    {
     "data": {
      "text/plain": [
       "22"
      ]
     },
     "execution_count": 17,
     "metadata": {},
     "output_type": "execute_result"
    }
   ],
   "source": [
    "len(nodeIps)+len(no_cluster_yet_nodes)+len(clientIps)\n"
   ]
  },
  {
   "cell_type": "markdown",
   "id": "e44448aa",
   "metadata": {},
   "source": [
    "## Run basic client"
   ]
  },
  {
   "cell_type": "code",
   "execution_count": 18,
   "id": "fc3fe25b",
   "metadata": {},
   "outputs": [],
   "source": [
    "for i in range(len(nodeIps)+len(no_cluster_yet_nodes),len(nodeIps)+len(no_cluster_yet_nodes)+len(clientIps)):\n",
    "    run_basic_client(i)"
   ]
  },
  {
   "cell_type": "code",
   "execution_count": 19,
   "id": "b35f54a3",
   "metadata": {},
   "outputs": [],
   "source": [
    "time.sleep(80)"
   ]
  },
  {
   "cell_type": "code",
   "execution_count": 20,
   "id": "336301f8",
   "metadata": {},
   "outputs": [],
   "source": [
    "# os.system('./runscripts/smartrun.sh bftsmart.reconfiguration.util.DefaultVMServices 1 8 127.0.0.1 11080 11081 config0')\n",
    "# os.system('./runscripts/smartrun.sh bftsmart.reconfiguration.util.DefaultVMServices 9 127.0.0.1 11090 11091 config0')\n",
    "# os.system('./runscripts/smartrun.sh bftsmart.reconfiguration.util.DefaultVMServices 10 127.0.0.1 11100 11101 config0')"
   ]
  },
  {
   "cell_type": "code",
   "execution_count": 21,
   "id": "929ae743",
   "metadata": {},
   "outputs": [],
   "source": [
    "# time.sleep(30)"
   ]
  },
  {
   "cell_type": "code",
   "execution_count": 22,
   "id": "1c9d0be6",
   "metadata": {},
   "outputs": [],
   "source": [
    "# os.system('./runscripts/smartrun.sh bftsmart.reconfiguration.util.DefaultVMServices 8')\n"
   ]
  },
  {
   "cell_type": "code",
   "execution_count": 23,
   "id": "2b0efd4e",
   "metadata": {},
   "outputs": [],
   "source": [
    "# time.sleep(30)\n",
    "# time.sleep(50)\n"
   ]
  },
  {
   "cell_type": "code",
   "execution_count": 24,
   "id": "76b7e1d8",
   "metadata": {},
   "outputs": [],
   "source": [
    "# os.system('./runscripts/smartrun.sh bftsmart.reconfiguration.util.DefaultVMServices 8 127.0.0.1 11080 11081 config0')\n"
   ]
  },
  {
   "cell_type": "code",
   "execution_count": 25,
   "id": "16ab57a6",
   "metadata": {},
   "outputs": [],
   "source": [
    "# time.sleep(50)"
   ]
  },
  {
   "cell_type": "code",
   "execution_count": 26,
   "id": "88655e7e",
   "metadata": {},
   "outputs": [],
   "source": [
    "\n",
    "# time.sleep(30)\n",
    "# run_server_node(8)\n",
    "# time.sleep(15)\n",
    "# join_node1(8)\n",
    "\n",
    "# time.sleep(30)\n",
    "# run_server_node(9)\n",
    "\n",
    "# time.sleep(30)\n",
    "# join_node2(9)\n",
    "\n",
    "# time.sleep(30)\n",
    "# run_server_node(10)\n",
    "# time.sleep(30)\n",
    "# join_node3(10)"
   ]
  },
  {
   "cell_type": "code",
   "execution_count": 27,
   "id": "9f646865",
   "metadata": {
    "scrolled": true
   },
   "outputs": [
    {
     "name": "stderr",
     "output_type": "stream",
     "text": [
      "[sudo] password for tejas: [sudo] password for tejas: [sudo] password for tejas: "
     ]
    },
    {
     "name": "stdout",
     "output_type": "stream",
     "text": [
      "3108: sudo -S killall nohup\n",
      "3108: sudo -S killall nohup\n",
      "3108: sudo -S killall nohup\n",
      "3108: sudo -S killall nohup\n"
     ]
    },
    {
     "name": "stderr",
     "output_type": "stream",
     "text": [
      "[sudo] password for tejas: [sudo] password for tejas: [sudo] password for tejas: [sudo] password for tejas: "
     ]
    },
    {
     "name": "stdout",
     "output_type": "stream",
     "text": [
      "3108: sudo -S killall nohup\n",
      "3108: sudo -S killall nohup\n",
      "3108: sudo -S killall nohup\n",
      "3108: sudo -S killall nohup\n",
      "3108: sudo -S killall nohup\n",
      "3108: sudo -S killall nohup\n"
     ]
    },
    {
     "name": "stderr",
     "output_type": "stream",
     "text": [
      "[sudo] password for tejas: java: no process found\n",
      "[sudo] password for tejas: java: no process found\n",
      "[sudo] password for tejas: java: no process found\n",
      "[sudo] password for tejas: java: no process found\n",
      "[sudo] password for tejas: java: no process found\n",
      "[sudo] password for tejas: java: no process found\n",
      "[sudo] password for tejas: java: no process found\n",
      "[sudo] password for tejas: "
     ]
    },
    {
     "name": "stdout",
     "output_type": "stream",
     "text": [
      "3108: sudo -S killall nohup\n",
      "3108: sudo -S killall nohup\n",
      "3108: sudo -S killall nohup\n",
      "3108: sudo -S killall nohup\n"
     ]
    },
    {
     "name": "stderr",
     "output_type": "stream",
     "text": [
      "java: no process found\n",
      "[sudo] password for tejas: java: no process found\n",
      "[sudo] password for tejas: java: no process found\n",
      "[sudo] password for tejas: java: no process found\n",
      "[sudo] password for tejas: "
     ]
    },
    {
     "name": "stdout",
     "output_type": "stream",
     "text": [
      "3108: sudo -S killall nohup\n",
      "3108: sudo -S killall nohup\n",
      "3108: sudo -S killall nohup\n",
      "3108: sudo -S killall nohup\n",
      "3108: sudo -S killall nohup\n",
      "3108: sudo -S killall nohup\n",
      "3108: sudo -S killall nohup\n",
      "3108: sudo -S killall nohup\n"
     ]
    },
    {
     "name": "stderr",
     "output_type": "stream",
     "text": [
      "java: no process found\n",
      "[sudo] password for tejas: java: no process found\n",
      "[sudo] password for tejas: java: no process found\n",
      "[sudo] password for tejas: java: no process found\n"
     ]
    }
   ],
   "source": [
    "# time.sleep(50)\n",
    "\n",
    "# run_server_node(9)\n",
    "\n",
    "# time.sleep(160)\n",
    "# join_node2(9)\n",
    "\n",
    "\n",
    "# for i in [2]:\n",
    "#     os.system('kill -9 `cat ../dump_files/jobID_s2.txt`')\n",
    "    \n",
    "\n",
    "\n",
    "# time.sleep(80)\n",
    "\n",
    "\n",
    "\n",
    "for i in range(len(lines)):\n",
    "    kill_java(i)\n",
    "    \n"
   ]
  },
  {
   "cell_type": "code",
   "execution_count": 28,
   "id": "0b36efbb",
   "metadata": {},
   "outputs": [],
   "source": [
    "# for i in range(len(lines)):\n",
    "#     kill_java(i)"
   ]
  },
  {
   "cell_type": "markdown",
   "id": "8b910594",
   "metadata": {},
   "source": [
    "## Main Job"
   ]
  },
  {
   "cell_type": "code",
   "execution_count": 29,
   "id": "5456aed4",
   "metadata": {},
   "outputs": [],
   "source": [
    "\n",
    "def getTimesThputs(file):\n",
    "    f = open(file, \"r\")\n",
    "    data = f.readlines() \n",
    "    times = []\n",
    "    thputs = []\n",
    "    latencies = []\n",
    "    for line in data:\n",
    "#         print(line)\n",
    "        if not line.startswith('--') and 'current ops/sec; ' in line and 'AverageLatency(us)=' in line and not 'JVM' in line:\n",
    "\n",
    "#         print(line)\n",
    "            times.append(line.split('sec:')[0].strip())\n",
    "            thputs.append(line.split(';')[1].split('current')[0].strip())\n",
    "\n",
    "\n",
    "            read_lat = '0'\n",
    "            write_lat = '0'\n",
    "\n",
    "            if ('READ AverageLatency' in line):\n",
    "\n",
    "                print(line)\n",
    "\n",
    "                read_lat = line.split('READ AverageLatency(us)=')[1].split(']')[0].strip()\n",
    "\n",
    "\n",
    "            if ('UPDATE AverageLatency' in line):                    \n",
    "\n",
    "                write_lat = line.split('UPDATE AverageLatency(us)=')[1].split(']')[0].strip()\n",
    "\n",
    "\n",
    "            if (('READ AverageLatency' not in line) and ('UPDATE AverageLatency' not in line)):\n",
    "                latencies.append(line.split('=')[1].split(']')[0].strip())\n",
    "            else:\n",
    "                read_frac = 0\n",
    "                write_frac = 0\n",
    "\n",
    "                if float(read_lat) > 0:\n",
    "                    read_frac = 0.85\n",
    "\n",
    "                if float(write_lat) > 0:\n",
    "                    write_frac = 0.15\n",
    "\n",
    "#                         print(line, write_frac, read_frac, float(read_lat), float(write_lat))\n",
    "\n",
    "                lat = str( (write_frac * float(write_lat) +\\\n",
    "                            read_frac*float(read_lat))/(write_frac+read_frac)\\\n",
    "                         )\n",
    "                latencies.append(lat)\n",
    "\n",
    "            print(line,latencies[-1],thputs[-1],times[-1])\n",
    "\n",
    "    return np.array(times).astype(float), np.array(thputs).astype(float), np.array(latencies).astype(float)/1e6  \n"
   ]
  },
  {
   "cell_type": "code",
   "execution_count": 30,
   "id": "e23027bf",
   "metadata": {},
   "outputs": [],
   "source": [
    "## Byzantine Remote View Change"
   ]
  },
  {
   "cell_type": "code",
   "execution_count": 31,
   "id": "f11bb247",
   "metadata": {},
   "outputs": [
    {
     "name": "stdout",
     "output_type": "stream",
     "text": [
      " 3 sec: 6 operations; 6 current ops/sec; [UPDATE AverageLatency(us)=269592.83] \n",
      " 269592.83 6 3\n",
      " 4 sec: 11 operations; 4.99 current ops/sec; [UPDATE AverageLatency(us)=212705.4] \n",
      " 212705.4 4.99 4\n",
      " 5 sec: 15 operations; 4 current ops/sec; [UPDATE AverageLatency(us)=247414] \n",
      " 247414.0 4 5\n",
      " 6 sec: 18 operations; 2.99 current ops/sec; [UPDATE AverageLatency(us)=326426.33] \n",
      " 326426.33 2.99 6\n",
      " 7 sec: 21 operations; 3 current ops/sec; [UPDATE AverageLatency(us)=310145] \n",
      " 310145.0 3 7\n",
      " 8 sec: 24 operations; 3 current ops/sec; [UPDATE AverageLatency(us)=311474] \n",
      " 311474.0 3 8\n",
      " 9 sec: 27 operations; 2.99 current ops/sec; [UPDATE AverageLatency(us)=313395.33] \n",
      " 313395.33 2.99 9\n",
      " 10 sec: 33 operations; 5.99 current ops/sec; [UPDATE AverageLatency(us)=203543.33] \n",
      " 203543.33 5.99 10\n",
      " 11 sec: 40 operations; 7 current ops/sec; [UPDATE AverageLatency(us)=150682.14] \n",
      " 150682.14 7 11\n",
      " 12 sec: 50 operations; 9.99 current ops/sec; [UPDATE AverageLatency(us)=102389.7] \n",
      " 102389.7 9.99 12\n",
      " 13 sec: 59 operations; 9 current ops/sec; [UPDATE AverageLatency(us)=105743.56] \n",
      " 105743.56 9 13\n",
      " 14 sec: 66 operations; 6.98 current ops/sec; [UPDATE AverageLatency(us)=140484.86] \n",
      " 140484.86 6.98 14\n",
      " 15 sec: 73 operations; 6.99 current ops/sec; [UPDATE AverageLatency(us)=153720] \n",
      " 153720.0 6.99 15\n",
      " 16 sec: 81 operations; 7.92 current ops/sec; [UPDATE AverageLatency(us)=125610] \n",
      " 125610.0 7.92 16\n",
      " 17 sec: 88 operations; 7 current ops/sec; [UPDATE AverageLatency(us)=115237.57] \n",
      " 115237.57 7 17\n",
      " 18 sec: 96 operations; 7.99 current ops/sec; [UPDATE AverageLatency(us)=143442.88] \n",
      " 143442.88 7.99 18\n",
      " 19 sec: 103 operations; 6.99 current ops/sec; [UPDATE AverageLatency(us)=146722.29] \n",
      " 146722.29 6.99 19\n",
      " 20 sec: 110 operations; 6.97 current ops/sec; [UPDATE AverageLatency(us)=141168.57] \n",
      " 141168.57 6.97 20\n",
      " 21 sec: 120 operations; 9.88 current ops/sec; [UPDATE AverageLatency(us)=103744.6] \n",
      " 103744.6 9.88 21\n",
      " 22 sec: 133 operations; 12.97 current ops/sec; [UPDATE AverageLatency(us)=75647.85] \n",
      " 75647.85 12.97 22\n",
      " 23 sec: 148 operations; 14.9 current ops/sec; [UPDATE AverageLatency(us)=66315.53] \n",
      " 66315.53 14.9 23\n",
      " 24 sec: 166 operations; 17.98 current ops/sec; [UPDATE AverageLatency(us)=57598.72] \n",
      " 57598.719999999994 17.98 24\n",
      " 25 sec: 180 operations; 14 current ops/sec; [UPDATE AverageLatency(us)=70769.29] \n",
      " 70769.29 14 25\n",
      " 26 sec: 196 operations; 15.98 current ops/sec; [UPDATE AverageLatency(us)=62040.19] \n",
      " 62040.19 15.98 26\n",
      " 27 sec: 218 operations; 21.98 current ops/sec; [UPDATE AverageLatency(us)=45383.18] \n",
      " 45383.18 21.98 27\n",
      " 28 sec: 237 operations; 19 current ops/sec; [UPDATE AverageLatency(us)=49054.68] \n",
      " 49054.68 19 28\n",
      " 29 sec: 260 operations; 22.98 current ops/sec; [UPDATE AverageLatency(us)=47387.17] \n",
      " 47387.17 22.98 29\n",
      " 30 sec: 280 operations; 19.98 current ops/sec; [UPDATE AverageLatency(us)=48424.1] \n",
      " 48424.1 19.98 30\n",
      " 31 sec: 298 operations; 18 current ops/sec; [UPDATE AverageLatency(us)=54747.39] \n",
      " 54747.39000000001 18 31\n",
      " 32 sec: 322 operations; 24 current ops/sec; [UPDATE AverageLatency(us)=43297.88] \n",
      " 43297.88 24 32\n",
      " 33 sec: 351 operations; 28.97 current ops/sec; [UPDATE AverageLatency(us)=33900.34] \n",
      " 33900.34 28.97 33\n",
      " 34 sec: 375 operations; 23.93 current ops/sec; [UPDATE AverageLatency(us)=41591.54] \n",
      " 41591.54 23.93 34\n",
      " 35 sec: 400 operations; 25 current ops/sec; [UPDATE AverageLatency(us)=39471.72] \n",
      " 39471.72 25 35\n",
      " 36 sec: 426 operations; 25.95 current ops/sec; [UPDATE AverageLatency(us)=37140.04] \n",
      " 37140.04 25.95 36\n",
      " 37 sec: 452 operations; 26 current ops/sec; [UPDATE AverageLatency(us)=40416.62] \n",
      " 40416.62 26 37\n",
      " 38 sec: 487 operations; 34.97 current ops/sec; [UPDATE AverageLatency(us)=28596.34] \n",
      " 28596.34 34.97 38\n",
      " 39 sec: 512 operations; 25 current ops/sec; [UPDATE AverageLatency(us)=39916.24] \n",
      " 39916.24 25 39\n",
      " 40 sec: 537 operations; 24.98 current ops/sec; [UPDATE AverageLatency(us)=39146.16] \n",
      " 39146.16 24.98 40\n",
      " 41 sec: 564 operations; 27 current ops/sec; [UPDATE AverageLatency(us)=37127.89] \n",
      " 37127.89 27 41\n",
      " 42 sec: 588 operations; 23.98 current ops/sec; [UPDATE AverageLatency(us)=41562.79] \n",
      " 41562.79 23.98 42\n",
      " 43 sec: 607 operations; 19 current ops/sec; [UPDATE AverageLatency(us)=52978.68] \n",
      " 52978.68 19 43\n",
      " 44 sec: 638 operations; 30.97 current ops/sec; [UPDATE AverageLatency(us)=32189.1] \n",
      " 32189.1 30.97 44\n",
      " 45 sec: 665 operations; 26.97 current ops/sec; [UPDATE AverageLatency(us)=37449.63] \n",
      " 37449.63 26.97 45\n",
      " 46 sec: 692 operations; 26.95 current ops/sec; [UPDATE AverageLatency(us)=36449.33] \n",
      " 36449.33 26.95 46\n",
      " 47 sec: 715 operations; 22.98 current ops/sec; [UPDATE AverageLatency(us)=43053.3] \n",
      " 43053.3 22.98 47\n",
      " 48 sec: 749 operations; 34 current ops/sec; [UPDATE AverageLatency(us)=29982.41] \n",
      " 29982.41 34 48\n",
      " 49 sec: 773 operations; 23.98 current ops/sec; [UPDATE AverageLatency(us)=39770.38] \n",
      " 39770.38 23.98 49\n",
      " 50 sec: 792 operations; 19 current ops/sec; [UPDATE AverageLatency(us)=53388.32] \n",
      " 53388.32 19 50\n",
      " 51 sec: 818 operations; 25.97 current ops/sec; [UPDATE AverageLatency(us)=39174.42] \n",
      " 39174.42 25.97 51\n",
      " 52 sec: 843 operations; 25 current ops/sec; [UPDATE AverageLatency(us)=39705.24] \n",
      " 39705.24 25 52\n",
      " 53 sec: 878 operations; 34.97 current ops/sec; [UPDATE AverageLatency(us)=29030.71] \n",
      " 29030.71 34.97 53\n",
      " 54 sec: 915 operations; 37 current ops/sec; [UPDATE AverageLatency(us)=26771.84] -- Receiving reply from 3 with reqId:915. Putting on pos=3\n",
      " 26771.84 37 54\n",
      " 55 sec: 942 operations; 26.97 current ops/sec; [UPDATE AverageLatency(us)=36444.37] \n",
      " 36444.37 26.97 55\n",
      " 56 sec: 971 operations; 29 current ops/sec; [UPDATE AverageLatency(us)=35509.93] \n",
      " 35509.93 29 56\n",
      " 57 sec: 996 operations; 24.98 current ops/sec; [UPDATE AverageLatency(us)=39959.44] \n",
      " 39959.44 24.98 57\n",
      " 58 sec: 1026 operations; 30 current ops/sec; [UPDATE AverageLatency(us)=32957.7] \n",
      " 32957.7 30 58\n",
      " 59 sec: 1058 operations; 31.87 current ops/sec; [UPDATE AverageLatency(us)=31175.03] \n",
      " 31175.030000000002 31.87 59\n",
      " 60 sec: 1092 operations; 33.97 current ops/sec; [UPDATE AverageLatency(us)=29795.41] \n",
      " 29795.41 33.97 60\n",
      " 61 sec: 1113 operations; 21 current ops/sec; [UPDATE AverageLatency(us)=46522.67] \n",
      " 46522.67 21 61\n",
      " 62 sec: 1136 operations; 22.95 current ops/sec; [UPDATE AverageLatency(us)=42774.57] -- Receiving reply from 2 with reqId:1136. Putting on pos=2\n",
      " 42774.57 22.95 62\n",
      " 63 sec: 1162 operations; 25.79 current ops/sec; [UPDATE AverageLatency(us)=40539.88] \n",
      " 40539.88 25.79 63\n",
      " 64 sec: 1195 operations; 32.93 current ops/sec; [UPDATE AverageLatency(us)=29368.21] \n",
      " 29368.21 32.93 64\n",
      " 65 sec: 1228 operations; 33 current ops/sec; [UPDATE AverageLatency(us)=30923.79] \n",
      " 30923.790000000005 33 65\n",
      " 66 sec: 1265 operations; 36.96 current ops/sec; [UPDATE AverageLatency(us)=27106.3] \n",
      " 27106.3 36.96 66\n",
      " 67 sec: 1294 operations; 28.94 current ops/sec; [UPDATE AverageLatency(us)=34202.34] \n",
      " 34202.34 28.94 67\n",
      " 68 sec: 1320 operations; 25.97 current ops/sec; [UPDATE AverageLatency(us)=39178.23] \n",
      " 39178.23 25.97 68\n",
      " 69 sec: 1351 operations; 31 current ops/sec; [UPDATE AverageLatency(us)=31930.84] \n",
      " 31930.840000000004 31 69\n",
      " 70 sec: 1379 operations; 27.97 current ops/sec; [UPDATE AverageLatency(us)=35807.43] \n",
      " 35807.43 27.97 70\n",
      " 71 sec: 1409 operations; 30 current ops/sec; [UPDATE AverageLatency(us)=33301.27] \n",
      " 33301.27 30 71\n",
      " 72 sec: 1437 operations; 27.97 current ops/sec; [UPDATE AverageLatency(us)=35902.21] \n",
      " 35902.21 27.97 72\n",
      " 73 sec: 1459 operations; 21.96 current ops/sec; [UPDATE AverageLatency(us)=43924.23] \n",
      " 43924.23 21.96 73\n",
      " 74 sec: 1487 operations; 28 current ops/sec; [UPDATE AverageLatency(us)=35496.96] \n",
      " 35496.96 28 74\n",
      " 75 sec: 1507 operations; 19.98 current ops/sec; [UPDATE AverageLatency(us)=51188.3] \n",
      " 51188.3 19.98 75\n",
      " 76 sec: 1531 operations; 23.9 current ops/sec; [UPDATE AverageLatency(us)=42230.21] \n",
      " 42230.21 23.9 76\n",
      " 77 sec: 1559 operations; 28 current ops/sec; [UPDATE AverageLatency(us)=33736.18] \n",
      " 33736.18 28 77\n",
      " 78 sec: 1585 operations; 25.97 current ops/sec; [UPDATE AverageLatency(us)=39672.85] \n",
      " 39672.85 25.97 78\n",
      " 79 sec: 1613 operations; 28 current ops/sec; [UPDATE AverageLatency(us)=36498.29] -- Ignoring reply from 0 with reqId:1612. Currently wait reqId= 1613\n",
      " 36498.29 28 79\n",
      " 2 sec: 1 operations; 1 current ops/sec; [UPDATE AverageLatency(us)=902230] \n",
      " 902230.0 1 2\n",
      " 3 sec: 7 operations; 5.99 current ops/sec; [UPDATE AverageLatency(us)=163061.17] \n",
      " 163061.17 5.99 3\n",
      " 4 sec: 11 operations; 4 current ops/sec; [UPDATE AverageLatency(us)=236778.25] \n",
      " 236778.24999999997 4 4\n",
      " 5 sec: 15 operations; 3.97 current ops/sec; [UPDATE AverageLatency(us)=249376.5] \n",
      " 249376.5 3.97 5\n",
      " 6 sec: 18 operations; 2.97 current ops/sec; [UPDATE AverageLatency(us)=300799.67] \n",
      " 300799.67 2.97 6\n",
      " 7 sec: 21 operations; 3 current ops/sec; [UPDATE AverageLatency(us)=294974] \n",
      " 294974.0 3 7\n",
      " 8 sec: 25 operations; 3.99 current ops/sec; [UPDATE AverageLatency(us)=329639.25] \n",
      " 329639.25 3.99 8\n",
      " 9 sec: 28 operations; 2.99 current ops/sec; [UPDATE AverageLatency(us)=319945.33] \n",
      " 319945.33 2.99 9\n",
      " 10 sec: 34 operations; 5.94 current ops/sec; [UPDATE AverageLatency(us)=178010.17] \n",
      " 178010.17 5.94 10\n",
      " 11 sec: 41 operations; 6.99 current ops/sec; [UPDATE AverageLatency(us)=148704.86] \n",
      " 148704.86 6.99 11\n",
      " 12 sec: 50 operations; 8.99 current ops/sec; [UPDATE AverageLatency(us)=100431.78] \n",
      " 100431.78 8.99 12\n",
      " 13 sec: 59 operations; 8.97 current ops/sec; [UPDATE AverageLatency(us)=111201.44] \n",
      " 111201.44 8.97 13\n",
      " 14 sec: 66 operations; 6.99 current ops/sec; [UPDATE AverageLatency(us)=138635] \n",
      " 138635.0 6.99 14\n",
      " 15 sec: 73 operations; 6.99 current ops/sec; [UPDATE AverageLatency(us)=151580.14] \n",
      " 151580.14 6.99 15\n",
      " 16 sec: 81 operations; 7.97 current ops/sec; [UPDATE AverageLatency(us)=121238.75] \n",
      " 121238.75 7.97 16\n",
      " 17 sec: 89 operations; 7.99 current ops/sec; [UPDATE AverageLatency(us)=132755.25] \n",
      " 132755.25 7.99 17\n",
      " 18 sec: 97 operations; 7.99 current ops/sec; [UPDATE AverageLatency(us)=125252.5] \n",
      " 125252.5 7.99 18\n",
      " 19 sec: 103 operations; 5.99 current ops/sec; [UPDATE AverageLatency(us)=150779.67] \n",
      " 150779.67 5.99 19\n",
      " 20 sec: 110 operations; 7 current ops/sec; [UPDATE AverageLatency(us)=138545.86] \n",
      " 138545.86 7 20\n",
      " 21 sec: 120 operations; 9.99 current ops/sec; [UPDATE AverageLatency(us)=110859.1] \n",
      " 110859.10000000002 9.99 21\n",
      " 22 sec: 133 operations; 12.99 current ops/sec; [UPDATE AverageLatency(us)=75426.15] \n",
      " 75426.15 12.99 22\n",
      " 23 sec: 149 operations; 16 current ops/sec; [UPDATE AverageLatency(us)=65121.06] \n",
      " 65121.06 16 23\n",
      " 24 sec: 167 operations; 17.98 current ops/sec; [UPDATE AverageLatency(us)=56256.72] \n",
      " 56256.72 17.98 24\n",
      " 25 sec: 180 operations; 13 current ops/sec; [UPDATE AverageLatency(us)=72438.15] \n",
      " 72438.15 13 25\n",
      " 26 sec: 196 operations; 15.98 current ops/sec; [UPDATE AverageLatency(us)=63576.62] \n",
      " 63576.62 15.98 26\n",
      " 27 sec: 219 operations; 23 current ops/sec; [UPDATE AverageLatency(us)=44695.57] \n",
      " 44695.57 23 27\n",
      " 28 sec: 238 operations; 18.98 current ops/sec; [UPDATE AverageLatency(us)=53539.21] \n",
      " 53539.21 18.98 28\n",
      " 29 sec: 260 operations; 21.98 current ops/sec; [UPDATE AverageLatency(us)=44462.36] \n",
      " 44462.36 21.98 29\n",
      " 30 sec: 281 operations; 21 current ops/sec; [UPDATE AverageLatency(us)=47981.29] \n",
      " 47981.29 21 30\n",
      " 31 sec: 299 operations; 17.98 current ops/sec; [UPDATE AverageLatency(us)=55205.72] \n",
      " 55205.72 17.98 31\n",
      " 32 sec: 322 operations; 23 current ops/sec; [UPDATE AverageLatency(us)=43116.7] \n",
      " 43116.7 23 32\n",
      " 33 sec: 352 operations; 29.97 current ops/sec; [UPDATE AverageLatency(us)=33829.2] \n",
      " 33829.2 29.97 33\n",
      " 34 sec: 376 operations; 23.98 current ops/sec; [UPDATE AverageLatency(us)=41631] \n",
      " 41631.0 23.98 34\n",
      " 35 sec: 401 operations; 24.9 current ops/sec; [UPDATE AverageLatency(us)=39369.68] \n",
      " 39369.68 24.9 35\n",
      " 36 sec: 427 operations; 25.95 current ops/sec; [UPDATE AverageLatency(us)=38156.38] \n",
      " 38156.38 25.95 36\n",
      " 37 sec: 453 operations; 26 current ops/sec; [UPDATE AverageLatency(us)=39028.12] \n",
      " 39028.12 26 37\n",
      " 38 sec: 488 operations; 34.97 current ops/sec; [UPDATE AverageLatency(us)=28651.63] \n",
      " 28651.63 34.97 38\n",
      " 39 sec: 512 operations; 24 current ops/sec; [UPDATE AverageLatency(us)=40711.42] \n",
      " 40711.42 24 39\n",
      " 40 sec: 538 operations; 25.97 current ops/sec; [UPDATE AverageLatency(us)=39174.46] \n",
      " 39174.46 25.97 40\n",
      " 41 sec: 565 operations; 27 current ops/sec; [UPDATE AverageLatency(us)=36632.78] \n",
      " 36632.78 27 41\n",
      " 42 sec: 589 operations; 24 current ops/sec; [UPDATE AverageLatency(us)=41735.62] \n",
      " 41735.62 24 42\n",
      " 43 sec: 608 operations; 18.98 current ops/sec; [UPDATE AverageLatency(us)=52470.37] \n",
      " 52470.37 18.98 43\n",
      " 44 sec: 639 operations; 30.91 current ops/sec; [UPDATE AverageLatency(us)=32561.13] \n",
      " 32561.13 30.91 44\n",
      " 45 sec: 665 operations; 26 current ops/sec; [UPDATE AverageLatency(us)=37899.19] \n",
      " 37899.19 26 45\n",
      " 46 sec: 693 operations; 28 current ops/sec; [UPDATE AverageLatency(us)=36246.04] \n",
      " 36246.04 28 46\n",
      " 47 sec: 716 operations; 22.98 current ops/sec; [UPDATE AverageLatency(us)=43292.83] \n",
      " 43292.83 22.98 47\n",
      " 48 sec: 750 operations; 33.97 current ops/sec; [UPDATE AverageLatency(us)=29769.03] \n",
      " 29769.03 33.97 48\n",
      " 49 sec: 774 operations; 24 current ops/sec; [UPDATE AverageLatency(us)=39829.92] \n",
      " 39829.92 24 49\n",
      " 50 sec: 793 operations; 18.98 current ops/sec; [UPDATE AverageLatency(us)=54166.68] \n",
      " 54166.68 18.98 50\n",
      " 51 sec: 819 operations; 25.97 current ops/sec; [UPDATE AverageLatency(us)=38203.31] \n",
      " 38203.31 25.97 51\n",
      " 52 sec: 844 operations; 25 current ops/sec; [UPDATE AverageLatency(us)=39700.72] \n",
      " 39700.72 25 52\n",
      " 53 sec: 879 operations; 34.97 current ops/sec; [UPDATE AverageLatency(us)=28900.51] \n",
      " 28900.509999999995 34.97 53\n",
      " 54 sec: 917 operations; 38 current ops/sec; [UPDATE AverageLatency(us)=26724.16] \n",
      " 26724.16 38 54\n",
      " 55 sec: 943 operations; 25.97 current ops/sec; [UPDATE AverageLatency(us)=38275.65] \n",
      " 38275.65 25.97 55\n",
      " 56 sec: 971 operations; 28 current ops/sec; [UPDATE AverageLatency(us)=34329.36] \n",
      " 34329.36 28 56\n",
      " 57 sec: 996 operations; 24.98 current ops/sec; [UPDATE AverageLatency(us)=40259.68] -- Receiving reply from 12 with reqId:996. Putting on pos=2\n",
      " 40259.68 24.98 57\n",
      " 58 sec: 1027 operations; 30.94 current ops/sec; [UPDATE AverageLatency(us)=32892.71] \n",
      " 32892.71 30.94 58\n",
      " 59 sec: 1059 operations; 31.97 current ops/sec; [UPDATE AverageLatency(us)=31433.59] \n",
      " 31433.59 31.97 59\n",
      " 60 sec: 1093 operations; 34 current ops/sec; [UPDATE AverageLatency(us)=29294.79] \n",
      " 29294.79 34 60\n",
      " 61 sec: 1114 operations; 20.9 current ops/sec; [UPDATE AverageLatency(us)=46921.48] \n",
      " 46921.48 20.9 61\n",
      " 62 sec: 1137 operations; 23 current ops/sec; [UPDATE AverageLatency(us)=43276.52] \n",
      " 43276.52 23 62\n",
      " 63 sec: 1163 operations; 25.97 current ops/sec; [UPDATE AverageLatency(us)=39784.04] \n",
      " 39784.04 25.97 63\n",
      " 64 sec: 1196 operations; 33 current ops/sec; [UPDATE AverageLatency(us)=29375.73] \n",
      " 29375.73 33 64\n",
      " 65 sec: 1228 operations; 31.97 current ops/sec; [UPDATE AverageLatency(us)=31286.75] \n",
      " 31286.75 31.97 65\n",
      " 66 sec: 1266 operations; 37.96 current ops/sec; [UPDATE AverageLatency(us)=27009.71] \n",
      " 27009.71 37.96 66\n",
      " 67 sec: 1294 operations; 28 current ops/sec; [UPDATE AverageLatency(us)=34095.93] \n",
      " 34095.93 28 67\n",
      " 68 sec: 1320 operations; 25.97 current ops/sec; [UPDATE AverageLatency(us)=39315.58] \n",
      " 39315.58 25.97 68\n",
      " 69 sec: 1352 operations; 31.97 current ops/sec; [UPDATE AverageLatency(us)=31733.72] \n",
      " 31733.72 31.97 69\n",
      " 70 sec: 1379 operations; 27 current ops/sec; [UPDATE AverageLatency(us)=36513.52] \n",
      " 36513.52 27 70\n",
      " 71 sec: 1409 operations; 29.97 current ops/sec; [UPDATE AverageLatency(us)=33310.8] \n",
      " 33310.8 29.97 71\n",
      " 72 sec: 1437 operations; 28 current ops/sec; [UPDATE AverageLatency(us)=35992.71] \n",
      " 35992.71 28 72\n",
      " 73 sec: 1460 operations; 22.98 current ops/sec; [UPDATE AverageLatency(us)=43216.35] \n",
      " 43216.35 22.98 73\n",
      " 74 sec: 1488 operations; 27.97 current ops/sec; [UPDATE AverageLatency(us)=35312] \n",
      " 35312.0 27.97 74\n",
      " 75 sec: 1508 operations; 20 current ops/sec; [UPDATE AverageLatency(us)=51234.45] \n",
      " 51234.45 20 75\n",
      " 76 sec: 1531 operations; 22.91 current ops/sec; [UPDATE AverageLatency(us)=42083.09] \n",
      " 42083.09 22.91 76\n",
      " 77 sec: 1560 operations; 29 current ops/sec; [UPDATE AverageLatency(us)=35235.03] \n",
      " 35235.03 29 77\n",
      " 78 sec: 1586 operations; 26 current ops/sec; [UPDATE AverageLatency(us)=38592.46] \n",
      " 38592.46 26 78\n",
      " 79 sec: 1613 operations; 26.97 current ops/sec; [UPDATE AverageLatency(us)=36393.04] \n",
      " 36393.04 26.97 79\n"
     ]
    },
    {
     "data": {
      "text/plain": [
       "'../dump_files/nohup_c20.out'"
      ]
     },
     "execution_count": 31,
     "metadata": {},
     "output_type": "execute_result"
    }
   ],
   "source": [
    "times ,thputs, lats = getTimesThputs('../dump_files/nohup_c'+str(len(nodeIps)+len(no_cluster_yet_nodes))+'.out')\n",
    "times2 ,thputs2, lats = getTimesThputs('../dump_files/nohup_c'+str(len(nodeIps)+len(no_cluster_yet_nodes)+1)+'.out')\n",
    "\n",
    "\n",
    "'../dump_files/nohup_c'+str(len(nodeIps)+len(no_cluster_yet_nodes))+'.out'"
   ]
  },
  {
   "cell_type": "code",
   "execution_count": 32,
   "id": "5a909123",
   "metadata": {},
   "outputs": [
    {
     "data": {
      "text/plain": [
       "array([ 2.,  3.,  4.,  5.,  6.,  7.,  8.,  9., 10., 11., 12., 13., 14.,\n",
       "       15., 16., 17., 18., 19., 20., 21., 22., 23., 24., 25., 26., 27.,\n",
       "       28., 29., 30., 31., 32., 33., 34., 35., 36., 37., 38., 39., 40.,\n",
       "       41., 42., 43., 44., 45., 46., 47., 48., 49., 50., 51., 52., 53.,\n",
       "       54., 55., 56., 57., 58., 59., 60., 61., 62., 63., 64., 65., 66.,\n",
       "       67., 68., 69., 70., 71., 72., 73., 74., 75., 76., 77., 78., 79.])"
      ]
     },
     "execution_count": 32,
     "metadata": {},
     "output_type": "execute_result"
    }
   ],
   "source": [
    "times2"
   ]
  },
  {
   "cell_type": "code",
   "execution_count": 33,
   "id": "b6e64441",
   "metadata": {},
   "outputs": [],
   "source": [
    "# times - times2"
   ]
  },
  {
   "cell_type": "code",
   "execution_count": 34,
   "id": "2e17cd72",
   "metadata": {},
   "outputs": [],
   "source": [
    "# thputs = thputs + thputs2"
   ]
  },
  {
   "cell_type": "code",
   "execution_count": 35,
   "id": "8b5e2f0f",
   "metadata": {},
   "outputs": [],
   "source": [
    "# np.mean(lats[20:]) # 23604.83205128205"
   ]
  },
  {
   "cell_type": "code",
   "execution_count": 36,
   "id": "9110f856",
   "metadata": {},
   "outputs": [
    {
     "data": {
      "text/plain": [
       "0.04099435206896552"
      ]
     },
     "execution_count": 36,
     "metadata": {},
     "output_type": "execute_result"
    }
   ],
   "source": [
    "np.mean(lats[20:])"
   ]
  },
  {
   "cell_type": "code",
   "execution_count": 37,
   "id": "02426a46",
   "metadata": {},
   "outputs": [
    {
     "data": {
      "text/plain": [
       "array([0.90223   , 0.16306117, 0.23677825, 0.2493765 , 0.30079967,\n",
       "       0.294974  , 0.32963925, 0.31994533, 0.17801017, 0.14870486,\n",
       "       0.10043178, 0.11120144, 0.138635  , 0.15158014, 0.12123875,\n",
       "       0.13275525, 0.1252525 , 0.15077967, 0.13854586, 0.1108591 ,\n",
       "       0.07542615, 0.06512106, 0.05625672, 0.07243815, 0.06357662,\n",
       "       0.04469557, 0.05353921, 0.04446236, 0.04798129, 0.05520572,\n",
       "       0.0431167 , 0.0338292 , 0.041631  , 0.03936968, 0.03815638,\n",
       "       0.03902812, 0.02865163, 0.04071142, 0.03917446, 0.03663278,\n",
       "       0.04173562, 0.05247037, 0.03256113, 0.03789919, 0.03624604,\n",
       "       0.04329283, 0.02976903, 0.03982992, 0.05416668, 0.03820331,\n",
       "       0.03970072, 0.02890051, 0.02672416, 0.03827565, 0.03432936,\n",
       "       0.04025968, 0.03289271, 0.03143359, 0.02929479, 0.04692148,\n",
       "       0.04327652, 0.03978404, 0.02937573, 0.03128675, 0.02700971,\n",
       "       0.03409593, 0.03931558, 0.03173372, 0.03651352, 0.0333108 ,\n",
       "       0.03599271, 0.04321635, 0.035312  , 0.05123445, 0.04208309,\n",
       "       0.03523503, 0.03859246, 0.03639304])"
      ]
     },
     "execution_count": 37,
     "metadata": {},
     "output_type": "execute_result"
    }
   ],
   "source": [
    "lats"
   ]
  },
  {
   "cell_type": "code",
   "execution_count": 38,
   "id": "55df87d4",
   "metadata": {},
   "outputs": [],
   "source": [
    "# import pylab as pl\n",
    "\n",
    "# pl.figure(figsize = (12,8))\n",
    "# pl.rcParams.update({'font.size': 17})\n",
    "# pl.plot(times[:], thputs[:], '-o', label='BfTSmart-MC')\n",
    "\n",
    "\n",
    "# pl.title(r'Throughput')\n",
    "\n",
    "# # pl.axvline(FailTimes[0], label = '1st fail', ls = '--', color = 'r')\n",
    "# # pl.axvline(FailTimes[1], label = '2nd fail', ls = '--', color = 'g')\n",
    "# # pl.axvline(JoinTimes[2], label = '3rd join', ls = '--', color = 'b')\n",
    "# # pl.axvline(JoinTimes[3], label = '4th join', ls = '--', color = 'orange')\n",
    "\n",
    "# pl.xlabel('Time (s)')\n",
    "# pl.ylabel('Throughput (Txn/s)')\n",
    "# pl.legend()\n",
    "# # pl.savefig('../Experiments/RemoteViewChange.png', dpi = 150)\n",
    "# pl.show()\n",
    "# pl.clf()\n"
   ]
  },
  {
   "cell_type": "code",
   "execution_count": 39,
   "id": "f195bebf",
   "metadata": {},
   "outputs": [],
   "source": [
    "# import pylab as pl\n",
    "\n",
    "# pl.figure(figsize = (12,8))\n",
    "# # pl.rcParams.update({'font.size': 17})\n",
    "# pl.plot(times[:], thputs[:], '-o', label='BfTSmart-MC')\n",
    "\n",
    "\n",
    "# # pl.title(r'Joins Throughput')\n",
    "\n",
    "# # pl.axvline(FailTimes[0], label = '1st fail', ls = '--', color = 'r')\n",
    "# # pl.axvline(FailTimes[1], label = '2nd fail', ls = '--', color = 'g')\n",
    "# # pl.axvline(JoinTimes[2], label = '3rd join', ls = '--', color = 'b')\n",
    "# # pl.axvline(JoinTimes[3], label = '4th join', ls = '--', color = 'orange')\n",
    "\n",
    "# pl.xlabel('Time (s)')\n",
    "# pl.ylabel('Throughput (Txn/s)')\n",
    "# pl.legend()\n",
    "# # pl.savefig('../Experiments/RemoteViewChange.png', dpi = 150)\n",
    "# pl.show()\n",
    "# pl.clf()\n"
   ]
  },
  {
   "cell_type": "code",
   "execution_count": 40,
   "id": "c49e166c",
   "metadata": {},
   "outputs": [
    {
     "ename": "IndexError",
     "evalue": "index 77 is out of bounds for axis 0 with size 77",
     "output_type": "error",
     "traceback": [
      "\u001b[0;31m---------------------------------------------------------------------------\u001b[0m",
      "\u001b[0;31mIndexError\u001b[0m                                Traceback (most recent call last)",
      "Cell \u001b[0;32mIn[40], line 5\u001b[0m\n\u001b[1;32m      2\u001b[0m thputs_new \u001b[38;5;241m=\u001b[39m [\u001b[38;5;241m0\u001b[39m \u001b[38;5;28;01mfor\u001b[39;00m x \u001b[38;5;129;01min\u001b[39;00m \u001b[38;5;28mrange\u001b[39m(\u001b[38;5;241m150\u001b[39m)]\n\u001b[1;32m      3\u001b[0m \u001b[38;5;28;01mfor\u001b[39;00m idx, t \u001b[38;5;129;01min\u001b[39;00m \u001b[38;5;28menumerate\u001b[39m(times2):\n\u001b[1;32m      4\u001b[0m \u001b[38;5;66;03m#     print(idx,t)\u001b[39;00m\n\u001b[0;32m----> 5\u001b[0m     thputs_new[\u001b[38;5;28mint\u001b[39m(t)] \u001b[38;5;241m=\u001b[39m thputs[idx] \u001b[38;5;241m+\u001b[39m thputs2[idx]\n\u001b[1;32m      8\u001b[0m times_new, thputs_new\n",
      "\u001b[0;31mIndexError\u001b[0m: index 77 is out of bounds for axis 0 with size 77"
     ]
    }
   ],
   "source": [
    "times_new = [x for x in range(150)]\n",
    "thputs_new = [0 for x in range(150)]\n",
    "for idx, t in enumerate(times2):\n",
    "#     print(idx,t)\n",
    "    thputs_new[int(t)] = thputs[idx] + thputs2[idx]\n",
    "    \n",
    "\n",
    "times_new, thputs_new"
   ]
  },
  {
   "cell_type": "code",
   "execution_count": null,
   "id": "527521d5",
   "metadata": {},
   "outputs": [],
   "source": [
    "len(times2)"
   ]
  },
  {
   "cell_type": "code",
   "execution_count": null,
   "id": "52f7e78b",
   "metadata": {},
   "outputs": [],
   "source": [
    "len(times)"
   ]
  },
  {
   "cell_type": "code",
   "execution_count": null,
   "id": "2e52658b",
   "metadata": {},
   "outputs": [],
   "source": [
    "import pylab as pl\n",
    "\n",
    "pl.figure(figsize = (12,8))\n",
    "# pl.rcParams.update({'font.size': 17})\n",
    "pl.plot(times_new[:], thputs_new[:], '-o', label='BfTSmart-MC')\n",
    "\n",
    "\n",
    "# pl.title(r'Joins Throughput')\n",
    "\n",
    "# pl.axvline(FailTimes[0], label = '1st fail', ls = '--', color = 'r')\n",
    "# pl.axvline(FailTimes[1], label = '2nd fail', ls = '--', color = 'g')\n",
    "# pl.axvline(JoinTimes[2], label = '3rd join', ls = '--', color = 'b')\n",
    "# pl.axvline(JoinTimes[3], label = '4th join', ls = '--', color = 'orange')\n",
    "\n",
    "pl.xlabel('Time (s)')\n",
    "pl.ylabel('Throughput (Txn/s)')\n",
    "pl.legend()\n",
    "# pl.savefig('../Experiments/RemoteViewChange.png', dpi = 150)\n",
    "pl.show()\n",
    "pl.clf()\n"
   ]
  },
  {
   "cell_type": "code",
   "execution_count": null,
   "id": "cebb587b",
   "metadata": {},
   "outputs": [],
   "source": [
    "(thputs), np.sum(thputs)"
   ]
  },
  {
   "cell_type": "code",
   "execution_count": null,
   "id": "f4bd1761",
   "metadata": {},
   "outputs": [],
   "source": [
    "# import pylab as pl\n",
    "\n",
    "# pl.figure(figsize = (12,8))\n",
    "# pl.rcParams.update({'font.size': 17})\n",
    "# pl.plot(times[:], thputs[:], '-o', label='BfTSmart-MC')\n",
    "\n",
    "\n",
    "# pl.title(r'Joins Throughput')\n",
    "\n",
    "# # pl.axvline(FailTimes[0], label = '1st fail', ls = '--', color = 'r')\n",
    "# # pl.axvline(FailTimes[1], label = '2nd fail', ls = '--', color = 'g')\n",
    "# # pl.axvline(JoinTimes[2], label = '3rd join', ls = '--', color = 'b')\n",
    "# # pl.axvline(JoinTimes[3], label = '4th join', ls = '--', color = 'orange')\n",
    "\n",
    "# pl.xlabel('Time (s)')\n",
    "# pl.ylabel('Throughput (Txn/s)')\n",
    "# pl.legend()\n",
    "# # pl.savefig('../Experiments/RemoteViewChange.png', dpi = 150)\n",
    "# pl.show()\n",
    "# pl.clf()\n"
   ]
  },
  {
   "cell_type": "code",
   "execution_count": null,
   "id": "d5eb9ffe",
   "metadata": {},
   "outputs": [],
   "source": []
  },
  {
   "cell_type": "code",
   "execution_count": null,
   "id": "58275d23",
   "metadata": {},
   "outputs": [],
   "source": []
  },
  {
   "cell_type": "code",
   "execution_count": null,
   "id": "e0692410",
   "metadata": {},
   "outputs": [],
   "source": []
  },
  {
   "cell_type": "code",
   "execution_count": null,
   "id": "015d9d46",
   "metadata": {},
   "outputs": [],
   "source": []
  },
  {
   "cell_type": "code",
   "execution_count": null,
   "id": "1e321aca",
   "metadata": {},
   "outputs": [],
   "source": []
  },
  {
   "cell_type": "code",
   "execution_count": null,
   "id": "fcdf1e48",
   "metadata": {},
   "outputs": [],
   "source": []
  },
  {
   "cell_type": "code",
   "execution_count": null,
   "id": "cf7c959b",
   "metadata": {},
   "outputs": [],
   "source": []
  },
  {
   "cell_type": "code",
   "execution_count": null,
   "id": "2f12b7c5",
   "metadata": {},
   "outputs": [],
   "source": [
    "\n"
   ]
  }
 ],
 "metadata": {
  "kernelspec": {
   "display_name": "Python 3 (ipykernel)",
   "language": "python",
   "name": "python3"
  },
  "language_info": {
   "codemirror_mode": {
    "name": "ipython",
    "version": 3
   },
   "file_extension": ".py",
   "mimetype": "text/x-python",
   "name": "python",
   "nbconvert_exporter": "python",
   "pygments_lexer": "ipython3",
   "version": "3.11.5"
  }
 },
 "nbformat": 4,
 "nbformat_minor": 5
}

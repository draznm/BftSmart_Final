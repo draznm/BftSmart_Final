{
 "cells": [
  {
   "cell_type": "code",
   "execution_count": 1,
   "id": "9f678c04",
   "metadata": {},
   "outputs": [],
   "source": [
    "import numpy as np\n",
    "import os\n",
    "import shutil\n",
    "import subprocess\n",
    "\n"
   ]
  },
  {
   "cell_type": "code",
   "execution_count": 2,
   "id": "1026d7dd",
   "metadata": {},
   "outputs": [],
   "source": [
    "total_count = 20\n",
    "\n",
    "\n",
    "replica_count = 10\n",
    "\n",
    "n_clusters = int(total_count / replica_count)\n",
    "\n",
    "nclients = n_clusters"
   ]
  },
  {
   "cell_type": "code",
   "execution_count": 3,
   "id": "e218e451",
   "metadata": {},
   "outputs": [],
   "source": [
    "for folder in os.listdir('.'):\n",
    "    if 'config' in folder and folder!='config' and 'zip' not in folder and '.' not in folder:\n",
    "        shutil.rmtree(folder)"
   ]
  },
  {
   "cell_type": "code",
   "execution_count": 4,
   "id": "89cbee19",
   "metadata": {},
   "outputs": [
    {
     "data": {
      "text/plain": [
       "0"
      ]
     },
     "execution_count": 4,
     "metadata": {},
     "output_type": "execute_result"
    }
   ],
   "source": [
    "os.system(\"aws --region ap-south-1 ec2 describe-instances --filter Name=instance-type,Values=t2.small --query 'Reservations[*].Instances[*].[PrivateIpAddress]' --output text > all_internal_ips\")\n",
    "\n",
    "os.system(\"aws --region ap-south-1 ec2 describe-instances  --filter Name=instance-type,Values=t2.small --query 'Reservations[*].Instances[*].[PublicIpAddress]' --output text > all_external_ips\")\n",
    "\n",
    "\n",
    "# os.system(\"aws --region us-west-2 ec2 describe-instances --filter Name=instance-type,Values=c4.4xlarge --query 'Reservations[*].Instances[*].[PrivateIpAddress]' --output text >> all_internal_ips\")\n",
    "\n",
    "# os.system(\"aws --region us-west-2 ec2 describe-instances  --filter Name=instance-type,Values=c4.4xlarge --query 'Reservations[*].Instances[*].[PublicIpAddress]' --output text >> all_external_ips\")\n",
    "\n",
    "\n",
    "\n",
    "# os.system(\"aws --region us-west-2 ec2 describe-instances  --query 'Reservations[*].Instances[*].[PrivateIpAddress]' --output text > all_internal_ips\")\n",
    "\n",
    "# os.system(\"aws --region us-west-2 ec2 describe-instances --query 'Reservations[*].Instances[*].[PublicIpAddress]' --output text > all_external_ips\")\n"
   ]
  },
  {
   "cell_type": "code",
   "execution_count": 5,
   "id": "74564122",
   "metadata": {},
   "outputs": [],
   "source": [
    "with open('all_internal_ips') as f:\n",
    "    ipList = f.read().splitlines()\n",
    "ipList = [x for x in ipList if x!='None']"
   ]
  },
  {
   "cell_type": "code",
   "execution_count": 6,
   "id": "25f62170",
   "metadata": {},
   "outputs": [
    {
     "data": {
      "text/plain": [
       "(['172.31.47.69',\n",
       "  '172.31.34.165',\n",
       "  '172.31.42.105',\n",
       "  '172.31.33.39',\n",
       "  '172.31.35.131',\n",
       "  '172.31.43.130',\n",
       "  '172.31.37.210',\n",
       "  '172.31.40.47',\n",
       "  '172.31.38.153',\n",
       "  '172.31.36.116',\n",
       "  '172.31.44.10',\n",
       "  '172.31.46.202',\n",
       "  '172.31.38.109',\n",
       "  '172.31.37.173',\n",
       "  '172.31.40.125',\n",
       "  '172.31.34.123',\n",
       "  '172.31.41.254',\n",
       "  '172.31.42.93',\n",
       "  '172.31.47.25',\n",
       "  '172.31.42.153',\n",
       "  '172.31.39.123',\n",
       "  '172.31.33.218'],\n",
       " 22)"
      ]
     },
     "execution_count": 6,
     "metadata": {},
     "output_type": "execute_result"
    }
   ],
   "source": [
    "ipList, len(ipList)"
   ]
  },
  {
   "cell_type": "code",
   "execution_count": 7,
   "id": "579945bb",
   "metadata": {},
   "outputs": [],
   "source": [
    "clusterIpMap = {}\n",
    "\n",
    "for i in range(len(ipList)):\n",
    "    clusterIpMap[i] = ipList[i]\n",
    "\n",
    "    \n",
    "for i in range(nclients):\n",
    "    \n",
    "    clusterIpMap[7001+i] = ipList[-(nclients-i)]\n",
    "\n",
    "\n",
    "\n",
    "\n",
    "clusterPortMap1 = {}\n",
    "clusterPortMap2 = {}\n",
    "\n",
    "for i in range(len(ipList) - nclients):\n",
    "    \n",
    "    clusterPortMap1[i] = str(11000+i*10)\n",
    "    \n",
    "for i in range(len(ipList) - nclients):\n",
    "    clusterPortMap2[i] = str(11000+i*10+1)\n",
    "    \n",
    "# clusterPortMap1[7003] = '11400'\n",
    "# clusterPortMap2[7003] = '11410'\n",
    "\n",
    "\n",
    "\n",
    "temp = 11900\n",
    "\n",
    "for i in range(nclients):\n",
    "    \n",
    "    clusterPortMap1[7001+i] = str(temp+i*20)\n",
    "    clusterPortMap2[7001+i] = str(temp+i*20+10)\n",
    "\n"
   ]
  },
  {
   "cell_type": "code",
   "execution_count": null,
   "id": "c60c1fee",
   "metadata": {},
   "outputs": [],
   "source": []
  },
  {
   "cell_type": "code",
   "execution_count": 8,
   "id": "d0383f53",
   "metadata": {
    "scrolled": true
   },
   "outputs": [
    {
     "data": {
      "text/plain": [
       "({0: '11000',\n",
       "  1: '11010',\n",
       "  2: '11020',\n",
       "  3: '11030',\n",
       "  4: '11040',\n",
       "  5: '11050',\n",
       "  6: '11060',\n",
       "  7: '11070',\n",
       "  8: '11080',\n",
       "  9: '11090',\n",
       "  10: '11100',\n",
       "  11: '11110',\n",
       "  12: '11120',\n",
       "  13: '11130',\n",
       "  14: '11140',\n",
       "  15: '11150',\n",
       "  16: '11160',\n",
       "  17: '11170',\n",
       "  18: '11180',\n",
       "  19: '11190',\n",
       "  7001: '11900',\n",
       "  7002: '11920'},\n",
       " {0: '11001',\n",
       "  1: '11011',\n",
       "  2: '11021',\n",
       "  3: '11031',\n",
       "  4: '11041',\n",
       "  5: '11051',\n",
       "  6: '11061',\n",
       "  7: '11071',\n",
       "  8: '11081',\n",
       "  9: '11091',\n",
       "  10: '11101',\n",
       "  11: '11111',\n",
       "  12: '11121',\n",
       "  13: '11131',\n",
       "  14: '11141',\n",
       "  15: '11151',\n",
       "  16: '11161',\n",
       "  17: '11171',\n",
       "  18: '11181',\n",
       "  19: '11191',\n",
       "  7001: '11910',\n",
       "  7002: '11930'})"
      ]
     },
     "execution_count": 8,
     "metadata": {},
     "output_type": "execute_result"
    }
   ],
   "source": [
    "clusterPortMap1, clusterPortMap2"
   ]
  },
  {
   "cell_type": "code",
   "execution_count": 9,
   "id": "426b3b38",
   "metadata": {},
   "outputs": [
    {
     "name": "stderr",
     "output_type": "stream",
     "text": [
      "[sudo] password for tejas: "
     ]
    },
    {
     "name": "stdout",
     "output_type": "stream",
     "text": [
      "\n",
      "> Task :compileJava\n",
      "\n",
      "> Task :processResources NO-SOURCE\n",
      "> Task :classes\n",
      "> Task :jar\n"
     ]
    },
    {
     "name": "stderr",
     "output_type": "stream",
     "text": [
      "Note: /home/tejas/work/BftSmart_Final/src/main/java/bftsmart/reconfiguration/ViewController.java uses or overrides a deprecated API.\n",
      "Note: Recompile with -Xlint:deprecation for details.\n",
      "Note: Some input files use unchecked or unsafe operations.\n",
      "Note: Recompile with -Xlint:unchecked for details.\n"
     ]
    },
    {
     "name": "stdout",
     "output_type": "stream",
     "text": [
      "> Task :installDist\n",
      "\n",
      "BUILD SUCCESSFUL in 6s\n",
      "3 actionable tasks: 3 executed\n"
     ]
    },
    {
     "data": {
      "text/plain": [
       "0"
      ]
     },
     "execution_count": 9,
     "metadata": {},
     "output_type": "execute_result"
    }
   ],
   "source": [
    "os.system('echo 3108 | sudo -S ./gradlew installDist')"
   ]
  },
  {
   "cell_type": "code",
   "execution_count": null,
   "id": "86bbd62c",
   "metadata": {},
   "outputs": [],
   "source": [
    "for i in range(total_count):\n",
    "    os.system('./runscripts/smartrun.sh bftsmart.tom.util.RSAKeyPairGenerator '+str(i)+' 1024')\n",
    "\n",
    "    \n",
    "\n",
    "os.system('./runscripts/smartrun.sh bftsmart.tom.util.RSAKeyPairGenerator '+str(7002)+' 1024')\n",
    "os.system('./runscripts/smartrun.sh bftsmart.tom.util.RSAKeyPairGenerator '+str(7001)+' 1024')"
   ]
  },
  {
   "cell_type": "code",
   "execution_count": null,
   "id": "62bd80e8",
   "metadata": {},
   "outputs": [],
   "source": [
    "os.system('echo 3108 | sudo -S ./gradlew clean')"
   ]
  },
  {
   "cell_type": "code",
   "execution_count": null,
   "id": "49b2f68a",
   "metadata": {},
   "outputs": [],
   "source": [
    "for key in clusterPortMap1.keys():\n",
    "    if key>7002:\n",
    "        print(key)\n",
    "        print()\n",
    "        \n",
    "        for folder in os.listdir('config/'):\n",
    "            if os.path.isdir('config/'+folder) and 'keys' in folder:\n",
    "                if os.path.exists('config/'+folder+'/'+'privatekey7001'):\n",
    "                    shutil.copy('config/'+folder+'/'+'privatekey7001','config/'+folder+'/'+'privatekey'+str(key))\n",
    "                    shutil.copy('config/'+folder+'/'+'publickey7001','config/'+folder+'/'+'publickey'+str(key))\n",
    "                \n",
    "        print('----------')\n",
    "        print()"
   ]
  },
  {
   "cell_type": "code",
   "execution_count": null,
   "id": "8c844662",
   "metadata": {},
   "outputs": [],
   "source": [
    "for i in range(n_clusters):\n",
    "    \n",
    "    if os.path.exists('config'+str(i)):\n",
    "        shutil.rmtree('config'+str(i))\n",
    "    \n",
    "    os.mkdir('config'+str(i))\n",
    "    os.mkdir('config'+str(i)+'/keysRSA')\n",
    "    os.mkdir('config'+str(i)+'/keysSunEC')\n",
    "    os.mkdir('config'+str(i)+'/keysECDSA')\n",
    "    \n",
    "    \n",
    "    shutil.copytree('config/workloads/', 'config'+str(i)+'/workloads')\n",
    "    shutil.copytree('config/keysSSL_TLS/', 'config'+str(i)+'/keysSSL_TLS')\n",
    "    \n",
    "    \n",
    "    for file in os.listdir('config/keys/'):\n",
    "    \n",
    "        shutil.copy('config/keys/'+file, 'config'+str(i)+'/keysRSA/'+file)\n",
    "        shutil.copy('config/keys/'+file, 'config'+str(i)+'/keysSunEC/'+file)\n",
    "        shutil.copy('config/keys/'+file, 'config'+str(i)+'/keysECDSA/'+file)\n",
    "    \n",
    "    \n",
    "    shutil.copy('config/system.config', 'config'+str(i)+'/system.config')    \n",
    "    shutil.copy('config/logback.xml', 'config'+str(i)+'/logback.xml')\n",
    "    \n",
    "    \n",
    "    \n",
    "    "
   ]
  },
  {
   "cell_type": "code",
   "execution_count": null,
   "id": "a4665ea0",
   "metadata": {},
   "outputs": [],
   "source": [
    "        \n",
    "        for i in range(nclients):\n",
    "            print(str(7001+i)+' '+clusterIpMap[7001+i]+' '+clusterPortMap1[7001+i]+'\\n')"
   ]
  },
  {
   "cell_type": "code",
   "execution_count": null,
   "id": "f6db0f1e",
   "metadata": {},
   "outputs": [],
   "source": [
    "for n_cluster in range(n_clusters):\n",
    "    \n",
    "    with open('config'+str(n_cluster)+'/hosts.config','w') as file:\n",
    "        \n",
    "        for n_cluster1 in range(n_clusters):\n",
    "        \n",
    "            for i_replica in range(replica_count):\n",
    "    #             file.writelines(str(i_replica)+' '+clusterIpMap[n_cluster*replica_count+i_replica]+' '  +clusterPortMap1[n_cluster*replica_count+i_replica]+' ' +  clusterPortMap2[n_cluster*replica_count+i_replica]+'\\n')\n",
    "                file.writelines(str(n_cluster1*replica_count+i_replica)+' '+clusterIpMap[n_cluster1*replica_count+i_replica]+' '  +clusterPortMap1[n_cluster1*replica_count+i_replica]+' ' +  clusterPortMap2[n_cluster1*replica_count+i_replica]+' '+str(n_cluster1)+'\\n')\n",
    "\n",
    "        for iter_ in range(len(ipList) - (n_clusters*replica_count)-nclients):\n",
    "            print((n_clusters*replica_count) + iter_)\n",
    "            \n",
    "#             file.writelines(str((n_clusters*replica_count) + iter_)+' '+clusterIpMap[(n_clusters*replica_count) + iter_]+' '  +clusterPortMap1[(n_clusters*replica_count) + iter_]+' ' +  clusterPortMap2[(n_clusters*replica_count) + iter_]+' '+str(iter_%n_clusters)+'\\n')\n",
    "            file.writelines(str((n_clusters*replica_count) + iter_)+' '+clusterIpMap[(n_clusters*replica_count) + iter_]+' '  +clusterPortMap1[(n_clusters*replica_count) + iter_]+' ' +  clusterPortMap2[(n_clusters*replica_count) + iter_]+' '+str(0%n_clusters)+'\\n')\n",
    "        \n",
    "        for i in range(nclients):\n",
    "            file.writelines(str(7001+i)+' '+clusterIpMap[7001+i]+' '+clusterPortMap1[7001+i]+'\\n')\n",
    "\n",
    "        \n",
    "        file.close()\n"
   ]
  },
  {
   "cell_type": "code",
   "execution_count": null,
   "id": "b3c8b03d",
   "metadata": {},
   "outputs": [],
   "source": [
    "replica_count"
   ]
  },
  {
   "cell_type": "code",
   "execution_count": null,
   "id": "2b2fd25a",
   "metadata": {},
   "outputs": [],
   "source": [
    "for n_cluster in range(n_clusters):\n",
    "    with open('config'+str(n_cluster)+'/system.config','r') as file:\n",
    "        data = file.readlines()\n",
    "        f = int(np.ceil((replica_count-1)/3))\n",
    "        print('f is',f )\n",
    "        \n",
    "        for n_line in range(len(data)):\n",
    "            if ('system.servers.num' in data[n_line]) and '#' not in data[n_line]:\n",
    "                \n",
    "                data[n_line] = 'system.servers.num = '+str(replica_count)\n",
    "                \n",
    "            if ('system.servers.f' in data[n_line]) and '#' not in data[n_line]:\n",
    "                data[n_line] = 'system.servers.f = '+str(f)\n",
    "                \n",
    "            if ('system.initial.view' in data[n_line]) and '#' not in data[n_line]:\n",
    "                data[n_line] = 'system.initial.view = '\n",
    "                for iter_view in range(replica_count):\n",
    "                    data[n_line] = data[n_line] +str(n_cluster*replica_count+iter_view)+','\n",
    "#                     data[n_line] = data[n_line] +str(n_cluster*replica_count+iter_view)+','\n",
    "                \n",
    "                data[n_line] = data[n_line][:-1]\n",
    "                \n",
    "                \n",
    "        file.close()\n",
    "        \n",
    "    with open('config'+str(n_cluster)+'/system.config', 'w') as f:\n",
    "        for line in data:\n",
    "            f.write(f\"{line}\\n\")\n",
    "        "
   ]
  },
  {
   "cell_type": "code",
   "execution_count": null,
   "id": "60b70c58",
   "metadata": {
    "scrolled": true
   },
   "outputs": [],
   "source": [
    "for n_cluster in range(n_clusters):\n",
    "    for i in range(400):\n",
    "        \n",
    "        for ncls in  range(1):\n",
    "        \n",
    "        \n",
    "            print('config'+str(n_cluster)+'/keysRSA/'+'publickey7002', \\\n",
    "                        'config'+str(n_cluster)+'/keysRSA/'+'publickey'+str(1000+(ncls*100)+i))\n",
    "            shutil.copy('config'+str(n_cluster)+'/keysRSA/'+'publickey7002', \\\n",
    "                        'config'+str(n_cluster)+'/keysRSA/'+'publickey'+str(1000+(ncls*100)+i))\n",
    "            shutil.copy('config'+str(n_cluster)+'/keysRSA/'+'privatekey7002', \\\n",
    "                        'config'+str(n_cluster)+'/keysRSA/'+'privatekey'+str(1000+(ncls*100)+i))\n",
    "        \n",
    "#         shutil.copy('config'+str(n_cluster)+'/keysRSA/'+'publickey7002', \\\n",
    "#                     'config'+str(n_cluster)+'/keysRSA/'+'publickey7002')\n",
    "        \n",
    "#         shutil.copy('config'+str(n_cluster)+'/keysRSA/'+'privatekey7002', \\\n",
    "#                     'config'+str(n_cluster)+'/keysRSA/'+'privatekey7002')"
   ]
  },
  {
   "cell_type": "code",
   "execution_count": null,
   "id": "b36cca3d",
   "metadata": {},
   "outputs": [],
   "source": [
    "# os.system('git remote set-url origin https://github.com/tmane002/BftSmart_Final.git')"
   ]
  },
  {
   "cell_type": "code",
   "execution_count": null,
   "id": "c6e7ede1",
   "metadata": {
    "scrolled": true
   },
   "outputs": [],
   "source": [
    "os.system('git add .; git commit -m \"Working with modified ClusterInfo\";git push')"
   ]
  },
  {
   "cell_type": "code",
   "execution_count": null,
   "id": "bee7377b",
   "metadata": {},
   "outputs": [],
   "source": [
    "# 'gcloud compute instances create instance-1 --project=cellular-hybrid-358402 --zone=us-central1-a --machine-type=e2-medium --network-interface=network-tier=PREMIUM,subnet=default --no-restart-on-failure --maintenance-policy=TERMINATE --provisioning-model=SPOT --instance-termination-action=STOP --service-account=932709639592-compute@developer.gserviceaccount.com --scopes=https://www.googleapis.com/auth/devstorage.read_only,https://www.googleapis.com/auth/logging.write,https://www.googleapis.com/auth/monitoring.write,https://www.googleapis.com/auth/servicecontrol,https://www.googleapis.com/auth/service.management.readonly,https://www.googleapis.com/auth/trace.append --tags=http-server,https-server --create-disk=auto-delete=yes,boot=yes,device-name=instance-1,image=projects/ubuntu-os-cloud/global/images/ubuntu-2204-jammy-v20220810,mode=rw,size=10,type=projects/cellular-hybrid-358402/zones/us-central1-a/diskTypes/pd-balanced --no-shielded-secure-boot --shielded-vtpm --shielded-integrity-monitoring --reservation-affinity=any'"
   ]
  },
  {
   "cell_type": "code",
   "execution_count": null,
   "id": "3086d997",
   "metadata": {},
   "outputs": [],
   "source": [
    "# gcloud compute instances create instance-1 --project=cellular-hybrid-358402 --zone=us-west1-b --machine-type=e2-medium --network-interface=network-tier=PREMIUM,subnet=default --no-restart-on-failure --maintenance-policy=TERMINATE --provisioning-model=SPOT --instance-termination-action=STOP --service-account=932709639592-compute@developer.gserviceaccount.com --scopes=https://www.googleapis.com/auth/devstorage.read_only,https://www.googleapis.com/auth/logging.write,https://www.googleapis.com/auth/monitoring.write,https://www.googleapis.com/auth/servicecontrol,https://www.googleapis.com/auth/service.management.readonly,https://www.googleapis.com/auth/trace.append --tags=http-server,https-server --create-disk=auto-delete=yes,boot=yes,device-name=instance-1,image=projects/ubuntu-os-cloud/global/images/ubuntu-2204-jammy-v20220810,mode=rw,size=10,type=projects/cellular-hybrid-358402/zones/us-central1-a/diskTypes/pd-balanced --no-shielded-secure-boot --shielded-vtpm --shielded-integrity-monitoring --reservation-affinity=any"
   ]
  },
  {
   "cell_type": "code",
   "execution_count": null,
   "id": "76c5f26a",
   "metadata": {},
   "outputs": [],
   "source": []
  },
  {
   "cell_type": "code",
   "execution_count": null,
   "id": "5937775e",
   "metadata": {},
   "outputs": [],
   "source": []
  },
  {
   "cell_type": "code",
   "execution_count": null,
   "id": "19044549",
   "metadata": {},
   "outputs": [],
   "source": []
  },
  {
   "cell_type": "code",
   "execution_count": null,
   "id": "b6ff7684",
   "metadata": {},
   "outputs": [],
   "source": []
  },
  {
   "cell_type": "code",
   "execution_count": null,
   "id": "98436d37",
   "metadata": {},
   "outputs": [],
   "source": []
  },
  {
   "cell_type": "code",
   "execution_count": null,
   "id": "7018f68a",
   "metadata": {},
   "outputs": [],
   "source": []
  },
  {
   "cell_type": "code",
   "execution_count": null,
   "id": "fc6cd0aa",
   "metadata": {},
   "outputs": [],
   "source": []
  }
 ],
 "metadata": {
  "kernelspec": {
   "display_name": "Python 3 (ipykernel)",
   "language": "python",
   "name": "python3"
  },
  "language_info": {
   "codemirror_mode": {
    "name": "ipython",
    "version": 3
   },
   "file_extension": ".py",
   "mimetype": "text/x-python",
   "name": "python",
   "nbconvert_exporter": "python",
   "pygments_lexer": "ipython3",
   "version": "3.9.12"
  }
 },
 "nbformat": 4,
 "nbformat_minor": 5
}

{
 "cells": [
  {
   "cell_type": "code",
   "execution_count": 7,
   "id": "c6bb679b",
   "metadata": {},
   "outputs": [],
   "source": [
    "import os\n",
    "import pickle\n",
    "import numpy as np\n",
    "import pylab as pl"
   ]
  },
  {
   "cell_type": "code",
   "execution_count": 20,
   "id": "e583acb3",
   "metadata": {},
   "outputs": [
    {
     "name": "stdout",
     "output_type": "stream",
     "text": [
      "\n",
      "bft_mc_global_6cls\n",
      "2534.5423333333333 0.0007262638611111111\n",
      "\n",
      "bft_mc_global_2cls\n",
      "1178.0146666666665 0.0012842855000000002\n",
      "\n",
      "bft_mc_global_8cls\n",
      "3263.4686666666666 0.0007554312500000001\n",
      "\n",
      "bft_mc_global_12cls\n",
      "4724.098500000001 0.0006701452499999999\n",
      "\n",
      "bft_mc_global_3cls\n",
      "1288.8403333333335 0.0010246568888888888\n",
      "\n",
      "bft_mc_global_4cls\n",
      "1687.0041666666666 0.0008613139166666668\n"
     ]
    }
   ],
   "source": [
    "for folder in os.listdir('../Experiments/'):\n",
    "    if 'bft_mc_global' in folder:\n",
    "        print()\n",
    "        \n",
    "        print(folder)\n",
    "        \n",
    "        with open('../Experiments/'+folder+'/pickle.dat', \"rb\") as f:\n",
    "            data2 =  pickle.load(f)\n",
    "            \n",
    "            \n",
    "        nclients = 0\n",
    "        for file in os.listdir('../Experiments/'+folder):\n",
    "            if 'nohup_client' in file:\n",
    "                nclients = nclients + 1\n",
    "\n",
    "\n",
    "        dict1 = data2[0]\n",
    "        dict2 = data2[1]\n",
    "\n",
    "\n",
    "\n",
    "        times1 = np.array(list(dict1.keys()))\n",
    "        thputs = np.array(list(dict1.values()))\n",
    "\n",
    "        times2 = np.array(list(dict2.keys()))\n",
    "        lats = np.array(list(dict2.values()))\n",
    "\n",
    "        times1\n",
    "\n",
    "\n",
    "#         pl.figure(figsize = (12,8))\n",
    "#         pl.rcParams.update({'font.size': 17})\n",
    "#         pl.plot(times1[:], thputs[:], '-o', label='BfTSmart-MC')\n",
    "\n",
    "\n",
    "#         pl.title(r'Throughput')\n",
    "\n",
    "\n",
    "#         pl.xlabel('Time (s)')\n",
    "#         pl.ylabel('Throughput (Txn/s)')\n",
    "#         pl.legend()\n",
    "# #         pl.savefig('../Experiments/'+experiment+'/out1.png', dpi = 150)\n",
    "# #         pl.show()\n",
    "\n",
    "\n",
    "\n",
    "\n",
    "#         pl.figure(figsize = (12,8))\n",
    "#         pl.rcParams.update({'font.size': 17})\n",
    "#         pl.plot(times1[:], lats[:]/ (nclients), '-o', label='BfTSmart-MC')\n",
    "\n",
    "\n",
    "#         pl.title(r'Latency')\n",
    "\n",
    "\n",
    "#         pl.xlabel('Time (s)')\n",
    "#         pl.ylabel('Latency (Txn/s)')\n",
    "#         pl.legend()\n",
    "# #         pl.savefig('../Experiments/'+experiment+'/out2.png', dpi = 150)\n",
    "# #         pl.show()\n",
    "\n",
    "        print(np.average(thputs[90:150]), np.average(lats[90:150])/nclients)\n"
   ]
  },
  {
   "cell_type": "code",
   "execution_count": null,
   "id": "58a16174",
   "metadata": {},
   "outputs": [],
   "source": []
  },
  {
   "cell_type": "code",
   "execution_count": null,
   "id": "3012fe16",
   "metadata": {},
   "outputs": [],
   "source": []
  },
  {
   "cell_type": "code",
   "execution_count": null,
   "id": "f99767cc",
   "metadata": {},
   "outputs": [],
   "source": []
  }
 ],
 "metadata": {
  "kernelspec": {
   "display_name": "Python 3 (ipykernel)",
   "language": "python",
   "name": "python3"
  },
  "language_info": {
   "codemirror_mode": {
    "name": "ipython",
    "version": 3
   },
   "file_extension": ".py",
   "mimetype": "text/x-python",
   "name": "python",
   "nbconvert_exporter": "python",
   "pygments_lexer": "ipython3",
   "version": "3.11.5"
  }
 },
 "nbformat": 4,
 "nbformat_minor": 5
}

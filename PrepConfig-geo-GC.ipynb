{
 "cells": [
  {
   "cell_type": "code",
   "execution_count": 1,
   "id": "9f678c04",
   "metadata": {},
   "outputs": [],
   "source": [
    "import numpy as np\n",
    "import os\n",
    "import shutil\n",
    "import subprocess\n",
    "import pandas as pd\n"
   ]
  },
  {
   "cell_type": "code",
   "execution_count": 2,
   "id": "a24dd90d",
   "metadata": {},
   "outputs": [
    {
     "name": "stdout",
     "output_type": "stream",
     "text": [
      "Overwriting node_info.csv\n"
     ]
    }
   ],
   "source": [
    "\n",
    "\n",
    "%%file node_info.csv\n",
    "node_id,region,ServerOrClientregion,cluster_id,key_file,clientID,ServerID, PublicIp\n",
    "0, 'europe-west3-c', 0, 0, 'FKA.pem', -1, 0,\n",
    "1, 'europe-west3-c', 0, 0, 'FKA.pem', -1, 1,\n",
    "2, 'europe-west3-c', 0, 0, 'FKA.pem', -1, 2,\n",
    "3, 'europe-west3-c', 0, 0, 'FKA.pem', -1, 3,\n",
    "\n",
    "4, 'europe-west3-c', 1, -1, 'FKA.pem', 0, -1,\n",
    "5, 'europe-west3-c', 1, -1, 'FKA.pem', 1, -1,\n",
    "6, 'europe-west3-c', 1, -1, 'FKA.pem', 2, -1,\n",
    "7, 'europe-west3-c', 1, -1, 'FKA.pem', 3, -1,\n",
    "\n",
    "\n",
    "8, 'europe-west3-c', 0, 1,'FKA.pem', -1, 4,\n",
    "9, 'europe-west3-c', 0, 1,'FKA.pem', -1, 5,\n",
    "10, 'europe-west3-c', 0, 1,'FKA.pem', -1, 6,\n",
    "11, 'europe-west3-c', 0, 1,'FKA.pem', -1, 7,\n",
    "\n",
    "12, 'europe-west3-c', 1, -1, 'FKA.pem', 4, -1,\n",
    "13, 'europe-west3-c', 1, -1, 'FKA.pem', 5, -1,\n",
    "14, 'europe-west3-c', 1, -1, 'FKA.pem', 6, -1,\n",
    "15, 'europe-west3-c', 1, -1, 'FKA.pem', 7, -1,\n",
    "\n"
   ]
  },
  {
   "cell_type": "code",
   "execution_count": 3,
   "id": "8f30bfdf",
   "metadata": {},
   "outputs": [],
   "source": [
    "\n",
    "\n",
    "# %%file node_info.csv\n",
    "# node_id,region,ServerOrClientregion,cluster_id,key_file,clientID,ServerID, PublicIp\n",
    "# 0, 'europe-west3-c', 0, 0, 'FKA.pem', -1, 0,\n",
    "# 1, 'europe-west3-c', 0, 0, 'FKA.pem', -1, 1,\n",
    "# 2, 'europe-west3-c', 0, 0, 'FKA.pem', -1, 2,\n",
    "# 3, 'europe-west3-c', 0, 0, 'FKA.pem', -1, 3,\n",
    "\n",
    "# 4, 'europe-west3-c', 1, -1, 'FKA.pem', 0, -1,\n",
    "\n",
    "# 5, 'europe-west3-c', 0, 1,'FKA.pem', -1, 4,\n",
    "# 6, 'europe-west3-c', 0, 1,'FKA.pem', -1, 5,\n",
    "# 7, 'europe-west3-c', 0, 1,'FKA.pem', -1, 6,\n",
    "# 8, 'europe-west3-c', 0, 1,'FKA.pem', -1, 7,\n",
    "\n",
    "# 9, 'europe-west3-c', 1, -1, 'FKA.pem', 1, -1,\n",
    "\n"
   ]
  },
  {
   "cell_type": "code",
   "execution_count": 4,
   "id": "0571f81b",
   "metadata": {},
   "outputs": [],
   "source": [
    "\n",
    "\n",
    "# %%file node_info.csv\n",
    "# node_id,region,ServerOrClientregion,cluster_id,key_file,clientID,ServerID, PublicIp\n",
    "# 0, 'europe-west3-c', 0, 0, 'FKA.pem', -1, 0,\n",
    "# 1, 'europe-west3-c', 0, 0, 'FKA.pem', -1, 1,\n",
    "# 2, 'europe-west3-c', 0, 0, 'FKA.pem', -1, 2,\n",
    "# 3, 'europe-west3-c', 0, 0, 'FKA.pem', -1, 3,\n",
    "\n",
    "# 4, 'europe-west3-c', 1, -1, 'FKA.pem', 0, -1,\n",
    "\n",
    "# 5, 'asia-south1-c', 0, 1,'FKA.pem', -1, 4,\n",
    "# 6, 'asia-south1-c', 0, 1,'FKA.pem', -1, 5,\n",
    "# 7, 'asia-south1-c', 0, 1,'FKA.pem', -1, 6,\n",
    "# 8, 'asia-south1-c', 0, 1,'FKA.pem', -1, 7,\n",
    "\n",
    "# 9, 'asia-south1-c', 1, -1, 'FKA.pem', 1, -1,\n",
    "\n",
    "\n",
    "\n",
    "\n",
    "\n"
   ]
  },
  {
   "cell_type": "code",
   "execution_count": null,
   "id": "688fbffb",
   "metadata": {},
   "outputs": [],
   "source": []
  },
  {
   "cell_type": "code",
   "execution_count": 5,
   "id": "c4f6ba29",
   "metadata": {},
   "outputs": [
    {
     "data": {
      "text/plain": [
       "{'node_id': {0: 0,\n",
       "  1: 1,\n",
       "  2: 2,\n",
       "  3: 3,\n",
       "  4: 4,\n",
       "  5: 5,\n",
       "  6: 6,\n",
       "  7: 7,\n",
       "  8: 8,\n",
       "  9: 9,\n",
       "  10: 10,\n",
       "  11: 11,\n",
       "  12: 12,\n",
       "  13: 13,\n",
       "  14: 14,\n",
       "  15: 15},\n",
       " 'region': {0: \" 'europe-west3-c'\",\n",
       "  1: \" 'europe-west3-c'\",\n",
       "  2: \" 'europe-west3-c'\",\n",
       "  3: \" 'europe-west3-c'\",\n",
       "  4: \" 'europe-west3-c'\",\n",
       "  5: \" 'europe-west3-c'\",\n",
       "  6: \" 'europe-west3-c'\",\n",
       "  7: \" 'europe-west3-c'\",\n",
       "  8: \" 'europe-west3-c'\",\n",
       "  9: \" 'europe-west3-c'\",\n",
       "  10: \" 'europe-west3-c'\",\n",
       "  11: \" 'europe-west3-c'\",\n",
       "  12: \" 'europe-west3-c'\",\n",
       "  13: \" 'europe-west3-c'\",\n",
       "  14: \" 'europe-west3-c'\",\n",
       "  15: \" 'europe-west3-c'\"},\n",
       " 'ServerOrClientregion': {0: 0,\n",
       "  1: 0,\n",
       "  2: 0,\n",
       "  3: 0,\n",
       "  4: 1,\n",
       "  5: 1,\n",
       "  6: 1,\n",
       "  7: 1,\n",
       "  8: 0,\n",
       "  9: 0,\n",
       "  10: 0,\n",
       "  11: 0,\n",
       "  12: 1,\n",
       "  13: 1,\n",
       "  14: 1,\n",
       "  15: 1},\n",
       " 'cluster_id': {0: 0,\n",
       "  1: 0,\n",
       "  2: 0,\n",
       "  3: 0,\n",
       "  4: -1,\n",
       "  5: -1,\n",
       "  6: -1,\n",
       "  7: -1,\n",
       "  8: 1,\n",
       "  9: 1,\n",
       "  10: 1,\n",
       "  11: 1,\n",
       "  12: -1,\n",
       "  13: -1,\n",
       "  14: -1,\n",
       "  15: -1},\n",
       " 'key_file': {0: \" 'FKA.pem'\",\n",
       "  1: \" 'FKA.pem'\",\n",
       "  2: \" 'FKA.pem'\",\n",
       "  3: \" 'FKA.pem'\",\n",
       "  4: \" 'FKA.pem'\",\n",
       "  5: \" 'FKA.pem'\",\n",
       "  6: \" 'FKA.pem'\",\n",
       "  7: \" 'FKA.pem'\",\n",
       "  8: \"'FKA.pem'\",\n",
       "  9: \"'FKA.pem'\",\n",
       "  10: \"'FKA.pem'\",\n",
       "  11: \"'FKA.pem'\",\n",
       "  12: \" 'FKA.pem'\",\n",
       "  13: \" 'FKA.pem'\",\n",
       "  14: \" 'FKA.pem'\",\n",
       "  15: \" 'FKA.pem'\"},\n",
       " 'clientID': {0: -1,\n",
       "  1: -1,\n",
       "  2: -1,\n",
       "  3: -1,\n",
       "  4: 0,\n",
       "  5: 1,\n",
       "  6: 2,\n",
       "  7: 3,\n",
       "  8: -1,\n",
       "  9: -1,\n",
       "  10: -1,\n",
       "  11: -1,\n",
       "  12: 4,\n",
       "  13: 5,\n",
       "  14: 6,\n",
       "  15: 7},\n",
       " 'ServerID': {0: 0,\n",
       "  1: 1,\n",
       "  2: 2,\n",
       "  3: 3,\n",
       "  4: -1,\n",
       "  5: -1,\n",
       "  6: -1,\n",
       "  7: -1,\n",
       "  8: 4,\n",
       "  9: 5,\n",
       "  10: 6,\n",
       "  11: 7,\n",
       "  12: -1,\n",
       "  13: -1,\n",
       "  14: -1,\n",
       "  15: -1},\n",
       " ' PublicIp': {0: nan,\n",
       "  1: nan,\n",
       "  2: nan,\n",
       "  3: nan,\n",
       "  4: nan,\n",
       "  5: nan,\n",
       "  6: nan,\n",
       "  7: nan,\n",
       "  8: nan,\n",
       "  9: nan,\n",
       "  10: nan,\n",
       "  11: nan,\n",
       "  12: nan,\n",
       "  13: nan,\n",
       "  14: nan,\n",
       "  15: nan}}"
      ]
     },
     "execution_count": 5,
     "metadata": {},
     "output_type": "execute_result"
    }
   ],
   "source": [
    "df =pd.read_csv('node_info.csv')\n",
    "\n",
    "node_info_dict = df.to_dict()\n",
    "\n",
    "node_info_dict"
   ]
  },
  {
   "cell_type": "code",
   "execution_count": 6,
   "id": "c48cf7ab",
   "metadata": {},
   "outputs": [
    {
     "data": {
      "text/plain": [
       "8"
      ]
     },
     "execution_count": 6,
     "metadata": {},
     "output_type": "execute_result"
    }
   ],
   "source": [
    "total_count = 0\n",
    "\n",
    "for key in node_info_dict['ServerOrClientregion'].keys():\n",
    "    if node_info_dict['ServerOrClientregion'][key] ==0:\n",
    "        total_count = total_count + 1\n",
    "        \n",
    "total_count"
   ]
  },
  {
   "cell_type": "code",
   "execution_count": 7,
   "id": "58b6c8b4",
   "metadata": {},
   "outputs": [
    {
     "data": {
      "text/plain": [
       "4"
      ]
     },
     "execution_count": 7,
     "metadata": {},
     "output_type": "execute_result"
    }
   ],
   "source": [
    "replica_count = 0\n",
    "\n",
    "for key in node_info_dict['cluster_id'].keys():\n",
    "    if node_info_dict['cluster_id'][key] ==0:\n",
    "        replica_count = replica_count + 1\n",
    "        \n",
    "        \n",
    "replica_count       "
   ]
  },
  {
   "cell_type": "code",
   "execution_count": 8,
   "id": "615905d5",
   "metadata": {},
   "outputs": [
    {
     "data": {
      "text/plain": [
       "{'node_id': {0: 0,\n",
       "  1: 1,\n",
       "  2: 2,\n",
       "  3: 3,\n",
       "  4: 4,\n",
       "  5: 5,\n",
       "  6: 6,\n",
       "  7: 7,\n",
       "  8: 8,\n",
       "  9: 9,\n",
       "  10: 10,\n",
       "  11: 11,\n",
       "  12: 12,\n",
       "  13: 13,\n",
       "  14: 14,\n",
       "  15: 15},\n",
       " 'region': {0: \" 'europe-west3-c'\",\n",
       "  1: \" 'europe-west3-c'\",\n",
       "  2: \" 'europe-west3-c'\",\n",
       "  3: \" 'europe-west3-c'\",\n",
       "  4: \" 'europe-west3-c'\",\n",
       "  5: \" 'europe-west3-c'\",\n",
       "  6: \" 'europe-west3-c'\",\n",
       "  7: \" 'europe-west3-c'\",\n",
       "  8: \" 'europe-west3-c'\",\n",
       "  9: \" 'europe-west3-c'\",\n",
       "  10: \" 'europe-west3-c'\",\n",
       "  11: \" 'europe-west3-c'\",\n",
       "  12: \" 'europe-west3-c'\",\n",
       "  13: \" 'europe-west3-c'\",\n",
       "  14: \" 'europe-west3-c'\",\n",
       "  15: \" 'europe-west3-c'\"},\n",
       " 'ServerOrClientregion': {0: 0,\n",
       "  1: 0,\n",
       "  2: 0,\n",
       "  3: 0,\n",
       "  4: 1,\n",
       "  5: 1,\n",
       "  6: 1,\n",
       "  7: 1,\n",
       "  8: 0,\n",
       "  9: 0,\n",
       "  10: 0,\n",
       "  11: 0,\n",
       "  12: 1,\n",
       "  13: 1,\n",
       "  14: 1,\n",
       "  15: 1},\n",
       " 'cluster_id': {0: 0,\n",
       "  1: 0,\n",
       "  2: 0,\n",
       "  3: 0,\n",
       "  4: -1,\n",
       "  5: -1,\n",
       "  6: -1,\n",
       "  7: -1,\n",
       "  8: 1,\n",
       "  9: 1,\n",
       "  10: 1,\n",
       "  11: 1,\n",
       "  12: -1,\n",
       "  13: -1,\n",
       "  14: -1,\n",
       "  15: -1},\n",
       " 'key_file': {0: \" 'FKA.pem'\",\n",
       "  1: \" 'FKA.pem'\",\n",
       "  2: \" 'FKA.pem'\",\n",
       "  3: \" 'FKA.pem'\",\n",
       "  4: \" 'FKA.pem'\",\n",
       "  5: \" 'FKA.pem'\",\n",
       "  6: \" 'FKA.pem'\",\n",
       "  7: \" 'FKA.pem'\",\n",
       "  8: \"'FKA.pem'\",\n",
       "  9: \"'FKA.pem'\",\n",
       "  10: \"'FKA.pem'\",\n",
       "  11: \"'FKA.pem'\",\n",
       "  12: \" 'FKA.pem'\",\n",
       "  13: \" 'FKA.pem'\",\n",
       "  14: \" 'FKA.pem'\",\n",
       "  15: \" 'FKA.pem'\"},\n",
       " 'clientID': {0: -1,\n",
       "  1: -1,\n",
       "  2: -1,\n",
       "  3: -1,\n",
       "  4: 0,\n",
       "  5: 1,\n",
       "  6: 2,\n",
       "  7: 3,\n",
       "  8: -1,\n",
       "  9: -1,\n",
       "  10: -1,\n",
       "  11: -1,\n",
       "  12: 4,\n",
       "  13: 5,\n",
       "  14: 6,\n",
       "  15: 7},\n",
       " 'ServerID': {0: 0,\n",
       "  1: 1,\n",
       "  2: 2,\n",
       "  3: 3,\n",
       "  4: -1,\n",
       "  5: -1,\n",
       "  6: -1,\n",
       "  7: -1,\n",
       "  8: 4,\n",
       "  9: 5,\n",
       "  10: 6,\n",
       "  11: 7,\n",
       "  12: -1,\n",
       "  13: -1,\n",
       "  14: -1,\n",
       "  15: -1},\n",
       " ' PublicIp': {0: nan,\n",
       "  1: nan,\n",
       "  2: nan,\n",
       "  3: nan,\n",
       "  4: nan,\n",
       "  5: nan,\n",
       "  6: nan,\n",
       "  7: nan,\n",
       "  8: nan,\n",
       "  9: nan,\n",
       "  10: nan,\n",
       "  11: nan,\n",
       "  12: nan,\n",
       "  13: nan,\n",
       "  14: nan,\n",
       "  15: nan}}"
      ]
     },
     "execution_count": 8,
     "metadata": {},
     "output_type": "execute_result"
    }
   ],
   "source": [
    "node_info_dict"
   ]
  },
  {
   "cell_type": "code",
   "execution_count": null,
   "id": "d11252f5",
   "metadata": {},
   "outputs": [],
   "source": [
    "\n",
    "        "
   ]
  },
  {
   "cell_type": "code",
   "execution_count": 9,
   "id": "1026d7dd",
   "metadata": {},
   "outputs": [
    {
     "data": {
      "text/plain": [
       "8"
      ]
     },
     "execution_count": 9,
     "metadata": {},
     "output_type": "execute_result"
    }
   ],
   "source": [
    "n_clusters = int(total_count / replica_count)\n",
    "\n",
    "nclients = 0\n",
    "\n",
    "for i in node_info_dict['ServerOrClientregion']:\n",
    "#     print(node_info_dict['ServerOrClientregion'][i])\n",
    "    if node_info_dict['ServerOrClientregion'][i] == 1:\n",
    "        nclients = nclients + 1\n",
    "nclients"
   ]
  },
  {
   "cell_type": "code",
   "execution_count": 10,
   "id": "94efb184",
   "metadata": {},
   "outputs": [
    {
     "data": {
      "text/plain": [
       "['europe-west3-c', 'europe-west3-c']"
      ]
     },
     "execution_count": 10,
     "metadata": {},
     "output_type": "execute_result"
    }
   ],
   "source": [
    "clusters_tracked = []\n",
    "cluster_regions_tracked = []\n",
    "\n",
    "for key in node_info_dict['region']:\n",
    "    if int(node_info_dict['cluster_id'][key]) not in clusters_tracked and int(node_info_dict['cluster_id'][key]) >=0:\n",
    "        clusters_tracked.append(int(node_info_dict['cluster_id'][key]))\n",
    "        cluster_regions_tracked.append(node_info_dict['region'][key].strip().replace('\"', '')[1:-1])\n",
    "        \n",
    "        \n",
    "cluster_regions_tracked     "
   ]
  },
  {
   "cell_type": "code",
   "execution_count": 11,
   "id": "7172638f",
   "metadata": {},
   "outputs": [
    {
     "data": {
      "text/plain": [
       "(['europe-west3-c', 'europe-west3-c'], [0, 1])"
      ]
     },
     "execution_count": 11,
     "metadata": {},
     "output_type": "execute_result"
    }
   ],
   "source": [
    "cluster_regions_tracked, clusters_tracked"
   ]
  },
  {
   "cell_type": "code",
   "execution_count": 12,
   "id": "0a24ffb5",
   "metadata": {},
   "outputs": [],
   "source": [
    "\n",
    "regions = cluster_regions_tracked\n"
   ]
  },
  {
   "cell_type": "code",
   "execution_count": 13,
   "id": "1cc4145c",
   "metadata": {},
   "outputs": [],
   "source": [
    "# regions = [ 'us-west1-b','us-west1-b', 'us-west1-b','us-west1-b',\\\n",
    "#            'europe-west3-c', 'europe-west3-c', 'europe-west3-c', 'europe-west3-c', \\\n",
    "#            'asia-south1-c', 'asia-south1-c', 'asia-south1-c', 'asia-south1-c']\n",
    "\n",
    "\n",
    "# regions = [ 'us-west1-b','us-west1-b', 'us-west1-b','us-west1-b']\n",
    "\n",
    "\n",
    "# regions = [ 'us-west1-b','us-west1-b', 'us-west1-b','us-west1-b',\\\n",
    "#            'us-west1-b', 'us-west1-b', 'us-west1-b', 'us-west1-b', \\\n",
    "#            'us-west1-b', 'us-west1-b', 'us-west1-b', 'us-west1-b']\n",
    "\n",
    "\n",
    "\n",
    "# regions = [ 'europe-west3-c', 'asia-south1-c']\n",
    "\n",
    "# regions = [ 'us-west1-b', 'us-west1-b']\n",
    "\n",
    "\n",
    "\n",
    "# regions = [ 'us-west1-b', 'us-west1-b','us-west1-b','us-west1-b', 'us-west1-b', 'us-west1-b','us-west1-b','us-west1-b', 'us-west1-b', 'us-west1-b','us-west1-b','us-west1-b']\n",
    "# regions = [ 'us-west1-b', 'us-west1-b', 'us-west1-b', 'us-west1-b']\n",
    "\n",
    "\n",
    "\n",
    "# regions = ['europe-west3-c',  \\\n",
    "#            'asia-south1-c']\n",
    "\n",
    "\n",
    "n_regions = len(regions)"
   ]
  },
  {
   "cell_type": "code",
   "execution_count": 14,
   "id": "8baefc35",
   "metadata": {},
   "outputs": [
    {
     "name": "stdout",
     "output_type": "stream",
     "text": [
      "0 europe-west3-c\n",
      "1 europe-west3-c\n"
     ]
    }
   ],
   "source": [
    "for i,k in enumerate(regions):\n",
    "    print(i,k)"
   ]
  },
  {
   "cell_type": "code",
   "execution_count": 15,
   "id": "3552c368",
   "metadata": {},
   "outputs": [
    {
     "name": "stdout",
     "output_type": "stream",
     "text": [
      "0 0  'europe-west3-c'\n",
      "1 1  'europe-west3-c'\n",
      "2 2  'europe-west3-c'\n",
      "3 3  'europe-west3-c'\n",
      "4 4  'europe-west3-c'\n",
      "5 5  'europe-west3-c'\n",
      "6 6  'europe-west3-c'\n",
      "7 7  'europe-west3-c'\n",
      "8 8  'europe-west3-c'\n",
      "9 9  'europe-west3-c'\n",
      "10 10  'europe-west3-c'\n",
      "11 11  'europe-west3-c'\n",
      "12 12  'europe-west3-c'\n",
      "13 13  'europe-west3-c'\n",
      "14 14  'europe-west3-c'\n",
      "15 15  'europe-west3-c'\n"
     ]
    }
   ],
   "source": [
    "for item, idx in enumerate(node_info_dict['region'].keys()):\n",
    "    print(item, idx, node_info_dict['region'][item])"
   ]
  },
  {
   "cell_type": "code",
   "execution_count": 16,
   "id": "8bb72833",
   "metadata": {},
   "outputs": [],
   "source": [
    "lines  = []\n",
    "# zones = {}\n",
    "\n",
    "\n",
    "# lim = 0\n",
    "# for reg in regions:\n",
    "#     for i in range(replica_count+int(nclients/n_clusters)):\n",
    "#         line = 'gcloud compute instances create resdb-'+f\"{lim+i:02}\"+' --project=ucr-ursa-major-lesani-lab --zone='+reg+' --machine-type=e2-highmem-2 --network-interface=network-tier=PREMIUM,stack-type=IPV4_ONLY,subnet=default --can-ip-forward --maintenance-policy=MIGRATE --provisioning-model=STANDARD --service-account=961693926925-compute@developer.gserviceaccount.com --scopes=https://www.googleapis.com/auth/devstorage.read_only,https://www.googleapis.com/auth/logging.write,https://www.googleapis.com/auth/monitoring.write,https://www.googleapis.com/auth/servicecontrol,https://www.googleapis.com/auth/service.management.readonly,https://www.googleapis.com/auth/trace.append --tags=http-server,https-server --create-disk=auto-delete=yes,boot=yes,device-name=instance-3,image=projects/ubuntu-os-cloud/global/images/ubuntu-2004-focal-v20230831,mode=rw,size=10,type=projects/ucr-ursa-major-lesani-lab/zones/us-west1-b/diskTypes/pd-balanced --no-shielded-secure-boot --shielded-vtpm --shielded-integrity-monitoring --labels=goog-ec-src=vm_add-gcloud --reservation-affinity=any'\n",
    "        \n",
    "#         print(line)\n",
    "#         lines.append(line)\n",
    "#         zones[i] = reg\n",
    "    \n",
    "#     lim = lim + replica_count+int(nclients/n_clusters)\n",
    "        \n",
    "    \n",
    "    \n",
    "    \n",
    "# with open('launch_cloud_instances.sh', 'w') as f:\n",
    "#     for item in lines:\n",
    "#         f.write(str(item) + '\\n')\n",
    "\n",
    "\n",
    "for idx, key in enumerate( node_info_dict['region'].keys()):\n",
    "\n",
    "    line = 'gcloud compute instances create resdb-'+f\"{idx:02}\"+' --project=ucr-ursa-major-lesani-lab --zone='+node_info_dict['region'][key].strip()[1:-1]+' --machine-type=e2-highmem-2 --network-interface=network-tier=PREMIUM,stack-type=IPV4_ONLY,subnet=default --can-ip-forward --maintenance-policy=MIGRATE --provisioning-model=STANDARD --service-account=961693926925-compute@developer.gserviceaccount.com --scopes=https://www.googleapis.com/auth/devstorage.read_only,https://www.googleapis.com/auth/logging.write,https://www.googleapis.com/auth/monitoring.write,https://www.googleapis.com/auth/servicecontrol,https://www.googleapis.com/auth/service.management.readonly,https://www.googleapis.com/auth/trace.append --tags=http-server,https-server --create-disk=auto-delete=yes,boot=yes,device-name=instance-3,image=projects/ubuntu-os-cloud/global/images/ubuntu-2004-focal-v20230831,mode=rw,size=10,type=projects/ucr-ursa-major-lesani-lab/zones/us-west1-b/diskTypes/pd-balanced --no-shielded-secure-boot --shielded-vtpm --shielded-integrity-monitoring --labels=goog-ec-src=vm_add-gcloud --reservation-affinity=any'\n",
    "    lines.append(line)\n",
    "    \n",
    "with open('launch_cloud_instances.sh', 'w') as f:\n",
    "    for item in lines:\n",
    "        f.write(str(item) + '\\n')\n"
   ]
  },
  {
   "cell_type": "code",
   "execution_count": 17,
   "id": "df59c361",
   "metadata": {},
   "outputs": [
    {
     "data": {
      "text/plain": [
       "(16, 'europe-west3-c')"
      ]
     },
     "execution_count": 17,
     "metadata": {},
     "output_type": "execute_result"
    }
   ],
   "source": [
    "len(lines), node_info_dict['region'][key].strip()[1:-1]"
   ]
  },
  {
   "cell_type": "code",
   "execution_count": 18,
   "id": "f4f6da88",
   "metadata": {
    "scrolled": true
   },
   "outputs": [
    {
     "name": "stderr",
     "output_type": "stream",
     "text": [
      "ERROR: (gcloud.compute.instances.create) Could not fetch resource:\n",
      " - The resource 'projects/ucr-ursa-major-lesani-lab/zones/europe-west3-c/instances/resdb-10' already exists\n",
      "\n",
      "ERROR: (gcloud.compute.instances.create) Could not fetch resource:\n",
      " - The resource 'projects/ucr-ursa-major-lesani-lab/zones/europe-west3-c/instances/resdb-03' already exists\n",
      "\n",
      "ERROR: (gcloud.compute.instances.create) Could not fetch resource:\n",
      " - The resource 'projects/ucr-ursa-major-lesani-lab/zones/europe-west3-c/instances/resdb-08' already exists\n",
      "\n",
      "ERROR: (gcloud.compute.instances.create) Could not fetch resource:\n",
      " - The resource 'projects/ucr-ursa-major-lesani-lab/zones/europe-west3-c/instances/resdb-00' already exists\n",
      "\n",
      "ERROR: (gcloud.compute.instances.create) Could not fetch resource:\n",
      " - The resource 'projects/ucr-ursa-major-lesani-lab/zones/europe-west3-c/instances/resdb-09' already exists\n",
      "\n",
      "ERROR: (gcloud.compute.instances.create) Could not fetch resource:\n",
      " - The resource 'projects/ucr-ursa-major-lesani-lab/zones/europe-west3-c/instances/resdb-04' already exists\n",
      "\n",
      "ERROR: (gcloud.compute.instances.create) Could not fetch resource:\n",
      " - The resource 'projects/ucr-ursa-major-lesani-lab/zones/europe-west3-c/instances/resdb-12' already exists\n",
      "\n",
      "ERROR: (gcloud.compute.instances.create) Could not fetch resource:\n",
      " - The resource 'projects/ucr-ursa-major-lesani-lab/zones/europe-west3-c/instances/resdb-15' already exists\n",
      "\n",
      "ERROR: (gcloud.compute.instances.create) Could not fetch resource:\n",
      " - The resource 'projects/ucr-ursa-major-lesani-lab/zones/europe-west3-c/instances/resdb-05' already exists\n",
      "\n",
      "ERROR: (gcloud.compute.instances.create) Could not fetch resource:\n",
      " - The resource 'projects/ucr-ursa-major-lesani-lab/zones/europe-west3-c/instances/resdb-13' already exists\n",
      "\n",
      "ERROR: (gcloud.compute.instances.create) Could not fetch resource:\n",
      " - The resource 'projects/ucr-ursa-major-lesani-lab/zones/europe-west3-c/instances/resdb-06' already exists\n",
      "\n",
      "ERROR: (gcloud.compute.instances.create) Could not fetch resource:\n",
      " - The resource 'projects/ucr-ursa-major-lesani-lab/zones/europe-west3-c/instances/resdb-11' already exists\n",
      "\n",
      "ERROR: (gcloud.compute.instances.create) Could not fetch resource:\n",
      " - The resource 'projects/ucr-ursa-major-lesani-lab/zones/europe-west3-c/instances/resdb-07' already exists\n",
      "\n",
      "ERROR: (gcloud.compute.instances.create) Could not fetch resource:\n",
      " - The resource 'projects/ucr-ursa-major-lesani-lab/zones/europe-west3-c/instances/resdb-14' already exists\n",
      "\n",
      "ERROR: (gcloud.compute.instances.create) Could not fetch resource:\n",
      " - The resource 'projects/ucr-ursa-major-lesani-lab/zones/europe-west3-c/instances/resdb-01' already exists\n",
      "\n",
      "ERROR: (gcloud.compute.instances.create) Could not fetch resource:\n",
      " - The resource 'projects/ucr-ursa-major-lesani-lab/zones/europe-west3-c/instances/resdb-02' already exists\n",
      "\n"
     ]
    }
   ],
   "source": [
    "import subprocess\n",
    "import concurrent.futures\n",
    "\n",
    "def run_command(command):\n",
    "    subprocess.call(command, shell=True)\n",
    "\n",
    "commands = lines\n",
    "\n",
    "# Create a ThreadPoolExecutor or ProcessPoolExecutor, depending on your needs\n",
    "with concurrent.futures.ThreadPoolExecutor(max_workers=len(commands)) as executor:\n",
    "    # Submit each command to the executor for parallel execution\n",
    "    futures = [executor.submit(run_command, command) for command in commands]\n",
    "\n",
    "    # Wait for all tasks to complete\n",
    "    concurrent.futures.wait(futures)\n"
   ]
  },
  {
   "cell_type": "code",
   "execution_count": 19,
   "id": "322bee3b",
   "metadata": {
    "scrolled": true
   },
   "outputs": [],
   "source": [
    "# os.system('sh launch_cloud_instances.sh')"
   ]
  },
  {
   "cell_type": "code",
   "execution_count": 20,
   "id": "e218e451",
   "metadata": {},
   "outputs": [],
   "source": [
    "for folder in os.listdir('.'):\n",
    "    if 'config' in folder and folder!='config' and 'zip' not in folder and '.' not in folder:\n",
    "        shutil.rmtree(folder)"
   ]
  },
  {
   "cell_type": "code",
   "execution_count": 21,
   "id": "89cbee19",
   "metadata": {},
   "outputs": [
    {
     "data": {
      "text/plain": [
       "0"
      ]
     },
     "execution_count": 21,
     "metadata": {},
     "output_type": "execute_result"
    }
   ],
   "source": [
    "# os.system(\"aws --region ap-south-1 ec2 describe-instances --filter Name=instance-type,Values=t2.small --query 'Reservations[*].Instances[*].[PrivateIpAddress]' --output text > all_internal_ips\")\n",
    "\n",
    "# os.system(\"aws --region ap-south-1 ec2 describe-instances  --filter Name=instance-type,Values=t2.small --query 'Reservations[*].Instances[*].[PublicIpAddress]' --output text > all_external_ips\")\n",
    "\n",
    "\n",
    "instance_type = 'e2-small'\n",
    "\n",
    "\n",
    "redirect = '>'\n",
    "\n",
    "os.system('gcloud compute instances list  --format=\"value(networkInterfaces[0].networkIP)\" '+\\\n",
    "          redirect+' all_internal_ips')\n",
    "\n",
    "\n",
    "\n",
    "os.system('gcloud compute instances list --format=\"value(networkInterfaces[0].networkIP)\" '+\\\n",
    "      redirect+' all_external_ips')\n",
    "\n",
    "\n",
    "\n",
    "\n",
    "\n",
    "\n",
    "\n",
    "\n",
    "\n",
    "\n"
   ]
  },
  {
   "cell_type": "code",
   "execution_count": 22,
   "id": "74564122",
   "metadata": {},
   "outputs": [],
   "source": [
    "with open('all_internal_ips') as f:\n",
    "    ipList = f.read().splitlines()\n",
    "ipList = [x for x in ipList if x!='None']"
   ]
  },
  {
   "cell_type": "code",
   "execution_count": null,
   "id": "ceef7e67",
   "metadata": {},
   "outputs": [],
   "source": []
  },
  {
   "cell_type": "code",
   "execution_count": null,
   "id": "9ed54935",
   "metadata": {},
   "outputs": [],
   "source": []
  },
  {
   "cell_type": "code",
   "execution_count": null,
   "id": "bbd1e7e4",
   "metadata": {},
   "outputs": [],
   "source": []
  },
  {
   "cell_type": "code",
   "execution_count": 23,
   "id": "25f62170",
   "metadata": {
    "scrolled": false
   },
   "outputs": [
    {
     "data": {
      "text/plain": [
       "(['10.156.0.65',\n",
       "  '10.156.0.64',\n",
       "  '10.156.0.67',\n",
       "  '10.156.0.66',\n",
       "  '10.156.0.68',\n",
       "  '10.156.0.59',\n",
       "  '10.156.0.62',\n",
       "  '10.156.0.63',\n",
       "  '10.156.0.60',\n",
       "  '10.156.0.61',\n",
       "  '10.156.0.73',\n",
       "  '10.156.0.69',\n",
       "  '10.156.0.71',\n",
       "  '10.156.0.74',\n",
       "  '10.156.0.70',\n",
       "  '10.156.0.72'],\n",
       " 16)"
      ]
     },
     "execution_count": 23,
     "metadata": {},
     "output_type": "execute_result"
    }
   ],
   "source": [
    "ipList, len(ipList)"
   ]
  },
  {
   "cell_type": "code",
   "execution_count": 24,
   "id": "d24ff462",
   "metadata": {},
   "outputs": [],
   "source": [
    "new_server_only_ips= []\n",
    "new_client_only_ips= []\n",
    "\n",
    "\n",
    "\n",
    "for i in range(total_count + nclients):\n",
    "    if node_info_dict['ServerOrClientregion'][i] ==0:\n",
    "        new_server_only_ips = new_server_only_ips + [ipList[i]]\n",
    "    else:\n",
    "        new_client_only_ips = new_client_only_ips + [ipList[i]]\n",
    "        \n",
    "        "
   ]
  },
  {
   "cell_type": "code",
   "execution_count": 25,
   "id": "11c7d8a5",
   "metadata": {},
   "outputs": [],
   "source": [
    "# new_server_only_ips= []\n",
    "# new_client_only_ips= []\n",
    "\n",
    "\n",
    "# current_region_total = 0\n",
    "# for i in range(n_regions):\n",
    "#     print(current_region_total,current_region_total+ clusters_per_region_map[i] *replica_count)\n",
    "#     new_server_only_ips = new_server_only_ips + ipList[current_region_total:current_region_total+ clusters_per_region_map[i] *replica_count]\n",
    "    \n",
    "#     new_client_only_ips = new_client_only_ips + ipList[current_region_total+ clusters_per_region_map[i] *replica_count:\n",
    "#                                                       current_region_total+ clusters_per_region_map[i] *(replica_count+1)]\n",
    "    \n",
    "    \n",
    "#     current_region_total = current_region_total + clusters_per_region_map[i] *replica_count +  clusters_per_region_map[i]\n",
    "    \n",
    "    "
   ]
  },
  {
   "cell_type": "code",
   "execution_count": 26,
   "id": "e485d388",
   "metadata": {},
   "outputs": [
    {
     "data": {
      "text/plain": [
       "(['10.156.0.65',\n",
       "  '10.156.0.64',\n",
       "  '10.156.0.67',\n",
       "  '10.156.0.66',\n",
       "  '10.156.0.60',\n",
       "  '10.156.0.61',\n",
       "  '10.156.0.73',\n",
       "  '10.156.0.69'],\n",
       " 8)"
      ]
     },
     "execution_count": 26,
     "metadata": {},
     "output_type": "execute_result"
    }
   ],
   "source": [
    "new_server_only_ips, len(new_server_only_ips)"
   ]
  },
  {
   "cell_type": "code",
   "execution_count": 27,
   "id": "081f331c",
   "metadata": {},
   "outputs": [
    {
     "data": {
      "text/plain": [
       "(['10.156.0.68',\n",
       "  '10.156.0.59',\n",
       "  '10.156.0.62',\n",
       "  '10.156.0.63',\n",
       "  '10.156.0.71',\n",
       "  '10.156.0.74',\n",
       "  '10.156.0.70',\n",
       "  '10.156.0.72'],\n",
       " 8)"
      ]
     },
     "execution_count": 27,
     "metadata": {},
     "output_type": "execute_result"
    }
   ],
   "source": [
    "new_client_only_ips, len(new_client_only_ips) "
   ]
  },
  {
   "cell_type": "code",
   "execution_count": 28,
   "id": "33347f50",
   "metadata": {},
   "outputs": [],
   "source": [
    "ipList = new_server_only_ips + new_client_only_ips"
   ]
  },
  {
   "cell_type": "code",
   "execution_count": 29,
   "id": "56be6c54",
   "metadata": {},
   "outputs": [
    {
     "data": {
      "text/plain": [
       "(['10.156.0.65',\n",
       "  '10.156.0.64',\n",
       "  '10.156.0.67',\n",
       "  '10.156.0.66',\n",
       "  '10.156.0.60',\n",
       "  '10.156.0.61',\n",
       "  '10.156.0.73',\n",
       "  '10.156.0.69',\n",
       "  '10.156.0.68',\n",
       "  '10.156.0.59',\n",
       "  '10.156.0.62',\n",
       "  '10.156.0.63',\n",
       "  '10.156.0.71',\n",
       "  '10.156.0.74',\n",
       "  '10.156.0.70',\n",
       "  '10.156.0.72'],\n",
       " 16)"
      ]
     },
     "execution_count": 29,
     "metadata": {},
     "output_type": "execute_result"
    }
   ],
   "source": [
    "ipList, len(ipList)"
   ]
  },
  {
   "cell_type": "code",
   "execution_count": 30,
   "id": "03eba159",
   "metadata": {},
   "outputs": [],
   "source": [
    "nclients = 0\n",
    "nservers = 0\n",
    "count = 0\n",
    "\n",
    "clusterIpMap = {}\n",
    "\n",
    "\n",
    "for i in node_info_dict['ServerOrClientregion']:\n",
    "#     print(node_info_dict['ServerOrClientregion'][i])\n",
    "\n",
    "    if node_info_dict['ServerOrClientregion'][i] == 0:\n",
    "        clusterIpMap[nservers] = ipList[count]\n",
    "        nservers = nservers + 1\n",
    "        \n",
    "    count = count + 1\n",
    "    \n",
    "nclients = 0\n",
    "nservers = 0\n",
    "count = 0\n",
    "\n",
    "for i in node_info_dict['ServerOrClientregion']:\n",
    "#     print(node_info_dict['ServerOrClientregion'][i])\n",
    "\n",
    "    if node_info_dict['ServerOrClientregion'][i] == 1:\n",
    "        clusterIpMap[7001+nclients] = ipList[count]\n",
    "        nclients = nclients + 1\n",
    "        \n",
    "    count = count + 1\n",
    "    \n"
   ]
  },
  {
   "cell_type": "code",
   "execution_count": 31,
   "id": "f0963ed7",
   "metadata": {},
   "outputs": [
    {
     "data": {
      "text/plain": [
       "{0: '10.156.0.65',\n",
       " 1: '10.156.0.64',\n",
       " 2: '10.156.0.67',\n",
       " 3: '10.156.0.66',\n",
       " 4: '10.156.0.68',\n",
       " 5: '10.156.0.59',\n",
       " 6: '10.156.0.62',\n",
       " 7: '10.156.0.63',\n",
       " 7001: '10.156.0.60',\n",
       " 7002: '10.156.0.61',\n",
       " 7003: '10.156.0.73',\n",
       " 7004: '10.156.0.69',\n",
       " 7005: '10.156.0.71',\n",
       " 7006: '10.156.0.74',\n",
       " 7007: '10.156.0.70',\n",
       " 7008: '10.156.0.72'}"
      ]
     },
     "execution_count": 31,
     "metadata": {},
     "output_type": "execute_result"
    }
   ],
   "source": [
    "clusterIpMap"
   ]
  },
  {
   "cell_type": "code",
   "execution_count": 32,
   "id": "8f620666",
   "metadata": {},
   "outputs": [],
   "source": [
    "# clusterIpMap = {}\n",
    "\n",
    "# for i in range(len(ipList)):\n",
    "#     clusterIpMap[i] = ipList[i]\n",
    "\n",
    "    \n",
    "# for i in range(nclients):\n",
    "    \n",
    "#     clusterIpMap[7001+i] = ipList[-(nclients-i)]"
   ]
  },
  {
   "cell_type": "code",
   "execution_count": 33,
   "id": "579945bb",
   "metadata": {},
   "outputs": [],
   "source": [
    "clusterPortMap1 = {}\n",
    "clusterPortMap2 = {}\n",
    "\n",
    "for i in range(len(ipList) - nclients):\n",
    "    \n",
    "    clusterPortMap1[i] = str(10000)\n",
    "    \n",
    "for i in range(len(ipList) - nclients):\n",
    "    clusterPortMap2[i] = str(20000)\n",
    "    \n",
    "# clusterPortMap1[7003] = '11400'\n",
    "# clusterPortMap2[7003] = '11410'\n",
    "\n",
    "\n",
    "\n",
    "temp = 11900\n",
    "\n",
    "for i in range(nclients):\n",
    "    \n",
    "    clusterPortMap1[7001+i] = str(10000)\n",
    "    clusterPortMap2[7001+i] = str(20000)"
   ]
  },
  {
   "cell_type": "code",
   "execution_count": 34,
   "id": "d0383f53",
   "metadata": {
    "scrolled": true
   },
   "outputs": [
    {
     "data": {
      "text/plain": [
       "({0: '10000',\n",
       "  1: '10000',\n",
       "  2: '10000',\n",
       "  3: '10000',\n",
       "  4: '10000',\n",
       "  5: '10000',\n",
       "  6: '10000',\n",
       "  7: '10000',\n",
       "  7001: '10000',\n",
       "  7002: '10000',\n",
       "  7003: '10000',\n",
       "  7004: '10000',\n",
       "  7005: '10000',\n",
       "  7006: '10000',\n",
       "  7007: '10000',\n",
       "  7008: '10000'},\n",
       " {0: '20000',\n",
       "  1: '20000',\n",
       "  2: '20000',\n",
       "  3: '20000',\n",
       "  4: '20000',\n",
       "  5: '20000',\n",
       "  6: '20000',\n",
       "  7: '20000',\n",
       "  7001: '20000',\n",
       "  7002: '20000',\n",
       "  7003: '20000',\n",
       "  7004: '20000',\n",
       "  7005: '20000',\n",
       "  7006: '20000',\n",
       "  7007: '20000',\n",
       "  7008: '20000'})"
      ]
     },
     "execution_count": 34,
     "metadata": {},
     "output_type": "execute_result"
    }
   ],
   "source": [
    "clusterPortMap1, clusterPortMap2"
   ]
  },
  {
   "cell_type": "code",
   "execution_count": 35,
   "id": "426b3b38",
   "metadata": {},
   "outputs": [
    {
     "name": "stderr",
     "output_type": "stream",
     "text": [
      "[sudo] password for tejas: "
     ]
    },
    {
     "name": "stdout",
     "output_type": "stream",
     "text": [
      "\n",
      "> Task :compileJava\n",
      "\n",
      "> Task :processResources NO-SOURCE\n",
      "> Task :classes\n",
      "> Task :jar\n",
      "> Task :installDist\n",
      "\n",
      "BUILD SUCCESSFUL in 1s\n",
      "3 actionable tasks: 3 executed\n"
     ]
    },
    {
     "name": "stderr",
     "output_type": "stream",
     "text": [
      "Note: /home/tejas/work/BftSmart_Final/src/main/java/bftsmart/reconfiguration/ViewController.java uses or overrides a deprecated API.\n",
      "Note: Recompile with -Xlint:deprecation for details.\n",
      "Note: Some input files use unchecked or unsafe operations.\n",
      "Note: Recompile with -Xlint:unchecked for details.\n"
     ]
    },
    {
     "data": {
      "text/plain": [
       "0"
      ]
     },
     "execution_count": 35,
     "metadata": {},
     "output_type": "execute_result"
    }
   ],
   "source": [
    "os.system('echo 3108 | sudo -S ./gradlew installDist')"
   ]
  },
  {
   "cell_type": "code",
   "execution_count": 36,
   "id": "86bbd62c",
   "metadata": {},
   "outputs": [
    {
     "data": {
      "text/plain": [
       "0"
      ]
     },
     "execution_count": 36,
     "metadata": {},
     "output_type": "execute_result"
    }
   ],
   "source": [
    "for i in range(total_count):\n",
    "    os.system('./runscripts/smartrun.sh bftsmart.tom.util.RSAKeyPairGenerator '+str(i)+' 1024')\n",
    "\n",
    "    \n",
    "\n",
    "os.system('./runscripts/smartrun.sh bftsmart.tom.util.RSAKeyPairGenerator '+str(7002)+' 1024')\n",
    "os.system('./runscripts/smartrun.sh bftsmart.tom.util.RSAKeyPairGenerator '+str(7001)+' 1024')"
   ]
  },
  {
   "cell_type": "code",
   "execution_count": null,
   "id": "62bd80e8",
   "metadata": {},
   "outputs": [
    {
     "name": "stderr",
     "output_type": "stream",
     "text": [
      "[sudo] password for tejas: "
     ]
    }
   ],
   "source": [
    "os.system('echo 3108 | sudo -S ./gradlew clean')"
   ]
  },
  {
   "cell_type": "code",
   "execution_count": null,
   "id": "49b2f68a",
   "metadata": {},
   "outputs": [],
   "source": [
    "for key in clusterPortMap1.keys():\n",
    "    if key>7002:\n",
    "        print(key)\n",
    "        print()\n",
    "        \n",
    "        for folder in os.listdir('config/'):\n",
    "            if os.path.isdir('config/'+folder) and 'keys' in folder:\n",
    "                if os.path.exists('config/'+folder+'/'+'privatekey7001'):\n",
    "                    shutil.copy('config/'+folder+'/'+'privatekey7001','config/'+folder+'/'+'privatekey'+str(key))\n",
    "                    shutil.copy('config/'+folder+'/'+'publickey7001','config/'+folder+'/'+'publickey'+str(key))\n",
    "                \n",
    "        print('----------')\n",
    "        print()"
   ]
  },
  {
   "cell_type": "code",
   "execution_count": null,
   "id": "8c844662",
   "metadata": {},
   "outputs": [],
   "source": [
    "for i in range(n_clusters):\n",
    "    \n",
    "    if os.path.exists('config'+str(i)):\n",
    "        shutil.rmtree('config'+str(i))\n",
    "    \n",
    "    os.mkdir('config'+str(i))\n",
    "    os.mkdir('config'+str(i)+'/keysRSA')\n",
    "    os.mkdir('config'+str(i)+'/keysSunEC')\n",
    "    os.mkdir('config'+str(i)+'/keysECDSA')\n",
    "    \n",
    "    print('config'+str(i)+'/keysECDSA')\n",
    "    \n",
    "    \n",
    "    shutil.copytree('config/workloads/', 'config'+str(i)+'/workloads')\n",
    "    shutil.copytree('config/keysSSL_TLS/', 'config'+str(i)+'/keysSSL_TLS')\n",
    "    print('config/workloads/', 'config'+str(i)+'/workloads')\n",
    "\n",
    "    \n",
    "    for file in os.listdir('config/keys/'):\n",
    "    \n",
    "        shutil.copy('config/keys/'+file, 'config'+str(i)+'/keysRSA/'+file)\n",
    "        shutil.copy('config/keys/'+file, 'config'+str(i)+'/keysSunEC/'+file)\n",
    "        shutil.copy('config/keys/'+file, 'config'+str(i)+'/keysECDSA/'+file)\n",
    "    \n",
    "    \n",
    "    shutil.copy('config/system.config', 'config'+str(i)+'/system.config')    \n",
    "    shutil.copy('config/logback.xml', 'config'+str(i)+'/logback.xml')\n",
    "    \n",
    "    \n",
    "    \n",
    "    "
   ]
  },
  {
   "cell_type": "code",
   "execution_count": null,
   "id": "a4665ea0",
   "metadata": {},
   "outputs": [],
   "source": [
    "        \n",
    "        for i in range(nclients):\n",
    "            print(str(7001+i)+' '+clusterIpMap[7001+i]+' '+clusterPortMap1[7001+i]+'\\n')"
   ]
  },
  {
   "cell_type": "code",
   "execution_count": null,
   "id": "6dd3b434",
   "metadata": {},
   "outputs": [],
   "source": [
    "clusterIpMap, clusterPortMap1"
   ]
  },
  {
   "cell_type": "code",
   "execution_count": null,
   "id": "b13e8391",
   "metadata": {},
   "outputs": [],
   "source": [
    "def find_key_by_value(dictionary, value):\n",
    "    for key, val in dictionary.items():\n",
    "        if val == value:\n",
    "            return key\n",
    "    # If the value is not found, you might want to handle this case accordingly.\n",
    "    return None\n"
   ]
  },
  {
   "cell_type": "code",
   "execution_count": null,
   "id": "fd635d59",
   "metadata": {},
   "outputs": [],
   "source": [
    "node_info_dict"
   ]
  },
  {
   "cell_type": "code",
   "execution_count": null,
   "id": "732be16b",
   "metadata": {},
   "outputs": [],
   "source": [
    "find_key_by_value(node_info_dict['ServerID'], 4)"
   ]
  },
  {
   "cell_type": "code",
   "execution_count": null,
   "id": "bef8a396",
   "metadata": {},
   "outputs": [],
   "source": [
    "for n_cluster in range(n_clusters):\n",
    "    \n",
    "    with open('config'+str(n_cluster)+'/hosts.config','w') as file:\n",
    "        \n",
    "        for key in clusterIpMap:\n",
    "            if key < 7000:\n",
    "                file.writelines(str(key)+' '+clusterIpMap[key]+' '  +clusterPortMap1[key]+' ' +  clusterPortMap2[key]+' '+str(node_info_dict['cluster_id'][find_key_by_value(node_info_dict['ServerID'], key)] )+'\\n')\n",
    "\n",
    "        for key in clusterIpMap:\n",
    "            if key >= 7000:\n",
    "                file.writelines(str(key)+' '+clusterIpMap[key]+' '+clusterPortMap1[key]+'\\n')\n",
    "\n",
    "        \n",
    "        file.close()\n"
   ]
  },
  {
   "cell_type": "code",
   "execution_count": null,
   "id": "f6db0f1e",
   "metadata": {},
   "outputs": [],
   "source": [
    "# for n_cluster in range(n_clusters):\n",
    "    \n",
    "#     with open('config'+str(n_cluster)+'/hosts.config','w') as file:\n",
    "        \n",
    "#         for n_cluster1 in range(n_clusters):\n",
    "        \n",
    "#             for i_replica in range(replica_count):\n",
    "#     #             file.writelines(str(i_replica)+' '+clusterIpMap[n_cluster*replica_count+i_replica]+' '  +clusterPortMap1[n_cluster*replica_count+i_replica]+' ' +  clusterPortMap2[n_cluster*replica_count+i_replica]+'\\n')\n",
    "#                 file.writelines(str(n_cluster1*replica_count+i_replica)+' '+clusterIpMap[n_cluster1*replica_count+i_replica]+' '  +clusterPortMap1[n_cluster1*replica_count+i_replica]+' ' +  clusterPortMap2[n_cluster1*replica_count+i_replica]+' '+str(n_cluster1)+'\\n')\n",
    "\n",
    "#         for iter_ in range(len(ipList) - (n_clusters*replica_count)-nclients):\n",
    "#             print((n_clusters*replica_count) + iter_)\n",
    "            \n",
    "# #             file.writelines(str((n_clusters*replica_count) + iter_)+' '+clusterIpMap[(n_clusters*replica_count) + iter_]+' '  +clusterPortMap1[(n_clusters*replica_count) + iter_]+' ' +  clusterPortMap2[(n_clusters*replica_count) + iter_]+' '+str(iter_%n_clusters)+'\\n')\n",
    "#             file.writelines(str((n_clusters*replica_count) + iter_)+' '+clusterIpMap[(n_clusters*replica_count) + iter_]+' '  +clusterPortMap1[(n_clusters*replica_count) + iter_]+' ' +  clusterPortMap2[(n_clusters*replica_count) + iter_]+' '+str(0%n_clusters)+'\\n')\n",
    "        \n",
    "#         for i in range(nclients):\n",
    "#             file.writelines(str(7001+i)+' '+clusterIpMap[7001+i]+' '+clusterPortMap1[7001+i]+'\\n')\n",
    "\n",
    "        \n",
    "#         file.close()\n"
   ]
  },
  {
   "cell_type": "code",
   "execution_count": null,
   "id": "b3c8b03d",
   "metadata": {},
   "outputs": [],
   "source": [
    "replica_count"
   ]
  },
  {
   "cell_type": "code",
   "execution_count": null,
   "id": "2b2fd25a",
   "metadata": {},
   "outputs": [],
   "source": [
    "for n_cluster in range(n_clusters):\n",
    "    with open('config'+str(n_cluster)+'/system.config','r') as file:\n",
    "        data = file.readlines()\n",
    "        f = int(np.ceil((replica_count-1)/3))\n",
    "        print('f is',f )\n",
    "        \n",
    "        for n_line in range(len(data)):\n",
    "            if ('system.servers.num' in data[n_line]) and '#' not in data[n_line]:\n",
    "                \n",
    "                data[n_line] = 'system.servers.num = '+str(replica_count)\n",
    "                \n",
    "            if ('system.servers.f' in data[n_line]) and '#' not in data[n_line]:\n",
    "                data[n_line] = 'system.servers.f = '+str(f)\n",
    "                \n",
    "            if ('system.initial.view' in data[n_line]) and '#' not in data[n_line]:\n",
    "                data[n_line] = 'system.initial.view = '\n",
    "                for iter_view in range(replica_count):\n",
    "                    data[n_line] = data[n_line] +str(n_cluster*replica_count+iter_view)+','\n",
    "#                     data[n_line] = data[n_line] +str(n_cluster*replica_count+iter_view)+','\n",
    "                \n",
    "                data[n_line] = data[n_line][:-1]\n",
    "                \n",
    "                \n",
    "        file.close()\n",
    "        \n",
    "    with open('config'+str(n_cluster)+'/system.config', 'w') as f:\n",
    "        for line in data:\n",
    "            f.write(f\"{line}\\n\")\n",
    "        "
   ]
  },
  {
   "cell_type": "code",
   "execution_count": null,
   "id": "60b70c58",
   "metadata": {
    "scrolled": true
   },
   "outputs": [],
   "source": [
    "for n_cluster in range(n_clusters):\n",
    "    for i in range(400):\n",
    "        \n",
    "        for ncls in  range(1):\n",
    "        \n",
    "        \n",
    "            print('config'+str(n_cluster)+'/keysRSA/'+'publickey7002', \\\n",
    "                        'config'+str(n_cluster)+'/keysRSA/'+'publickey'+str(1000+(ncls*100)+i))\n",
    "            shutil.copy('config'+str(n_cluster)+'/keysRSA/'+'publickey7002', \\\n",
    "                        'config'+str(n_cluster)+'/keysRSA/'+'publickey'+str(1000+(ncls*100)+i))\n",
    "            shutil.copy('config'+str(n_cluster)+'/keysRSA/'+'privatekey7002', \\\n",
    "                        'config'+str(n_cluster)+'/keysRSA/'+'privatekey'+str(1000+(ncls*100)+i))\n",
    "        \n",
    "#         shutil.copy('config'+str(n_cluster)+'/keysRSA/'+'publickey7002', \\\n",
    "#                     'config'+str(n_cluster)+'/keysRSA/'+'publickey7002')\n",
    "        \n",
    "#         shutil.copy('config'+str(n_cluster)+'/keysRSA/'+'privatekey7002', \\\n",
    "#                     'config'+str(n_cluster)+'/keysRSA/'+'privatekey7002')"
   ]
  },
  {
   "cell_type": "code",
   "execution_count": null,
   "id": "b36cca3d",
   "metadata": {},
   "outputs": [],
   "source": [
    "# os.system('git remote set-url origin https://github.com/tmane002/BftSmart_Final.git')"
   ]
  },
  {
   "cell_type": "code",
   "execution_count": null,
   "id": "c6e7ede1",
   "metadata": {
    "scrolled": true
   },
   "outputs": [],
   "source": [
    "import os\n",
    "os.system('git add .; git commit -m \"Working with modified ClusterInfo\";git push')"
   ]
  },
  {
   "cell_type": "code",
   "execution_count": null,
   "id": "bee7377b",
   "metadata": {},
   "outputs": [],
   "source": [
    "# 'gcloud compute instances create instance-1 --project=cellular-hybrid-358402 --zone=us-central1-a --machine-type=e2-medium --network-interface=network-tier=PREMIUM,subnet=default --no-restart-on-failure --maintenance-policy=TERMINATE --provisioning-model=SPOT --instance-termination-action=STOP --service-account=932709639592-compute@developer.gserviceaccount.com --scopes=https://www.googleapis.com/auth/devstorage.read_only,https://www.googleapis.com/auth/logging.write,https://www.googleapis.com/auth/monitoring.write,https://www.googleapis.com/auth/servicecontrol,https://www.googleapis.com/auth/service.management.readonly,https://www.googleapis.com/auth/trace.append --tags=http-server,https-server --create-disk=auto-delete=yes,boot=yes,device-name=instance-1,image=projects/ubuntu-os-cloud/global/images/ubuntu-2204-jammy-v20220810,mode=rw,size=10,type=projects/cellular-hybrid-358402/zones/us-central1-a/diskTypes/pd-balanced --no-shielded-secure-boot --shielded-vtpm --shielded-integrity-monitoring --reservation-affinity=any'"
   ]
  },
  {
   "cell_type": "code",
   "execution_count": null,
   "id": "3086d997",
   "metadata": {},
   "outputs": [],
   "source": [
    "# gcloud compute instances create instance-1 --project=cellular-hybrid-358402 --zone=us-west1-b --machine-type=e2-medium --network-interface=network-tier=PREMIUM,subnet=default --no-restart-on-failure --maintenance-policy=TERMINATE --provisioning-model=SPOT --instance-termination-action=STOP --service-account=932709639592-compute@developer.gserviceaccount.com --scopes=https://www.googleapis.com/auth/devstorage.read_only,https://www.googleapis.com/auth/logging.write,https://www.googleapis.com/auth/monitoring.write,https://www.googleapis.com/auth/servicecontrol,https://www.googleapis.com/auth/service.management.readonly,https://www.googleapis.com/auth/trace.append --tags=http-server,https-server --create-disk=auto-delete=yes,boot=yes,device-name=instance-1,image=projects/ubuntu-os-cloud/global/images/ubuntu-2204-jammy-v20220810,mode=rw,size=10,type=projects/cellular-hybrid-358402/zones/us-central1-a/diskTypes/pd-balanced --no-shielded-secure-boot --shielded-vtpm --shielded-integrity-monitoring --reservation-affinity=any"
   ]
  },
  {
   "cell_type": "code",
   "execution_count": null,
   "id": "76c5f26a",
   "metadata": {},
   "outputs": [],
   "source": []
  },
  {
   "cell_type": "code",
   "execution_count": null,
   "id": "5937775e",
   "metadata": {},
   "outputs": [],
   "source": []
  },
  {
   "cell_type": "code",
   "execution_count": null,
   "id": "19044549",
   "metadata": {},
   "outputs": [],
   "source": []
  },
  {
   "cell_type": "code",
   "execution_count": null,
   "id": "b6ff7684",
   "metadata": {},
   "outputs": [],
   "source": []
  },
  {
   "cell_type": "code",
   "execution_count": null,
   "id": "98436d37",
   "metadata": {},
   "outputs": [],
   "source": []
  },
  {
   "cell_type": "code",
   "execution_count": null,
   "id": "7018f68a",
   "metadata": {},
   "outputs": [],
   "source": []
  },
  {
   "cell_type": "code",
   "execution_count": null,
   "id": "fc6cd0aa",
   "metadata": {},
   "outputs": [],
   "source": []
  },
  {
   "cell_type": "code",
   "execution_count": null,
   "id": "f5bb9d2e",
   "metadata": {},
   "outputs": [],
   "source": []
  },
  {
   "cell_type": "code",
   "execution_count": null,
   "id": "a69ee3b6",
   "metadata": {},
   "outputs": [],
   "source": []
  },
  {
   "cell_type": "code",
   "execution_count": null,
   "id": "6d5f94f8",
   "metadata": {},
   "outputs": [],
   "source": []
  },
  {
   "cell_type": "code",
   "execution_count": null,
   "id": "bb8cd7b8",
   "metadata": {},
   "outputs": [],
   "source": []
  },
  {
   "cell_type": "code",
   "execution_count": null,
   "id": "6502fe51",
   "metadata": {},
   "outputs": [],
   "source": []
  },
  {
   "cell_type": "code",
   "execution_count": null,
   "id": "757e34b3",
   "metadata": {},
   "outputs": [],
   "source": []
  },
  {
   "cell_type": "code",
   "execution_count": null,
   "id": "8c7bb6a9",
   "metadata": {},
   "outputs": [],
   "source": []
  },
  {
   "cell_type": "code",
   "execution_count": null,
   "id": "c66b128b",
   "metadata": {},
   "outputs": [],
   "source": []
  },
  {
   "cell_type": "code",
   "execution_count": null,
   "id": "29b98a23",
   "metadata": {},
   "outputs": [],
   "source": []
  },
  {
   "cell_type": "code",
   "execution_count": null,
   "id": "808f5fe0",
   "metadata": {},
   "outputs": [],
   "source": []
  },
  {
   "cell_type": "code",
   "execution_count": null,
   "id": "ef9455b9",
   "metadata": {},
   "outputs": [],
   "source": []
  },
  {
   "cell_type": "code",
   "execution_count": null,
   "id": "1bf72e34",
   "metadata": {},
   "outputs": [],
   "source": []
  },
  {
   "cell_type": "code",
   "execution_count": null,
   "id": "648ac99d",
   "metadata": {},
   "outputs": [],
   "source": []
  },
  {
   "cell_type": "code",
   "execution_count": null,
   "id": "f96eb8fc",
   "metadata": {},
   "outputs": [],
   "source": []
  },
  {
   "cell_type": "code",
   "execution_count": null,
   "id": "3d37b775",
   "metadata": {},
   "outputs": [],
   "source": []
  },
  {
   "cell_type": "code",
   "execution_count": null,
   "id": "edd8f759",
   "metadata": {},
   "outputs": [],
   "source": []
  },
  {
   "cell_type": "code",
   "execution_count": null,
   "id": "64841a87",
   "metadata": {},
   "outputs": [],
   "source": []
  },
  {
   "cell_type": "code",
   "execution_count": null,
   "id": "1e89a678",
   "metadata": {},
   "outputs": [],
   "source": []
  },
  {
   "cell_type": "code",
   "execution_count": null,
   "id": "99bea210",
   "metadata": {},
   "outputs": [],
   "source": []
  },
  {
   "cell_type": "code",
   "execution_count": null,
   "id": "36584900",
   "metadata": {},
   "outputs": [],
   "source": []
  },
  {
   "cell_type": "code",
   "execution_count": null,
   "id": "98aed0ea",
   "metadata": {},
   "outputs": [],
   "source": []
  },
  {
   "cell_type": "code",
   "execution_count": null,
   "id": "f73a2567",
   "metadata": {},
   "outputs": [],
   "source": []
  },
  {
   "cell_type": "code",
   "execution_count": null,
   "id": "3fffa38b",
   "metadata": {},
   "outputs": [],
   "source": []
  },
  {
   "cell_type": "code",
   "execution_count": null,
   "id": "dfa9d870",
   "metadata": {},
   "outputs": [],
   "source": []
  },
  {
   "cell_type": "code",
   "execution_count": null,
   "id": "9bf2cdd5",
   "metadata": {},
   "outputs": [],
   "source": []
  },
  {
   "cell_type": "code",
   "execution_count": null,
   "id": "31427a4b",
   "metadata": {},
   "outputs": [],
   "source": []
  },
  {
   "cell_type": "code",
   "execution_count": null,
   "id": "6e7b1843",
   "metadata": {},
   "outputs": [],
   "source": []
  },
  {
   "cell_type": "code",
   "execution_count": null,
   "id": "951bd431",
   "metadata": {},
   "outputs": [],
   "source": []
  },
  {
   "cell_type": "code",
   "execution_count": null,
   "id": "00f5ea8f",
   "metadata": {},
   "outputs": [],
   "source": []
  }
 ],
 "metadata": {
  "kernelspec": {
   "display_name": "Python 3 (ipykernel)",
   "language": "python",
   "name": "python3"
  },
  "language_info": {
   "codemirror_mode": {
    "name": "ipython",
    "version": 3
   },
   "file_extension": ".py",
   "mimetype": "text/x-python",
   "name": "python",
   "nbconvert_exporter": "python",
   "pygments_lexer": "ipython3",
   "version": "3.11.5"
  }
 },
 "nbformat": 4,
 "nbformat_minor": 5
}

{
 "cells": [
  {
   "cell_type": "code",
   "execution_count": 1,
   "id": "8b204abf",
   "metadata": {},
   "outputs": [],
   "source": [
    "with open('/home/tejas/Downloads/all_external_ips') as f:\n",
    "    lines = f.read().splitlines()\n",
    "\n",
    "\n"
   ]
  },
  {
   "cell_type": "code",
   "execution_count": 2,
   "id": "f77991f7",
   "metadata": {},
   "outputs": [
    {
     "data": {
      "text/plain": [
       "['100.26.132.126',\n",
       " '100.25.10.190',\n",
       " '100.26.53.201',\n",
       " '100.26.226.48',\n",
       " '100.25.10.140',\n",
       " '100.25.102.182',\n",
       " '52.91.145.170',\n",
       " '34.232.70.18',\n",
       " '54.87.238.105',\n",
       " '52.91.148.21',\n",
       " '34.204.76.240',\n",
       " '54.198.50.125',\n",
       " '52.87.220.10',\n",
       " '100.26.211.228',\n",
       " '54.146.72.50',\n",
       " '52.91.121.218',\n",
       " '54.146.57.243',\n",
       " '52.3.249.9',\n",
       " '34.229.255.129',\n",
       " '34.207.190.59',\n",
       " '3.83.238.193',\n",
       " '54.204.9.42',\n",
       " '100.26.132.134',\n",
       " '34.207.61.71',\n",
       " '54.165.42.129',\n",
       " '54.162.231.211',\n",
       " '35.175.63.3',\n",
       " '54.87.206.194',\n",
       " '54.157.156.184',\n",
       " '54.144.20.37',\n",
       " '54.209.94.191',\n",
       " '100.26.10.216',\n",
       " 'None',\n",
       " 'None',\n",
       " 'None',\n",
       " 'None',\n",
       " 'None',\n",
       " 'None',\n",
       " 'None',\n",
       " 'None',\n",
       " 'None',\n",
       " 'None']"
      ]
     },
     "execution_count": 2,
     "metadata": {},
     "output_type": "execute_result"
    }
   ],
   "source": [
    "lines"
   ]
  },
  {
   "cell_type": "code",
   "execution_count": 3,
   "id": "bf745093",
   "metadata": {},
   "outputs": [
    {
     "name": "stdout",
     "output_type": "stream",
     "text": [
      "ssh -i \"MyAwsKey.pem\" ubuntu@ec2-100-26-132-126.compute-1.amazonaws.com\n",
      "ssh -i \"MyAwsKey.pem\" ubuntu@ec2-100-25-10-190.compute-1.amazonaws.com\n",
      "ssh -i \"MyAwsKey.pem\" ubuntu@ec2-100-26-53-201.compute-1.amazonaws.com\n",
      "ssh -i \"MyAwsKey.pem\" ubuntu@ec2-100-26-226-48.compute-1.amazonaws.com\n",
      "ssh -i \"MyAwsKey.pem\" ubuntu@ec2-100-25-10-140.compute-1.amazonaws.com\n",
      "ssh -i \"MyAwsKey.pem\" ubuntu@ec2-100-25-102-182.compute-1.amazonaws.com\n",
      "ssh -i \"MyAwsKey.pem\" ubuntu@ec2-52-91-145-170.compute-1.amazonaws.com\n",
      "ssh -i \"MyAwsKey.pem\" ubuntu@ec2-34-232-70-18.compute-1.amazonaws.com\n",
      "ssh -i \"MyAwsKey.pem\" ubuntu@ec2-54-87-238-105.compute-1.amazonaws.com\n",
      "ssh -i \"MyAwsKey.pem\" ubuntu@ec2-52-91-148-21.compute-1.amazonaws.com\n",
      "ssh -i \"MyAwsKey.pem\" ubuntu@ec2-34-204-76-240.compute-1.amazonaws.com\n",
      "ssh -i \"MyAwsKey.pem\" ubuntu@ec2-54-198-50-125.compute-1.amazonaws.com\n",
      "ssh -i \"MyAwsKey.pem\" ubuntu@ec2-52-87-220-10.compute-1.amazonaws.com\n",
      "ssh -i \"MyAwsKey.pem\" ubuntu@ec2-100-26-211-228.compute-1.amazonaws.com\n",
      "ssh -i \"MyAwsKey.pem\" ubuntu@ec2-54-146-72-50.compute-1.amazonaws.com\n",
      "ssh -i \"MyAwsKey.pem\" ubuntu@ec2-52-91-121-218.compute-1.amazonaws.com\n",
      "ssh -i \"MyAwsKey.pem\" ubuntu@ec2-54-146-57-243.compute-1.amazonaws.com\n",
      "ssh -i \"MyAwsKey.pem\" ubuntu@ec2-52-3-249-9.compute-1.amazonaws.com\n",
      "ssh -i \"MyAwsKey.pem\" ubuntu@ec2-34-229-255-129.compute-1.amazonaws.com\n",
      "ssh -i \"MyAwsKey.pem\" ubuntu@ec2-34-207-190-59.compute-1.amazonaws.com\n",
      "ssh -i \"MyAwsKey.pem\" ubuntu@ec2-3-83-238-193.compute-1.amazonaws.com\n",
      "ssh -i \"MyAwsKey.pem\" ubuntu@ec2-54-204-9-42.compute-1.amazonaws.com\n",
      "ssh -i \"MyAwsKey.pem\" ubuntu@ec2-100-26-132-134.compute-1.amazonaws.com\n",
      "ssh -i \"MyAwsKey.pem\" ubuntu@ec2-34-207-61-71.compute-1.amazonaws.com\n",
      "ssh -i \"MyAwsKey.pem\" ubuntu@ec2-54-165-42-129.compute-1.amazonaws.com\n",
      "ssh -i \"MyAwsKey.pem\" ubuntu@ec2-54-162-231-211.compute-1.amazonaws.com\n",
      "ssh -i \"MyAwsKey.pem\" ubuntu@ec2-35-175-63-3.compute-1.amazonaws.com\n",
      "ssh -i \"MyAwsKey.pem\" ubuntu@ec2-54-87-206-194.compute-1.amazonaws.com\n",
      "ssh -i \"MyAwsKey.pem\" ubuntu@ec2-54-157-156-184.compute-1.amazonaws.com\n",
      "ssh -i \"MyAwsKey.pem\" ubuntu@ec2-54-144-20-37.compute-1.amazonaws.com\n",
      "ssh -i \"MyAwsKey.pem\" ubuntu@ec2-54-209-94-191.compute-1.amazonaws.com\n",
      "ssh -i \"MyAwsKey.pem\" ubuntu@ec2-100-26-10-216.compute-1.amazonaws.com\n"
     ]
    }
   ],
   "source": [
    "\n",
    "\n",
    "for ip in lines:\n",
    "    if ip!='None':\n",
    "        current = (ip.split('.'))\n",
    "\n",
    "        print('ssh -i \"MyAwsKey.pem\" ubuntu@ec2-'+str(current[0])+'-'\\\n",
    "              +str(current[1])+'-'+str(current[2])+'-'+str(current[3])+'.compute-1.amazonaws.com')"
   ]
  },
  {
   "cell_type": "code",
   "execution_count": null,
   "id": "17c59855",
   "metadata": {},
   "outputs": [],
   "source": []
  }
 ],
 "metadata": {
  "kernelspec": {
   "display_name": "Python 3 (ipykernel)",
   "language": "python",
   "name": "python3"
  },
  "language_info": {
   "codemirror_mode": {
    "name": "ipython",
    "version": 3
   },
   "file_extension": ".py",
   "mimetype": "text/x-python",
   "name": "python",
   "nbconvert_exporter": "python",
   "pygments_lexer": "ipython3",
   "version": "3.9.12"
  }
 },
 "nbformat": 4,
 "nbformat_minor": 5
}

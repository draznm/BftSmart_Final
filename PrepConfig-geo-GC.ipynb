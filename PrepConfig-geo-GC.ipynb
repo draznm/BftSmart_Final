{
 "cells": [
  {
   "cell_type": "code",
   "execution_count": 1,
   "id": "9f678c04",
   "metadata": {},
   "outputs": [],
   "source": [
    "import numpy as np\n",
    "import os\n",
    "import shutil\n",
    "import subprocess\n",
    "import pandas as pd\n"
   ]
  },
  {
   "cell_type": "code",
   "execution_count": 2,
   "id": "0571f81b",
   "metadata": {},
   "outputs": [
    {
     "name": "stdout",
     "output_type": "stream",
     "text": [
      "Overwriting node_info.csv\n"
     ]
    }
   ],
   "source": [
    "%%file node_info.csv\n",
    "node_id,region,ServerOrClientregion,cluster_id,key_file,clientID,ServerID, PublicIp\n",
    "0, 'us-west1-b', 0, 0, 'FKA.pem', -1, 0,\n",
    "1, 'us-west1-b', 0, 0, 'FKA.pem', -1, 1,\n",
    "2, 'us-west1-b', 0, 0, 'FKA.pem', -1, 2,\n",
    "3, 'us-west1-b', 0, 0, 'FKA.pem', -1, 3,\n",
    "4, 'us-west1-b', 0, 0, 'FKA.pem', -1, 4,\n",
    "5, 'us-west1-b', 0, 0, 'FKA.pem', -1, 5,\n",
    "6, 'us-west1-b', 0, 0, 'FKA.pem', -1, 6,\n",
    "7, 'us-west1-b', 0, 0, 'FKA.pem', -1, 7,\n",
    "8, 'us-west1-b', 0, 1, 'FKA.pem', -1, 8,\n",
    "9, 'us-west1-b', 0, 1, 'FKA.pem', -1, 9,\n",
    "10, 'us-west1-b', 0, 1, 'FKA.pem', -1, 10,\n",
    "11, 'us-west1-b', 0, 1, 'FKA.pem', -1, 11,\n",
    "12, 'us-west1-b', 0, 1, 'FKA.pem', -1, 12,\n",
    "13, 'us-west1-b', 0, 1, 'FKA.pem', -1, 13,\n",
    "14, 'us-west1-b', 0, 1, 'FKA.pem', -1, 14,\n",
    "15, 'us-west1-b', 0, 1, 'FKA.pem', -1, 15,\n",
    "16, 'us-west1-b', 1, -1, 'FKA.pem', 0, -1,\n",
    "17, 'us-west1-b', 1, -1, 'FKA.pem', 1, -1,\n",
    "18, 'us-west1-b', 0, 2, 'FKE.pem', -1, 16,\n",
    "19, 'us-west1-b', 0, 2, 'FKE.pem', -1, 17,\n",
    "20, 'us-west1-b', 0, 2, 'FKE.pem', -1, 18,\n",
    "21, 'us-west1-b', 0, 2, 'FKE.pem', -1, 19,\n",
    "22, 'us-west1-b', 0, 2, 'FKE.pem', -1, 20,\n",
    "23, 'us-west1-b', 0, 2, 'FKE.pem', -1, 21,\n",
    "24, 'us-west1-b', 0, 2, 'FKE.pem', -1, 22,\n",
    "25, 'us-west1-b', 0, 2, 'FKE.pem', -1, 23,\n",
    "26, 'us-west1-b', 0, 3, 'FKE.pem', -1, 24,\n",
    "27, 'us-west1-b', 0, 3, 'FKE.pem', -1, 25,\n",
    "28, 'us-west1-b', 0, 3, 'FKE.pem', -1, 26,\n",
    "29, 'us-west1-b', 0, 3, 'FKE.pem', -1, 27,\n",
    "30, 'us-west1-b', 0, 3, 'FKE.pem', -1, 28,\n",
    "31, 'us-west1-b', 0, 3, 'FKE.pem', -1, 29,\n",
    "32, 'us-west1-b', 0, 3, 'FKE.pem', -1, 30,\n",
    "33, 'us-west1-b', 0, 3, 'FKE.pem', -1, 31,\n",
    "34, 'us-west1-b', 1, -1, 'FKE.pem', 2, -1,\n",
    "35, 'us-west1-b', 1, -1, 'FKE.pem', 3, -1,\n",
    "36, 'us-west1-b', 0, 4, 'FKU2.pem', -1, 32,\n",
    "37, 'us-west1-b', 0, 4, 'FKU2.pem', -1, 33,\n",
    "38, 'us-west1-b', 0, 4, 'FKU2.pem', -1, 34,\n",
    "39, 'us-west1-b', 0, 4, 'FKU2.pem', -1, 35,\n",
    "40, 'us-west1-b', 0, 4, 'FKU2.pem', -1, 36,\n",
    "41, 'us-west1-b', 0, 4, 'FKU2.pem', -1, 37,\n",
    "42, 'us-west1-b', 0, 4, 'FKU2.pem', -1, 38,\n",
    "43, 'us-west1-b', 0, 4, 'FKU2.pem', -1, 39,\n",
    "44, 'us-west1-b', 0, 5, 'FKU2.pem', -1, 40,\n",
    "45, 'us-west1-b', 0, 5, 'FKU2.pem', -1, 41,\n",
    "46, 'us-west1-b', 0, 5, 'FKU2.pem', -1, 42,\n",
    "47, 'us-west1-b', 0, 5, 'FKU2.pem', -1, 43,\n",
    "48, 'us-west1-b', 0, 5, 'FKU2.pem', -1, 44,\n",
    "49, 'us-west1-b', 0, 5, 'FKU2.pem', -1, 45,\n",
    "50, 'us-west1-b', 0, 5, 'FKU2.pem', -1, 46,\n",
    "51, 'us-west1-b', 0, 5, 'FKU2.pem', -1, 47,\n",
    "52, 'us-west1-b', 1, -1, 'FKU2.pem', 4, -1,\n",
    "53, 'us-west1-b', 1, -1, 'FKU2.pem', 5, -1,"
   ]
  },
  {
   "cell_type": "code",
   "execution_count": 3,
   "id": "c4f6ba29",
   "metadata": {},
   "outputs": [
    {
     "data": {
      "text/plain": [
       "{'node_id': {0: 0,\n",
       "  1: 1,\n",
       "  2: 2,\n",
       "  3: 3,\n",
       "  4: 4,\n",
       "  5: 5,\n",
       "  6: 6,\n",
       "  7: 7,\n",
       "  8: 8,\n",
       "  9: 9,\n",
       "  10: 10,\n",
       "  11: 11,\n",
       "  12: 12,\n",
       "  13: 13,\n",
       "  14: 14,\n",
       "  15: 15,\n",
       "  16: 16,\n",
       "  17: 17,\n",
       "  18: 18,\n",
       "  19: 19,\n",
       "  20: 20,\n",
       "  21: 21,\n",
       "  22: 22,\n",
       "  23: 23,\n",
       "  24: 24,\n",
       "  25: 25,\n",
       "  26: 26,\n",
       "  27: 27,\n",
       "  28: 28,\n",
       "  29: 29,\n",
       "  30: 30,\n",
       "  31: 31,\n",
       "  32: 32,\n",
       "  33: 33,\n",
       "  34: 34,\n",
       "  35: 35,\n",
       "  36: 36,\n",
       "  37: 37,\n",
       "  38: 38,\n",
       "  39: 39,\n",
       "  40: 40,\n",
       "  41: 41,\n",
       "  42: 42,\n",
       "  43: 43,\n",
       "  44: 44,\n",
       "  45: 45,\n",
       "  46: 46,\n",
       "  47: 47,\n",
       "  48: 48,\n",
       "  49: 49,\n",
       "  50: 50,\n",
       "  51: 51,\n",
       "  52: 52,\n",
       "  53: 53},\n",
       " 'region': {0: \" 'us-west1-b'\",\n",
       "  1: \" 'us-west1-b'\",\n",
       "  2: \" 'us-west1-b'\",\n",
       "  3: \" 'us-west1-b'\",\n",
       "  4: \" 'us-west1-b'\",\n",
       "  5: \" 'us-west1-b'\",\n",
       "  6: \" 'us-west1-b'\",\n",
       "  7: \" 'us-west1-b'\",\n",
       "  8: \" 'us-west1-b'\",\n",
       "  9: \" 'us-west1-b'\",\n",
       "  10: \" 'us-west1-b'\",\n",
       "  11: \" 'us-west1-b'\",\n",
       "  12: \" 'us-west1-b'\",\n",
       "  13: \" 'us-west1-b'\",\n",
       "  14: \" 'us-west1-b'\",\n",
       "  15: \" 'us-west1-b'\",\n",
       "  16: \" 'us-west1-b'\",\n",
       "  17: \" 'us-west1-b'\",\n",
       "  18: \" 'us-west1-b'\",\n",
       "  19: \" 'us-west1-b'\",\n",
       "  20: \" 'us-west1-b'\",\n",
       "  21: \" 'us-west1-b'\",\n",
       "  22: \" 'us-west1-b'\",\n",
       "  23: \" 'us-west1-b'\",\n",
       "  24: \" 'us-west1-b'\",\n",
       "  25: \" 'us-west1-b'\",\n",
       "  26: \" 'us-west1-b'\",\n",
       "  27: \" 'us-west1-b'\",\n",
       "  28: \" 'us-west1-b'\",\n",
       "  29: \" 'us-west1-b'\",\n",
       "  30: \" 'us-west1-b'\",\n",
       "  31: \" 'us-west1-b'\",\n",
       "  32: \" 'us-west1-b'\",\n",
       "  33: \" 'us-west1-b'\",\n",
       "  34: \" 'us-west1-b'\",\n",
       "  35: \" 'us-west1-b'\",\n",
       "  36: \" 'us-west1-b'\",\n",
       "  37: \" 'us-west1-b'\",\n",
       "  38: \" 'us-west1-b'\",\n",
       "  39: \" 'us-west1-b'\",\n",
       "  40: \" 'us-west1-b'\",\n",
       "  41: \" 'us-west1-b'\",\n",
       "  42: \" 'us-west1-b'\",\n",
       "  43: \" 'us-west1-b'\",\n",
       "  44: \" 'us-west1-b'\",\n",
       "  45: \" 'us-west1-b'\",\n",
       "  46: \" 'us-west1-b'\",\n",
       "  47: \" 'us-west1-b'\",\n",
       "  48: \" 'us-west1-b'\",\n",
       "  49: \" 'us-west1-b'\",\n",
       "  50: \" 'us-west1-b'\",\n",
       "  51: \" 'us-west1-b'\",\n",
       "  52: \" 'us-west1-b'\",\n",
       "  53: \" 'us-west1-b'\"},\n",
       " 'ServerOrClientregion': {0: 0,\n",
       "  1: 0,\n",
       "  2: 0,\n",
       "  3: 0,\n",
       "  4: 0,\n",
       "  5: 0,\n",
       "  6: 0,\n",
       "  7: 0,\n",
       "  8: 0,\n",
       "  9: 0,\n",
       "  10: 0,\n",
       "  11: 0,\n",
       "  12: 0,\n",
       "  13: 0,\n",
       "  14: 0,\n",
       "  15: 0,\n",
       "  16: 1,\n",
       "  17: 1,\n",
       "  18: 0,\n",
       "  19: 0,\n",
       "  20: 0,\n",
       "  21: 0,\n",
       "  22: 0,\n",
       "  23: 0,\n",
       "  24: 0,\n",
       "  25: 0,\n",
       "  26: 0,\n",
       "  27: 0,\n",
       "  28: 0,\n",
       "  29: 0,\n",
       "  30: 0,\n",
       "  31: 0,\n",
       "  32: 0,\n",
       "  33: 0,\n",
       "  34: 1,\n",
       "  35: 1,\n",
       "  36: 0,\n",
       "  37: 0,\n",
       "  38: 0,\n",
       "  39: 0,\n",
       "  40: 0,\n",
       "  41: 0,\n",
       "  42: 0,\n",
       "  43: 0,\n",
       "  44: 0,\n",
       "  45: 0,\n",
       "  46: 0,\n",
       "  47: 0,\n",
       "  48: 0,\n",
       "  49: 0,\n",
       "  50: 0,\n",
       "  51: 0,\n",
       "  52: 1,\n",
       "  53: 1},\n",
       " 'cluster_id': {0: 0,\n",
       "  1: 0,\n",
       "  2: 0,\n",
       "  3: 0,\n",
       "  4: 0,\n",
       "  5: 0,\n",
       "  6: 0,\n",
       "  7: 0,\n",
       "  8: 1,\n",
       "  9: 1,\n",
       "  10: 1,\n",
       "  11: 1,\n",
       "  12: 1,\n",
       "  13: 1,\n",
       "  14: 1,\n",
       "  15: 1,\n",
       "  16: -1,\n",
       "  17: -1,\n",
       "  18: 2,\n",
       "  19: 2,\n",
       "  20: 2,\n",
       "  21: 2,\n",
       "  22: 2,\n",
       "  23: 2,\n",
       "  24: 2,\n",
       "  25: 2,\n",
       "  26: 3,\n",
       "  27: 3,\n",
       "  28: 3,\n",
       "  29: 3,\n",
       "  30: 3,\n",
       "  31: 3,\n",
       "  32: 3,\n",
       "  33: 3,\n",
       "  34: -1,\n",
       "  35: -1,\n",
       "  36: 4,\n",
       "  37: 4,\n",
       "  38: 4,\n",
       "  39: 4,\n",
       "  40: 4,\n",
       "  41: 4,\n",
       "  42: 4,\n",
       "  43: 4,\n",
       "  44: 5,\n",
       "  45: 5,\n",
       "  46: 5,\n",
       "  47: 5,\n",
       "  48: 5,\n",
       "  49: 5,\n",
       "  50: 5,\n",
       "  51: 5,\n",
       "  52: -1,\n",
       "  53: -1},\n",
       " 'key_file': {0: \" 'FKA.pem'\",\n",
       "  1: \" 'FKA.pem'\",\n",
       "  2: \" 'FKA.pem'\",\n",
       "  3: \" 'FKA.pem'\",\n",
       "  4: \" 'FKA.pem'\",\n",
       "  5: \" 'FKA.pem'\",\n",
       "  6: \" 'FKA.pem'\",\n",
       "  7: \" 'FKA.pem'\",\n",
       "  8: \" 'FKA.pem'\",\n",
       "  9: \" 'FKA.pem'\",\n",
       "  10: \" 'FKA.pem'\",\n",
       "  11: \" 'FKA.pem'\",\n",
       "  12: \" 'FKA.pem'\",\n",
       "  13: \" 'FKA.pem'\",\n",
       "  14: \" 'FKA.pem'\",\n",
       "  15: \" 'FKA.pem'\",\n",
       "  16: \" 'FKA.pem'\",\n",
       "  17: \" 'FKA.pem'\",\n",
       "  18: \" 'FKE.pem'\",\n",
       "  19: \" 'FKE.pem'\",\n",
       "  20: \" 'FKE.pem'\",\n",
       "  21: \" 'FKE.pem'\",\n",
       "  22: \" 'FKE.pem'\",\n",
       "  23: \" 'FKE.pem'\",\n",
       "  24: \" 'FKE.pem'\",\n",
       "  25: \" 'FKE.pem'\",\n",
       "  26: \" 'FKE.pem'\",\n",
       "  27: \" 'FKE.pem'\",\n",
       "  28: \" 'FKE.pem'\",\n",
       "  29: \" 'FKE.pem'\",\n",
       "  30: \" 'FKE.pem'\",\n",
       "  31: \" 'FKE.pem'\",\n",
       "  32: \" 'FKE.pem'\",\n",
       "  33: \" 'FKE.pem'\",\n",
       "  34: \" 'FKE.pem'\",\n",
       "  35: \" 'FKE.pem'\",\n",
       "  36: \" 'FKU2.pem'\",\n",
       "  37: \" 'FKU2.pem'\",\n",
       "  38: \" 'FKU2.pem'\",\n",
       "  39: \" 'FKU2.pem'\",\n",
       "  40: \" 'FKU2.pem'\",\n",
       "  41: \" 'FKU2.pem'\",\n",
       "  42: \" 'FKU2.pem'\",\n",
       "  43: \" 'FKU2.pem'\",\n",
       "  44: \" 'FKU2.pem'\",\n",
       "  45: \" 'FKU2.pem'\",\n",
       "  46: \" 'FKU2.pem'\",\n",
       "  47: \" 'FKU2.pem'\",\n",
       "  48: \" 'FKU2.pem'\",\n",
       "  49: \" 'FKU2.pem'\",\n",
       "  50: \" 'FKU2.pem'\",\n",
       "  51: \" 'FKU2.pem'\",\n",
       "  52: \" 'FKU2.pem'\",\n",
       "  53: \" 'FKU2.pem'\"},\n",
       " 'clientID': {0: -1,\n",
       "  1: -1,\n",
       "  2: -1,\n",
       "  3: -1,\n",
       "  4: -1,\n",
       "  5: -1,\n",
       "  6: -1,\n",
       "  7: -1,\n",
       "  8: -1,\n",
       "  9: -1,\n",
       "  10: -1,\n",
       "  11: -1,\n",
       "  12: -1,\n",
       "  13: -1,\n",
       "  14: -1,\n",
       "  15: -1,\n",
       "  16: 0,\n",
       "  17: 1,\n",
       "  18: -1,\n",
       "  19: -1,\n",
       "  20: -1,\n",
       "  21: -1,\n",
       "  22: -1,\n",
       "  23: -1,\n",
       "  24: -1,\n",
       "  25: -1,\n",
       "  26: -1,\n",
       "  27: -1,\n",
       "  28: -1,\n",
       "  29: -1,\n",
       "  30: -1,\n",
       "  31: -1,\n",
       "  32: -1,\n",
       "  33: -1,\n",
       "  34: 2,\n",
       "  35: 3,\n",
       "  36: -1,\n",
       "  37: -1,\n",
       "  38: -1,\n",
       "  39: -1,\n",
       "  40: -1,\n",
       "  41: -1,\n",
       "  42: -1,\n",
       "  43: -1,\n",
       "  44: -1,\n",
       "  45: -1,\n",
       "  46: -1,\n",
       "  47: -1,\n",
       "  48: -1,\n",
       "  49: -1,\n",
       "  50: -1,\n",
       "  51: -1,\n",
       "  52: 4,\n",
       "  53: 5},\n",
       " 'ServerID': {0: 0,\n",
       "  1: 1,\n",
       "  2: 2,\n",
       "  3: 3,\n",
       "  4: 4,\n",
       "  5: 5,\n",
       "  6: 6,\n",
       "  7: 7,\n",
       "  8: 8,\n",
       "  9: 9,\n",
       "  10: 10,\n",
       "  11: 11,\n",
       "  12: 12,\n",
       "  13: 13,\n",
       "  14: 14,\n",
       "  15: 15,\n",
       "  16: -1,\n",
       "  17: -1,\n",
       "  18: 16,\n",
       "  19: 17,\n",
       "  20: 18,\n",
       "  21: 19,\n",
       "  22: 20,\n",
       "  23: 21,\n",
       "  24: 22,\n",
       "  25: 23,\n",
       "  26: 24,\n",
       "  27: 25,\n",
       "  28: 26,\n",
       "  29: 27,\n",
       "  30: 28,\n",
       "  31: 29,\n",
       "  32: 30,\n",
       "  33: 31,\n",
       "  34: -1,\n",
       "  35: -1,\n",
       "  36: 32,\n",
       "  37: 33,\n",
       "  38: 34,\n",
       "  39: 35,\n",
       "  40: 36,\n",
       "  41: 37,\n",
       "  42: 38,\n",
       "  43: 39,\n",
       "  44: 40,\n",
       "  45: 41,\n",
       "  46: 42,\n",
       "  47: 43,\n",
       "  48: 44,\n",
       "  49: 45,\n",
       "  50: 46,\n",
       "  51: 47,\n",
       "  52: -1,\n",
       "  53: -1},\n",
       " ' PublicIp': {0: nan,\n",
       "  1: nan,\n",
       "  2: nan,\n",
       "  3: nan,\n",
       "  4: nan,\n",
       "  5: nan,\n",
       "  6: nan,\n",
       "  7: nan,\n",
       "  8: nan,\n",
       "  9: nan,\n",
       "  10: nan,\n",
       "  11: nan,\n",
       "  12: nan,\n",
       "  13: nan,\n",
       "  14: nan,\n",
       "  15: nan,\n",
       "  16: nan,\n",
       "  17: nan,\n",
       "  18: nan,\n",
       "  19: nan,\n",
       "  20: nan,\n",
       "  21: nan,\n",
       "  22: nan,\n",
       "  23: nan,\n",
       "  24: nan,\n",
       "  25: nan,\n",
       "  26: nan,\n",
       "  27: nan,\n",
       "  28: nan,\n",
       "  29: nan,\n",
       "  30: nan,\n",
       "  31: nan,\n",
       "  32: nan,\n",
       "  33: nan,\n",
       "  34: nan,\n",
       "  35: nan,\n",
       "  36: nan,\n",
       "  37: nan,\n",
       "  38: nan,\n",
       "  39: nan,\n",
       "  40: nan,\n",
       "  41: nan,\n",
       "  42: nan,\n",
       "  43: nan,\n",
       "  44: nan,\n",
       "  45: nan,\n",
       "  46: nan,\n",
       "  47: nan,\n",
       "  48: nan,\n",
       "  49: nan,\n",
       "  50: nan,\n",
       "  51: nan,\n",
       "  52: nan,\n",
       "  53: nan}}"
      ]
     },
     "execution_count": 3,
     "metadata": {},
     "output_type": "execute_result"
    }
   ],
   "source": [
    "df =pd.read_csv('node_info.csv')\n",
    "\n",
    "node_info_dict = df.to_dict()\n",
    "\n",
    "node_info_dict"
   ]
  },
  {
   "cell_type": "code",
   "execution_count": 4,
   "id": "c48cf7ab",
   "metadata": {},
   "outputs": [
    {
     "data": {
      "text/plain": [
       "48"
      ]
     },
     "execution_count": 4,
     "metadata": {},
     "output_type": "execute_result"
    }
   ],
   "source": [
    "total_count = 0\n",
    "\n",
    "for key in node_info_dict['ServerOrClientregion'].keys():\n",
    "    if node_info_dict['ServerOrClientregion'][key] ==0:\n",
    "        total_count = total_count + 1\n",
    "        \n",
    "total_count"
   ]
  },
  {
   "cell_type": "code",
   "execution_count": 5,
   "id": "58b6c8b4",
   "metadata": {},
   "outputs": [
    {
     "data": {
      "text/plain": [
       "8"
      ]
     },
     "execution_count": 5,
     "metadata": {},
     "output_type": "execute_result"
    }
   ],
   "source": [
    "replica_count = 0\n",
    "\n",
    "for key in node_info_dict['cluster_id'].keys():\n",
    "    if node_info_dict['cluster_id'][key] ==0:\n",
    "        replica_count = replica_count + 1\n",
    "        \n",
    "        \n",
    "replica_count       "
   ]
  },
  {
   "cell_type": "code",
   "execution_count": 6,
   "id": "1026d7dd",
   "metadata": {},
   "outputs": [],
   "source": [
    "n_clusters = int(total_count / replica_count)\n",
    "\n",
    "nclients = n_clusters"
   ]
  },
  {
   "cell_type": "code",
   "execution_count": 7,
   "id": "0a24ffb5",
   "metadata": {},
   "outputs": [],
   "source": [
    "\n",
    "regions = [ 'us-west1-b','us-west1-b', 'us-west1-b','us-west1-b',\\\n",
    "           'us-west1-b', 'us-west1-b', 'us-west1-b', 'us-west1-b']\n"
   ]
  },
  {
   "cell_type": "code",
   "execution_count": 8,
   "id": "1cc4145c",
   "metadata": {},
   "outputs": [],
   "source": [
    "# regions = [ 'us-west1-b','us-west1-b', 'us-west1-b','us-west1-b',\\\n",
    "#            'europe-west3-c', 'europe-west3-c', 'europe-west3-c', 'europe-west3-c', \\\n",
    "#            'asia-south1-c', 'asia-south1-c', 'asia-south1-c', 'asia-south1-c']\n",
    "\n",
    "\n",
    "# regions = [ 'us-west1-b','us-west1-b', 'us-west1-b','us-west1-b']\n",
    "\n",
    "\n",
    "# regions = [ 'us-west1-b','us-west1-b', 'us-west1-b','us-west1-b',\\\n",
    "#            'us-west1-b', 'us-west1-b', 'us-west1-b', 'us-west1-b', \\\n",
    "#            'us-west1-b', 'us-west1-b', 'us-west1-b', 'us-west1-b']\n",
    "\n",
    "\n",
    "\n",
    "# regions = [ 'europe-west3-c', 'asia-south1-c']\n",
    "\n",
    "# regions = [ 'us-west1-b', 'us-west1-b']\n",
    "\n",
    "\n",
    "\n",
    "# regions = [ 'us-west1-b', 'us-west1-b','us-west1-b','us-west1-b', 'us-west1-b', 'us-west1-b','us-west1-b','us-west1-b', 'us-west1-b', 'us-west1-b','us-west1-b','us-west1-b']\n",
    "# regions = [ 'us-west1-b', 'us-west1-b', 'us-west1-b', 'us-west1-b']\n",
    "\n",
    "\n",
    "\n",
    "# regions = ['europe-west3-c',  \\\n",
    "#            'asia-south1-c']\n",
    "\n",
    "\n",
    "n_regions = len(regions)"
   ]
  },
  {
   "cell_type": "code",
   "execution_count": 9,
   "id": "8baefc35",
   "metadata": {},
   "outputs": [
    {
     "name": "stdout",
     "output_type": "stream",
     "text": [
      "0 us-west1-b\n",
      "1 us-west1-b\n",
      "2 us-west1-b\n",
      "3 us-west1-b\n",
      "4 us-west1-b\n",
      "5 us-west1-b\n",
      "6 us-west1-b\n",
      "7 us-west1-b\n"
     ]
    }
   ],
   "source": [
    "for i,k in enumerate(regions):\n",
    "    print(i,k)"
   ]
  },
  {
   "cell_type": "code",
   "execution_count": 10,
   "id": "8bb72833",
   "metadata": {},
   "outputs": [
    {
     "name": "stdout",
     "output_type": "stream",
     "text": [
      "gcloud compute instances create resdb-00 --project=ucr-ursa-major-lesani-lab --zone=us-west1-b --machine-type=e2-highmem-2 --network-interface=network-tier=PREMIUM,stack-type=IPV4_ONLY,subnet=default --can-ip-forward --maintenance-policy=MIGRATE --provisioning-model=STANDARD --service-account=961693926925-compute@developer.gserviceaccount.com --scopes=https://www.googleapis.com/auth/devstorage.read_only,https://www.googleapis.com/auth/logging.write,https://www.googleapis.com/auth/monitoring.write,https://www.googleapis.com/auth/servicecontrol,https://www.googleapis.com/auth/service.management.readonly,https://www.googleapis.com/auth/trace.append --tags=http-server,https-server --create-disk=auto-delete=yes,boot=yes,device-name=instance-3,image=projects/ubuntu-os-cloud/global/images/ubuntu-2004-focal-v20230831,mode=rw,size=10,type=projects/ucr-ursa-major-lesani-lab/zones/us-west1-b/diskTypes/pd-balanced --no-shielded-secure-boot --shielded-vtpm --shielded-integrity-monitoring --labels=goog-ec-src=vm_add-gcloud --reservation-affinity=any\n",
      "gcloud compute instances create resdb-01 --project=ucr-ursa-major-lesani-lab --zone=us-west1-b --machine-type=e2-highmem-2 --network-interface=network-tier=PREMIUM,stack-type=IPV4_ONLY,subnet=default --can-ip-forward --maintenance-policy=MIGRATE --provisioning-model=STANDARD --service-account=961693926925-compute@developer.gserviceaccount.com --scopes=https://www.googleapis.com/auth/devstorage.read_only,https://www.googleapis.com/auth/logging.write,https://www.googleapis.com/auth/monitoring.write,https://www.googleapis.com/auth/servicecontrol,https://www.googleapis.com/auth/service.management.readonly,https://www.googleapis.com/auth/trace.append --tags=http-server,https-server --create-disk=auto-delete=yes,boot=yes,device-name=instance-3,image=projects/ubuntu-os-cloud/global/images/ubuntu-2004-focal-v20230831,mode=rw,size=10,type=projects/ucr-ursa-major-lesani-lab/zones/us-west1-b/diskTypes/pd-balanced --no-shielded-secure-boot --shielded-vtpm --shielded-integrity-monitoring --labels=goog-ec-src=vm_add-gcloud --reservation-affinity=any\n",
      "gcloud compute instances create resdb-02 --project=ucr-ursa-major-lesani-lab --zone=us-west1-b --machine-type=e2-highmem-2 --network-interface=network-tier=PREMIUM,stack-type=IPV4_ONLY,subnet=default --can-ip-forward --maintenance-policy=MIGRATE --provisioning-model=STANDARD --service-account=961693926925-compute@developer.gserviceaccount.com --scopes=https://www.googleapis.com/auth/devstorage.read_only,https://www.googleapis.com/auth/logging.write,https://www.googleapis.com/auth/monitoring.write,https://www.googleapis.com/auth/servicecontrol,https://www.googleapis.com/auth/service.management.readonly,https://www.googleapis.com/auth/trace.append --tags=http-server,https-server --create-disk=auto-delete=yes,boot=yes,device-name=instance-3,image=projects/ubuntu-os-cloud/global/images/ubuntu-2004-focal-v20230831,mode=rw,size=10,type=projects/ucr-ursa-major-lesani-lab/zones/us-west1-b/diskTypes/pd-balanced --no-shielded-secure-boot --shielded-vtpm --shielded-integrity-monitoring --labels=goog-ec-src=vm_add-gcloud --reservation-affinity=any\n",
      "gcloud compute instances create resdb-03 --project=ucr-ursa-major-lesani-lab --zone=us-west1-b --machine-type=e2-highmem-2 --network-interface=network-tier=PREMIUM,stack-type=IPV4_ONLY,subnet=default --can-ip-forward --maintenance-policy=MIGRATE --provisioning-model=STANDARD --service-account=961693926925-compute@developer.gserviceaccount.com --scopes=https://www.googleapis.com/auth/devstorage.read_only,https://www.googleapis.com/auth/logging.write,https://www.googleapis.com/auth/monitoring.write,https://www.googleapis.com/auth/servicecontrol,https://www.googleapis.com/auth/service.management.readonly,https://www.googleapis.com/auth/trace.append --tags=http-server,https-server --create-disk=auto-delete=yes,boot=yes,device-name=instance-3,image=projects/ubuntu-os-cloud/global/images/ubuntu-2004-focal-v20230831,mode=rw,size=10,type=projects/ucr-ursa-major-lesani-lab/zones/us-west1-b/diskTypes/pd-balanced --no-shielded-secure-boot --shielded-vtpm --shielded-integrity-monitoring --labels=goog-ec-src=vm_add-gcloud --reservation-affinity=any\n",
      "gcloud compute instances create resdb-04 --project=ucr-ursa-major-lesani-lab --zone=us-west1-b --machine-type=e2-highmem-2 --network-interface=network-tier=PREMIUM,stack-type=IPV4_ONLY,subnet=default --can-ip-forward --maintenance-policy=MIGRATE --provisioning-model=STANDARD --service-account=961693926925-compute@developer.gserviceaccount.com --scopes=https://www.googleapis.com/auth/devstorage.read_only,https://www.googleapis.com/auth/logging.write,https://www.googleapis.com/auth/monitoring.write,https://www.googleapis.com/auth/servicecontrol,https://www.googleapis.com/auth/service.management.readonly,https://www.googleapis.com/auth/trace.append --tags=http-server,https-server --create-disk=auto-delete=yes,boot=yes,device-name=instance-3,image=projects/ubuntu-os-cloud/global/images/ubuntu-2004-focal-v20230831,mode=rw,size=10,type=projects/ucr-ursa-major-lesani-lab/zones/us-west1-b/diskTypes/pd-balanced --no-shielded-secure-boot --shielded-vtpm --shielded-integrity-monitoring --labels=goog-ec-src=vm_add-gcloud --reservation-affinity=any\n",
      "gcloud compute instances create resdb-05 --project=ucr-ursa-major-lesani-lab --zone=us-west1-b --machine-type=e2-highmem-2 --network-interface=network-tier=PREMIUM,stack-type=IPV4_ONLY,subnet=default --can-ip-forward --maintenance-policy=MIGRATE --provisioning-model=STANDARD --service-account=961693926925-compute@developer.gserviceaccount.com --scopes=https://www.googleapis.com/auth/devstorage.read_only,https://www.googleapis.com/auth/logging.write,https://www.googleapis.com/auth/monitoring.write,https://www.googleapis.com/auth/servicecontrol,https://www.googleapis.com/auth/service.management.readonly,https://www.googleapis.com/auth/trace.append --tags=http-server,https-server --create-disk=auto-delete=yes,boot=yes,device-name=instance-3,image=projects/ubuntu-os-cloud/global/images/ubuntu-2004-focal-v20230831,mode=rw,size=10,type=projects/ucr-ursa-major-lesani-lab/zones/us-west1-b/diskTypes/pd-balanced --no-shielded-secure-boot --shielded-vtpm --shielded-integrity-monitoring --labels=goog-ec-src=vm_add-gcloud --reservation-affinity=any\n",
      "gcloud compute instances create resdb-06 --project=ucr-ursa-major-lesani-lab --zone=us-west1-b --machine-type=e2-highmem-2 --network-interface=network-tier=PREMIUM,stack-type=IPV4_ONLY,subnet=default --can-ip-forward --maintenance-policy=MIGRATE --provisioning-model=STANDARD --service-account=961693926925-compute@developer.gserviceaccount.com --scopes=https://www.googleapis.com/auth/devstorage.read_only,https://www.googleapis.com/auth/logging.write,https://www.googleapis.com/auth/monitoring.write,https://www.googleapis.com/auth/servicecontrol,https://www.googleapis.com/auth/service.management.readonly,https://www.googleapis.com/auth/trace.append --tags=http-server,https-server --create-disk=auto-delete=yes,boot=yes,device-name=instance-3,image=projects/ubuntu-os-cloud/global/images/ubuntu-2004-focal-v20230831,mode=rw,size=10,type=projects/ucr-ursa-major-lesani-lab/zones/us-west1-b/diskTypes/pd-balanced --no-shielded-secure-boot --shielded-vtpm --shielded-integrity-monitoring --labels=goog-ec-src=vm_add-gcloud --reservation-affinity=any\n",
      "gcloud compute instances create resdb-07 --project=ucr-ursa-major-lesani-lab --zone=us-west1-b --machine-type=e2-highmem-2 --network-interface=network-tier=PREMIUM,stack-type=IPV4_ONLY,subnet=default --can-ip-forward --maintenance-policy=MIGRATE --provisioning-model=STANDARD --service-account=961693926925-compute@developer.gserviceaccount.com --scopes=https://www.googleapis.com/auth/devstorage.read_only,https://www.googleapis.com/auth/logging.write,https://www.googleapis.com/auth/monitoring.write,https://www.googleapis.com/auth/servicecontrol,https://www.googleapis.com/auth/service.management.readonly,https://www.googleapis.com/auth/trace.append --tags=http-server,https-server --create-disk=auto-delete=yes,boot=yes,device-name=instance-3,image=projects/ubuntu-os-cloud/global/images/ubuntu-2004-focal-v20230831,mode=rw,size=10,type=projects/ucr-ursa-major-lesani-lab/zones/us-west1-b/diskTypes/pd-balanced --no-shielded-secure-boot --shielded-vtpm --shielded-integrity-monitoring --labels=goog-ec-src=vm_add-gcloud --reservation-affinity=any\n",
      "gcloud compute instances create resdb-08 --project=ucr-ursa-major-lesani-lab --zone=us-west1-b --machine-type=e2-highmem-2 --network-interface=network-tier=PREMIUM,stack-type=IPV4_ONLY,subnet=default --can-ip-forward --maintenance-policy=MIGRATE --provisioning-model=STANDARD --service-account=961693926925-compute@developer.gserviceaccount.com --scopes=https://www.googleapis.com/auth/devstorage.read_only,https://www.googleapis.com/auth/logging.write,https://www.googleapis.com/auth/monitoring.write,https://www.googleapis.com/auth/servicecontrol,https://www.googleapis.com/auth/service.management.readonly,https://www.googleapis.com/auth/trace.append --tags=http-server,https-server --create-disk=auto-delete=yes,boot=yes,device-name=instance-3,image=projects/ubuntu-os-cloud/global/images/ubuntu-2004-focal-v20230831,mode=rw,size=10,type=projects/ucr-ursa-major-lesani-lab/zones/us-west1-b/diskTypes/pd-balanced --no-shielded-secure-boot --shielded-vtpm --shielded-integrity-monitoring --labels=goog-ec-src=vm_add-gcloud --reservation-affinity=any\n",
      "gcloud compute instances create resdb-09 --project=ucr-ursa-major-lesani-lab --zone=us-west1-b --machine-type=e2-highmem-2 --network-interface=network-tier=PREMIUM,stack-type=IPV4_ONLY,subnet=default --can-ip-forward --maintenance-policy=MIGRATE --provisioning-model=STANDARD --service-account=961693926925-compute@developer.gserviceaccount.com --scopes=https://www.googleapis.com/auth/devstorage.read_only,https://www.googleapis.com/auth/logging.write,https://www.googleapis.com/auth/monitoring.write,https://www.googleapis.com/auth/servicecontrol,https://www.googleapis.com/auth/service.management.readonly,https://www.googleapis.com/auth/trace.append --tags=http-server,https-server --create-disk=auto-delete=yes,boot=yes,device-name=instance-3,image=projects/ubuntu-os-cloud/global/images/ubuntu-2004-focal-v20230831,mode=rw,size=10,type=projects/ucr-ursa-major-lesani-lab/zones/us-west1-b/diskTypes/pd-balanced --no-shielded-secure-boot --shielded-vtpm --shielded-integrity-monitoring --labels=goog-ec-src=vm_add-gcloud --reservation-affinity=any\n",
      "gcloud compute instances create resdb-10 --project=ucr-ursa-major-lesani-lab --zone=us-west1-b --machine-type=e2-highmem-2 --network-interface=network-tier=PREMIUM,stack-type=IPV4_ONLY,subnet=default --can-ip-forward --maintenance-policy=MIGRATE --provisioning-model=STANDARD --service-account=961693926925-compute@developer.gserviceaccount.com --scopes=https://www.googleapis.com/auth/devstorage.read_only,https://www.googleapis.com/auth/logging.write,https://www.googleapis.com/auth/monitoring.write,https://www.googleapis.com/auth/servicecontrol,https://www.googleapis.com/auth/service.management.readonly,https://www.googleapis.com/auth/trace.append --tags=http-server,https-server --create-disk=auto-delete=yes,boot=yes,device-name=instance-3,image=projects/ubuntu-os-cloud/global/images/ubuntu-2004-focal-v20230831,mode=rw,size=10,type=projects/ucr-ursa-major-lesani-lab/zones/us-west1-b/diskTypes/pd-balanced --no-shielded-secure-boot --shielded-vtpm --shielded-integrity-monitoring --labels=goog-ec-src=vm_add-gcloud --reservation-affinity=any\n",
      "gcloud compute instances create resdb-11 --project=ucr-ursa-major-lesani-lab --zone=us-west1-b --machine-type=e2-highmem-2 --network-interface=network-tier=PREMIUM,stack-type=IPV4_ONLY,subnet=default --can-ip-forward --maintenance-policy=MIGRATE --provisioning-model=STANDARD --service-account=961693926925-compute@developer.gserviceaccount.com --scopes=https://www.googleapis.com/auth/devstorage.read_only,https://www.googleapis.com/auth/logging.write,https://www.googleapis.com/auth/monitoring.write,https://www.googleapis.com/auth/servicecontrol,https://www.googleapis.com/auth/service.management.readonly,https://www.googleapis.com/auth/trace.append --tags=http-server,https-server --create-disk=auto-delete=yes,boot=yes,device-name=instance-3,image=projects/ubuntu-os-cloud/global/images/ubuntu-2004-focal-v20230831,mode=rw,size=10,type=projects/ucr-ursa-major-lesani-lab/zones/us-west1-b/diskTypes/pd-balanced --no-shielded-secure-boot --shielded-vtpm --shielded-integrity-monitoring --labels=goog-ec-src=vm_add-gcloud --reservation-affinity=any\n",
      "gcloud compute instances create resdb-12 --project=ucr-ursa-major-lesani-lab --zone=us-west1-b --machine-type=e2-highmem-2 --network-interface=network-tier=PREMIUM,stack-type=IPV4_ONLY,subnet=default --can-ip-forward --maintenance-policy=MIGRATE --provisioning-model=STANDARD --service-account=961693926925-compute@developer.gserviceaccount.com --scopes=https://www.googleapis.com/auth/devstorage.read_only,https://www.googleapis.com/auth/logging.write,https://www.googleapis.com/auth/monitoring.write,https://www.googleapis.com/auth/servicecontrol,https://www.googleapis.com/auth/service.management.readonly,https://www.googleapis.com/auth/trace.append --tags=http-server,https-server --create-disk=auto-delete=yes,boot=yes,device-name=instance-3,image=projects/ubuntu-os-cloud/global/images/ubuntu-2004-focal-v20230831,mode=rw,size=10,type=projects/ucr-ursa-major-lesani-lab/zones/us-west1-b/diskTypes/pd-balanced --no-shielded-secure-boot --shielded-vtpm --shielded-integrity-monitoring --labels=goog-ec-src=vm_add-gcloud --reservation-affinity=any\n",
      "gcloud compute instances create resdb-13 --project=ucr-ursa-major-lesani-lab --zone=us-west1-b --machine-type=e2-highmem-2 --network-interface=network-tier=PREMIUM,stack-type=IPV4_ONLY,subnet=default --can-ip-forward --maintenance-policy=MIGRATE --provisioning-model=STANDARD --service-account=961693926925-compute@developer.gserviceaccount.com --scopes=https://www.googleapis.com/auth/devstorage.read_only,https://www.googleapis.com/auth/logging.write,https://www.googleapis.com/auth/monitoring.write,https://www.googleapis.com/auth/servicecontrol,https://www.googleapis.com/auth/service.management.readonly,https://www.googleapis.com/auth/trace.append --tags=http-server,https-server --create-disk=auto-delete=yes,boot=yes,device-name=instance-3,image=projects/ubuntu-os-cloud/global/images/ubuntu-2004-focal-v20230831,mode=rw,size=10,type=projects/ucr-ursa-major-lesani-lab/zones/us-west1-b/diskTypes/pd-balanced --no-shielded-secure-boot --shielded-vtpm --shielded-integrity-monitoring --labels=goog-ec-src=vm_add-gcloud --reservation-affinity=any\n",
      "gcloud compute instances create resdb-14 --project=ucr-ursa-major-lesani-lab --zone=us-west1-b --machine-type=e2-highmem-2 --network-interface=network-tier=PREMIUM,stack-type=IPV4_ONLY,subnet=default --can-ip-forward --maintenance-policy=MIGRATE --provisioning-model=STANDARD --service-account=961693926925-compute@developer.gserviceaccount.com --scopes=https://www.googleapis.com/auth/devstorage.read_only,https://www.googleapis.com/auth/logging.write,https://www.googleapis.com/auth/monitoring.write,https://www.googleapis.com/auth/servicecontrol,https://www.googleapis.com/auth/service.management.readonly,https://www.googleapis.com/auth/trace.append --tags=http-server,https-server --create-disk=auto-delete=yes,boot=yes,device-name=instance-3,image=projects/ubuntu-os-cloud/global/images/ubuntu-2004-focal-v20230831,mode=rw,size=10,type=projects/ucr-ursa-major-lesani-lab/zones/us-west1-b/diskTypes/pd-balanced --no-shielded-secure-boot --shielded-vtpm --shielded-integrity-monitoring --labels=goog-ec-src=vm_add-gcloud --reservation-affinity=any\n",
      "gcloud compute instances create resdb-15 --project=ucr-ursa-major-lesani-lab --zone=us-west1-b --machine-type=e2-highmem-2 --network-interface=network-tier=PREMIUM,stack-type=IPV4_ONLY,subnet=default --can-ip-forward --maintenance-policy=MIGRATE --provisioning-model=STANDARD --service-account=961693926925-compute@developer.gserviceaccount.com --scopes=https://www.googleapis.com/auth/devstorage.read_only,https://www.googleapis.com/auth/logging.write,https://www.googleapis.com/auth/monitoring.write,https://www.googleapis.com/auth/servicecontrol,https://www.googleapis.com/auth/service.management.readonly,https://www.googleapis.com/auth/trace.append --tags=http-server,https-server --create-disk=auto-delete=yes,boot=yes,device-name=instance-3,image=projects/ubuntu-os-cloud/global/images/ubuntu-2004-focal-v20230831,mode=rw,size=10,type=projects/ucr-ursa-major-lesani-lab/zones/us-west1-b/diskTypes/pd-balanced --no-shielded-secure-boot --shielded-vtpm --shielded-integrity-monitoring --labels=goog-ec-src=vm_add-gcloud --reservation-affinity=any\n",
      "gcloud compute instances create resdb-16 --project=ucr-ursa-major-lesani-lab --zone=us-west1-b --machine-type=e2-highmem-2 --network-interface=network-tier=PREMIUM,stack-type=IPV4_ONLY,subnet=default --can-ip-forward --maintenance-policy=MIGRATE --provisioning-model=STANDARD --service-account=961693926925-compute@developer.gserviceaccount.com --scopes=https://www.googleapis.com/auth/devstorage.read_only,https://www.googleapis.com/auth/logging.write,https://www.googleapis.com/auth/monitoring.write,https://www.googleapis.com/auth/servicecontrol,https://www.googleapis.com/auth/service.management.readonly,https://www.googleapis.com/auth/trace.append --tags=http-server,https-server --create-disk=auto-delete=yes,boot=yes,device-name=instance-3,image=projects/ubuntu-os-cloud/global/images/ubuntu-2004-focal-v20230831,mode=rw,size=10,type=projects/ucr-ursa-major-lesani-lab/zones/us-west1-b/diskTypes/pd-balanced --no-shielded-secure-boot --shielded-vtpm --shielded-integrity-monitoring --labels=goog-ec-src=vm_add-gcloud --reservation-affinity=any\n",
      "gcloud compute instances create resdb-17 --project=ucr-ursa-major-lesani-lab --zone=us-west1-b --machine-type=e2-highmem-2 --network-interface=network-tier=PREMIUM,stack-type=IPV4_ONLY,subnet=default --can-ip-forward --maintenance-policy=MIGRATE --provisioning-model=STANDARD --service-account=961693926925-compute@developer.gserviceaccount.com --scopes=https://www.googleapis.com/auth/devstorage.read_only,https://www.googleapis.com/auth/logging.write,https://www.googleapis.com/auth/monitoring.write,https://www.googleapis.com/auth/servicecontrol,https://www.googleapis.com/auth/service.management.readonly,https://www.googleapis.com/auth/trace.append --tags=http-server,https-server --create-disk=auto-delete=yes,boot=yes,device-name=instance-3,image=projects/ubuntu-os-cloud/global/images/ubuntu-2004-focal-v20230831,mode=rw,size=10,type=projects/ucr-ursa-major-lesani-lab/zones/us-west1-b/diskTypes/pd-balanced --no-shielded-secure-boot --shielded-vtpm --shielded-integrity-monitoring --labels=goog-ec-src=vm_add-gcloud --reservation-affinity=any\n",
      "gcloud compute instances create resdb-18 --project=ucr-ursa-major-lesani-lab --zone=us-west1-b --machine-type=e2-highmem-2 --network-interface=network-tier=PREMIUM,stack-type=IPV4_ONLY,subnet=default --can-ip-forward --maintenance-policy=MIGRATE --provisioning-model=STANDARD --service-account=961693926925-compute@developer.gserviceaccount.com --scopes=https://www.googleapis.com/auth/devstorage.read_only,https://www.googleapis.com/auth/logging.write,https://www.googleapis.com/auth/monitoring.write,https://www.googleapis.com/auth/servicecontrol,https://www.googleapis.com/auth/service.management.readonly,https://www.googleapis.com/auth/trace.append --tags=http-server,https-server --create-disk=auto-delete=yes,boot=yes,device-name=instance-3,image=projects/ubuntu-os-cloud/global/images/ubuntu-2004-focal-v20230831,mode=rw,size=10,type=projects/ucr-ursa-major-lesani-lab/zones/us-west1-b/diskTypes/pd-balanced --no-shielded-secure-boot --shielded-vtpm --shielded-integrity-monitoring --labels=goog-ec-src=vm_add-gcloud --reservation-affinity=any\n",
      "gcloud compute instances create resdb-19 --project=ucr-ursa-major-lesani-lab --zone=us-west1-b --machine-type=e2-highmem-2 --network-interface=network-tier=PREMIUM,stack-type=IPV4_ONLY,subnet=default --can-ip-forward --maintenance-policy=MIGRATE --provisioning-model=STANDARD --service-account=961693926925-compute@developer.gserviceaccount.com --scopes=https://www.googleapis.com/auth/devstorage.read_only,https://www.googleapis.com/auth/logging.write,https://www.googleapis.com/auth/monitoring.write,https://www.googleapis.com/auth/servicecontrol,https://www.googleapis.com/auth/service.management.readonly,https://www.googleapis.com/auth/trace.append --tags=http-server,https-server --create-disk=auto-delete=yes,boot=yes,device-name=instance-3,image=projects/ubuntu-os-cloud/global/images/ubuntu-2004-focal-v20230831,mode=rw,size=10,type=projects/ucr-ursa-major-lesani-lab/zones/us-west1-b/diskTypes/pd-balanced --no-shielded-secure-boot --shielded-vtpm --shielded-integrity-monitoring --labels=goog-ec-src=vm_add-gcloud --reservation-affinity=any\n",
      "gcloud compute instances create resdb-20 --project=ucr-ursa-major-lesani-lab --zone=us-west1-b --machine-type=e2-highmem-2 --network-interface=network-tier=PREMIUM,stack-type=IPV4_ONLY,subnet=default --can-ip-forward --maintenance-policy=MIGRATE --provisioning-model=STANDARD --service-account=961693926925-compute@developer.gserviceaccount.com --scopes=https://www.googleapis.com/auth/devstorage.read_only,https://www.googleapis.com/auth/logging.write,https://www.googleapis.com/auth/monitoring.write,https://www.googleapis.com/auth/servicecontrol,https://www.googleapis.com/auth/service.management.readonly,https://www.googleapis.com/auth/trace.append --tags=http-server,https-server --create-disk=auto-delete=yes,boot=yes,device-name=instance-3,image=projects/ubuntu-os-cloud/global/images/ubuntu-2004-focal-v20230831,mode=rw,size=10,type=projects/ucr-ursa-major-lesani-lab/zones/us-west1-b/diskTypes/pd-balanced --no-shielded-secure-boot --shielded-vtpm --shielded-integrity-monitoring --labels=goog-ec-src=vm_add-gcloud --reservation-affinity=any\n",
      "gcloud compute instances create resdb-21 --project=ucr-ursa-major-lesani-lab --zone=us-west1-b --machine-type=e2-highmem-2 --network-interface=network-tier=PREMIUM,stack-type=IPV4_ONLY,subnet=default --can-ip-forward --maintenance-policy=MIGRATE --provisioning-model=STANDARD --service-account=961693926925-compute@developer.gserviceaccount.com --scopes=https://www.googleapis.com/auth/devstorage.read_only,https://www.googleapis.com/auth/logging.write,https://www.googleapis.com/auth/monitoring.write,https://www.googleapis.com/auth/servicecontrol,https://www.googleapis.com/auth/service.management.readonly,https://www.googleapis.com/auth/trace.append --tags=http-server,https-server --create-disk=auto-delete=yes,boot=yes,device-name=instance-3,image=projects/ubuntu-os-cloud/global/images/ubuntu-2004-focal-v20230831,mode=rw,size=10,type=projects/ucr-ursa-major-lesani-lab/zones/us-west1-b/diskTypes/pd-balanced --no-shielded-secure-boot --shielded-vtpm --shielded-integrity-monitoring --labels=goog-ec-src=vm_add-gcloud --reservation-affinity=any\n",
      "gcloud compute instances create resdb-22 --project=ucr-ursa-major-lesani-lab --zone=us-west1-b --machine-type=e2-highmem-2 --network-interface=network-tier=PREMIUM,stack-type=IPV4_ONLY,subnet=default --can-ip-forward --maintenance-policy=MIGRATE --provisioning-model=STANDARD --service-account=961693926925-compute@developer.gserviceaccount.com --scopes=https://www.googleapis.com/auth/devstorage.read_only,https://www.googleapis.com/auth/logging.write,https://www.googleapis.com/auth/monitoring.write,https://www.googleapis.com/auth/servicecontrol,https://www.googleapis.com/auth/service.management.readonly,https://www.googleapis.com/auth/trace.append --tags=http-server,https-server --create-disk=auto-delete=yes,boot=yes,device-name=instance-3,image=projects/ubuntu-os-cloud/global/images/ubuntu-2004-focal-v20230831,mode=rw,size=10,type=projects/ucr-ursa-major-lesani-lab/zones/us-west1-b/diskTypes/pd-balanced --no-shielded-secure-boot --shielded-vtpm --shielded-integrity-monitoring --labels=goog-ec-src=vm_add-gcloud --reservation-affinity=any\n",
      "gcloud compute instances create resdb-23 --project=ucr-ursa-major-lesani-lab --zone=us-west1-b --machine-type=e2-highmem-2 --network-interface=network-tier=PREMIUM,stack-type=IPV4_ONLY,subnet=default --can-ip-forward --maintenance-policy=MIGRATE --provisioning-model=STANDARD --service-account=961693926925-compute@developer.gserviceaccount.com --scopes=https://www.googleapis.com/auth/devstorage.read_only,https://www.googleapis.com/auth/logging.write,https://www.googleapis.com/auth/monitoring.write,https://www.googleapis.com/auth/servicecontrol,https://www.googleapis.com/auth/service.management.readonly,https://www.googleapis.com/auth/trace.append --tags=http-server,https-server --create-disk=auto-delete=yes,boot=yes,device-name=instance-3,image=projects/ubuntu-os-cloud/global/images/ubuntu-2004-focal-v20230831,mode=rw,size=10,type=projects/ucr-ursa-major-lesani-lab/zones/us-west1-b/diskTypes/pd-balanced --no-shielded-secure-boot --shielded-vtpm --shielded-integrity-monitoring --labels=goog-ec-src=vm_add-gcloud --reservation-affinity=any\n",
      "gcloud compute instances create resdb-24 --project=ucr-ursa-major-lesani-lab --zone=us-west1-b --machine-type=e2-highmem-2 --network-interface=network-tier=PREMIUM,stack-type=IPV4_ONLY,subnet=default --can-ip-forward --maintenance-policy=MIGRATE --provisioning-model=STANDARD --service-account=961693926925-compute@developer.gserviceaccount.com --scopes=https://www.googleapis.com/auth/devstorage.read_only,https://www.googleapis.com/auth/logging.write,https://www.googleapis.com/auth/monitoring.write,https://www.googleapis.com/auth/servicecontrol,https://www.googleapis.com/auth/service.management.readonly,https://www.googleapis.com/auth/trace.append --tags=http-server,https-server --create-disk=auto-delete=yes,boot=yes,device-name=instance-3,image=projects/ubuntu-os-cloud/global/images/ubuntu-2004-focal-v20230831,mode=rw,size=10,type=projects/ucr-ursa-major-lesani-lab/zones/us-west1-b/diskTypes/pd-balanced --no-shielded-secure-boot --shielded-vtpm --shielded-integrity-monitoring --labels=goog-ec-src=vm_add-gcloud --reservation-affinity=any\n",
      "gcloud compute instances create resdb-25 --project=ucr-ursa-major-lesani-lab --zone=us-west1-b --machine-type=e2-highmem-2 --network-interface=network-tier=PREMIUM,stack-type=IPV4_ONLY,subnet=default --can-ip-forward --maintenance-policy=MIGRATE --provisioning-model=STANDARD --service-account=961693926925-compute@developer.gserviceaccount.com --scopes=https://www.googleapis.com/auth/devstorage.read_only,https://www.googleapis.com/auth/logging.write,https://www.googleapis.com/auth/monitoring.write,https://www.googleapis.com/auth/servicecontrol,https://www.googleapis.com/auth/service.management.readonly,https://www.googleapis.com/auth/trace.append --tags=http-server,https-server --create-disk=auto-delete=yes,boot=yes,device-name=instance-3,image=projects/ubuntu-os-cloud/global/images/ubuntu-2004-focal-v20230831,mode=rw,size=10,type=projects/ucr-ursa-major-lesani-lab/zones/us-west1-b/diskTypes/pd-balanced --no-shielded-secure-boot --shielded-vtpm --shielded-integrity-monitoring --labels=goog-ec-src=vm_add-gcloud --reservation-affinity=any\n",
      "gcloud compute instances create resdb-26 --project=ucr-ursa-major-lesani-lab --zone=us-west1-b --machine-type=e2-highmem-2 --network-interface=network-tier=PREMIUM,stack-type=IPV4_ONLY,subnet=default --can-ip-forward --maintenance-policy=MIGRATE --provisioning-model=STANDARD --service-account=961693926925-compute@developer.gserviceaccount.com --scopes=https://www.googleapis.com/auth/devstorage.read_only,https://www.googleapis.com/auth/logging.write,https://www.googleapis.com/auth/monitoring.write,https://www.googleapis.com/auth/servicecontrol,https://www.googleapis.com/auth/service.management.readonly,https://www.googleapis.com/auth/trace.append --tags=http-server,https-server --create-disk=auto-delete=yes,boot=yes,device-name=instance-3,image=projects/ubuntu-os-cloud/global/images/ubuntu-2004-focal-v20230831,mode=rw,size=10,type=projects/ucr-ursa-major-lesani-lab/zones/us-west1-b/diskTypes/pd-balanced --no-shielded-secure-boot --shielded-vtpm --shielded-integrity-monitoring --labels=goog-ec-src=vm_add-gcloud --reservation-affinity=any\n",
      "gcloud compute instances create resdb-27 --project=ucr-ursa-major-lesani-lab --zone=us-west1-b --machine-type=e2-highmem-2 --network-interface=network-tier=PREMIUM,stack-type=IPV4_ONLY,subnet=default --can-ip-forward --maintenance-policy=MIGRATE --provisioning-model=STANDARD --service-account=961693926925-compute@developer.gserviceaccount.com --scopes=https://www.googleapis.com/auth/devstorage.read_only,https://www.googleapis.com/auth/logging.write,https://www.googleapis.com/auth/monitoring.write,https://www.googleapis.com/auth/servicecontrol,https://www.googleapis.com/auth/service.management.readonly,https://www.googleapis.com/auth/trace.append --tags=http-server,https-server --create-disk=auto-delete=yes,boot=yes,device-name=instance-3,image=projects/ubuntu-os-cloud/global/images/ubuntu-2004-focal-v20230831,mode=rw,size=10,type=projects/ucr-ursa-major-lesani-lab/zones/us-west1-b/diskTypes/pd-balanced --no-shielded-secure-boot --shielded-vtpm --shielded-integrity-monitoring --labels=goog-ec-src=vm_add-gcloud --reservation-affinity=any\n",
      "gcloud compute instances create resdb-28 --project=ucr-ursa-major-lesani-lab --zone=us-west1-b --machine-type=e2-highmem-2 --network-interface=network-tier=PREMIUM,stack-type=IPV4_ONLY,subnet=default --can-ip-forward --maintenance-policy=MIGRATE --provisioning-model=STANDARD --service-account=961693926925-compute@developer.gserviceaccount.com --scopes=https://www.googleapis.com/auth/devstorage.read_only,https://www.googleapis.com/auth/logging.write,https://www.googleapis.com/auth/monitoring.write,https://www.googleapis.com/auth/servicecontrol,https://www.googleapis.com/auth/service.management.readonly,https://www.googleapis.com/auth/trace.append --tags=http-server,https-server --create-disk=auto-delete=yes,boot=yes,device-name=instance-3,image=projects/ubuntu-os-cloud/global/images/ubuntu-2004-focal-v20230831,mode=rw,size=10,type=projects/ucr-ursa-major-lesani-lab/zones/us-west1-b/diskTypes/pd-balanced --no-shielded-secure-boot --shielded-vtpm --shielded-integrity-monitoring --labels=goog-ec-src=vm_add-gcloud --reservation-affinity=any\n",
      "gcloud compute instances create resdb-29 --project=ucr-ursa-major-lesani-lab --zone=us-west1-b --machine-type=e2-highmem-2 --network-interface=network-tier=PREMIUM,stack-type=IPV4_ONLY,subnet=default --can-ip-forward --maintenance-policy=MIGRATE --provisioning-model=STANDARD --service-account=961693926925-compute@developer.gserviceaccount.com --scopes=https://www.googleapis.com/auth/devstorage.read_only,https://www.googleapis.com/auth/logging.write,https://www.googleapis.com/auth/monitoring.write,https://www.googleapis.com/auth/servicecontrol,https://www.googleapis.com/auth/service.management.readonly,https://www.googleapis.com/auth/trace.append --tags=http-server,https-server --create-disk=auto-delete=yes,boot=yes,device-name=instance-3,image=projects/ubuntu-os-cloud/global/images/ubuntu-2004-focal-v20230831,mode=rw,size=10,type=projects/ucr-ursa-major-lesani-lab/zones/us-west1-b/diskTypes/pd-balanced --no-shielded-secure-boot --shielded-vtpm --shielded-integrity-monitoring --labels=goog-ec-src=vm_add-gcloud --reservation-affinity=any\n",
      "gcloud compute instances create resdb-30 --project=ucr-ursa-major-lesani-lab --zone=us-west1-b --machine-type=e2-highmem-2 --network-interface=network-tier=PREMIUM,stack-type=IPV4_ONLY,subnet=default --can-ip-forward --maintenance-policy=MIGRATE --provisioning-model=STANDARD --service-account=961693926925-compute@developer.gserviceaccount.com --scopes=https://www.googleapis.com/auth/devstorage.read_only,https://www.googleapis.com/auth/logging.write,https://www.googleapis.com/auth/monitoring.write,https://www.googleapis.com/auth/servicecontrol,https://www.googleapis.com/auth/service.management.readonly,https://www.googleapis.com/auth/trace.append --tags=http-server,https-server --create-disk=auto-delete=yes,boot=yes,device-name=instance-3,image=projects/ubuntu-os-cloud/global/images/ubuntu-2004-focal-v20230831,mode=rw,size=10,type=projects/ucr-ursa-major-lesani-lab/zones/us-west1-b/diskTypes/pd-balanced --no-shielded-secure-boot --shielded-vtpm --shielded-integrity-monitoring --labels=goog-ec-src=vm_add-gcloud --reservation-affinity=any\n",
      "gcloud compute instances create resdb-31 --project=ucr-ursa-major-lesani-lab --zone=us-west1-b --machine-type=e2-highmem-2 --network-interface=network-tier=PREMIUM,stack-type=IPV4_ONLY,subnet=default --can-ip-forward --maintenance-policy=MIGRATE --provisioning-model=STANDARD --service-account=961693926925-compute@developer.gserviceaccount.com --scopes=https://www.googleapis.com/auth/devstorage.read_only,https://www.googleapis.com/auth/logging.write,https://www.googleapis.com/auth/monitoring.write,https://www.googleapis.com/auth/servicecontrol,https://www.googleapis.com/auth/service.management.readonly,https://www.googleapis.com/auth/trace.append --tags=http-server,https-server --create-disk=auto-delete=yes,boot=yes,device-name=instance-3,image=projects/ubuntu-os-cloud/global/images/ubuntu-2004-focal-v20230831,mode=rw,size=10,type=projects/ucr-ursa-major-lesani-lab/zones/us-west1-b/diskTypes/pd-balanced --no-shielded-secure-boot --shielded-vtpm --shielded-integrity-monitoring --labels=goog-ec-src=vm_add-gcloud --reservation-affinity=any\n",
      "gcloud compute instances create resdb-32 --project=ucr-ursa-major-lesani-lab --zone=us-west1-b --machine-type=e2-highmem-2 --network-interface=network-tier=PREMIUM,stack-type=IPV4_ONLY,subnet=default --can-ip-forward --maintenance-policy=MIGRATE --provisioning-model=STANDARD --service-account=961693926925-compute@developer.gserviceaccount.com --scopes=https://www.googleapis.com/auth/devstorage.read_only,https://www.googleapis.com/auth/logging.write,https://www.googleapis.com/auth/monitoring.write,https://www.googleapis.com/auth/servicecontrol,https://www.googleapis.com/auth/service.management.readonly,https://www.googleapis.com/auth/trace.append --tags=http-server,https-server --create-disk=auto-delete=yes,boot=yes,device-name=instance-3,image=projects/ubuntu-os-cloud/global/images/ubuntu-2004-focal-v20230831,mode=rw,size=10,type=projects/ucr-ursa-major-lesani-lab/zones/us-west1-b/diskTypes/pd-balanced --no-shielded-secure-boot --shielded-vtpm --shielded-integrity-monitoring --labels=goog-ec-src=vm_add-gcloud --reservation-affinity=any\n",
      "gcloud compute instances create resdb-33 --project=ucr-ursa-major-lesani-lab --zone=us-west1-b --machine-type=e2-highmem-2 --network-interface=network-tier=PREMIUM,stack-type=IPV4_ONLY,subnet=default --can-ip-forward --maintenance-policy=MIGRATE --provisioning-model=STANDARD --service-account=961693926925-compute@developer.gserviceaccount.com --scopes=https://www.googleapis.com/auth/devstorage.read_only,https://www.googleapis.com/auth/logging.write,https://www.googleapis.com/auth/monitoring.write,https://www.googleapis.com/auth/servicecontrol,https://www.googleapis.com/auth/service.management.readonly,https://www.googleapis.com/auth/trace.append --tags=http-server,https-server --create-disk=auto-delete=yes,boot=yes,device-name=instance-3,image=projects/ubuntu-os-cloud/global/images/ubuntu-2004-focal-v20230831,mode=rw,size=10,type=projects/ucr-ursa-major-lesani-lab/zones/us-west1-b/diskTypes/pd-balanced --no-shielded-secure-boot --shielded-vtpm --shielded-integrity-monitoring --labels=goog-ec-src=vm_add-gcloud --reservation-affinity=any\n",
      "gcloud compute instances create resdb-34 --project=ucr-ursa-major-lesani-lab --zone=us-west1-b --machine-type=e2-highmem-2 --network-interface=network-tier=PREMIUM,stack-type=IPV4_ONLY,subnet=default --can-ip-forward --maintenance-policy=MIGRATE --provisioning-model=STANDARD --service-account=961693926925-compute@developer.gserviceaccount.com --scopes=https://www.googleapis.com/auth/devstorage.read_only,https://www.googleapis.com/auth/logging.write,https://www.googleapis.com/auth/monitoring.write,https://www.googleapis.com/auth/servicecontrol,https://www.googleapis.com/auth/service.management.readonly,https://www.googleapis.com/auth/trace.append --tags=http-server,https-server --create-disk=auto-delete=yes,boot=yes,device-name=instance-3,image=projects/ubuntu-os-cloud/global/images/ubuntu-2004-focal-v20230831,mode=rw,size=10,type=projects/ucr-ursa-major-lesani-lab/zones/us-west1-b/diskTypes/pd-balanced --no-shielded-secure-boot --shielded-vtpm --shielded-integrity-monitoring --labels=goog-ec-src=vm_add-gcloud --reservation-affinity=any\n",
      "gcloud compute instances create resdb-35 --project=ucr-ursa-major-lesani-lab --zone=us-west1-b --machine-type=e2-highmem-2 --network-interface=network-tier=PREMIUM,stack-type=IPV4_ONLY,subnet=default --can-ip-forward --maintenance-policy=MIGRATE --provisioning-model=STANDARD --service-account=961693926925-compute@developer.gserviceaccount.com --scopes=https://www.googleapis.com/auth/devstorage.read_only,https://www.googleapis.com/auth/logging.write,https://www.googleapis.com/auth/monitoring.write,https://www.googleapis.com/auth/servicecontrol,https://www.googleapis.com/auth/service.management.readonly,https://www.googleapis.com/auth/trace.append --tags=http-server,https-server --create-disk=auto-delete=yes,boot=yes,device-name=instance-3,image=projects/ubuntu-os-cloud/global/images/ubuntu-2004-focal-v20230831,mode=rw,size=10,type=projects/ucr-ursa-major-lesani-lab/zones/us-west1-b/diskTypes/pd-balanced --no-shielded-secure-boot --shielded-vtpm --shielded-integrity-monitoring --labels=goog-ec-src=vm_add-gcloud --reservation-affinity=any\n",
      "gcloud compute instances create resdb-36 --project=ucr-ursa-major-lesani-lab --zone=us-west1-b --machine-type=e2-highmem-2 --network-interface=network-tier=PREMIUM,stack-type=IPV4_ONLY,subnet=default --can-ip-forward --maintenance-policy=MIGRATE --provisioning-model=STANDARD --service-account=961693926925-compute@developer.gserviceaccount.com --scopes=https://www.googleapis.com/auth/devstorage.read_only,https://www.googleapis.com/auth/logging.write,https://www.googleapis.com/auth/monitoring.write,https://www.googleapis.com/auth/servicecontrol,https://www.googleapis.com/auth/service.management.readonly,https://www.googleapis.com/auth/trace.append --tags=http-server,https-server --create-disk=auto-delete=yes,boot=yes,device-name=instance-3,image=projects/ubuntu-os-cloud/global/images/ubuntu-2004-focal-v20230831,mode=rw,size=10,type=projects/ucr-ursa-major-lesani-lab/zones/us-west1-b/diskTypes/pd-balanced --no-shielded-secure-boot --shielded-vtpm --shielded-integrity-monitoring --labels=goog-ec-src=vm_add-gcloud --reservation-affinity=any\n",
      "gcloud compute instances create resdb-37 --project=ucr-ursa-major-lesani-lab --zone=us-west1-b --machine-type=e2-highmem-2 --network-interface=network-tier=PREMIUM,stack-type=IPV4_ONLY,subnet=default --can-ip-forward --maintenance-policy=MIGRATE --provisioning-model=STANDARD --service-account=961693926925-compute@developer.gserviceaccount.com --scopes=https://www.googleapis.com/auth/devstorage.read_only,https://www.googleapis.com/auth/logging.write,https://www.googleapis.com/auth/monitoring.write,https://www.googleapis.com/auth/servicecontrol,https://www.googleapis.com/auth/service.management.readonly,https://www.googleapis.com/auth/trace.append --tags=http-server,https-server --create-disk=auto-delete=yes,boot=yes,device-name=instance-3,image=projects/ubuntu-os-cloud/global/images/ubuntu-2004-focal-v20230831,mode=rw,size=10,type=projects/ucr-ursa-major-lesani-lab/zones/us-west1-b/diskTypes/pd-balanced --no-shielded-secure-boot --shielded-vtpm --shielded-integrity-monitoring --labels=goog-ec-src=vm_add-gcloud --reservation-affinity=any\n",
      "gcloud compute instances create resdb-38 --project=ucr-ursa-major-lesani-lab --zone=us-west1-b --machine-type=e2-highmem-2 --network-interface=network-tier=PREMIUM,stack-type=IPV4_ONLY,subnet=default --can-ip-forward --maintenance-policy=MIGRATE --provisioning-model=STANDARD --service-account=961693926925-compute@developer.gserviceaccount.com --scopes=https://www.googleapis.com/auth/devstorage.read_only,https://www.googleapis.com/auth/logging.write,https://www.googleapis.com/auth/monitoring.write,https://www.googleapis.com/auth/servicecontrol,https://www.googleapis.com/auth/service.management.readonly,https://www.googleapis.com/auth/trace.append --tags=http-server,https-server --create-disk=auto-delete=yes,boot=yes,device-name=instance-3,image=projects/ubuntu-os-cloud/global/images/ubuntu-2004-focal-v20230831,mode=rw,size=10,type=projects/ucr-ursa-major-lesani-lab/zones/us-west1-b/diskTypes/pd-balanced --no-shielded-secure-boot --shielded-vtpm --shielded-integrity-monitoring --labels=goog-ec-src=vm_add-gcloud --reservation-affinity=any\n",
      "gcloud compute instances create resdb-39 --project=ucr-ursa-major-lesani-lab --zone=us-west1-b --machine-type=e2-highmem-2 --network-interface=network-tier=PREMIUM,stack-type=IPV4_ONLY,subnet=default --can-ip-forward --maintenance-policy=MIGRATE --provisioning-model=STANDARD --service-account=961693926925-compute@developer.gserviceaccount.com --scopes=https://www.googleapis.com/auth/devstorage.read_only,https://www.googleapis.com/auth/logging.write,https://www.googleapis.com/auth/monitoring.write,https://www.googleapis.com/auth/servicecontrol,https://www.googleapis.com/auth/service.management.readonly,https://www.googleapis.com/auth/trace.append --tags=http-server,https-server --create-disk=auto-delete=yes,boot=yes,device-name=instance-3,image=projects/ubuntu-os-cloud/global/images/ubuntu-2004-focal-v20230831,mode=rw,size=10,type=projects/ucr-ursa-major-lesani-lab/zones/us-west1-b/diskTypes/pd-balanced --no-shielded-secure-boot --shielded-vtpm --shielded-integrity-monitoring --labels=goog-ec-src=vm_add-gcloud --reservation-affinity=any\n",
      "gcloud compute instances create resdb-40 --project=ucr-ursa-major-lesani-lab --zone=us-west1-b --machine-type=e2-highmem-2 --network-interface=network-tier=PREMIUM,stack-type=IPV4_ONLY,subnet=default --can-ip-forward --maintenance-policy=MIGRATE --provisioning-model=STANDARD --service-account=961693926925-compute@developer.gserviceaccount.com --scopes=https://www.googleapis.com/auth/devstorage.read_only,https://www.googleapis.com/auth/logging.write,https://www.googleapis.com/auth/monitoring.write,https://www.googleapis.com/auth/servicecontrol,https://www.googleapis.com/auth/service.management.readonly,https://www.googleapis.com/auth/trace.append --tags=http-server,https-server --create-disk=auto-delete=yes,boot=yes,device-name=instance-3,image=projects/ubuntu-os-cloud/global/images/ubuntu-2004-focal-v20230831,mode=rw,size=10,type=projects/ucr-ursa-major-lesani-lab/zones/us-west1-b/diskTypes/pd-balanced --no-shielded-secure-boot --shielded-vtpm --shielded-integrity-monitoring --labels=goog-ec-src=vm_add-gcloud --reservation-affinity=any\n",
      "gcloud compute instances create resdb-41 --project=ucr-ursa-major-lesani-lab --zone=us-west1-b --machine-type=e2-highmem-2 --network-interface=network-tier=PREMIUM,stack-type=IPV4_ONLY,subnet=default --can-ip-forward --maintenance-policy=MIGRATE --provisioning-model=STANDARD --service-account=961693926925-compute@developer.gserviceaccount.com --scopes=https://www.googleapis.com/auth/devstorage.read_only,https://www.googleapis.com/auth/logging.write,https://www.googleapis.com/auth/monitoring.write,https://www.googleapis.com/auth/servicecontrol,https://www.googleapis.com/auth/service.management.readonly,https://www.googleapis.com/auth/trace.append --tags=http-server,https-server --create-disk=auto-delete=yes,boot=yes,device-name=instance-3,image=projects/ubuntu-os-cloud/global/images/ubuntu-2004-focal-v20230831,mode=rw,size=10,type=projects/ucr-ursa-major-lesani-lab/zones/us-west1-b/diskTypes/pd-balanced --no-shielded-secure-boot --shielded-vtpm --shielded-integrity-monitoring --labels=goog-ec-src=vm_add-gcloud --reservation-affinity=any\n",
      "gcloud compute instances create resdb-42 --project=ucr-ursa-major-lesani-lab --zone=us-west1-b --machine-type=e2-highmem-2 --network-interface=network-tier=PREMIUM,stack-type=IPV4_ONLY,subnet=default --can-ip-forward --maintenance-policy=MIGRATE --provisioning-model=STANDARD --service-account=961693926925-compute@developer.gserviceaccount.com --scopes=https://www.googleapis.com/auth/devstorage.read_only,https://www.googleapis.com/auth/logging.write,https://www.googleapis.com/auth/monitoring.write,https://www.googleapis.com/auth/servicecontrol,https://www.googleapis.com/auth/service.management.readonly,https://www.googleapis.com/auth/trace.append --tags=http-server,https-server --create-disk=auto-delete=yes,boot=yes,device-name=instance-3,image=projects/ubuntu-os-cloud/global/images/ubuntu-2004-focal-v20230831,mode=rw,size=10,type=projects/ucr-ursa-major-lesani-lab/zones/us-west1-b/diskTypes/pd-balanced --no-shielded-secure-boot --shielded-vtpm --shielded-integrity-monitoring --labels=goog-ec-src=vm_add-gcloud --reservation-affinity=any\n",
      "gcloud compute instances create resdb-43 --project=ucr-ursa-major-lesani-lab --zone=us-west1-b --machine-type=e2-highmem-2 --network-interface=network-tier=PREMIUM,stack-type=IPV4_ONLY,subnet=default --can-ip-forward --maintenance-policy=MIGRATE --provisioning-model=STANDARD --service-account=961693926925-compute@developer.gserviceaccount.com --scopes=https://www.googleapis.com/auth/devstorage.read_only,https://www.googleapis.com/auth/logging.write,https://www.googleapis.com/auth/monitoring.write,https://www.googleapis.com/auth/servicecontrol,https://www.googleapis.com/auth/service.management.readonly,https://www.googleapis.com/auth/trace.append --tags=http-server,https-server --create-disk=auto-delete=yes,boot=yes,device-name=instance-3,image=projects/ubuntu-os-cloud/global/images/ubuntu-2004-focal-v20230831,mode=rw,size=10,type=projects/ucr-ursa-major-lesani-lab/zones/us-west1-b/diskTypes/pd-balanced --no-shielded-secure-boot --shielded-vtpm --shielded-integrity-monitoring --labels=goog-ec-src=vm_add-gcloud --reservation-affinity=any\n",
      "gcloud compute instances create resdb-44 --project=ucr-ursa-major-lesani-lab --zone=us-west1-b --machine-type=e2-highmem-2 --network-interface=network-tier=PREMIUM,stack-type=IPV4_ONLY,subnet=default --can-ip-forward --maintenance-policy=MIGRATE --provisioning-model=STANDARD --service-account=961693926925-compute@developer.gserviceaccount.com --scopes=https://www.googleapis.com/auth/devstorage.read_only,https://www.googleapis.com/auth/logging.write,https://www.googleapis.com/auth/monitoring.write,https://www.googleapis.com/auth/servicecontrol,https://www.googleapis.com/auth/service.management.readonly,https://www.googleapis.com/auth/trace.append --tags=http-server,https-server --create-disk=auto-delete=yes,boot=yes,device-name=instance-3,image=projects/ubuntu-os-cloud/global/images/ubuntu-2004-focal-v20230831,mode=rw,size=10,type=projects/ucr-ursa-major-lesani-lab/zones/us-west1-b/diskTypes/pd-balanced --no-shielded-secure-boot --shielded-vtpm --shielded-integrity-monitoring --labels=goog-ec-src=vm_add-gcloud --reservation-affinity=any\n",
      "gcloud compute instances create resdb-45 --project=ucr-ursa-major-lesani-lab --zone=us-west1-b --machine-type=e2-highmem-2 --network-interface=network-tier=PREMIUM,stack-type=IPV4_ONLY,subnet=default --can-ip-forward --maintenance-policy=MIGRATE --provisioning-model=STANDARD --service-account=961693926925-compute@developer.gserviceaccount.com --scopes=https://www.googleapis.com/auth/devstorage.read_only,https://www.googleapis.com/auth/logging.write,https://www.googleapis.com/auth/monitoring.write,https://www.googleapis.com/auth/servicecontrol,https://www.googleapis.com/auth/service.management.readonly,https://www.googleapis.com/auth/trace.append --tags=http-server,https-server --create-disk=auto-delete=yes,boot=yes,device-name=instance-3,image=projects/ubuntu-os-cloud/global/images/ubuntu-2004-focal-v20230831,mode=rw,size=10,type=projects/ucr-ursa-major-lesani-lab/zones/us-west1-b/diskTypes/pd-balanced --no-shielded-secure-boot --shielded-vtpm --shielded-integrity-monitoring --labels=goog-ec-src=vm_add-gcloud --reservation-affinity=any\n",
      "gcloud compute instances create resdb-46 --project=ucr-ursa-major-lesani-lab --zone=us-west1-b --machine-type=e2-highmem-2 --network-interface=network-tier=PREMIUM,stack-type=IPV4_ONLY,subnet=default --can-ip-forward --maintenance-policy=MIGRATE --provisioning-model=STANDARD --service-account=961693926925-compute@developer.gserviceaccount.com --scopes=https://www.googleapis.com/auth/devstorage.read_only,https://www.googleapis.com/auth/logging.write,https://www.googleapis.com/auth/monitoring.write,https://www.googleapis.com/auth/servicecontrol,https://www.googleapis.com/auth/service.management.readonly,https://www.googleapis.com/auth/trace.append --tags=http-server,https-server --create-disk=auto-delete=yes,boot=yes,device-name=instance-3,image=projects/ubuntu-os-cloud/global/images/ubuntu-2004-focal-v20230831,mode=rw,size=10,type=projects/ucr-ursa-major-lesani-lab/zones/us-west1-b/diskTypes/pd-balanced --no-shielded-secure-boot --shielded-vtpm --shielded-integrity-monitoring --labels=goog-ec-src=vm_add-gcloud --reservation-affinity=any\n",
      "gcloud compute instances create resdb-47 --project=ucr-ursa-major-lesani-lab --zone=us-west1-b --machine-type=e2-highmem-2 --network-interface=network-tier=PREMIUM,stack-type=IPV4_ONLY,subnet=default --can-ip-forward --maintenance-policy=MIGRATE --provisioning-model=STANDARD --service-account=961693926925-compute@developer.gserviceaccount.com --scopes=https://www.googleapis.com/auth/devstorage.read_only,https://www.googleapis.com/auth/logging.write,https://www.googleapis.com/auth/monitoring.write,https://www.googleapis.com/auth/servicecontrol,https://www.googleapis.com/auth/service.management.readonly,https://www.googleapis.com/auth/trace.append --tags=http-server,https-server --create-disk=auto-delete=yes,boot=yes,device-name=instance-3,image=projects/ubuntu-os-cloud/global/images/ubuntu-2004-focal-v20230831,mode=rw,size=10,type=projects/ucr-ursa-major-lesani-lab/zones/us-west1-b/diskTypes/pd-balanced --no-shielded-secure-boot --shielded-vtpm --shielded-integrity-monitoring --labels=goog-ec-src=vm_add-gcloud --reservation-affinity=any\n",
      "gcloud compute instances create resdb-48 --project=ucr-ursa-major-lesani-lab --zone=us-west1-b --machine-type=e2-highmem-2 --network-interface=network-tier=PREMIUM,stack-type=IPV4_ONLY,subnet=default --can-ip-forward --maintenance-policy=MIGRATE --provisioning-model=STANDARD --service-account=961693926925-compute@developer.gserviceaccount.com --scopes=https://www.googleapis.com/auth/devstorage.read_only,https://www.googleapis.com/auth/logging.write,https://www.googleapis.com/auth/monitoring.write,https://www.googleapis.com/auth/servicecontrol,https://www.googleapis.com/auth/service.management.readonly,https://www.googleapis.com/auth/trace.append --tags=http-server,https-server --create-disk=auto-delete=yes,boot=yes,device-name=instance-3,image=projects/ubuntu-os-cloud/global/images/ubuntu-2004-focal-v20230831,mode=rw,size=10,type=projects/ucr-ursa-major-lesani-lab/zones/us-west1-b/diskTypes/pd-balanced --no-shielded-secure-boot --shielded-vtpm --shielded-integrity-monitoring --labels=goog-ec-src=vm_add-gcloud --reservation-affinity=any\n",
      "gcloud compute instances create resdb-49 --project=ucr-ursa-major-lesani-lab --zone=us-west1-b --machine-type=e2-highmem-2 --network-interface=network-tier=PREMIUM,stack-type=IPV4_ONLY,subnet=default --can-ip-forward --maintenance-policy=MIGRATE --provisioning-model=STANDARD --service-account=961693926925-compute@developer.gserviceaccount.com --scopes=https://www.googleapis.com/auth/devstorage.read_only,https://www.googleapis.com/auth/logging.write,https://www.googleapis.com/auth/monitoring.write,https://www.googleapis.com/auth/servicecontrol,https://www.googleapis.com/auth/service.management.readonly,https://www.googleapis.com/auth/trace.append --tags=http-server,https-server --create-disk=auto-delete=yes,boot=yes,device-name=instance-3,image=projects/ubuntu-os-cloud/global/images/ubuntu-2004-focal-v20230831,mode=rw,size=10,type=projects/ucr-ursa-major-lesani-lab/zones/us-west1-b/diskTypes/pd-balanced --no-shielded-secure-boot --shielded-vtpm --shielded-integrity-monitoring --labels=goog-ec-src=vm_add-gcloud --reservation-affinity=any\n",
      "gcloud compute instances create resdb-50 --project=ucr-ursa-major-lesani-lab --zone=us-west1-b --machine-type=e2-highmem-2 --network-interface=network-tier=PREMIUM,stack-type=IPV4_ONLY,subnet=default --can-ip-forward --maintenance-policy=MIGRATE --provisioning-model=STANDARD --service-account=961693926925-compute@developer.gserviceaccount.com --scopes=https://www.googleapis.com/auth/devstorage.read_only,https://www.googleapis.com/auth/logging.write,https://www.googleapis.com/auth/monitoring.write,https://www.googleapis.com/auth/servicecontrol,https://www.googleapis.com/auth/service.management.readonly,https://www.googleapis.com/auth/trace.append --tags=http-server,https-server --create-disk=auto-delete=yes,boot=yes,device-name=instance-3,image=projects/ubuntu-os-cloud/global/images/ubuntu-2004-focal-v20230831,mode=rw,size=10,type=projects/ucr-ursa-major-lesani-lab/zones/us-west1-b/diskTypes/pd-balanced --no-shielded-secure-boot --shielded-vtpm --shielded-integrity-monitoring --labels=goog-ec-src=vm_add-gcloud --reservation-affinity=any\n",
      "gcloud compute instances create resdb-51 --project=ucr-ursa-major-lesani-lab --zone=us-west1-b --machine-type=e2-highmem-2 --network-interface=network-tier=PREMIUM,stack-type=IPV4_ONLY,subnet=default --can-ip-forward --maintenance-policy=MIGRATE --provisioning-model=STANDARD --service-account=961693926925-compute@developer.gserviceaccount.com --scopes=https://www.googleapis.com/auth/devstorage.read_only,https://www.googleapis.com/auth/logging.write,https://www.googleapis.com/auth/monitoring.write,https://www.googleapis.com/auth/servicecontrol,https://www.googleapis.com/auth/service.management.readonly,https://www.googleapis.com/auth/trace.append --tags=http-server,https-server --create-disk=auto-delete=yes,boot=yes,device-name=instance-3,image=projects/ubuntu-os-cloud/global/images/ubuntu-2004-focal-v20230831,mode=rw,size=10,type=projects/ucr-ursa-major-lesani-lab/zones/us-west1-b/diskTypes/pd-balanced --no-shielded-secure-boot --shielded-vtpm --shielded-integrity-monitoring --labels=goog-ec-src=vm_add-gcloud --reservation-affinity=any\n",
      "gcloud compute instances create resdb-52 --project=ucr-ursa-major-lesani-lab --zone=us-west1-b --machine-type=e2-highmem-2 --network-interface=network-tier=PREMIUM,stack-type=IPV4_ONLY,subnet=default --can-ip-forward --maintenance-policy=MIGRATE --provisioning-model=STANDARD --service-account=961693926925-compute@developer.gserviceaccount.com --scopes=https://www.googleapis.com/auth/devstorage.read_only,https://www.googleapis.com/auth/logging.write,https://www.googleapis.com/auth/monitoring.write,https://www.googleapis.com/auth/servicecontrol,https://www.googleapis.com/auth/service.management.readonly,https://www.googleapis.com/auth/trace.append --tags=http-server,https-server --create-disk=auto-delete=yes,boot=yes,device-name=instance-3,image=projects/ubuntu-os-cloud/global/images/ubuntu-2004-focal-v20230831,mode=rw,size=10,type=projects/ucr-ursa-major-lesani-lab/zones/us-west1-b/diskTypes/pd-balanced --no-shielded-secure-boot --shielded-vtpm --shielded-integrity-monitoring --labels=goog-ec-src=vm_add-gcloud --reservation-affinity=any\n",
      "gcloud compute instances create resdb-53 --project=ucr-ursa-major-lesani-lab --zone=us-west1-b --machine-type=e2-highmem-2 --network-interface=network-tier=PREMIUM,stack-type=IPV4_ONLY,subnet=default --can-ip-forward --maintenance-policy=MIGRATE --provisioning-model=STANDARD --service-account=961693926925-compute@developer.gserviceaccount.com --scopes=https://www.googleapis.com/auth/devstorage.read_only,https://www.googleapis.com/auth/logging.write,https://www.googleapis.com/auth/monitoring.write,https://www.googleapis.com/auth/servicecontrol,https://www.googleapis.com/auth/service.management.readonly,https://www.googleapis.com/auth/trace.append --tags=http-server,https-server --create-disk=auto-delete=yes,boot=yes,device-name=instance-3,image=projects/ubuntu-os-cloud/global/images/ubuntu-2004-focal-v20230831,mode=rw,size=10,type=projects/ucr-ursa-major-lesani-lab/zones/us-west1-b/diskTypes/pd-balanced --no-shielded-secure-boot --shielded-vtpm --shielded-integrity-monitoring --labels=goog-ec-src=vm_add-gcloud --reservation-affinity=any\n",
      "gcloud compute instances create resdb-54 --project=ucr-ursa-major-lesani-lab --zone=us-west1-b --machine-type=e2-highmem-2 --network-interface=network-tier=PREMIUM,stack-type=IPV4_ONLY,subnet=default --can-ip-forward --maintenance-policy=MIGRATE --provisioning-model=STANDARD --service-account=961693926925-compute@developer.gserviceaccount.com --scopes=https://www.googleapis.com/auth/devstorage.read_only,https://www.googleapis.com/auth/logging.write,https://www.googleapis.com/auth/monitoring.write,https://www.googleapis.com/auth/servicecontrol,https://www.googleapis.com/auth/service.management.readonly,https://www.googleapis.com/auth/trace.append --tags=http-server,https-server --create-disk=auto-delete=yes,boot=yes,device-name=instance-3,image=projects/ubuntu-os-cloud/global/images/ubuntu-2004-focal-v20230831,mode=rw,size=10,type=projects/ucr-ursa-major-lesani-lab/zones/us-west1-b/diskTypes/pd-balanced --no-shielded-secure-boot --shielded-vtpm --shielded-integrity-monitoring --labels=goog-ec-src=vm_add-gcloud --reservation-affinity=any\n",
      "gcloud compute instances create resdb-55 --project=ucr-ursa-major-lesani-lab --zone=us-west1-b --machine-type=e2-highmem-2 --network-interface=network-tier=PREMIUM,stack-type=IPV4_ONLY,subnet=default --can-ip-forward --maintenance-policy=MIGRATE --provisioning-model=STANDARD --service-account=961693926925-compute@developer.gserviceaccount.com --scopes=https://www.googleapis.com/auth/devstorage.read_only,https://www.googleapis.com/auth/logging.write,https://www.googleapis.com/auth/monitoring.write,https://www.googleapis.com/auth/servicecontrol,https://www.googleapis.com/auth/service.management.readonly,https://www.googleapis.com/auth/trace.append --tags=http-server,https-server --create-disk=auto-delete=yes,boot=yes,device-name=instance-3,image=projects/ubuntu-os-cloud/global/images/ubuntu-2004-focal-v20230831,mode=rw,size=10,type=projects/ucr-ursa-major-lesani-lab/zones/us-west1-b/diskTypes/pd-balanced --no-shielded-secure-boot --shielded-vtpm --shielded-integrity-monitoring --labels=goog-ec-src=vm_add-gcloud --reservation-affinity=any\n",
      "gcloud compute instances create resdb-56 --project=ucr-ursa-major-lesani-lab --zone=us-west1-b --machine-type=e2-highmem-2 --network-interface=network-tier=PREMIUM,stack-type=IPV4_ONLY,subnet=default --can-ip-forward --maintenance-policy=MIGRATE --provisioning-model=STANDARD --service-account=961693926925-compute@developer.gserviceaccount.com --scopes=https://www.googleapis.com/auth/devstorage.read_only,https://www.googleapis.com/auth/logging.write,https://www.googleapis.com/auth/monitoring.write,https://www.googleapis.com/auth/servicecontrol,https://www.googleapis.com/auth/service.management.readonly,https://www.googleapis.com/auth/trace.append --tags=http-server,https-server --create-disk=auto-delete=yes,boot=yes,device-name=instance-3,image=projects/ubuntu-os-cloud/global/images/ubuntu-2004-focal-v20230831,mode=rw,size=10,type=projects/ucr-ursa-major-lesani-lab/zones/us-west1-b/diskTypes/pd-balanced --no-shielded-secure-boot --shielded-vtpm --shielded-integrity-monitoring --labels=goog-ec-src=vm_add-gcloud --reservation-affinity=any\n",
      "gcloud compute instances create resdb-57 --project=ucr-ursa-major-lesani-lab --zone=us-west1-b --machine-type=e2-highmem-2 --network-interface=network-tier=PREMIUM,stack-type=IPV4_ONLY,subnet=default --can-ip-forward --maintenance-policy=MIGRATE --provisioning-model=STANDARD --service-account=961693926925-compute@developer.gserviceaccount.com --scopes=https://www.googleapis.com/auth/devstorage.read_only,https://www.googleapis.com/auth/logging.write,https://www.googleapis.com/auth/monitoring.write,https://www.googleapis.com/auth/servicecontrol,https://www.googleapis.com/auth/service.management.readonly,https://www.googleapis.com/auth/trace.append --tags=http-server,https-server --create-disk=auto-delete=yes,boot=yes,device-name=instance-3,image=projects/ubuntu-os-cloud/global/images/ubuntu-2004-focal-v20230831,mode=rw,size=10,type=projects/ucr-ursa-major-lesani-lab/zones/us-west1-b/diskTypes/pd-balanced --no-shielded-secure-boot --shielded-vtpm --shielded-integrity-monitoring --labels=goog-ec-src=vm_add-gcloud --reservation-affinity=any\n",
      "gcloud compute instances create resdb-58 --project=ucr-ursa-major-lesani-lab --zone=us-west1-b --machine-type=e2-highmem-2 --network-interface=network-tier=PREMIUM,stack-type=IPV4_ONLY,subnet=default --can-ip-forward --maintenance-policy=MIGRATE --provisioning-model=STANDARD --service-account=961693926925-compute@developer.gserviceaccount.com --scopes=https://www.googleapis.com/auth/devstorage.read_only,https://www.googleapis.com/auth/logging.write,https://www.googleapis.com/auth/monitoring.write,https://www.googleapis.com/auth/servicecontrol,https://www.googleapis.com/auth/service.management.readonly,https://www.googleapis.com/auth/trace.append --tags=http-server,https-server --create-disk=auto-delete=yes,boot=yes,device-name=instance-3,image=projects/ubuntu-os-cloud/global/images/ubuntu-2004-focal-v20230831,mode=rw,size=10,type=projects/ucr-ursa-major-lesani-lab/zones/us-west1-b/diskTypes/pd-balanced --no-shielded-secure-boot --shielded-vtpm --shielded-integrity-monitoring --labels=goog-ec-src=vm_add-gcloud --reservation-affinity=any\n",
      "gcloud compute instances create resdb-59 --project=ucr-ursa-major-lesani-lab --zone=us-west1-b --machine-type=e2-highmem-2 --network-interface=network-tier=PREMIUM,stack-type=IPV4_ONLY,subnet=default --can-ip-forward --maintenance-policy=MIGRATE --provisioning-model=STANDARD --service-account=961693926925-compute@developer.gserviceaccount.com --scopes=https://www.googleapis.com/auth/devstorage.read_only,https://www.googleapis.com/auth/logging.write,https://www.googleapis.com/auth/monitoring.write,https://www.googleapis.com/auth/servicecontrol,https://www.googleapis.com/auth/service.management.readonly,https://www.googleapis.com/auth/trace.append --tags=http-server,https-server --create-disk=auto-delete=yes,boot=yes,device-name=instance-3,image=projects/ubuntu-os-cloud/global/images/ubuntu-2004-focal-v20230831,mode=rw,size=10,type=projects/ucr-ursa-major-lesani-lab/zones/us-west1-b/diskTypes/pd-balanced --no-shielded-secure-boot --shielded-vtpm --shielded-integrity-monitoring --labels=goog-ec-src=vm_add-gcloud --reservation-affinity=any\n",
      "gcloud compute instances create resdb-60 --project=ucr-ursa-major-lesani-lab --zone=us-west1-b --machine-type=e2-highmem-2 --network-interface=network-tier=PREMIUM,stack-type=IPV4_ONLY,subnet=default --can-ip-forward --maintenance-policy=MIGRATE --provisioning-model=STANDARD --service-account=961693926925-compute@developer.gserviceaccount.com --scopes=https://www.googleapis.com/auth/devstorage.read_only,https://www.googleapis.com/auth/logging.write,https://www.googleapis.com/auth/monitoring.write,https://www.googleapis.com/auth/servicecontrol,https://www.googleapis.com/auth/service.management.readonly,https://www.googleapis.com/auth/trace.append --tags=http-server,https-server --create-disk=auto-delete=yes,boot=yes,device-name=instance-3,image=projects/ubuntu-os-cloud/global/images/ubuntu-2004-focal-v20230831,mode=rw,size=10,type=projects/ucr-ursa-major-lesani-lab/zones/us-west1-b/diskTypes/pd-balanced --no-shielded-secure-boot --shielded-vtpm --shielded-integrity-monitoring --labels=goog-ec-src=vm_add-gcloud --reservation-affinity=any\n",
      "gcloud compute instances create resdb-61 --project=ucr-ursa-major-lesani-lab --zone=us-west1-b --machine-type=e2-highmem-2 --network-interface=network-tier=PREMIUM,stack-type=IPV4_ONLY,subnet=default --can-ip-forward --maintenance-policy=MIGRATE --provisioning-model=STANDARD --service-account=961693926925-compute@developer.gserviceaccount.com --scopes=https://www.googleapis.com/auth/devstorage.read_only,https://www.googleapis.com/auth/logging.write,https://www.googleapis.com/auth/monitoring.write,https://www.googleapis.com/auth/servicecontrol,https://www.googleapis.com/auth/service.management.readonly,https://www.googleapis.com/auth/trace.append --tags=http-server,https-server --create-disk=auto-delete=yes,boot=yes,device-name=instance-3,image=projects/ubuntu-os-cloud/global/images/ubuntu-2004-focal-v20230831,mode=rw,size=10,type=projects/ucr-ursa-major-lesani-lab/zones/us-west1-b/diskTypes/pd-balanced --no-shielded-secure-boot --shielded-vtpm --shielded-integrity-monitoring --labels=goog-ec-src=vm_add-gcloud --reservation-affinity=any\n",
      "gcloud compute instances create resdb-62 --project=ucr-ursa-major-lesani-lab --zone=us-west1-b --machine-type=e2-highmem-2 --network-interface=network-tier=PREMIUM,stack-type=IPV4_ONLY,subnet=default --can-ip-forward --maintenance-policy=MIGRATE --provisioning-model=STANDARD --service-account=961693926925-compute@developer.gserviceaccount.com --scopes=https://www.googleapis.com/auth/devstorage.read_only,https://www.googleapis.com/auth/logging.write,https://www.googleapis.com/auth/monitoring.write,https://www.googleapis.com/auth/servicecontrol,https://www.googleapis.com/auth/service.management.readonly,https://www.googleapis.com/auth/trace.append --tags=http-server,https-server --create-disk=auto-delete=yes,boot=yes,device-name=instance-3,image=projects/ubuntu-os-cloud/global/images/ubuntu-2004-focal-v20230831,mode=rw,size=10,type=projects/ucr-ursa-major-lesani-lab/zones/us-west1-b/diskTypes/pd-balanced --no-shielded-secure-boot --shielded-vtpm --shielded-integrity-monitoring --labels=goog-ec-src=vm_add-gcloud --reservation-affinity=any\n",
      "gcloud compute instances create resdb-63 --project=ucr-ursa-major-lesani-lab --zone=us-west1-b --machine-type=e2-highmem-2 --network-interface=network-tier=PREMIUM,stack-type=IPV4_ONLY,subnet=default --can-ip-forward --maintenance-policy=MIGRATE --provisioning-model=STANDARD --service-account=961693926925-compute@developer.gserviceaccount.com --scopes=https://www.googleapis.com/auth/devstorage.read_only,https://www.googleapis.com/auth/logging.write,https://www.googleapis.com/auth/monitoring.write,https://www.googleapis.com/auth/servicecontrol,https://www.googleapis.com/auth/service.management.readonly,https://www.googleapis.com/auth/trace.append --tags=http-server,https-server --create-disk=auto-delete=yes,boot=yes,device-name=instance-3,image=projects/ubuntu-os-cloud/global/images/ubuntu-2004-focal-v20230831,mode=rw,size=10,type=projects/ucr-ursa-major-lesani-lab/zones/us-west1-b/diskTypes/pd-balanced --no-shielded-secure-boot --shielded-vtpm --shielded-integrity-monitoring --labels=goog-ec-src=vm_add-gcloud --reservation-affinity=any\n",
      "gcloud compute instances create resdb-64 --project=ucr-ursa-major-lesani-lab --zone=us-west1-b --machine-type=e2-highmem-2 --network-interface=network-tier=PREMIUM,stack-type=IPV4_ONLY,subnet=default --can-ip-forward --maintenance-policy=MIGRATE --provisioning-model=STANDARD --service-account=961693926925-compute@developer.gserviceaccount.com --scopes=https://www.googleapis.com/auth/devstorage.read_only,https://www.googleapis.com/auth/logging.write,https://www.googleapis.com/auth/monitoring.write,https://www.googleapis.com/auth/servicecontrol,https://www.googleapis.com/auth/service.management.readonly,https://www.googleapis.com/auth/trace.append --tags=http-server,https-server --create-disk=auto-delete=yes,boot=yes,device-name=instance-3,image=projects/ubuntu-os-cloud/global/images/ubuntu-2004-focal-v20230831,mode=rw,size=10,type=projects/ucr-ursa-major-lesani-lab/zones/us-west1-b/diskTypes/pd-balanced --no-shielded-secure-boot --shielded-vtpm --shielded-integrity-monitoring --labels=goog-ec-src=vm_add-gcloud --reservation-affinity=any\n",
      "gcloud compute instances create resdb-65 --project=ucr-ursa-major-lesani-lab --zone=us-west1-b --machine-type=e2-highmem-2 --network-interface=network-tier=PREMIUM,stack-type=IPV4_ONLY,subnet=default --can-ip-forward --maintenance-policy=MIGRATE --provisioning-model=STANDARD --service-account=961693926925-compute@developer.gserviceaccount.com --scopes=https://www.googleapis.com/auth/devstorage.read_only,https://www.googleapis.com/auth/logging.write,https://www.googleapis.com/auth/monitoring.write,https://www.googleapis.com/auth/servicecontrol,https://www.googleapis.com/auth/service.management.readonly,https://www.googleapis.com/auth/trace.append --tags=http-server,https-server --create-disk=auto-delete=yes,boot=yes,device-name=instance-3,image=projects/ubuntu-os-cloud/global/images/ubuntu-2004-focal-v20230831,mode=rw,size=10,type=projects/ucr-ursa-major-lesani-lab/zones/us-west1-b/diskTypes/pd-balanced --no-shielded-secure-boot --shielded-vtpm --shielded-integrity-monitoring --labels=goog-ec-src=vm_add-gcloud --reservation-affinity=any\n",
      "gcloud compute instances create resdb-66 --project=ucr-ursa-major-lesani-lab --zone=us-west1-b --machine-type=e2-highmem-2 --network-interface=network-tier=PREMIUM,stack-type=IPV4_ONLY,subnet=default --can-ip-forward --maintenance-policy=MIGRATE --provisioning-model=STANDARD --service-account=961693926925-compute@developer.gserviceaccount.com --scopes=https://www.googleapis.com/auth/devstorage.read_only,https://www.googleapis.com/auth/logging.write,https://www.googleapis.com/auth/monitoring.write,https://www.googleapis.com/auth/servicecontrol,https://www.googleapis.com/auth/service.management.readonly,https://www.googleapis.com/auth/trace.append --tags=http-server,https-server --create-disk=auto-delete=yes,boot=yes,device-name=instance-3,image=projects/ubuntu-os-cloud/global/images/ubuntu-2004-focal-v20230831,mode=rw,size=10,type=projects/ucr-ursa-major-lesani-lab/zones/us-west1-b/diskTypes/pd-balanced --no-shielded-secure-boot --shielded-vtpm --shielded-integrity-monitoring --labels=goog-ec-src=vm_add-gcloud --reservation-affinity=any\n",
      "gcloud compute instances create resdb-67 --project=ucr-ursa-major-lesani-lab --zone=us-west1-b --machine-type=e2-highmem-2 --network-interface=network-tier=PREMIUM,stack-type=IPV4_ONLY,subnet=default --can-ip-forward --maintenance-policy=MIGRATE --provisioning-model=STANDARD --service-account=961693926925-compute@developer.gserviceaccount.com --scopes=https://www.googleapis.com/auth/devstorage.read_only,https://www.googleapis.com/auth/logging.write,https://www.googleapis.com/auth/monitoring.write,https://www.googleapis.com/auth/servicecontrol,https://www.googleapis.com/auth/service.management.readonly,https://www.googleapis.com/auth/trace.append --tags=http-server,https-server --create-disk=auto-delete=yes,boot=yes,device-name=instance-3,image=projects/ubuntu-os-cloud/global/images/ubuntu-2004-focal-v20230831,mode=rw,size=10,type=projects/ucr-ursa-major-lesani-lab/zones/us-west1-b/diskTypes/pd-balanced --no-shielded-secure-boot --shielded-vtpm --shielded-integrity-monitoring --labels=goog-ec-src=vm_add-gcloud --reservation-affinity=any\n",
      "gcloud compute instances create resdb-68 --project=ucr-ursa-major-lesani-lab --zone=us-west1-b --machine-type=e2-highmem-2 --network-interface=network-tier=PREMIUM,stack-type=IPV4_ONLY,subnet=default --can-ip-forward --maintenance-policy=MIGRATE --provisioning-model=STANDARD --service-account=961693926925-compute@developer.gserviceaccount.com --scopes=https://www.googleapis.com/auth/devstorage.read_only,https://www.googleapis.com/auth/logging.write,https://www.googleapis.com/auth/monitoring.write,https://www.googleapis.com/auth/servicecontrol,https://www.googleapis.com/auth/service.management.readonly,https://www.googleapis.com/auth/trace.append --tags=http-server,https-server --create-disk=auto-delete=yes,boot=yes,device-name=instance-3,image=projects/ubuntu-os-cloud/global/images/ubuntu-2004-focal-v20230831,mode=rw,size=10,type=projects/ucr-ursa-major-lesani-lab/zones/us-west1-b/diskTypes/pd-balanced --no-shielded-secure-boot --shielded-vtpm --shielded-integrity-monitoring --labels=goog-ec-src=vm_add-gcloud --reservation-affinity=any\n",
      "gcloud compute instances create resdb-69 --project=ucr-ursa-major-lesani-lab --zone=us-west1-b --machine-type=e2-highmem-2 --network-interface=network-tier=PREMIUM,stack-type=IPV4_ONLY,subnet=default --can-ip-forward --maintenance-policy=MIGRATE --provisioning-model=STANDARD --service-account=961693926925-compute@developer.gserviceaccount.com --scopes=https://www.googleapis.com/auth/devstorage.read_only,https://www.googleapis.com/auth/logging.write,https://www.googleapis.com/auth/monitoring.write,https://www.googleapis.com/auth/servicecontrol,https://www.googleapis.com/auth/service.management.readonly,https://www.googleapis.com/auth/trace.append --tags=http-server,https-server --create-disk=auto-delete=yes,boot=yes,device-name=instance-3,image=projects/ubuntu-os-cloud/global/images/ubuntu-2004-focal-v20230831,mode=rw,size=10,type=projects/ucr-ursa-major-lesani-lab/zones/us-west1-b/diskTypes/pd-balanced --no-shielded-secure-boot --shielded-vtpm --shielded-integrity-monitoring --labels=goog-ec-src=vm_add-gcloud --reservation-affinity=any\n",
      "gcloud compute instances create resdb-70 --project=ucr-ursa-major-lesani-lab --zone=us-west1-b --machine-type=e2-highmem-2 --network-interface=network-tier=PREMIUM,stack-type=IPV4_ONLY,subnet=default --can-ip-forward --maintenance-policy=MIGRATE --provisioning-model=STANDARD --service-account=961693926925-compute@developer.gserviceaccount.com --scopes=https://www.googleapis.com/auth/devstorage.read_only,https://www.googleapis.com/auth/logging.write,https://www.googleapis.com/auth/monitoring.write,https://www.googleapis.com/auth/servicecontrol,https://www.googleapis.com/auth/service.management.readonly,https://www.googleapis.com/auth/trace.append --tags=http-server,https-server --create-disk=auto-delete=yes,boot=yes,device-name=instance-3,image=projects/ubuntu-os-cloud/global/images/ubuntu-2004-focal-v20230831,mode=rw,size=10,type=projects/ucr-ursa-major-lesani-lab/zones/us-west1-b/diskTypes/pd-balanced --no-shielded-secure-boot --shielded-vtpm --shielded-integrity-monitoring --labels=goog-ec-src=vm_add-gcloud --reservation-affinity=any\n",
      "gcloud compute instances create resdb-71 --project=ucr-ursa-major-lesani-lab --zone=us-west1-b --machine-type=e2-highmem-2 --network-interface=network-tier=PREMIUM,stack-type=IPV4_ONLY,subnet=default --can-ip-forward --maintenance-policy=MIGRATE --provisioning-model=STANDARD --service-account=961693926925-compute@developer.gserviceaccount.com --scopes=https://www.googleapis.com/auth/devstorage.read_only,https://www.googleapis.com/auth/logging.write,https://www.googleapis.com/auth/monitoring.write,https://www.googleapis.com/auth/servicecontrol,https://www.googleapis.com/auth/service.management.readonly,https://www.googleapis.com/auth/trace.append --tags=http-server,https-server --create-disk=auto-delete=yes,boot=yes,device-name=instance-3,image=projects/ubuntu-os-cloud/global/images/ubuntu-2004-focal-v20230831,mode=rw,size=10,type=projects/ucr-ursa-major-lesani-lab/zones/us-west1-b/diskTypes/pd-balanced --no-shielded-secure-boot --shielded-vtpm --shielded-integrity-monitoring --labels=goog-ec-src=vm_add-gcloud --reservation-affinity=any\n"
     ]
    }
   ],
   "source": [
    "lines  = []\n",
    "zones = {}\n",
    "\n",
    "\n",
    "lim = 0\n",
    "for reg in regions:\n",
    "    for i in range(replica_count+int(nclients/n_clusters)):\n",
    "        line = 'gcloud compute instances create resdb-'+f\"{lim+i:02}\"+' --project=ucr-ursa-major-lesani-lab --zone='+reg+' --machine-type=e2-highmem-2 --network-interface=network-tier=PREMIUM,stack-type=IPV4_ONLY,subnet=default --can-ip-forward --maintenance-policy=MIGRATE --provisioning-model=STANDARD --service-account=961693926925-compute@developer.gserviceaccount.com --scopes=https://www.googleapis.com/auth/devstorage.read_only,https://www.googleapis.com/auth/logging.write,https://www.googleapis.com/auth/monitoring.write,https://www.googleapis.com/auth/servicecontrol,https://www.googleapis.com/auth/service.management.readonly,https://www.googleapis.com/auth/trace.append --tags=http-server,https-server --create-disk=auto-delete=yes,boot=yes,device-name=instance-3,image=projects/ubuntu-os-cloud/global/images/ubuntu-2004-focal-v20230831,mode=rw,size=10,type=projects/ucr-ursa-major-lesani-lab/zones/us-west1-b/diskTypes/pd-balanced --no-shielded-secure-boot --shielded-vtpm --shielded-integrity-monitoring --labels=goog-ec-src=vm_add-gcloud --reservation-affinity=any'\n",
    "        \n",
    "        print(line)\n",
    "        lines.append(line)\n",
    "        zones[i] = reg\n",
    "    \n",
    "    lim = lim + replica_count+int(nclients/n_clusters)\n",
    "        \n",
    "    \n",
    "    \n",
    "    \n",
    "with open('launch_cloud_instances.sh', 'w') as f:\n",
    "    for item in lines:\n",
    "        f.write(str(item) + '\\n')\n"
   ]
  },
  {
   "cell_type": "code",
   "execution_count": 11,
   "id": "f4f6da88",
   "metadata": {},
   "outputs": [
    {
     "name": "stderr",
     "output_type": "stream",
     "text": [
      "ERROR: (gcloud.compute.instances.create) Could not fetch resource:\n",
      " - The resource 'projects/ucr-ursa-major-lesani-lab/zones/us-west1-b/instances/resdb-09' already exists\n",
      "\n",
      "ERROR: (gcloud.compute.instances.create) Could not fetch resource:\n",
      " - The resource 'projects/ucr-ursa-major-lesani-lab/zones/us-west1-b/instances/resdb-13' already exists\n",
      "\n",
      "ERROR: (gcloud.compute.instances.create) Could not fetch resource:\n",
      " - The resource 'projects/ucr-ursa-major-lesani-lab/zones/us-west1-b/instances/resdb-11' already exists\n",
      "\n",
      "ERROR: (gcloud.compute.instances.create) Could not fetch resource:\n",
      " - The resource 'projects/ucr-ursa-major-lesani-lab/zones/us-west1-b/instances/resdb-00' already exists\n",
      "\n",
      "ERROR: (gcloud.compute.instances.create) Could not fetch resource:\n",
      " - The resource 'projects/ucr-ursa-major-lesani-lab/zones/us-west1-b/instances/resdb-25' already exists\n",
      "\n",
      "ERROR: (gcloud.compute.instances.create) Could not fetch resource:\n",
      " - The resource 'projects/ucr-ursa-major-lesani-lab/zones/us-west1-b/instances/resdb-02' already exists\n",
      "\n",
      "ERROR: (gcloud.compute.instances.create) Could not fetch resource:\n",
      " - The resource 'projects/ucr-ursa-major-lesani-lab/zones/us-west1-b/instances/resdb-04' already exists\n",
      "\n",
      "ERROR: (gcloud.compute.instances.create) Could not fetch resource:\n",
      " - The resource 'projects/ucr-ursa-major-lesani-lab/zones/us-west1-b/instances/resdb-05' already exists\n",
      "\n",
      "ERROR: (gcloud.compute.instances.create) Could not fetch resource:\n",
      " - The resource 'projects/ucr-ursa-major-lesani-lab/zones/us-west1-b/instances/resdb-03' already exists\n",
      "\n",
      "ERROR: (gcloud.compute.instances.create) Could not fetch resource:\n",
      " - The resource 'projects/ucr-ursa-major-lesani-lab/zones/us-west1-b/instances/resdb-10' already exists\n",
      "\n",
      "ERROR: (gcloud.compute.instances.create) Could not fetch resource:\n",
      " - The resource 'projects/ucr-ursa-major-lesani-lab/zones/us-west1-b/instances/resdb-12' already exists\n",
      "\n",
      "ERROR: (gcloud.compute.instances.create) Could not fetch resource:\n",
      " - The resource 'projects/ucr-ursa-major-lesani-lab/zones/us-west1-b/instances/resdb-19' already exists\n",
      "\n",
      "ERROR: (gcloud.compute.instances.create) Could not fetch resource:\n",
      " - The resource 'projects/ucr-ursa-major-lesani-lab/zones/us-west1-b/instances/resdb-07' already exists\n",
      "\n",
      "ERROR: (gcloud.compute.instances.create) Could not fetch resource:\n",
      " - The resource 'projects/ucr-ursa-major-lesani-lab/zones/us-west1-b/instances/resdb-26' already exists\n",
      "\n",
      "ERROR: (gcloud.compute.instances.create) Could not fetch resource:\n",
      " - The resource 'projects/ucr-ursa-major-lesani-lab/zones/us-west1-b/instances/resdb-15' already exists\n",
      "\n",
      "ERROR: (gcloud.compute.instances.create) Could not fetch resource:\n",
      " - The resource 'projects/ucr-ursa-major-lesani-lab/zones/us-west1-b/instances/resdb-22' already exists\n",
      "\n",
      "ERROR: (gcloud.compute.instances.create) Could not fetch resource:\n",
      " - The resource 'projects/ucr-ursa-major-lesani-lab/zones/us-west1-b/instances/resdb-20' already exists\n",
      "\n",
      "ERROR: (gcloud.compute.instances.create) Could not fetch resource:\n",
      " - The resource 'projects/ucr-ursa-major-lesani-lab/zones/us-west1-b/instances/resdb-14' already exists\n",
      "\n",
      "ERROR: (gcloud.compute.instances.create) Could not fetch resource:\n",
      " - The resource 'projects/ucr-ursa-major-lesani-lab/zones/us-west1-b/instances/resdb-08' already exists\n",
      "\n",
      "ERROR: (gcloud.compute.instances.create) Could not fetch resource:\n",
      " - The resource 'projects/ucr-ursa-major-lesani-lab/zones/us-west1-b/instances/resdb-43' already exists\n",
      "\n",
      "ERROR: (gcloud.compute.instances.create) Could not fetch resource:\n",
      " - The resource 'projects/ucr-ursa-major-lesani-lab/zones/us-west1-b/instances/resdb-37' already exists\n",
      "\n",
      "ERROR: (gcloud.compute.instances.create) Could not fetch resource:\n",
      " - The resource 'projects/ucr-ursa-major-lesani-lab/zones/us-west1-b/instances/resdb-06' already exists\n",
      "\n",
      "ERROR: (gcloud.compute.instances.create) Could not fetch resource:\n",
      " - The resource 'projects/ucr-ursa-major-lesani-lab/zones/us-west1-b/instances/resdb-31' already exists\n",
      "\n",
      "ERROR: (gcloud.compute.instances.create) Could not fetch resource:\n",
      " - The resource 'projects/ucr-ursa-major-lesani-lab/zones/us-west1-b/instances/resdb-21' already exists\n",
      "\n",
      "ERROR: (gcloud.compute.instances.create) Could not fetch resource:\n",
      " - The resource 'projects/ucr-ursa-major-lesani-lab/zones/us-west1-b/instances/resdb-39' already exists\n",
      "\n",
      "ERROR: (gcloud.compute.instances.create) Could not fetch resource:\n",
      " - The resource 'projects/ucr-ursa-major-lesani-lab/zones/us-west1-b/instances/resdb-23' already exists\n",
      "\n",
      "ERROR: (gcloud.compute.instances.create) Could not fetch resource:\n",
      " - The resource 'projects/ucr-ursa-major-lesani-lab/zones/us-west1-b/instances/resdb-16' already exists\n",
      "\n",
      "ERROR: (gcloud.compute.instances.create) Could not fetch resource:\n",
      " - The resource 'projects/ucr-ursa-major-lesani-lab/zones/us-west1-b/instances/resdb-41' already exists\n",
      "\n",
      "ERROR: (gcloud.compute.instances.create) Could not fetch resource:\n",
      " - The resource 'projects/ucr-ursa-major-lesani-lab/zones/us-west1-b/instances/resdb-18' already exists\n",
      "\n",
      "ERROR: (gcloud.compute.instances.create) Could not fetch resource:\n",
      " - The resource 'projects/ucr-ursa-major-lesani-lab/zones/us-west1-b/instances/resdb-53' already exists\n",
      "\n",
      "ERROR: (gcloud.compute.instances.create) Could not fetch resource:\n",
      " - The resource 'projects/ucr-ursa-major-lesani-lab/zones/us-west1-b/instances/resdb-30' already exists\n",
      "\n",
      "ERROR: (gcloud.compute.instances.create) Could not fetch resource:\n",
      " - The resource 'projects/ucr-ursa-major-lesani-lab/zones/us-west1-b/instances/resdb-28' already exists\n",
      "\n",
      "ERROR: (gcloud.compute.instances.create) Could not fetch resource:\n",
      " - The resource 'projects/ucr-ursa-major-lesani-lab/zones/us-west1-b/instances/resdb-35' already exists\n",
      "\n",
      "ERROR: (gcloud.compute.instances.create) Could not fetch resource:\n",
      " - The resource 'projects/ucr-ursa-major-lesani-lab/zones/us-west1-b/instances/resdb-38' already exists\n",
      "\n",
      "ERROR: (gcloud.compute.instances.create) Could not fetch resource:\n",
      " - The resource 'projects/ucr-ursa-major-lesani-lab/zones/us-west1-b/instances/resdb-17' already exists\n",
      "\n",
      "ERROR: (gcloud.compute.instances.create) Could not fetch resource:\n",
      " - The resource 'projects/ucr-ursa-major-lesani-lab/zones/us-west1-b/instances/resdb-33' already exists\n",
      "\n",
      "ERROR: (gcloud.compute.instances.create) Could not fetch resource:\n",
      " - The resource 'projects/ucr-ursa-major-lesani-lab/zones/us-west1-b/instances/resdb-24' already exists\n",
      "\n",
      "ERROR: (gcloud.compute.instances.create) Could not fetch resource:\n",
      " - The resource 'projects/ucr-ursa-major-lesani-lab/zones/us-west1-b/instances/resdb-27' already exists\n",
      "\n",
      "ERROR: (gcloud.compute.instances.create) Could not fetch resource:\n",
      " - The resource 'projects/ucr-ursa-major-lesani-lab/zones/us-west1-b/instances/resdb-44' already exists\n",
      "\n",
      "ERROR: (gcloud.compute.instances.create) Could not fetch resource:\n",
      " - The resource 'projects/ucr-ursa-major-lesani-lab/zones/us-west1-b/instances/resdb-32' already exists\n",
      "\n",
      "ERROR: (gcloud.compute.instances.create) Could not fetch resource:\n",
      " - The resource 'projects/ucr-ursa-major-lesani-lab/zones/us-west1-b/instances/resdb-34' already exists\n",
      "\n",
      "ERROR: (gcloud.compute.instances.create) Could not fetch resource:\n",
      " - The resource 'projects/ucr-ursa-major-lesani-lab/zones/us-west1-b/instances/resdb-40' already exists\n",
      "\n",
      "ERROR: (gcloud.compute.instances.create) Could not fetch resource:\n",
      " - The resource 'projects/ucr-ursa-major-lesani-lab/zones/us-west1-b/instances/resdb-47' already exists\n",
      "\n",
      "ERROR: (gcloud.compute.instances.create) Could not fetch resource:\n",
      " - The resource 'projects/ucr-ursa-major-lesani-lab/zones/us-west1-b/instances/resdb-51' already exists\n",
      "\n",
      "ERROR: (gcloud.compute.instances.create) Could not fetch resource:\n",
      " - The resource 'projects/ucr-ursa-major-lesani-lab/zones/us-west1-b/instances/resdb-42' already exists\n",
      "\n",
      "ERROR: (gcloud.compute.instances.create) Could not fetch resource:\n",
      " - The resource 'projects/ucr-ursa-major-lesani-lab/zones/us-west1-b/instances/resdb-46' already exists\n",
      "\n",
      "ERROR: (gcloud.compute.instances.create) Could not fetch resource:\n",
      " - The resource 'projects/ucr-ursa-major-lesani-lab/zones/us-west1-b/instances/resdb-36' already exists\n",
      "\n",
      "ERROR: (gcloud.compute.instances.create) Could not fetch resource:\n",
      " - The resource 'projects/ucr-ursa-major-lesani-lab/zones/us-west1-b/instances/resdb-29' already exists\n",
      "\n"
     ]
    },
    {
     "name": "stderr",
     "output_type": "stream",
     "text": [
      "ERROR: (gcloud.compute.instances.create) Could not fetch resource:\n",
      " - The resource 'projects/ucr-ursa-major-lesani-lab/zones/us-west1-b/instances/resdb-49' already exists\n",
      "\n",
      "ERROR: (gcloud.compute.instances.create) Could not fetch resource:\n",
      " - The resource 'projects/ucr-ursa-major-lesani-lab/zones/us-west1-b/instances/resdb-50' already exists\n",
      "\n",
      "ERROR: (gcloud.compute.instances.create) Could not fetch resource:\n",
      " - The resource 'projects/ucr-ursa-major-lesani-lab/zones/us-west1-b/instances/resdb-48' already exists\n",
      "\n",
      "Created [https://www.googleapis.com/compute/v1/projects/ucr-ursa-major-lesani-lab/zones/us-west1-b/instances/resdb-63].\n",
      "WARNING: Some requests generated warnings:\n",
      " - The resource 'projects/ubuntu-os-cloud/global/images/ubuntu-2004-focal-v20230831' is deprecated. A suggested replacement is 'projects/ubuntu-os-cloud/global/images/ubuntu-2004-focal-v20231101'.\n",
      "\n"
     ]
    },
    {
     "name": "stdout",
     "output_type": "stream",
     "text": [
      "NAME      ZONE        MACHINE_TYPE  PREEMPTIBLE  INTERNAL_IP  EXTERNAL_IP   STATUS\n",
      "resdb-63  us-west1-b  e2-highmem-2               10.138.0.9   34.82.52.110  RUNNING\n"
     ]
    },
    {
     "name": "stderr",
     "output_type": "stream",
     "text": [
      "ERROR: (gcloud.compute.instances.create) Could not fetch resource:\n",
      " - The resource 'projects/ucr-ursa-major-lesani-lab/zones/us-west1-b/instances/resdb-45' already exists\n",
      "\n",
      "ERROR: (gcloud.compute.instances.create) Could not fetch resource:\n",
      " - The resource 'projects/ucr-ursa-major-lesani-lab/zones/us-west1-b/instances/resdb-52' already exists\n",
      "\n",
      "Created [https://www.googleapis.com/compute/v1/projects/ucr-ursa-major-lesani-lab/zones/us-west1-b/instances/resdb-66].\n",
      "WARNING: Some requests generated warnings:\n",
      " - The resource 'projects/ubuntu-os-cloud/global/images/ubuntu-2004-focal-v20230831' is deprecated. A suggested replacement is 'projects/ubuntu-os-cloud/global/images/ubuntu-2004-focal-v20231101'.\n",
      "\n"
     ]
    },
    {
     "name": "stdout",
     "output_type": "stream",
     "text": [
      "NAME      ZONE        MACHINE_TYPE  PREEMPTIBLE  INTERNAL_IP  EXTERNAL_IP   STATUS\n",
      "resdb-66  us-west1-b  e2-highmem-2               10.138.0.30  35.247.49.97  RUNNING\n"
     ]
    },
    {
     "name": "stderr",
     "output_type": "stream",
     "text": [
      "Created [https://www.googleapis.com/compute/v1/projects/ucr-ursa-major-lesani-lab/zones/us-west1-b/instances/resdb-65].\n",
      "WARNING: Some requests generated warnings:\n",
      " - The resource 'projects/ubuntu-os-cloud/global/images/ubuntu-2004-focal-v20230831' is deprecated. A suggested replacement is 'projects/ubuntu-os-cloud/global/images/ubuntu-2004-focal-v20231101'.\n",
      "\n",
      "Created [https://www.googleapis.com/compute/v1/projects/ucr-ursa-major-lesani-lab/zones/us-west1-b/instances/resdb-67].\n"
     ]
    },
    {
     "name": "stdout",
     "output_type": "stream",
     "text": [
      "NAME      ZONE        MACHINE_TYPE  PREEMPTIBLE  INTERNAL_IP  EXTERNAL_IP     STATUS\n",
      "resdb-65  us-west1-b  e2-highmem-2               10.138.0.56  34.168.144.191  RUNNING\n"
     ]
    },
    {
     "name": "stderr",
     "output_type": "stream",
     "text": [
      "WARNING: Some requests generated warnings:\n",
      " - The resource 'projects/ubuntu-os-cloud/global/images/ubuntu-2004-focal-v20230831' is deprecated. A suggested replacement is 'projects/ubuntu-os-cloud/global/images/ubuntu-2004-focal-v20231101'.\n",
      "\n"
     ]
    },
    {
     "name": "stdout",
     "output_type": "stream",
     "text": [
      "NAME      ZONE        MACHINE_TYPE  PREEMPTIBLE  INTERNAL_IP  EXTERNAL_IP     STATUS\n",
      "resdb-67  us-west1-b  e2-highmem-2               10.138.0.68  35.197.103.167  RUNNING\n"
     ]
    },
    {
     "name": "stderr",
     "output_type": "stream",
     "text": [
      "Created [https://www.googleapis.com/compute/v1/projects/ucr-ursa-major-lesani-lab/zones/us-west1-b/instances/resdb-57].\n",
      "WARNING: Some requests generated warnings:\n",
      " - The resource 'projects/ubuntu-os-cloud/global/images/ubuntu-2004-focal-v20230831' is deprecated. A suggested replacement is 'projects/ubuntu-os-cloud/global/images/ubuntu-2004-focal-v20231101'.\n",
      "\n",
      "Created [https://www.googleapis.com/compute/v1/projects/ucr-ursa-major-lesani-lab/zones/us-west1-b/instances/resdb-69].\n"
     ]
    },
    {
     "name": "stdout",
     "output_type": "stream",
     "text": [
      "NAME      ZONE        MACHINE_TYPE  PREEMPTIBLE  INTERNAL_IP  EXTERNAL_IP     STATUS\n",
      "resdb-57  us-west1-b  e2-highmem-2               10.138.0.74  34.168.159.150  RUNNING\n"
     ]
    },
    {
     "name": "stderr",
     "output_type": "stream",
     "text": [
      "Created [https://www.googleapis.com/compute/v1/projects/ucr-ursa-major-lesani-lab/zones/us-west1-b/instances/resdb-68].\n",
      "WARNING: Some requests generated warnings:\n",
      " - The resource 'projects/ubuntu-os-cloud/global/images/ubuntu-2004-focal-v20230831' is deprecated. A suggested replacement is 'projects/ubuntu-os-cloud/global/images/ubuntu-2004-focal-v20231101'.\n",
      "\n"
     ]
    },
    {
     "name": "stdout",
     "output_type": "stream",
     "text": [
      "NAME      ZONE        MACHINE_TYPE  PREEMPTIBLE  INTERNAL_IP  EXTERNAL_IP    STATUS\n",
      "resdb-69  us-west1-b  e2-highmem-2               10.138.0.69  34.168.72.169  RUNNING\n"
     ]
    },
    {
     "name": "stderr",
     "output_type": "stream",
     "text": [
      "WARNING: Some requests generated warnings:\n",
      " - The resource 'projects/ubuntu-os-cloud/global/images/ubuntu-2004-focal-v20230831' is deprecated. A suggested replacement is 'projects/ubuntu-os-cloud/global/images/ubuntu-2004-focal-v20231101'.\n",
      "\n"
     ]
    },
    {
     "name": "stdout",
     "output_type": "stream",
     "text": [
      "NAME      ZONE        MACHINE_TYPE  PREEMPTIBLE  INTERNAL_IP    EXTERNAL_IP     STATUS\n",
      "resdb-68  us-west1-b  e2-highmem-2               10.138.15.227  34.168.119.180  RUNNING\n"
     ]
    },
    {
     "name": "stderr",
     "output_type": "stream",
     "text": [
      "ERROR: (gcloud.compute.instances.create) Could not fetch resource:\n",
      " - The resource 'projects/ucr-ursa-major-lesani-lab/zones/us-west1-b/instances/resdb-01' already exists\n",
      "\n",
      "Created [https://www.googleapis.com/compute/v1/projects/ucr-ursa-major-lesani-lab/zones/us-west1-b/instances/resdb-56].\n",
      "WARNING: Some requests generated warnings:\n",
      " - The resource 'projects/ubuntu-os-cloud/global/images/ubuntu-2004-focal-v20230831' is deprecated. A suggested replacement is 'projects/ubuntu-os-cloud/global/images/ubuntu-2004-focal-v20231101'.\n",
      "\n"
     ]
    },
    {
     "name": "stdout",
     "output_type": "stream",
     "text": [
      "NAME      ZONE        MACHINE_TYPE  PREEMPTIBLE  INTERNAL_IP    EXTERNAL_IP    STATUS\n",
      "resdb-56  us-west1-b  e2-highmem-2               10.138.15.226  34.168.91.114  RUNNING\n"
     ]
    },
    {
     "name": "stderr",
     "output_type": "stream",
     "text": [
      "Created [https://www.googleapis.com/compute/v1/projects/ucr-ursa-major-lesani-lab/zones/us-west1-b/instances/resdb-64].\n",
      "Created [https://www.googleapis.com/compute/v1/projects/ucr-ursa-major-lesani-lab/zones/us-west1-b/instances/resdb-54].\n",
      "Created [https://www.googleapis.com/compute/v1/projects/ucr-ursa-major-lesani-lab/zones/us-west1-b/instances/resdb-58].\n",
      "WARNING: Some requests generated warnings:\n",
      " - The resource 'projects/ubuntu-os-cloud/global/images/ubuntu-2004-focal-v20230831' is deprecated. A suggested replacement is 'projects/ubuntu-os-cloud/global/images/ubuntu-2004-focal-v20231101'.\n",
      "\n"
     ]
    },
    {
     "name": "stdout",
     "output_type": "stream",
     "text": [
      "NAME      ZONE        MACHINE_TYPE  PREEMPTIBLE  INTERNAL_IP    EXTERNAL_IP    STATUS\n",
      "resdb-58  us-west1-b  e2-highmem-2               10.138.15.229  35.197.45.253  RUNNING\n"
     ]
    },
    {
     "name": "stderr",
     "output_type": "stream",
     "text": [
      "Created [https://www.googleapis.com/compute/v1/projects/ucr-ursa-major-lesani-lab/zones/us-west1-b/instances/resdb-60].\n",
      "WARNING: Some requests generated warnings:\n",
      " - The resource 'projects/ubuntu-os-cloud/global/images/ubuntu-2004-focal-v20230831' is deprecated. A suggested replacement is 'projects/ubuntu-os-cloud/global/images/ubuntu-2004-focal-v20231101'.\n",
      "\n"
     ]
    },
    {
     "name": "stdout",
     "output_type": "stream",
     "text": [
      "NAME      ZONE        MACHINE_TYPE  PREEMPTIBLE  INTERNAL_IP    EXTERNAL_IP    STATUS\n",
      "resdb-60  us-west1-b  e2-highmem-2               10.138.15.231  34.82.234.122  RUNNING\n"
     ]
    },
    {
     "name": "stderr",
     "output_type": "stream",
     "text": [
      "Created [https://www.googleapis.com/compute/v1/projects/ucr-ursa-major-lesani-lab/zones/us-west1-b/instances/resdb-59].\n",
      "Created [https://www.googleapis.com/compute/v1/projects/ucr-ursa-major-lesani-lab/zones/us-west1-b/instances/resdb-62].\n",
      "WARNING: Some requests generated warnings:\n",
      " - The resource 'projects/ubuntu-os-cloud/global/images/ubuntu-2004-focal-v20230831' is deprecated. A suggested replacement is 'projects/ubuntu-os-cloud/global/images/ubuntu-2004-focal-v20231101'.\n",
      "\n"
     ]
    },
    {
     "name": "stdout",
     "output_type": "stream",
     "text": [
      "NAME      ZONE        MACHINE_TYPE  PREEMPTIBLE  INTERNAL_IP    EXTERNAL_IP   STATUS\n",
      "resdb-54  us-west1-b  e2-highmem-2               10.138.15.232  34.127.33.73  RUNNING\n"
     ]
    },
    {
     "name": "stderr",
     "output_type": "stream",
     "text": [
      "WARNING: Some requests generated warnings:\n",
      " - The resource 'projects/ubuntu-os-cloud/global/images/ubuntu-2004-focal-v20230831' is deprecated. A suggested replacement is 'projects/ubuntu-os-cloud/global/images/ubuntu-2004-focal-v20231101'.\n",
      "\n"
     ]
    },
    {
     "name": "stdout",
     "output_type": "stream",
     "text": [
      "NAME      ZONE        MACHINE_TYPE  PREEMPTIBLE  INTERNAL_IP    EXTERNAL_IP     STATUS\n",
      "resdb-59  us-west1-b  e2-highmem-2               10.138.15.236  35.233.187.176  RUNNING\n"
     ]
    },
    {
     "name": "stderr",
     "output_type": "stream",
     "text": [
      "Created [https://www.googleapis.com/compute/v1/projects/ucr-ursa-major-lesani-lab/zones/us-west1-b/instances/resdb-71].\n",
      "Created [https://www.googleapis.com/compute/v1/projects/ucr-ursa-major-lesani-lab/zones/us-west1-b/instances/resdb-61].\n",
      "WARNING: Some requests generated warnings:\n",
      " - The resource 'projects/ubuntu-os-cloud/global/images/ubuntu-2004-focal-v20230831' is deprecated. A suggested replacement is 'projects/ubuntu-os-cloud/global/images/ubuntu-2004-focal-v20231101'.\n",
      "\n"
     ]
    },
    {
     "name": "stdout",
     "output_type": "stream",
     "text": [
      "NAME      ZONE        MACHINE_TYPE  PREEMPTIBLE  INTERNAL_IP    EXTERNAL_IP    STATUS\n",
      "resdb-61  us-west1-b  e2-highmem-2               10.138.15.228  34.168.159.47  RUNNING\n"
     ]
    },
    {
     "name": "stderr",
     "output_type": "stream",
     "text": [
      "Created [https://www.googleapis.com/compute/v1/projects/ucr-ursa-major-lesani-lab/zones/us-west1-b/instances/resdb-70].\n",
      "WARNING: Some requests generated warnings:\n",
      " - The resource 'projects/ubuntu-os-cloud/global/images/ubuntu-2004-focal-v20230831' is deprecated. A suggested replacement is 'projects/ubuntu-os-cloud/global/images/ubuntu-2004-focal-v20231101'.\n",
      "\n"
     ]
    },
    {
     "name": "stdout",
     "output_type": "stream",
     "text": [
      "NAME      ZONE        MACHINE_TYPE  PREEMPTIBLE  INTERNAL_IP    EXTERNAL_IP   STATUS\n",
      "resdb-70  us-west1-b  e2-highmem-2               10.138.15.237  34.168.53.10  RUNNING\n"
     ]
    },
    {
     "name": "stderr",
     "output_type": "stream",
     "text": [
      "Created [https://www.googleapis.com/compute/v1/projects/ucr-ursa-major-lesani-lab/zones/us-west1-b/instances/resdb-55].\n",
      "WARNING: Some requests generated warnings:\n",
      " - The resource 'projects/ubuntu-os-cloud/global/images/ubuntu-2004-focal-v20230831' is deprecated. A suggested replacement is 'projects/ubuntu-os-cloud/global/images/ubuntu-2004-focal-v20231101'.\n",
      "\n"
     ]
    },
    {
     "name": "stdout",
     "output_type": "stream",
     "text": [
      "NAME      ZONE        MACHINE_TYPE  PREEMPTIBLE  INTERNAL_IP    EXTERNAL_IP    STATUS\n",
      "resdb-55  us-west1-b  e2-highmem-2               10.138.15.234  34.105.53.227  RUNNING\n"
     ]
    },
    {
     "name": "stderr",
     "output_type": "stream",
     "text": [
      "WARNING: Some requests generated warnings:\n",
      " - The resource 'projects/ubuntu-os-cloud/global/images/ubuntu-2004-focal-v20230831' is deprecated. A suggested replacement is 'projects/ubuntu-os-cloud/global/images/ubuntu-2004-focal-v20231101'.\n",
      "\n"
     ]
    },
    {
     "name": "stdout",
     "output_type": "stream",
     "text": [
      "NAME      ZONE        MACHINE_TYPE  PREEMPTIBLE  INTERNAL_IP    EXTERNAL_IP    STATUS\n",
      "resdb-62  us-west1-b  e2-highmem-2               10.138.15.235  34.83.146.237  RUNNING\n"
     ]
    },
    {
     "name": "stderr",
     "output_type": "stream",
     "text": [
      "WARNING: Some requests generated warnings:\n",
      " - The resource 'projects/ubuntu-os-cloud/global/images/ubuntu-2004-focal-v20230831' is deprecated. A suggested replacement is 'projects/ubuntu-os-cloud/global/images/ubuntu-2004-focal-v20231101'.\n",
      "\n"
     ]
    },
    {
     "name": "stdout",
     "output_type": "stream",
     "text": [
      "NAME      ZONE        MACHINE_TYPE  PREEMPTIBLE  INTERNAL_IP    EXTERNAL_IP     STATUS\n",
      "resdb-71  us-west1-b  e2-highmem-2               10.138.15.233  35.233.203.191  RUNNING\n"
     ]
    },
    {
     "name": "stderr",
     "output_type": "stream",
     "text": [
      "ERROR: gcloud crashed (ConnectionError): HTTPSConnectionPool(host='compute.googleapis.com', port=443): Max retries exceeded with url: /batch/compute/v1 (Caused by NewConnectionError('<urllib3.connection.HTTPSConnection object at 0x7f61d9624610>: Failed to establish a new connection: [Errno -2] Name or service not known'))\n",
      "\n",
      "If you would like to report this issue, please run the following command:\n",
      "  gcloud feedback\n",
      "\n",
      "To check gcloud for common problems, please run the following command:\n",
      "  gcloud info --run-diagnostics\n"
     ]
    }
   ],
   "source": [
    "import subprocess\n",
    "import concurrent.futures\n",
    "\n",
    "def run_command(command):\n",
    "    subprocess.call(command, shell=True)\n",
    "\n",
    "commands = lines\n",
    "\n",
    "# Create a ThreadPoolExecutor or ProcessPoolExecutor, depending on your needs\n",
    "with concurrent.futures.ThreadPoolExecutor(max_workers=len(commands)) as executor:\n",
    "    # Submit each command to the executor for parallel execution\n",
    "    futures = [executor.submit(run_command, command) for command in commands]\n",
    "\n",
    "    # Wait for all tasks to complete\n",
    "    concurrent.futures.wait(futures)\n"
   ]
  },
  {
   "cell_type": "code",
   "execution_count": 12,
   "id": "322bee3b",
   "metadata": {
    "scrolled": true
   },
   "outputs": [],
   "source": [
    "# os.system('sh launch_cloud_instances.sh')"
   ]
  },
  {
   "cell_type": "code",
   "execution_count": 13,
   "id": "e218e451",
   "metadata": {},
   "outputs": [],
   "source": [
    "for folder in os.listdir('.'):\n",
    "    if 'config' in folder and folder!='config' and 'zip' not in folder and '.' not in folder:\n",
    "        shutil.rmtree(folder)"
   ]
  },
  {
   "cell_type": "code",
   "execution_count": null,
   "id": "89cbee19",
   "metadata": {},
   "outputs": [],
   "source": [
    "# os.system(\"aws --region ap-south-1 ec2 describe-instances --filter Name=instance-type,Values=t2.small --query 'Reservations[*].Instances[*].[PrivateIpAddress]' --output text > all_internal_ips\")\n",
    "\n",
    "# os.system(\"aws --region ap-south-1 ec2 describe-instances  --filter Name=instance-type,Values=t2.small --query 'Reservations[*].Instances[*].[PublicIpAddress]' --output text > all_external_ips\")\n",
    "\n",
    "\n",
    "instance_type = 'e2-small'\n",
    "\n",
    "\n",
    "redirect = '>'\n",
    "\n",
    "os.system('gcloud compute instances list  --format=\"value(networkInterfaces[0].networkIP)\" '+\\\n",
    "          redirect+' all_internal_ips')\n",
    "\n",
    "\n",
    "\n",
    "os.system('gcloud compute instances list --format=\"value(networkInterfaces[0].networkIP)\" '+\\\n",
    "      redirect+' all_external_ips')\n",
    "\n",
    "\n",
    "\n",
    "\n",
    "\n",
    "\n",
    "\n",
    "\n",
    "\n",
    "\n"
   ]
  },
  {
   "cell_type": "code",
   "execution_count": null,
   "id": "74564122",
   "metadata": {},
   "outputs": [],
   "source": [
    "with open('all_internal_ips') as f:\n",
    "    ipList = f.read().splitlines()\n",
    "ipList = [x for x in ipList if x!='None']"
   ]
  },
  {
   "cell_type": "code",
   "execution_count": null,
   "id": "ceef7e67",
   "metadata": {},
   "outputs": [],
   "source": []
  },
  {
   "cell_type": "code",
   "execution_count": null,
   "id": "9ed54935",
   "metadata": {},
   "outputs": [],
   "source": []
  },
  {
   "cell_type": "code",
   "execution_count": null,
   "id": "bbd1e7e4",
   "metadata": {},
   "outputs": [],
   "source": []
  },
  {
   "cell_type": "code",
   "execution_count": null,
   "id": "25f62170",
   "metadata": {
    "scrolled": false
   },
   "outputs": [],
   "source": [
    "ipList, len(ipList)"
   ]
  },
  {
   "cell_type": "code",
   "execution_count": null,
   "id": "d24ff462",
   "metadata": {},
   "outputs": [],
   "source": [
    "new_server_only_ips= []\n",
    "new_client_only_ips= []\n",
    "\n",
    "\n",
    "\n",
    "for i in range(total_count + nclients):\n",
    "    if node_info_dict['ServerOrClientregion'][i] ==0:\n",
    "        new_server_only_ips = new_server_only_ips + [ipList[i]]\n",
    "    else:\n",
    "        new_client_only_ips = new_client_only_ips + [ipList[i]]\n",
    "        \n",
    "        "
   ]
  },
  {
   "cell_type": "code",
   "execution_count": null,
   "id": "11c7d8a5",
   "metadata": {},
   "outputs": [],
   "source": [
    "# new_server_only_ips= []\n",
    "# new_client_only_ips= []\n",
    "\n",
    "\n",
    "# current_region_total = 0\n",
    "# for i in range(n_regions):\n",
    "#     print(current_region_total,current_region_total+ clusters_per_region_map[i] *replica_count)\n",
    "#     new_server_only_ips = new_server_only_ips + ipList[current_region_total:current_region_total+ clusters_per_region_map[i] *replica_count]\n",
    "    \n",
    "#     new_client_only_ips = new_client_only_ips + ipList[current_region_total+ clusters_per_region_map[i] *replica_count:\n",
    "#                                                       current_region_total+ clusters_per_region_map[i] *(replica_count+1)]\n",
    "    \n",
    "    \n",
    "#     current_region_total = current_region_total + clusters_per_region_map[i] *replica_count +  clusters_per_region_map[i]\n",
    "    \n",
    "    "
   ]
  },
  {
   "cell_type": "code",
   "execution_count": null,
   "id": "e485d388",
   "metadata": {},
   "outputs": [],
   "source": [
    "new_server_only_ips, len(new_server_only_ips)"
   ]
  },
  {
   "cell_type": "code",
   "execution_count": null,
   "id": "081f331c",
   "metadata": {},
   "outputs": [],
   "source": [
    "new_client_only_ips, len(new_client_only_ips) "
   ]
  },
  {
   "cell_type": "code",
   "execution_count": null,
   "id": "33347f50",
   "metadata": {},
   "outputs": [],
   "source": [
    "ipList = new_server_only_ips + new_client_only_ips"
   ]
  },
  {
   "cell_type": "code",
   "execution_count": null,
   "id": "56be6c54",
   "metadata": {},
   "outputs": [],
   "source": [
    "ipList, len(ipList)"
   ]
  },
  {
   "cell_type": "code",
   "execution_count": null,
   "id": "8f620666",
   "metadata": {},
   "outputs": [],
   "source": [
    "clusterIpMap = {}\n",
    "\n",
    "for i in range(len(ipList)):\n",
    "    clusterIpMap[i] = ipList[i]\n",
    "\n",
    "    \n",
    "for i in range(nclients):\n",
    "    \n",
    "    clusterIpMap[7001+i] = ipList[-(nclients-i)]"
   ]
  },
  {
   "cell_type": "code",
   "execution_count": null,
   "id": "579945bb",
   "metadata": {},
   "outputs": [],
   "source": [
    "clusterPortMap1 = {}\n",
    "clusterPortMap2 = {}\n",
    "\n",
    "for i in range(len(ipList) - nclients):\n",
    "    \n",
    "    clusterPortMap1[i] = str(10000)\n",
    "    \n",
    "for i in range(len(ipList) - nclients):\n",
    "    clusterPortMap2[i] = str(20000)\n",
    "    \n",
    "# clusterPortMap1[7003] = '11400'\n",
    "# clusterPortMap2[7003] = '11410'\n",
    "\n",
    "\n",
    "\n",
    "temp = 11900\n",
    "\n",
    "for i in range(nclients):\n",
    "    \n",
    "    clusterPortMap1[7001+i] = str(10000)\n",
    "    clusterPortMap2[7001+i] = str(20000)"
   ]
  },
  {
   "cell_type": "code",
   "execution_count": null,
   "id": "c60c1fee",
   "metadata": {},
   "outputs": [],
   "source": []
  },
  {
   "cell_type": "code",
   "execution_count": null,
   "id": "d0383f53",
   "metadata": {
    "scrolled": true
   },
   "outputs": [],
   "source": [
    "clusterPortMap1, clusterPortMap2"
   ]
  },
  {
   "cell_type": "code",
   "execution_count": null,
   "id": "426b3b38",
   "metadata": {},
   "outputs": [],
   "source": [
    "os.system('echo 3108 | sudo -S ./gradlew installDist')"
   ]
  },
  {
   "cell_type": "code",
   "execution_count": null,
   "id": "86bbd62c",
   "metadata": {},
   "outputs": [],
   "source": [
    "for i in range(total_count):\n",
    "    os.system('./runscripts/smartrun.sh bftsmart.tom.util.RSAKeyPairGenerator '+str(i)+' 1024')\n",
    "\n",
    "    \n",
    "\n",
    "os.system('./runscripts/smartrun.sh bftsmart.tom.util.RSAKeyPairGenerator '+str(7002)+' 1024')\n",
    "os.system('./runscripts/smartrun.sh bftsmart.tom.util.RSAKeyPairGenerator '+str(7001)+' 1024')"
   ]
  },
  {
   "cell_type": "code",
   "execution_count": null,
   "id": "62bd80e8",
   "metadata": {},
   "outputs": [],
   "source": [
    "os.system('echo 3108 | sudo -S ./gradlew clean')"
   ]
  },
  {
   "cell_type": "code",
   "execution_count": null,
   "id": "49b2f68a",
   "metadata": {},
   "outputs": [],
   "source": [
    "for key in clusterPortMap1.keys():\n",
    "    if key>7002:\n",
    "        print(key)\n",
    "        print()\n",
    "        \n",
    "        for folder in os.listdir('config/'):\n",
    "            if os.path.isdir('config/'+folder) and 'keys' in folder:\n",
    "                if os.path.exists('config/'+folder+'/'+'privatekey7001'):\n",
    "                    shutil.copy('config/'+folder+'/'+'privatekey7001','config/'+folder+'/'+'privatekey'+str(key))\n",
    "                    shutil.copy('config/'+folder+'/'+'publickey7001','config/'+folder+'/'+'publickey'+str(key))\n",
    "                \n",
    "        print('----------')\n",
    "        print()"
   ]
  },
  {
   "cell_type": "code",
   "execution_count": null,
   "id": "8c844662",
   "metadata": {},
   "outputs": [],
   "source": [
    "for i in range(n_clusters):\n",
    "    \n",
    "    if os.path.exists('config'+str(i)):\n",
    "        shutil.rmtree('config'+str(i))\n",
    "    \n",
    "    os.mkdir('config'+str(i))\n",
    "    os.mkdir('config'+str(i)+'/keysRSA')\n",
    "    os.mkdir('config'+str(i)+'/keysSunEC')\n",
    "    os.mkdir('config'+str(i)+'/keysECDSA')\n",
    "    \n",
    "    \n",
    "    shutil.copytree('config/workloads/', 'config'+str(i)+'/workloads')\n",
    "    shutil.copytree('config/keysSSL_TLS/', 'config'+str(i)+'/keysSSL_TLS')\n",
    "    \n",
    "    \n",
    "    for file in os.listdir('config/keys/'):\n",
    "    \n",
    "        shutil.copy('config/keys/'+file, 'config'+str(i)+'/keysRSA/'+file)\n",
    "        shutil.copy('config/keys/'+file, 'config'+str(i)+'/keysSunEC/'+file)\n",
    "        shutil.copy('config/keys/'+file, 'config'+str(i)+'/keysECDSA/'+file)\n",
    "    \n",
    "    \n",
    "    shutil.copy('config/system.config', 'config'+str(i)+'/system.config')    \n",
    "    shutil.copy('config/logback.xml', 'config'+str(i)+'/logback.xml')\n",
    "    \n",
    "    \n",
    "    \n",
    "    "
   ]
  },
  {
   "cell_type": "code",
   "execution_count": null,
   "id": "a4665ea0",
   "metadata": {},
   "outputs": [],
   "source": [
    "        \n",
    "        for i in range(nclients):\n",
    "            print(str(7001+i)+' '+clusterIpMap[7001+i]+' '+clusterPortMap1[7001+i]+'\\n')"
   ]
  },
  {
   "cell_type": "code",
   "execution_count": null,
   "id": "f6db0f1e",
   "metadata": {},
   "outputs": [],
   "source": [
    "for n_cluster in range(n_clusters):\n",
    "    \n",
    "    with open('config'+str(n_cluster)+'/hosts.config','w') as file:\n",
    "        \n",
    "        for n_cluster1 in range(n_clusters):\n",
    "        \n",
    "            for i_replica in range(replica_count):\n",
    "    #             file.writelines(str(i_replica)+' '+clusterIpMap[n_cluster*replica_count+i_replica]+' '  +clusterPortMap1[n_cluster*replica_count+i_replica]+' ' +  clusterPortMap2[n_cluster*replica_count+i_replica]+'\\n')\n",
    "                file.writelines(str(n_cluster1*replica_count+i_replica)+' '+clusterIpMap[n_cluster1*replica_count+i_replica]+' '  +clusterPortMap1[n_cluster1*replica_count+i_replica]+' ' +  clusterPortMap2[n_cluster1*replica_count+i_replica]+' '+str(n_cluster1)+'\\n')\n",
    "\n",
    "        for iter_ in range(len(ipList) - (n_clusters*replica_count)-nclients):\n",
    "            print((n_clusters*replica_count) + iter_)\n",
    "            \n",
    "#             file.writelines(str((n_clusters*replica_count) + iter_)+' '+clusterIpMap[(n_clusters*replica_count) + iter_]+' '  +clusterPortMap1[(n_clusters*replica_count) + iter_]+' ' +  clusterPortMap2[(n_clusters*replica_count) + iter_]+' '+str(iter_%n_clusters)+'\\n')\n",
    "            file.writelines(str((n_clusters*replica_count) + iter_)+' '+clusterIpMap[(n_clusters*replica_count) + iter_]+' '  +clusterPortMap1[(n_clusters*replica_count) + iter_]+' ' +  clusterPortMap2[(n_clusters*replica_count) + iter_]+' '+str(0%n_clusters)+'\\n')\n",
    "        \n",
    "        for i in range(nclients):\n",
    "            file.writelines(str(7001+i)+' '+clusterIpMap[7001+i]+' '+clusterPortMap1[7001+i]+'\\n')\n",
    "\n",
    "        \n",
    "        file.close()\n"
   ]
  },
  {
   "cell_type": "code",
   "execution_count": null,
   "id": "b3c8b03d",
   "metadata": {},
   "outputs": [],
   "source": [
    "replica_count"
   ]
  },
  {
   "cell_type": "code",
   "execution_count": null,
   "id": "2b2fd25a",
   "metadata": {},
   "outputs": [],
   "source": [
    "for n_cluster in range(n_clusters):\n",
    "    with open('config'+str(n_cluster)+'/system.config','r') as file:\n",
    "        data = file.readlines()\n",
    "        f = int(np.ceil((replica_count-1)/3))\n",
    "        print('f is',f )\n",
    "        \n",
    "        for n_line in range(len(data)):\n",
    "            if ('system.servers.num' in data[n_line]) and '#' not in data[n_line]:\n",
    "                \n",
    "                data[n_line] = 'system.servers.num = '+str(replica_count)\n",
    "                \n",
    "            if ('system.servers.f' in data[n_line]) and '#' not in data[n_line]:\n",
    "                data[n_line] = 'system.servers.f = '+str(f)\n",
    "                \n",
    "            if ('system.initial.view' in data[n_line]) and '#' not in data[n_line]:\n",
    "                data[n_line] = 'system.initial.view = '\n",
    "                for iter_view in range(replica_count):\n",
    "                    data[n_line] = data[n_line] +str(n_cluster*replica_count+iter_view)+','\n",
    "#                     data[n_line] = data[n_line] +str(n_cluster*replica_count+iter_view)+','\n",
    "                \n",
    "                data[n_line] = data[n_line][:-1]\n",
    "                \n",
    "                \n",
    "        file.close()\n",
    "        \n",
    "    with open('config'+str(n_cluster)+'/system.config', 'w') as f:\n",
    "        for line in data:\n",
    "            f.write(f\"{line}\\n\")\n",
    "        "
   ]
  },
  {
   "cell_type": "code",
   "execution_count": null,
   "id": "60b70c58",
   "metadata": {
    "scrolled": true
   },
   "outputs": [],
   "source": [
    "for n_cluster in range(n_clusters):\n",
    "    for i in range(400):\n",
    "        \n",
    "        for ncls in  range(1):\n",
    "        \n",
    "        \n",
    "            print('config'+str(n_cluster)+'/keysRSA/'+'publickey7002', \\\n",
    "                        'config'+str(n_cluster)+'/keysRSA/'+'publickey'+str(1000+(ncls*100)+i))\n",
    "            shutil.copy('config'+str(n_cluster)+'/keysRSA/'+'publickey7002', \\\n",
    "                        'config'+str(n_cluster)+'/keysRSA/'+'publickey'+str(1000+(ncls*100)+i))\n",
    "            shutil.copy('config'+str(n_cluster)+'/keysRSA/'+'privatekey7002', \\\n",
    "                        'config'+str(n_cluster)+'/keysRSA/'+'privatekey'+str(1000+(ncls*100)+i))\n",
    "        \n",
    "#         shutil.copy('config'+str(n_cluster)+'/keysRSA/'+'publickey7002', \\\n",
    "#                     'config'+str(n_cluster)+'/keysRSA/'+'publickey7002')\n",
    "        \n",
    "#         shutil.copy('config'+str(n_cluster)+'/keysRSA/'+'privatekey7002', \\\n",
    "#                     'config'+str(n_cluster)+'/keysRSA/'+'privatekey7002')"
   ]
  },
  {
   "cell_type": "code",
   "execution_count": null,
   "id": "b36cca3d",
   "metadata": {},
   "outputs": [],
   "source": [
    "# os.system('git remote set-url origin https://github.com/tmane002/BftSmart_Final.git')"
   ]
  },
  {
   "cell_type": "code",
   "execution_count": null,
   "id": "c6e7ede1",
   "metadata": {
    "scrolled": true
   },
   "outputs": [],
   "source": [
    "os.system('git add .; git commit -m \"Working with modified ClusterInfo\";git push')"
   ]
  },
  {
   "cell_type": "code",
   "execution_count": null,
   "id": "bee7377b",
   "metadata": {},
   "outputs": [],
   "source": [
    "# 'gcloud compute instances create instance-1 --project=cellular-hybrid-358402 --zone=us-central1-a --machine-type=e2-medium --network-interface=network-tier=PREMIUM,subnet=default --no-restart-on-failure --maintenance-policy=TERMINATE --provisioning-model=SPOT --instance-termination-action=STOP --service-account=932709639592-compute@developer.gserviceaccount.com --scopes=https://www.googleapis.com/auth/devstorage.read_only,https://www.googleapis.com/auth/logging.write,https://www.googleapis.com/auth/monitoring.write,https://www.googleapis.com/auth/servicecontrol,https://www.googleapis.com/auth/service.management.readonly,https://www.googleapis.com/auth/trace.append --tags=http-server,https-server --create-disk=auto-delete=yes,boot=yes,device-name=instance-1,image=projects/ubuntu-os-cloud/global/images/ubuntu-2204-jammy-v20220810,mode=rw,size=10,type=projects/cellular-hybrid-358402/zones/us-central1-a/diskTypes/pd-balanced --no-shielded-secure-boot --shielded-vtpm --shielded-integrity-monitoring --reservation-affinity=any'"
   ]
  },
  {
   "cell_type": "code",
   "execution_count": null,
   "id": "3086d997",
   "metadata": {},
   "outputs": [],
   "source": [
    "# gcloud compute instances create instance-1 --project=cellular-hybrid-358402 --zone=us-west1-b --machine-type=e2-medium --network-interface=network-tier=PREMIUM,subnet=default --no-restart-on-failure --maintenance-policy=TERMINATE --provisioning-model=SPOT --instance-termination-action=STOP --service-account=932709639592-compute@developer.gserviceaccount.com --scopes=https://www.googleapis.com/auth/devstorage.read_only,https://www.googleapis.com/auth/logging.write,https://www.googleapis.com/auth/monitoring.write,https://www.googleapis.com/auth/servicecontrol,https://www.googleapis.com/auth/service.management.readonly,https://www.googleapis.com/auth/trace.append --tags=http-server,https-server --create-disk=auto-delete=yes,boot=yes,device-name=instance-1,image=projects/ubuntu-os-cloud/global/images/ubuntu-2204-jammy-v20220810,mode=rw,size=10,type=projects/cellular-hybrid-358402/zones/us-central1-a/diskTypes/pd-balanced --no-shielded-secure-boot --shielded-vtpm --shielded-integrity-monitoring --reservation-affinity=any"
   ]
  },
  {
   "cell_type": "code",
   "execution_count": null,
   "id": "76c5f26a",
   "metadata": {},
   "outputs": [],
   "source": []
  },
  {
   "cell_type": "code",
   "execution_count": null,
   "id": "5937775e",
   "metadata": {},
   "outputs": [],
   "source": []
  },
  {
   "cell_type": "code",
   "execution_count": null,
   "id": "19044549",
   "metadata": {},
   "outputs": [],
   "source": []
  },
  {
   "cell_type": "code",
   "execution_count": null,
   "id": "b6ff7684",
   "metadata": {},
   "outputs": [],
   "source": []
  },
  {
   "cell_type": "code",
   "execution_count": null,
   "id": "98436d37",
   "metadata": {},
   "outputs": [],
   "source": []
  },
  {
   "cell_type": "code",
   "execution_count": null,
   "id": "7018f68a",
   "metadata": {},
   "outputs": [],
   "source": []
  },
  {
   "cell_type": "code",
   "execution_count": null,
   "id": "fc6cd0aa",
   "metadata": {},
   "outputs": [],
   "source": []
  },
  {
   "cell_type": "code",
   "execution_count": null,
   "id": "f5bb9d2e",
   "metadata": {},
   "outputs": [],
   "source": []
  },
  {
   "cell_type": "code",
   "execution_count": null,
   "id": "a69ee3b6",
   "metadata": {},
   "outputs": [],
   "source": []
  },
  {
   "cell_type": "code",
   "execution_count": null,
   "id": "6d5f94f8",
   "metadata": {},
   "outputs": [],
   "source": []
  },
  {
   "cell_type": "code",
   "execution_count": null,
   "id": "bb8cd7b8",
   "metadata": {},
   "outputs": [],
   "source": []
  },
  {
   "cell_type": "code",
   "execution_count": null,
   "id": "6502fe51",
   "metadata": {},
   "outputs": [],
   "source": []
  },
  {
   "cell_type": "code",
   "execution_count": null,
   "id": "757e34b3",
   "metadata": {},
   "outputs": [],
   "source": []
  },
  {
   "cell_type": "code",
   "execution_count": null,
   "id": "8c7bb6a9",
   "metadata": {},
   "outputs": [],
   "source": []
  },
  {
   "cell_type": "code",
   "execution_count": null,
   "id": "c66b128b",
   "metadata": {},
   "outputs": [],
   "source": []
  },
  {
   "cell_type": "code",
   "execution_count": null,
   "id": "29b98a23",
   "metadata": {},
   "outputs": [],
   "source": []
  },
  {
   "cell_type": "code",
   "execution_count": null,
   "id": "808f5fe0",
   "metadata": {},
   "outputs": [],
   "source": []
  },
  {
   "cell_type": "code",
   "execution_count": null,
   "id": "ef9455b9",
   "metadata": {},
   "outputs": [],
   "source": []
  },
  {
   "cell_type": "code",
   "execution_count": null,
   "id": "1bf72e34",
   "metadata": {},
   "outputs": [],
   "source": []
  },
  {
   "cell_type": "code",
   "execution_count": null,
   "id": "648ac99d",
   "metadata": {},
   "outputs": [],
   "source": []
  },
  {
   "cell_type": "code",
   "execution_count": null,
   "id": "f96eb8fc",
   "metadata": {},
   "outputs": [],
   "source": []
  },
  {
   "cell_type": "code",
   "execution_count": null,
   "id": "3d37b775",
   "metadata": {},
   "outputs": [],
   "source": []
  },
  {
   "cell_type": "code",
   "execution_count": null,
   "id": "edd8f759",
   "metadata": {},
   "outputs": [],
   "source": []
  },
  {
   "cell_type": "code",
   "execution_count": null,
   "id": "64841a87",
   "metadata": {},
   "outputs": [],
   "source": []
  },
  {
   "cell_type": "code",
   "execution_count": null,
   "id": "1e89a678",
   "metadata": {},
   "outputs": [],
   "source": []
  },
  {
   "cell_type": "code",
   "execution_count": null,
   "id": "99bea210",
   "metadata": {},
   "outputs": [],
   "source": []
  },
  {
   "cell_type": "code",
   "execution_count": null,
   "id": "36584900",
   "metadata": {},
   "outputs": [],
   "source": []
  },
  {
   "cell_type": "code",
   "execution_count": null,
   "id": "98aed0ea",
   "metadata": {},
   "outputs": [],
   "source": []
  },
  {
   "cell_type": "code",
   "execution_count": null,
   "id": "f73a2567",
   "metadata": {},
   "outputs": [],
   "source": []
  },
  {
   "cell_type": "code",
   "execution_count": null,
   "id": "3fffa38b",
   "metadata": {},
   "outputs": [],
   "source": []
  },
  {
   "cell_type": "code",
   "execution_count": null,
   "id": "dfa9d870",
   "metadata": {},
   "outputs": [],
   "source": []
  },
  {
   "cell_type": "code",
   "execution_count": null,
   "id": "9bf2cdd5",
   "metadata": {},
   "outputs": [],
   "source": []
  },
  {
   "cell_type": "code",
   "execution_count": null,
   "id": "31427a4b",
   "metadata": {},
   "outputs": [],
   "source": []
  },
  {
   "cell_type": "code",
   "execution_count": null,
   "id": "6e7b1843",
   "metadata": {},
   "outputs": [],
   "source": []
  },
  {
   "cell_type": "code",
   "execution_count": null,
   "id": "951bd431",
   "metadata": {},
   "outputs": [],
   "source": []
  },
  {
   "cell_type": "code",
   "execution_count": null,
   "id": "00f5ea8f",
   "metadata": {},
   "outputs": [],
   "source": []
  }
 ],
 "metadata": {
  "kernelspec": {
   "display_name": "Python 3 (ipykernel)",
   "language": "python",
   "name": "python3"
  },
  "language_info": {
   "codemirror_mode": {
    "name": "ipython",
    "version": 3
   },
   "file_extension": ".py",
   "mimetype": "text/x-python",
   "name": "python",
   "nbconvert_exporter": "python",
   "pygments_lexer": "ipython3",
   "version": "3.9.12"
  }
 },
 "nbformat": 4,
 "nbformat_minor": 5
}

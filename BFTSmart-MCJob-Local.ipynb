{
 "cells": [
  {
   "cell_type": "code",
   "execution_count": 1,
   "id": "e494524a",
   "metadata": {},
   "outputs": [],
   "source": [
    "import os\n",
    "from joblib import Parallel, delayed\n",
    "import time\n",
    "import numpy as np"
   ]
  },
  {
   "cell_type": "code",
   "execution_count": 2,
   "id": "032960c1",
   "metadata": {},
   "outputs": [],
   "source": [
    "# os.system(\"aws --region us-west-1 ec2 describe-instances  --query 'Reservations[*].Instances[*].[PrivateIpAddress]' --output text > all_internal_ips\")\n",
    "\n",
    "# os.system(\"aws --region us-west-1 ec2 describe-instances  --query 'Reservations[*].Instances[*].[PublicIpAddress]' --output text > all_external_ips\")"
   ]
  },
  {
   "cell_type": "code",
   "execution_count": 3,
   "id": "4937b574",
   "metadata": {},
   "outputs": [
    {
     "name": "stdout",
     "output_type": "stream",
     "text": [
      "ssh -i \"MAKWest.pem\" ubuntu@ec2-127-0-0-1.us-west-1.compute.amazonaws.com\n",
      "ssh -i \"MAKWest.pem\" ubuntu@ec2-127-0-0-1.us-west-1.compute.amazonaws.com\n",
      "ssh -i \"MAKWest.pem\" ubuntu@ec2-127-0-0-1.us-west-1.compute.amazonaws.com\n",
      "ssh -i \"MAKWest.pem\" ubuntu@ec2-127-0-0-1.us-west-1.compute.amazonaws.com\n",
      "ssh -i \"MAKWest.pem\" ubuntu@ec2-127-0-0-1.us-west-1.compute.amazonaws.com\n",
      "ssh -i \"MAKWest.pem\" ubuntu@ec2-127-0-0-1.us-west-1.compute.amazonaws.com\n",
      "ssh -i \"MAKWest.pem\" ubuntu@ec2-127-0-0-1.us-west-1.compute.amazonaws.com\n",
      "ssh -i \"MAKWest.pem\" ubuntu@ec2-127-0-0-1.us-west-1.compute.amazonaws.com\n",
      "ssh -i \"MAKWest.pem\" ubuntu@ec2-127-0-0-1.us-west-1.compute.amazonaws.com\n",
      "ssh -i \"MAKWest.pem\" ubuntu@ec2-127-0-0-1.us-west-1.compute.amazonaws.com\n"
     ]
    }
   ],
   "source": [
    "with open('all_external_ips') as f:\n",
    "    lines = f.read().splitlines()\n",
    "\n",
    "\n",
    "lines = [x for x in lines if x!='None']\n",
    "lines\n",
    "\n",
    "for ip in lines:\n",
    "    if ip!='None':\n",
    "        current = (ip.split('.'))\n",
    "\n",
    "        print('ssh -i \"MAKWest.pem\" ubuntu@ec2-'+str(current[0])+'-'\\\n",
    "              +str(current[1])+'-'+str(current[2])+'-'+str(current[3])+'.us-west-1.compute.amazonaws.com')"
   ]
  },
  {
   "cell_type": "markdown",
   "id": "c7a63295",
   "metadata": {},
   "source": [
    "## Set number of clusters"
   ]
  },
  {
   "cell_type": "code",
   "execution_count": 4,
   "id": "cdd2f92b",
   "metadata": {},
   "outputs": [
    {
     "name": "stdout",
     "output_type": "stream",
     "text": [
      "2\n"
     ]
    }
   ],
   "source": [
    "nclusters = 0\n",
    "\n",
    "for folder in os.listdir('.'):\n",
    "    if 'config' in folder and folder!='config':\n",
    "        nclusters = nclusters + 1\n",
    "        \n",
    "        \n",
    "print(nclusters)\n",
    "\n",
    "\n",
    "total_count = 8\n",
    "\n",
    "\n",
    "nreplicas = int(total_count/nclusters)\n",
    "nodeIps = lines[:nclusters* nreplicas]\n",
    "\n",
    "nclients = 2\n",
    "\n",
    "# no_cluster_yet_nodes = lines[nclusters* nreplicas:-(nclusters)]\n",
    "no_cluster_yet_nodes = lines[nclusters* nreplicas:-nclients]\n",
    "\n",
    "\n",
    "\n",
    "\n",
    "# clientIps = lines[-(nclusters):]\n",
    "clientIps = lines[-nclients:]\n",
    "\n"
   ]
  },
  {
   "cell_type": "code",
   "execution_count": 5,
   "id": "5b1fbf03",
   "metadata": {},
   "outputs": [
    {
     "data": {
      "text/plain": [
       "(['127.0.0.1', '127.0.0.1'], [])"
      ]
     },
     "execution_count": 5,
     "metadata": {},
     "output_type": "execute_result"
    }
   ],
   "source": [
    "clientIps, no_cluster_yet_nodes"
   ]
  },
  {
   "cell_type": "markdown",
   "id": "3e6aaf82",
   "metadata": {},
   "source": [
    "## Functions"
   ]
  },
  {
   "cell_type": "code",
   "execution_count": 6,
   "id": "6eaca464",
   "metadata": {},
   "outputs": [],
   "source": [
    "def setup(i):\n",
    "\n",
    "    ip = lines[i]\n",
    "    if ip!='None':\n",
    "        current = (ip.split('.'))\n",
    "        command = 'scp -o StrictHostKeyChecking=no -i /home/tejas/Downloads/MAKWest.pem '+'commands.sh'+' ubuntu@ec2-'+str(current[0])+'-'\\\n",
    "              +str(current[1])+'-'+str(current[2])+'-'+str(current[3])+'.us-west-1.compute.amazonaws.com:commands.sh'\n",
    "        \n",
    "        \n",
    "        os.system(command)\n",
    "\n",
    "        \n",
    "def compile_job(i):\n",
    "    ip = lines[i]\n",
    "    if ip!='None':\n",
    "        current = (ip.split('.'))\n",
    "        command = 'echo 3108 | sudo -S ./gradlew installDist'\n",
    "        \n",
    "        \n",
    "        os.system(command)\n",
    "\n",
    "        \n",
    "        \n",
    "def clean_job(i):\n",
    "    ip = lines[i]\n",
    "    \n",
    "#     rm_command = 'sudo rm config/currentView; '\n",
    "#     for iter_ in range(nclusters):\n",
    "#         rm_command = rm_command + 'rm config'+str(iter_)+'/currentView; '\n",
    "        \n",
    "    \n",
    "    if ip!='None':\n",
    "        current = (ip.split('.'))\n",
    "        command = 'echo 3108 | sudo -S rm ../dump_files/nohup*.out; echo 1234 | sudo -S rm config*/currentView;'\n",
    "        \n",
    "        \n",
    "        os.system(command)\n",
    "        \n",
    "        \n",
    "\n",
    "        \n",
    "def run_server_node(i):\n",
    "    ip = lines[i]\n",
    "#     if ip!='None' and( ip in nodeIps or ip in no_cluster_yet_nodes):\n",
    "    if ip!='None' and( ip in nodeIps):\n",
    "        \n",
    "        current = (ip.split('.'))\n",
    "        command = 'nohup ./runscripts/startReplicaYCSB.sh '+str(i)+' >../dump_files/nohup_s'+str(i)+'.out 2>&1 & echo $! > ../dump_files/jobID_s'+str(i)+'.txt'\n",
    "        \n",
    "        \n",
    "        os.system(command)\n",
    "        \n",
    "        \n",
    "        \n",
    "    if ip!='None' and( ip in no_cluster_yet_nodes):\n",
    "        \n",
    "        current = (ip.split('.'))\n",
    "        command = 'nohup ./runscripts/startReplicaYCSB.sh '+str(i)+' >../dump_files/nohup_s'+str(i)+'.out 2>&1 &'\n",
    "        \n",
    "        \n",
    "        os.system(command)        \n",
    "#         print(command)\n",
    "\n",
    "\n",
    "\n",
    "def run_basic_client(i):\n",
    "    cmd_arg = ''\n",
    "    \n",
    "    ip = lines[i]\n",
    "    if ip!='None' and ip in clientIps:\n",
    "#     if ip!='None' and ip in nodeIps[1:1+len(clientIps)]:\n",
    "        \n",
    "        current = (ip.split('.'))\n",
    "        \n",
    "#         cmd_arg = nodeIps[1:1+len(clientIps)].index(ip)\n",
    "        \n",
    "        for iter__ in range(len(clientIps)):\n",
    "            if ip==clientIps[iter__]:\n",
    "                cmd_arg = iter__\n",
    "                \n",
    "                \n",
    "        \n",
    "#         print(i, cmd_arg)\n",
    "            \n",
    "        current = (ip.split('.'))\n",
    "        command = 'nohup ./runscripts/ycsbClient.sh '+str(i-len(nodeIps)-len(no_cluster_yet_nodes))+' >../dump_files/nohup_c'+str(i)+'.out 2>&1 &'\n",
    "\n",
    "        \n",
    "        os.system(command)\n",
    "\n",
    "\n",
    "def kill_java(i):\n",
    "    ip = lines[i]\n",
    "    \n",
    "    if ip!='None':\n",
    "        current = (ip.split('.'))\n",
    "        command = ' killall java; killall nohup'\n",
    "        \n",
    "        \n",
    "        os.system(command)\n",
    "        \n",
    "        \n",
    "        \n",
    "def kill_clients(i):\n",
    "    ip = lines[i]\n",
    "    if ip!='None' and ip in clientIps:\n",
    "        current = (ip.split('.'))\n",
    "        command = 'killall java;  killall nohup\"'\n",
    "        \n",
    "        \n",
    "        os.system(command)\n",
    "\n",
    "def run_server_node_check(i):\n",
    "    ip = lines[i]\n",
    "#     if ip!='None' and( ip in nodeIps or ip in no_cluster_yet_nodes):\n",
    "    if ip!='None' and( ip in nodeIps):\n",
    "        \n",
    "        current = (ip.split('.'))\n",
    "        command = ' nohup ./runscripts/startReplicaYCSB.sh '+str(i)+' >../dump_files/nohup_s'+str(i)+'.out 2>&1 &'\n",
    "        \n",
    "        \n",
    "        print(command)\n",
    "        \n",
    "        \n",
    "\n",
    "# for i in range(len(lines)):\n",
    "#     run_server_node_check(i)\n",
    "\n",
    "def run_basic_client_check(i):\n",
    "    cmd_arg = ''\n",
    "    \n",
    "    ip = lines[i]\n",
    "    if ip!='None' and ip in clientIps:\n",
    "        \n",
    "        for iter__ in range(len(clientIps)):\n",
    "            if ip==clientIps[iter__]:\n",
    "                cmd_arg = iter__\n",
    "                \n",
    "                \n",
    "        \n",
    "#         print(i, cmd_arg)\n",
    "            \n",
    "        current = (ip.split('.'))\n",
    "        command = 'nohup ./runscripts/ycsbClient.sh '+str(cmd_arg)+' >../dump_files/nohup_c'+str(i)+'.out 2>&1 &'\n",
    "\n",
    "        \n",
    "        print(command)\n",
    "\n",
    "# for i in range(len(lines)):\n",
    "#     run_basic_client_check(i)\n",
    "\n",
    "\n",
    "\n",
    "def join_node1(i):\n",
    "    ip = lines[i]\n",
    "    if ip!='None':\n",
    "        \n",
    "        current = (ip.split('.'))\n",
    "        command = 'nohup  ./runscripts/smartrun.sh bftsmart.reconfiguration.util.DefaultVMServices '+str(i)+' 127.0.0.1 11080 11081 config0 >../dump_files/nohup_j'+str(i)+'.out 2>&1 &'\n",
    "        \n",
    "        \n",
    "        os.system(command)   \n",
    "        \n",
    "        \n",
    "def join_node2(i):\n",
    "    ip = lines[i]\n",
    "    if ip!='None':\n",
    "        \n",
    "        current = (ip.split('.'))\n",
    "        command = 'nohup  ./runscripts/smartrun.sh bftsmart.reconfiguration.util.DefaultVMServices '+str(i)+' 127.0.0.1 11090 11091 config0 >../dump_files/nohup_j'+str(i)+'.out 2>&1 &'\n",
    "        \n",
    "        \n",
    "        os.system(command) \n",
    "        \n",
    "def join_node3(i):\n",
    "    ip = lines[i]\n",
    "    if ip!='None':\n",
    "        \n",
    "        current = (ip.split('.'))\n",
    "        command = 'nohup  ./runscripts/smartrun.sh bftsmart.reconfiguration.util.DefaultVMServices '+str(i)+' 127.0.0.1 11100 11101 config0 >../dump_files/nohup_j'+str(i)+'.out 2>&1 &'\n",
    "        \n",
    "        \n",
    "        os.system(command) "
   ]
  },
  {
   "cell_type": "markdown",
   "id": "0cda82ca",
   "metadata": {},
   "source": [
    "## Compile Job"
   ]
  },
  {
   "cell_type": "code",
   "execution_count": null,
   "id": "f2db7285",
   "metadata": {
    "scrolled": true
   },
   "outputs": [],
   "source": []
  },
  {
   "cell_type": "markdown",
   "id": "fcbc2a0d",
   "metadata": {},
   "source": [
    "## Setup Client and nodeIPS"
   ]
  },
  {
   "cell_type": "code",
   "execution_count": 7,
   "id": "b3e8af22",
   "metadata": {},
   "outputs": [
    {
     "data": {
      "text/plain": [
       "10"
      ]
     },
     "execution_count": 7,
     "metadata": {},
     "output_type": "execute_result"
    }
   ],
   "source": [
    "len(lines)"
   ]
  },
  {
   "cell_type": "code",
   "execution_count": 8,
   "id": "255a3e30",
   "metadata": {},
   "outputs": [
    {
     "data": {
      "text/plain": [
       "(8, 2)"
      ]
     },
     "execution_count": 8,
     "metadata": {},
     "output_type": "execute_result"
    }
   ],
   "source": [
    "len(nodeIps), len(clientIps)"
   ]
  },
  {
   "cell_type": "markdown",
   "id": "b1e1b5c7",
   "metadata": {},
   "source": [
    "## RUN SERVERS"
   ]
  },
  {
   "cell_type": "code",
   "execution_count": 30,
   "id": "822f5c03",
   "metadata": {
    "scrolled": true
   },
   "outputs": [
    {
     "name": "stderr",
     "output_type": "stream",
     "text": [
      "java(3148): Operation not permitted\n",
      "java(4015): Operation not permitted\n",
      "java(5277): Operation not permitted\n",
      "java: no process found\n",
      "nohup: no process found\n",
      "java(3148): Operation not permitted\n",
      "java(4015): Operation not permitted\n",
      "java(5277): Operation not permitted\n",
      "java: no process found\n",
      "nohup: no process found\n",
      "java(3148): Operation not permitted\n",
      "java(4015): Operation not permitted\n",
      "java(5277): Operation not permitted\n",
      "java: no process found\n",
      "nohup: no process found\n",
      "java(3148): Operation not permitted\n",
      "java(4015): Operation not permitted\n",
      "java(5277): Operation not permitted\n",
      "java: no process found\n",
      "nohup: no process found\n",
      "java(3148): Operation not permitted\n",
      "java(4015): Operation not permitted\n",
      "java(5277): Operation not permitted\n",
      "java: no process found\n",
      "nohup: no process found\n",
      "java(3148): Operation not permitted\n",
      "java(4015): Operation not permitted\n",
      "java(5277): Operation not permitted\n",
      "java: no process found\n",
      "nohup: no process found\n",
      "java(3148): Operation not permitted\n",
      "java(4015): Operation not permitted\n",
      "java(5277): Operation not permitted\n",
      "java: no process found\n",
      "nohup: no process found\n",
      "java(3148): Operation not permitted\n",
      "java(4015): Operation not permitted\n",
      "java(5277): Operation not permitted\n",
      "java: no process found\n",
      "nohup: no process found\n",
      "java(3148): Operation not permitted\n",
      "java(4015): Operation not permitted\n",
      "java(5277): Operation not permitted\n",
      "java: no process found\n",
      "nohup: no process found\n",
      "java(3148): Operation not permitted\n",
      "java(4015): Operation not permitted\n",
      "java(5277): Operation not permitted\n",
      "java: no process found\n",
      "nohup: no process found\n",
      "[sudo] password for tejas: rm: cannot remove 'config*/currentView': No such file or directory\n",
      "[sudo] password for tejas: rm: cannot remove '../dump_files/nohup*.out': No such file or directory\n",
      "rm: cannot remove 'config*/currentView': No such file or directory\n",
      "[sudo] password for tejas: rm: cannot remove '../dump_files/nohup*.out': No such file or directory\n",
      "rm: cannot remove 'config*/currentView': No such file or directory\n",
      "[sudo] password for tejas: rm: cannot remove '../dump_files/nohup*.out': No such file or directory\n",
      "rm: cannot remove 'config*/currentView': No such file or directory\n",
      "[sudo] password for tejas: rm: cannot remove '../dump_files/nohup*.out': No such file or directory\n",
      "rm: cannot remove 'config*/currentView': No such file or directory\n",
      "[sudo] password for tejas: rm: cannot remove '../dump_files/nohup*.out': No such file or directory\n",
      "rm: cannot remove 'config*/currentView': No such file or directory\n",
      "[sudo] password for tejas: rm: cannot remove '../dump_files/nohup*.out': No such file or directory\n",
      "rm: cannot remove 'config*/currentView': No such file or directory\n",
      "[sudo] password for tejas: rm: cannot remove '../dump_files/nohup*.out': No such file or directory\n",
      "rm: cannot remove 'config*/currentView': No such file or directory\n",
      "[sudo] password for tejas: rm: cannot remove '../dump_files/nohup*.out': No such file or directory\n",
      "rm: cannot remove 'config*/currentView': No such file or directory\n",
      "[sudo] password for tejas: rm: cannot remove '../dump_files/nohup*.out': No such file or directory\n",
      "rm: cannot remove 'config*/currentView': No such file or directory\n",
      "[sudo] password for tejas: "
     ]
    },
    {
     "name": "stdout",
     "output_type": "stream",
     "text": [
      "\n",
      "> Task :compileJava\n",
      "\n",
      "> Task :processResources NO-SOURCE\n",
      "> Task :classes\n",
      "> Task :jar\n",
      "> Task :installDist\n",
      "\n",
      "BUILD SUCCESSFUL in 2s\n",
      "3 actionable tasks: 3 executed\n"
     ]
    },
    {
     "name": "stderr",
     "output_type": "stream",
     "text": [
      "Note: /home/tejas/work/BftSmart_Final/src/main/java/bftsmart/reconfiguration/ViewController.java uses or overrides a deprecated API.\n",
      "Note: Recompile with -Xlint:deprecation for details.\n",
      "Note: Some input files use unchecked or unsafe operations.\n",
      "Note: Recompile with -Xlint:unchecked for details.\n"
     ]
    }
   ],
   "source": [
    "for i in range(len(lines)):\n",
    "    kill_java(i)\n",
    "\n",
    "for i in range(len(lines)):\n",
    "    clean_job(i)\n",
    "    \n",
    "compile_job(1)\n",
    "\n"
   ]
  },
  {
   "cell_type": "code",
   "execution_count": 31,
   "id": "61165bc7",
   "metadata": {},
   "outputs": [
    {
     "name": "stdout",
     "output_type": "stream",
     "text": [
      "0\n",
      "1\n",
      "2\n",
      "3\n",
      "4\n",
      "5\n",
      "6\n",
      "7\n"
     ]
    }
   ],
   "source": [
    "    \n",
    "for i in range(len(lines)-nclients-len(no_cluster_yet_nodes)):\n",
    "    print(i)\n",
    "    run_server_node(i)"
   ]
  },
  {
   "cell_type": "code",
   "execution_count": 32,
   "id": "7f0293c0",
   "metadata": {
    "scrolled": true
   },
   "outputs": [
    {
     "name": "stdout",
     "output_type": "stream",
     "text": [
      "-- Received  CID reply from replica ( or smsg.getSender()) 2 with smsg.getCID() 5 (expecting queryID 5),  waitingCID -1, isInitializing true\r\n",
      "-- smsg.getSender() 2, smsg.getState().getLastCID() -1\r\n",
      "-- Received 1 replies for query ID 5\r\n",
      "-- currentConsensusIdReceived activated\r\n",
      "-- Received  CID reply from replica ( or smsg.getSender()) 1 with smsg.getCID() 5 (expecting queryID 5),  waitingCID -1, isInitializing true\r\n",
      "-- smsg.getSender() 1, smsg.getState().getLastCID() -1\r\n",
      "-- Received 2 replies for query ID 5\r\n",
      "-- currentConsensusIdReceived activated\r\n",
      "-- Received  CID reply from replica ( or smsg.getSender()) 3 with smsg.getCID() 5 (expecting queryID 5),  waitingCID -1, isInitializing true\r\n",
      "-- smsg.getSender() 3, smsg.getState().getLastCID() -1\r\n",
      "-- Received 3 replies for query ID 5\r\n",
      "-- Received quorum of replies for query ID 5, replies.size(): 3\r\n",
      "-- CID -1 came from 3 replicas with quorum 2\r\n",
      "-- There is a quorum for CID -1 with lastCID -1\r\n",
      "-- Replica state is up to date\r\n",
      "-- \r\n",
      "\t\t###################################\r\n",
      "\t\t    Ready to process operations    \r\n",
      "\t\t###################################\r\n",
      "-- zsdqwd Before the prewait\r\n",
      "-- currentConsensusIdAsked activated\r\n",
      "-- Received CID query from 1 with ID 4\r\n",
      "-- Going to send back response to CID query with CID: -1\r\n",
      "-- Getting connection for ret: bftsmart.communication.server.ServerConnection@25d250c6, remoteId: 1\r\n",
      "-- Sent CID reply to replica 1 with ID 4\r\n",
      "-- currentConsensusIdAsked activated\r\n",
      "-- Received CID query from 3 with ID 6\r\n",
      "-- Going to send back response to CID query with CID: -1\r\n",
      "-- Getting connection for ret: bftsmart.communication.server.ServerConnection@6b26e945, remoteId: 3\r\n",
      "-- Sent CID reply to replica 3 with ID 6\r\n",
      "-- currentConsensusIdAsked activated\r\n",
      "-- Received CID query from 2 with ID 4\r\n",
      "-- Going to send back response to CID query with CID: -1\r\n",
      "-- Getting connection for ret: bftsmart.communication.server.ServerConnection@4df50bcc, remoteId: 2\r\n",
      "-- Sent CID reply to replica 2 with ID 4\r\n",
      "-- currentConsensusIdAsked activated\r\n",
      "-- Received CID query from 1 with ID 5\r\n",
      "-- Going to send back response to CID query with CID: -1\r\n",
      "-- Getting connection for ret: bftsmart.communication.server.ServerConnection@25d250c6, remoteId: 1\r\n",
      "-- Sent CID reply to replica 1 with ID 5\r\n",
      "-- currentConsensusIdAsked activated\r\n",
      "-- Received CID query from 3 with ID 7\r\n",
      "-- Going to send back response to CID query with CID: -1\r\n",
      "-- Getting connection for ret: bftsmart.communication.server.ServerConnection@6b26e945, remoteId: 3\r\n",
      "-- Sent CID reply to replica 3 with ID 7\r\n",
      "-- currentConsensusIdAsked activated\r\n",
      "-- Received CID query from 2 with ID 5\r\n",
      "-- Going to send back response to CID query with CID: -1\r\n",
      "-- Getting connection for ret: bftsmart.communication.server.ServerConnection@4df50bcc, remoteId: 2\r\n",
      "-- Sent CID reply to replica 2 with ID 5\r\n"
     ]
    }
   ],
   "source": [
    "time.sleep(30)\n",
    "!tail ../dump_files/nohup_s0.out -n 50"
   ]
  },
  {
   "cell_type": "code",
   "execution_count": 33,
   "id": "41900dd9",
   "metadata": {},
   "outputs": [],
   "source": [
    "\n",
    "\n",
    "# for i in range(len(lines)):\n",
    "#     kill_java(i)"
   ]
  },
  {
   "cell_type": "code",
   "execution_count": 34,
   "id": "4c1e4ec0",
   "metadata": {},
   "outputs": [
    {
     "data": {
      "text/plain": [
       "10"
      ]
     },
     "execution_count": 34,
     "metadata": {},
     "output_type": "execute_result"
    }
   ],
   "source": [
    "len(nodeIps)+len(no_cluster_yet_nodes)+len(clientIps)\n"
   ]
  },
  {
   "cell_type": "markdown",
   "id": "e44448aa",
   "metadata": {},
   "source": [
    "## Run basic client"
   ]
  },
  {
   "cell_type": "code",
   "execution_count": 35,
   "id": "fc3fe25b",
   "metadata": {},
   "outputs": [],
   "source": [
    "for i in range(len(nodeIps)+len(no_cluster_yet_nodes),len(nodeIps)+len(no_cluster_yet_nodes)+len(clientIps)):\n",
    "    run_basic_client(i)"
   ]
  },
  {
   "cell_type": "code",
   "execution_count": 36,
   "id": "16ab57a6",
   "metadata": {},
   "outputs": [],
   "source": [
    "time.sleep(80)"
   ]
  },
  {
   "cell_type": "code",
   "execution_count": 37,
   "id": "88655e7e",
   "metadata": {},
   "outputs": [],
   "source": [
    "\n",
    "# time.sleep(30)\n",
    "# run_server_node(8)\n",
    "# time.sleep(15)\n",
    "# join_node1(8)\n",
    "\n",
    "# time.sleep(30)\n",
    "# run_server_node(9)\n",
    "\n",
    "# time.sleep(30)\n",
    "# join_node2(9)\n",
    "\n",
    "# time.sleep(30)\n",
    "# run_server_node(10)\n",
    "# time.sleep(30)\n",
    "# join_node3(10)"
   ]
  },
  {
   "cell_type": "code",
   "execution_count": 38,
   "id": "9f646865",
   "metadata": {
    "scrolled": true
   },
   "outputs": [
    {
     "name": "stderr",
     "output_type": "stream",
     "text": [
      "java(3148): Operation not permitted\n",
      "java(4015): Operation not permitted\n",
      "java(5277): Operation not permitted\n",
      "nohup: no process found\n",
      "java(3148): Operation not permitted\n",
      "java(4015): Operation not permitted\n",
      "java(5277): Operation not permitted\n",
      "nohup: no process found\n",
      "java(3148): Operation not permitted\n",
      "java(4015): Operation not permitted\n",
      "java(5277): Operation not permitted\n",
      "nohup: no process found\n",
      "java(3148): Operation not permitted\n",
      "java(4015): Operation not permitted\n",
      "java(5277): Operation not permitted\n",
      "nohup: no process found\n",
      "java(3148): Operation not permitted\n",
      "java(4015): Operation not permitted\n",
      "java(5277): Operation not permitted\n",
      "nohup: no process found\n",
      "java(3148): Operation not permitted\n",
      "java(4015): Operation not permitted\n",
      "java(5277): Operation not permitted\n",
      "nohup: no process found\n",
      "java(3148): Operation not permitted\n",
      "java(4015): Operation not permitted\n",
      "java(5277): Operation not permitted\n",
      "nohup: no process found\n",
      "java(3148): Operation not permitted\n",
      "java(4015): Operation not permitted\n",
      "java(5277): Operation not permitted\n",
      "nohup: no process found\n",
      "java(3148): Operation not permitted\n",
      "java(4015): Operation not permitted\n",
      "java(5277): Operation not permitted\n",
      "nohup: no process found\n",
      "java(3148): Operation not permitted\n",
      "java(4015): Operation not permitted\n",
      "java(5277): Operation not permitted\n",
      "nohup: no process found\n"
     ]
    }
   ],
   "source": [
    "# time.sleep(50)\n",
    "\n",
    "# run_server_node(9)\n",
    "\n",
    "time.sleep(160)\n",
    "# join_node2(9)\n",
    "\n",
    "\n",
    "# for i in [2]:\n",
    "#     os.system('kill -9 `cat ../dump_files/jobID_s2.txt`')\n",
    "    \n",
    "\n",
    "\n",
    "# time.sleep(80)\n",
    "\n",
    "\n",
    "\n",
    "for i in range(len(lines)):\n",
    "    kill_java(i)\n",
    "    \n"
   ]
  },
  {
   "cell_type": "code",
   "execution_count": 39,
   "id": "0b36efbb",
   "metadata": {},
   "outputs": [],
   "source": [
    "# for i in range(len(lines)):\n",
    "#     kill_java(i)"
   ]
  },
  {
   "cell_type": "markdown",
   "id": "8b910594",
   "metadata": {},
   "source": [
    "## Main Job"
   ]
  },
  {
   "cell_type": "code",
   "execution_count": 40,
   "id": "5456aed4",
   "metadata": {},
   "outputs": [],
   "source": [
    "def getTimesThputs(file):\n",
    "    f = open(file, \"r\")\n",
    "    data = f.readlines() \n",
    "    times = []\n",
    "    thputs = []\n",
    "    latencies = []\n",
    "    for line in data:\n",
    "        if not line.startswith('--') and 'current ops/sec; [UPDATE AverageLatency' in line:\n",
    "\n",
    "#         print(line)\n",
    "            times.append(line.split('sec:')[0].strip())\n",
    "            thputs.append(line.split(';')[1].split('current')[0].strip())\n",
    "            latencies.append(line.split('=')[1].split(']')[0].strip())\n",
    "\n",
    "    return np.array(times).astype(float), np.array(thputs).astype(float), np.array(latencies).astype(float)  \n",
    "\n",
    "\n",
    "\n",
    "\n",
    "\n",
    "\n",
    "def getTimeThps(file, flag):\n",
    "    \n",
    "    f = open(file, \"r\")\n",
    "    data = f.readlines() \n",
    "\n",
    "    times = []\n",
    "    thputs = []\n",
    "    for line in data:\n",
    "        if 'throughput[ops/s]' in line:\n",
    "            lineData = (line[13+line.find('max[ops/s])>'):-2])\n",
    "            print(lineData)\n",
    "\n",
    "            times.append(lineData.split('|')[0])\n",
    "            thputs.append(lineData.split('|')[-2])\n",
    "    if (flag): \n",
    "        times.append(float(times[-1])+abs(float(times[-1]) - float(times[-2]) ))\n",
    "        thputs.append(0)\n",
    "        \n",
    "    return np.array(times).astype(float), np.array(thputs).astype(float) \n"
   ]
  },
  {
   "cell_type": "code",
   "execution_count": 41,
   "id": "e23027bf",
   "metadata": {},
   "outputs": [],
   "source": [
    "## Byzantine Remote View Change"
   ]
  },
  {
   "cell_type": "code",
   "execution_count": 42,
   "id": "f11bb247",
   "metadata": {},
   "outputs": [
    {
     "data": {
      "text/plain": [
       "'../dump_files/nohup_c8.out'"
      ]
     },
     "execution_count": 42,
     "metadata": {},
     "output_type": "execute_result"
    }
   ],
   "source": [
    "times ,thputs, lats = getTimesThputs('../dump_files/nohup_c'+str(len(nodeIps)+len(no_cluster_yet_nodes))+'.out')\n",
    "times2 ,thputs2, lats = getTimesThputs('../dump_files/nohup_c'+str(len(nodeIps)+len(no_cluster_yet_nodes)+1)+'.out')\n",
    "\n",
    "\n",
    "'../dump_files/nohup_c'+str(len(nodeIps)+len(no_cluster_yet_nodes))+'.out'"
   ]
  },
  {
   "cell_type": "code",
   "execution_count": 43,
   "id": "9e07098a",
   "metadata": {},
   "outputs": [
    {
     "data": {
      "text/plain": [
       "array([0., 0., 0., 0., 0., 0., 0., 0., 0., 0., 0., 0., 0., 0., 0., 0., 0.,\n",
       "       0., 0., 0., 0., 0., 0., 0., 0., 0., 0., 0., 0., 0., 0., 0., 0., 0.,\n",
       "       0., 0., 0., 0., 0., 0., 0., 0., 0., 0., 0., 0., 0., 0., 0., 0., 0.,\n",
       "       0., 0., 0., 0., 0., 0., 0., 0., 0., 0., 0., 0., 0., 0., 0., 0., 0.,\n",
       "       0., 0., 0., 0., 0., 0., 0., 0., 0., 0., 0., 0., 0., 0., 0., 0., 0.,\n",
       "       0., 0., 0., 0., 0., 0., 0., 0., 0., 0., 0., 0., 0., 0., 0., 0., 0.,\n",
       "       0., 0., 0., 0., 0., 0., 0., 0., 0., 0., 0., 0., 0., 0., 0., 0., 0.,\n",
       "       0., 0., 0., 0., 0., 0., 0., 0., 0., 0., 0., 0., 0., 0., 0., 0., 0.,\n",
       "       0., 0., 0., 0., 0., 0., 0., 0., 0., 0., 0., 0., 0., 0., 0., 0., 0.,\n",
       "       0., 0., 0., 0., 0., 0., 0., 0., 0., 0., 0., 0., 0., 0., 0., 0., 0.,\n",
       "       0., 0., 0., 0., 0., 0., 0., 0., 0., 0., 0., 0., 0., 0., 0., 0., 0.,\n",
       "       0., 0., 0., 0., 0., 0., 0., 0., 0., 0., 0., 0., 0., 0., 0., 0., 0.,\n",
       "       0., 0., 0., 0., 0., 0., 0., 0., 0., 0., 0., 0., 0., 0., 0., 0., 0.,\n",
       "       0., 0., 0., 0., 0., 0., 0., 0., 0., 0., 0., 0., 0., 0., 0., 0.])"
      ]
     },
     "execution_count": 43,
     "metadata": {},
     "output_type": "execute_result"
    }
   ],
   "source": [
    "times - times2"
   ]
  },
  {
   "cell_type": "code",
   "execution_count": 44,
   "id": "5e5f4a9b",
   "metadata": {},
   "outputs": [],
   "source": [
    "thputs = thputs + thputs2"
   ]
  },
  {
   "cell_type": "code",
   "execution_count": 45,
   "id": "8b5e2f0f",
   "metadata": {},
   "outputs": [],
   "source": [
    "# np.mean(lats[20:]) # 23604.83205128205"
   ]
  },
  {
   "cell_type": "code",
   "execution_count": 46,
   "id": "9110f856",
   "metadata": {},
   "outputs": [
    {
     "data": {
      "text/plain": [
       "85513.3793548387"
      ]
     },
     "execution_count": 46,
     "metadata": {},
     "output_type": "execute_result"
    }
   ],
   "source": [
    "np.mean(lats[20:])"
   ]
  },
  {
   "cell_type": "code",
   "execution_count": 47,
   "id": "55df87d4",
   "metadata": {},
   "outputs": [],
   "source": [
    "# import pylab as pl\n",
    "\n",
    "# pl.figure(figsize = (12,8))\n",
    "# pl.rcParams.update({'font.size': 17})\n",
    "# pl.plot(times[:], thputs[:], '-o', label='BfTSmart-MC')\n",
    "\n",
    "\n",
    "# pl.title(r'Throughput')\n",
    "\n",
    "# # pl.axvline(FailTimes[0], label = '1st fail', ls = '--', color = 'r')\n",
    "# # pl.axvline(FailTimes[1], label = '2nd fail', ls = '--', color = 'g')\n",
    "# # pl.axvline(JoinTimes[2], label = '3rd join', ls = '--', color = 'b')\n",
    "# # pl.axvline(JoinTimes[3], label = '4th join', ls = '--', color = 'orange')\n",
    "\n",
    "# pl.xlabel('Time (s)')\n",
    "# pl.ylabel('Throughput (Txn/s)')\n",
    "# pl.legend()\n",
    "# # pl.savefig('../Experiments/RemoteViewChange.png', dpi = 150)\n",
    "# pl.show()\n",
    "# pl.clf()\n"
   ]
  },
  {
   "cell_type": "code",
   "execution_count": 48,
   "id": "f195bebf",
   "metadata": {},
   "outputs": [
    {
     "data": {
      "image/png": "[encoded data removed]",
      "text/plain": [
       "<Figure size 864x576 with 1 Axes>"
      ]
     },
     "metadata": {
      "needs_background": "light"
     },
     "output_type": "display_data"
    },
    {
     "data": {
      "text/plain": [
       "<Figure size 432x288 with 0 Axes>"
      ]
     },
     "metadata": {},
     "output_type": "display_data"
    }
   ],
   "source": [
    "import pylab as pl\n",
    "\n",
    "pl.figure(figsize = (12,8))\n",
    "# pl.rcParams.update({'font.size': 17})\n",
    "pl.plot(times[:], thputs[:], '-o', label='BfTSmart-MC')\n",
    "\n",
    "\n",
    "# pl.title(r'Joins Throughput')\n",
    "\n",
    "# pl.axvline(FailTimes[0], label = '1st fail', ls = '--', color = 'r')\n",
    "# pl.axvline(FailTimes[1], label = '2nd fail', ls = '--', color = 'g')\n",
    "# pl.axvline(JoinTimes[2], label = '3rd join', ls = '--', color = 'b')\n",
    "# pl.axvline(JoinTimes[3], label = '4th join', ls = '--', color = 'orange')\n",
    "\n",
    "pl.xlabel('Time (s)')\n",
    "pl.ylabel('Throughput (Txn/s)')\n",
    "pl.legend()\n",
    "# pl.savefig('../Experiments/RemoteViewChange.png', dpi = 150)\n",
    "pl.show()\n",
    "pl.clf()\n"
   ]
  },
  {
   "cell_type": "code",
   "execution_count": 49,
   "id": "6c6e28c0",
   "metadata": {},
   "outputs": [
    {
     "data": {
      "text/plain": [
       "22857.72"
      ]
     },
     "execution_count": 49,
     "metadata": {},
     "output_type": "execute_result"
    }
   ],
   "source": [
    "np.sum(thputs)"
   ]
  },
  {
   "cell_type": "code",
   "execution_count": 50,
   "id": "f4bd1761",
   "metadata": {},
   "outputs": [],
   "source": [
    "# import pylab as pl\n",
    "\n",
    "# pl.figure(figsize = (12,8))\n",
    "# pl.rcParams.update({'font.size': 17})\n",
    "# pl.plot(times[:], thputs[:], '-o', label='BfTSmart-MC')\n",
    "\n",
    "\n",
    "# pl.title(r'Joins Throughput')\n",
    "\n",
    "# # pl.axvline(FailTimes[0], label = '1st fail', ls = '--', color = 'r')\n",
    "# # pl.axvline(FailTimes[1], label = '2nd fail', ls = '--', color = 'g')\n",
    "# # pl.axvline(JoinTimes[2], label = '3rd join', ls = '--', color = 'b')\n",
    "# # pl.axvline(JoinTimes[3], label = '4th join', ls = '--', color = 'orange')\n",
    "\n",
    "# pl.xlabel('Time (s)')\n",
    "# pl.ylabel('Throughput (Txn/s)')\n",
    "# pl.legend()\n",
    "# # pl.savefig('../Experiments/RemoteViewChange.png', dpi = 150)\n",
    "# pl.show()\n",
    "# pl.clf()\n"
   ]
  },
  {
   "cell_type": "code",
   "execution_count": null,
   "id": "d5eb9ffe",
   "metadata": {},
   "outputs": [],
   "source": []
  },
  {
   "cell_type": "code",
   "execution_count": null,
   "id": "58275d23",
   "metadata": {},
   "outputs": [],
   "source": []
  },
  {
   "cell_type": "code",
   "execution_count": null,
   "id": "e0692410",
   "metadata": {},
   "outputs": [],
   "source": []
  },
  {
   "cell_type": "code",
   "execution_count": null,
   "id": "015d9d46",
   "metadata": {},
   "outputs": [],
   "source": []
  },
  {
   "cell_type": "code",
   "execution_count": null,
   "id": "1e321aca",
   "metadata": {},
   "outputs": [],
   "source": []
  },
  {
   "cell_type": "code",
   "execution_count": null,
   "id": "fcdf1e48",
   "metadata": {},
   "outputs": [],
   "source": []
  },
  {
   "cell_type": "code",
   "execution_count": null,
   "id": "cf7c959b",
   "metadata": {},
   "outputs": [],
   "source": []
  },
  {
   "cell_type": "code",
   "execution_count": null,
   "id": "2f12b7c5",
   "metadata": {},
   "outputs": [],
   "source": [
    "\n"
   ]
  }
 ],
 "metadata": {
  "kernelspec": {
   "display_name": "Python 3 (ipykernel)",
   "language": "python",
   "name": "python3"
  },
  "language_info": {
   "codemirror_mode": {
    "name": "ipython",
    "version": 3
   },
   "file_extension": ".py",
   "mimetype": "text/x-python",
   "name": "python",
   "nbconvert_exporter": "python",
   "pygments_lexer": "ipython3",
   "version": "3.9.12"
  }
 },
 "nbformat": 4,
 "nbformat_minor": 5
}

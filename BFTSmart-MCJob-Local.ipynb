{
 "cells": [
  {
   "cell_type": "code",
   "execution_count": 1,
   "id": "e494524a",
   "metadata": {},
   "outputs": [],
   "source": [
    "import os\n",
    "from joblib import Parallel, delayed\n",
    "import time\n",
    "import numpy as np"
   ]
  },
  {
   "cell_type": "code",
   "execution_count": 2,
   "id": "032960c1",
   "metadata": {},
   "outputs": [],
   "source": [
    "# time.sleep(30)"
   ]
  },
  {
   "cell_type": "code",
   "execution_count": 3,
   "id": "4937b574",
   "metadata": {},
   "outputs": [
    {
     "name": "stdout",
     "output_type": "stream",
     "text": [
      "ssh -i \"MAKWest.pem\" ubuntu@ec2-127-0-0-1.us-west-1.compute.amazonaws.com\n",
      "ssh -i \"MAKWest.pem\" ubuntu@ec2-127-0-0-1.us-west-1.compute.amazonaws.com\n",
      "ssh -i \"MAKWest.pem\" ubuntu@ec2-127-0-0-1.us-west-1.compute.amazonaws.com\n",
      "ssh -i \"MAKWest.pem\" ubuntu@ec2-127-0-0-1.us-west-1.compute.amazonaws.com\n",
      "ssh -i \"MAKWest.pem\" ubuntu@ec2-127-0-0-1.us-west-1.compute.amazonaws.com\n",
      "ssh -i \"MAKWest.pem\" ubuntu@ec2-127-0-0-1.us-west-1.compute.amazonaws.com\n",
      "ssh -i \"MAKWest.pem\" ubuntu@ec2-127-0-0-1.us-west-1.compute.amazonaws.com\n",
      "ssh -i \"MAKWest.pem\" ubuntu@ec2-127-0-0-1.us-west-1.compute.amazonaws.com\n",
      "ssh -i \"MAKWest.pem\" ubuntu@ec2-127-0-0-1.us-west-1.compute.amazonaws.com\n",
      "ssh -i \"MAKWest.pem\" ubuntu@ec2-127-0-0-1.us-west-1.compute.amazonaws.com\n",
      "ssh -i \"MAKWest.pem\" ubuntu@ec2-127-0-0-1.us-west-1.compute.amazonaws.com\n",
      "ssh -i \"MAKWest.pem\" ubuntu@ec2-127-0-0-1.us-west-1.compute.amazonaws.com\n",
      "ssh -i \"MAKWest.pem\" ubuntu@ec2-127-0-0-1.us-west-1.compute.amazonaws.com\n",
      "ssh -i \"MAKWest.pem\" ubuntu@ec2-127-0-0-1.us-west-1.compute.amazonaws.com\n",
      "ssh -i \"MAKWest.pem\" ubuntu@ec2-127-0-0-1.us-west-1.compute.amazonaws.com\n",
      "ssh -i \"MAKWest.pem\" ubuntu@ec2-127-0-0-1.us-west-1.compute.amazonaws.com\n",
      "ssh -i \"MAKWest.pem\" ubuntu@ec2-127-0-0-1.us-west-1.compute.amazonaws.com\n",
      "ssh -i \"MAKWest.pem\" ubuntu@ec2-127-0-0-1.us-west-1.compute.amazonaws.com\n",
      "ssh -i \"MAKWest.pem\" ubuntu@ec2-127-0-0-1.us-west-1.compute.amazonaws.com\n",
      "ssh -i \"MAKWest.pem\" ubuntu@ec2-127-0-0-1.us-west-1.compute.amazonaws.com\n",
      "ssh -i \"MAKWest.pem\" ubuntu@ec2-127-0-0-1.us-west-1.compute.amazonaws.com\n",
      "ssh -i \"MAKWest.pem\" ubuntu@ec2-127-0-0-1.us-west-1.compute.amazonaws.com\n"
     ]
    }
   ],
   "source": [
    "with open('all_external_ips') as f:\n",
    "    lines = f.read().splitlines()\n",
    "\n",
    "\n",
    "lines = [x for x in lines if x!='None']\n",
    "lines\n",
    "\n",
    "for ip in lines:\n",
    "    if ip!='None':\n",
    "        current = (ip.split('.'))\n",
    "\n",
    "        print('ssh -i \"MAKWest.pem\" ubuntu@ec2-'+str(current[0])+'-'\\\n",
    "              +str(current[1])+'-'+str(current[2])+'-'+str(current[3])+'.us-west-1.compute.amazonaws.com')"
   ]
  },
  {
   "cell_type": "markdown",
   "id": "c7a63295",
   "metadata": {},
   "source": [
    "## Set number of clusters"
   ]
  },
  {
   "cell_type": "code",
   "execution_count": 4,
   "id": "cdd2f92b",
   "metadata": {},
   "outputs": [
    {
     "name": "stdout",
     "output_type": "stream",
     "text": [
      "2\n"
     ]
    }
   ],
   "source": [
    "nclusters = 0\n",
    "\n",
    "for folder in os.listdir('.'):\n",
    "    if 'config' in folder and folder!='config':\n",
    "        nclusters = nclusters + 1\n",
    "        \n",
    "        \n",
    "print(nclusters)\n",
    "\n",
    "\n",
    "total_count = 20\n",
    "\n",
    "\n",
    "nreplicas = int(total_count/nclusters)\n",
    "nodeIps = lines[:nclusters* nreplicas]\n",
    "\n",
    "nclients = 2\n",
    "\n",
    "# no_cluster_yet_nodes = lines[nclusters* nreplicas:-(nclusters)]\n",
    "no_cluster_yet_nodes = lines[nclusters* nreplicas:-nclients]\n",
    "\n",
    "\n",
    "\n",
    "\n",
    "# clientIps = lines[-(nclusters):]\n",
    "clientIps = lines[-nclients:]\n",
    "\n"
   ]
  },
  {
   "cell_type": "code",
   "execution_count": 5,
   "id": "5b1fbf03",
   "metadata": {},
   "outputs": [
    {
     "data": {
      "text/plain": [
       "(['127.0.0.1', '127.0.0.1'], [])"
      ]
     },
     "execution_count": 5,
     "metadata": {},
     "output_type": "execute_result"
    }
   ],
   "source": [
    "clientIps, no_cluster_yet_nodes"
   ]
  },
  {
   "cell_type": "markdown",
   "id": "3e6aaf82",
   "metadata": {},
   "source": [
    "## Functions"
   ]
  },
  {
   "cell_type": "code",
   "execution_count": 6,
   "id": "6eaca464",
   "metadata": {},
   "outputs": [],
   "source": [
    "def setup(i):\n",
    "\n",
    "    ip = lines[i]\n",
    "    if ip!='None':\n",
    "        current = (ip.split('.'))\n",
    "        command = 'scp -o StrictHostKeyChecking=no -i /home/tejas/Downloads/MAKWest.pem '+'commands.sh'+' ubuntu@ec2-'+str(current[0])+'-'\\\n",
    "              +str(current[1])+'-'+str(current[2])+'-'+str(current[3])+'.us-west-1.compute.amazonaws.com:commands.sh'\n",
    "        \n",
    "        \n",
    "        os.system(command)\n",
    "\n",
    "        \n",
    "def compile_job(i):\n",
    "    ip = lines[i]\n",
    "    if ip!='None':\n",
    "        current = (ip.split('.'))\n",
    "        command = 'echo 3108 | sudo -S ./gradlew installDist'\n",
    "        \n",
    "        \n",
    "        os.system(command)\n",
    "\n",
    "        \n",
    "        \n",
    "def clean_job(i):\n",
    "    ip = lines[i]\n",
    "    \n",
    "#     rm_command = 'sudo rm config/currentView; '\n",
    "#     for iter_ in range(nclusters):\n",
    "#         rm_command = rm_command + 'rm config'+str(iter_)+'/currentView; '\n",
    "        \n",
    "    \n",
    "    if ip!='None':\n",
    "        current = (ip.split('.'))\n",
    "        command = 'echo 3108 | sudo -S rm ../dump_files/nohup*.out; echo 1234 | sudo -S rm config*/currentView;'\n",
    "        \n",
    "        \n",
    "        os.system(command)\n",
    "        \n",
    "        \n",
    "\n",
    "        \n",
    "def run_server_node(i):\n",
    "    ip = lines[i]\n",
    "#     if ip!='None' and( ip in nodeIps or ip in no_cluster_yet_nodes):\n",
    "    if ip!='None' and( ip in nodeIps):\n",
    "        \n",
    "        current = (ip.split('.'))\n",
    "        command = 'nohup ./runscripts/startReplicaYCSB.sh '+str(i)+' >../dump_files/nohup_s'+str(i)+'.out 2>&1 & echo $! > ../dump_files/jobID_s'+str(i)+'.txt'\n",
    "        \n",
    "        print(command)\n",
    "        os.system(command)\n",
    "        \n",
    "        \n",
    "        \n",
    "    if ip!='None' and( ip in no_cluster_yet_nodes):\n",
    "        \n",
    "        current = (ip.split('.'))\n",
    "        command = 'nohup ./runscripts/startReplicaYCSB.sh '+str(i)+' >../dump_files/nohup_s'+str(i)+'.out 2>&1 &'\n",
    "        \n",
    "        \n",
    "        os.system(command)        \n",
    "#         print(command)\n",
    "\n",
    "\n",
    "\n",
    "def run_basic_client(i):\n",
    "    cmd_arg = ''\n",
    "    \n",
    "    ip = lines[i]\n",
    "    if ip!='None' and ip in clientIps:\n",
    "#     if ip!='None' and ip in nodeIps[1:1+len(clientIps)]:\n",
    "        \n",
    "        current = (ip.split('.'))\n",
    "        \n",
    "#         cmd_arg = nodeIps[1:1+len(clientIps)].index(ip)\n",
    "        \n",
    "        for iter__ in range(len(clientIps)):\n",
    "            if ip==clientIps[iter__]:\n",
    "                cmd_arg = iter__\n",
    "                \n",
    "                \n",
    "        \n",
    "#         print(i, cmd_arg)\n",
    "            \n",
    "        current = (ip.split('.'))\n",
    "        command = 'nohup ./runscripts/ycsbClient.sh '+str(i-len(nodeIps)-len(no_cluster_yet_nodes))+' >../dump_files/nohup_c'+str(i)+'.out 2>&1 &'\n",
    "\n",
    "        \n",
    "        os.system(command)\n",
    "\n",
    "\n",
    "def kill_java(i):\n",
    "    ip = lines[i]\n",
    "    \n",
    "    if ip!='None':\n",
    "        current = (ip.split('.'))\n",
    "        command = ' killall java; killall nohup'\n",
    "        \n",
    "        \n",
    "        os.system(command)\n",
    "        \n",
    "        \n",
    "        \n",
    "def kill_clients(i):\n",
    "    ip = lines[i]\n",
    "    if ip!='None' and ip in clientIps:\n",
    "        current = (ip.split('.'))\n",
    "        command = 'killall java;  killall nohup\"'\n",
    "        \n",
    "        \n",
    "        os.system(command)\n",
    "\n",
    "def run_server_node_check(i):\n",
    "    ip = lines[i]\n",
    "#     if ip!='None' and( ip in nodeIps or ip in no_cluster_yet_nodes):\n",
    "    if ip!='None' and( ip in nodeIps):\n",
    "        \n",
    "        current = (ip.split('.'))\n",
    "        command = ' nohup ./runscripts/startReplicaYCSB.sh '+str(i)+' >../dump_files/nohup_s'+str(i)+'.out 2>&1 &'\n",
    "        \n",
    "        \n",
    "        print(command)\n",
    "        \n",
    "        \n",
    "\n",
    "# for i in range(len(lines)):\n",
    "#     run_server_node_check(i)\n",
    "\n",
    "def run_basic_client_check(i):\n",
    "    cmd_arg = ''\n",
    "    \n",
    "    ip = lines[i]\n",
    "    if ip!='None' and ip in clientIps:\n",
    "        \n",
    "        for iter__ in range(len(clientIps)):\n",
    "            if ip==clientIps[iter__]:\n",
    "                cmd_arg = iter__\n",
    "                \n",
    "                \n",
    "        \n",
    "#         print(i, cmd_arg)\n",
    "            \n",
    "        current = (ip.split('.'))\n",
    "        command = 'nohup ./runscripts/ycsbClient.sh '+str(cmd_arg)+' >../dump_files/nohup_c'+str(i)+'.out 2>&1 &'\n",
    "\n",
    "        \n",
    "        print(command)\n",
    "\n",
    "# for i in range(len(lines)):\n",
    "#     run_basic_client_check(i)\n",
    "\n",
    "\n",
    "\n",
    "def join_node1(i):\n",
    "    ip = lines[i]\n",
    "    if ip!='None':\n",
    "        \n",
    "        current = (ip.split('.'))\n",
    "        command = 'nohup  ./runscripts/smartrun.sh bftsmart.reconfiguration.util.DefaultVMServices '+str(i)+' 127.0.0.1 11080 11081 config0 >../dump_files/nohup_j'+str(i)+'.out 2>&1 &'\n",
    "        \n",
    "        \n",
    "        os.system(command)   \n",
    "        \n",
    "        \n",
    "def join_node2(i):\n",
    "    ip = lines[i]\n",
    "    if ip!='None':\n",
    "        \n",
    "        current = (ip.split('.'))\n",
    "        command = 'nohup  ./runscripts/smartrun.sh bftsmart.reconfiguration.util.DefaultVMServices '+str(i)+' 127.0.0.1 11090 11091 config0 >../dump_files/nohup_j'+str(i)+'.out 2>&1 &'\n",
    "        \n",
    "        \n",
    "        os.system(command) \n",
    "        \n",
    "def join_node3(i):\n",
    "    ip = lines[i]\n",
    "    if ip!='None':\n",
    "        \n",
    "        current = (ip.split('.'))\n",
    "        command = 'nohup  ./runscripts/smartrun.sh bftsmart.reconfiguration.util.DefaultVMServices '+str(i)+' 127.0.0.1 11100 11101 config0 >../dump_files/nohup_j'+str(i)+'.out 2>&1 &'\n",
    "        \n",
    "        \n",
    "        os.system(command) "
   ]
  },
  {
   "cell_type": "code",
   "execution_count": null,
   "id": "ef663c29",
   "metadata": {},
   "outputs": [],
   "source": []
  },
  {
   "cell_type": "markdown",
   "id": "0cda82ca",
   "metadata": {},
   "source": [
    "## Compile Job"
   ]
  },
  {
   "cell_type": "code",
   "execution_count": null,
   "id": "f2db7285",
   "metadata": {
    "scrolled": true
   },
   "outputs": [],
   "source": []
  },
  {
   "cell_type": "markdown",
   "id": "fcbc2a0d",
   "metadata": {},
   "source": [
    "## Setup Client and nodeIPS"
   ]
  },
  {
   "cell_type": "code",
   "execution_count": 7,
   "id": "b3e8af22",
   "metadata": {},
   "outputs": [
    {
     "data": {
      "text/plain": [
       "22"
      ]
     },
     "execution_count": 7,
     "metadata": {},
     "output_type": "execute_result"
    }
   ],
   "source": [
    "len(lines)"
   ]
  },
  {
   "cell_type": "code",
   "execution_count": 8,
   "id": "255a3e30",
   "metadata": {},
   "outputs": [
    {
     "data": {
      "text/plain": [
       "(20, 2)"
      ]
     },
     "execution_count": 8,
     "metadata": {},
     "output_type": "execute_result"
    }
   ],
   "source": [
    "len(nodeIps), len(clientIps)"
   ]
  },
  {
   "cell_type": "markdown",
   "id": "b1e1b5c7",
   "metadata": {},
   "source": [
    "## RUN SERVERS"
   ]
  },
  {
   "cell_type": "code",
   "execution_count": 9,
   "id": "822f5c03",
   "metadata": {
    "scrolled": true
   },
   "outputs": [
    {
     "name": "stderr",
     "output_type": "stream",
     "text": [
      "java(4318): Operation not permitted\n",
      "java(1051031): Operation not permitted\n",
      "java: no process found\n",
      "nohup: no process found\n",
      "java(4318): Operation not permitted\n",
      "java(1051031): Operation not permitted\n",
      "java: no process found\n",
      "nohup: no process found\n",
      "java(4318): Operation not permitted\n",
      "java(1051031): Operation not permitted\n",
      "java: no process found\n",
      "nohup: no process found\n",
      "java(4318): Operation not permitted\n",
      "java(1051031): Operation not permitted\n",
      "java: no process found\n",
      "nohup: no process found\n",
      "java(4318): Operation not permitted\n",
      "java(1051031): Operation not permitted\n",
      "java: no process found\n",
      "nohup: no process found\n",
      "java(4318): Operation not permitted\n",
      "java(1051031): Operation not permitted\n",
      "java: no process found\n",
      "nohup: no process found\n",
      "java(4318): Operation not permitted\n",
      "java(1051031): Operation not permitted\n",
      "java: no process found\n",
      "nohup: no process found\n",
      "java(4318): Operation not permitted\n",
      "java(1051031): Operation not permitted\n",
      "java: no process found\n",
      "nohup: no process found\n",
      "java(4318): Operation not permitted\n",
      "java(1051031): Operation not permitted\n",
      "java: no process found\n",
      "nohup: no process found\n",
      "java(4318): Operation not permitted\n",
      "java(1051031): Operation not permitted\n",
      "java: no process found\n",
      "nohup: no process found\n",
      "java(4318): Operation not permitted\n",
      "java(1051031): Operation not permitted\n",
      "java: no process found\n",
      "nohup: no process found\n",
      "java(4318): Operation not permitted\n",
      "java(1051031): Operation not permitted\n",
      "java: no process found\n",
      "nohup: no process found\n",
      "java(4318): Operation not permitted\n",
      "java(1051031): Operation not permitted\n",
      "java: no process found\n",
      "nohup: no process found\n",
      "java(4318): Operation not permitted\n",
      "java(1051031): Operation not permitted\n",
      "java: no process found\n",
      "nohup: no process found\n",
      "java(4318): Operation not permitted\n",
      "java(1051031): Operation not permitted\n",
      "java: no process found\n",
      "nohup: no process found\n",
      "java(4318): Operation not permitted\n",
      "java(1051031): Operation not permitted\n",
      "java: no process found\n",
      "nohup: no process found\n",
      "java(4318): Operation not permitted\n",
      "java(1051031): Operation not permitted\n",
      "java: no process found\n",
      "nohup: no process found\n",
      "java(4318): Operation not permitted\n",
      "java(1051031): Operation not permitted\n",
      "java: no process found\n",
      "nohup: no process found\n",
      "java(4318): Operation not permitted\n",
      "java(1051031): Operation not permitted\n",
      "java: no process found\n",
      "nohup: no process found\n",
      "java(4318): Operation not permitted\n",
      "java(1051031): Operation not permitted\n",
      "java: no process found\n",
      "nohup: no process found\n",
      "java(4318): Operation not permitted\n",
      "java(1051031): Operation not permitted\n",
      "java: no process found\n",
      "nohup: no process found\n",
      "java(4318): Operation not permitted\n",
      "java(1051031): Operation not permitted\n",
      "java: no process found\n",
      "nohup: no process found\n",
      "[sudo] password for tejas: [sudo] password for tejas: rm: cannot remove '../dump_files/nohup*.out': No such file or directory\n",
      "rm: cannot remove 'config*/currentView': No such file or directory\n",
      "[sudo] password for tejas: rm: cannot remove '../dump_files/nohup*.out': No such file or directory\n",
      "rm: cannot remove 'config*/currentView': No such file or directory\n",
      "[sudo] password for tejas: rm: cannot remove '../dump_files/nohup*.out': No such file or directory\n",
      "rm: cannot remove 'config*/currentView': No such file or directory\n",
      "[sudo] password for tejas: rm: cannot remove '../dump_files/nohup*.out': No such file or directory\n",
      "rm: cannot remove 'config*/currentView': No such file or directory\n",
      "[sudo] password for tejas: rm: cannot remove '../dump_files/nohup*.out': No such file or directory\n",
      "rm: cannot remove 'config*/currentView': No such file or directory\n",
      "[sudo] password for tejas: rm: cannot remove '../dump_files/nohup*.out': No such file or directory\n",
      "rm: cannot remove 'config*/currentView': No such file or directory\n",
      "[sudo] password for tejas: rm: cannot remove '../dump_files/nohup*.out': No such file or directory\n",
      "rm: cannot remove 'config*/currentView': No such file or directory\n",
      "[sudo] password for tejas: rm: cannot remove '../dump_files/nohup*.out': No such file or directory\n",
      "rm: cannot remove 'config*/currentView': No such file or directory\n",
      "[sudo] password for tejas: rm: cannot remove '../dump_files/nohup*.out': No such file or directory\n",
      "rm: cannot remove 'config*/currentView': No such file or directory\n",
      "[sudo] password for tejas: rm: cannot remove '../dump_files/nohup*.out': No such file or directory\n",
      "rm: cannot remove 'config*/currentView': No such file or directory\n",
      "[sudo] password for tejas: rm: cannot remove '../dump_files/nohup*.out': No such file or directory\n",
      "rm: cannot remove 'config*/currentView': No such file or directory\n",
      "[sudo] password for tejas: rm: cannot remove '../dump_files/nohup*.out': No such file or directory\n",
      "rm: cannot remove 'config*/currentView': No such file or directory\n",
      "[sudo] password for tejas: rm: cannot remove '../dump_files/nohup*.out': No such file or directory\n",
      "rm: cannot remove 'config*/currentView': No such file or directory\n",
      "[sudo] password for tejas: rm: cannot remove '../dump_files/nohup*.out': No such file or directory\n",
      "rm: cannot remove 'config*/currentView': No such file or directory\n",
      "[sudo] password for tejas: rm: cannot remove '../dump_files/nohup*.out': No such file or directory\n",
      "rm: cannot remove 'config*/currentView': No such file or directory\n",
      "[sudo] password for tejas: rm: cannot remove '../dump_files/nohup*.out': No such file or directory\n",
      "rm: cannot remove 'config*/currentView': No such file or directory\n",
      "[sudo] password for tejas: rm: cannot remove '../dump_files/nohup*.out': No such file or directory\n",
      "rm: cannot remove 'config*/currentView': No such file or directory\n",
      "[sudo] password for tejas: rm: cannot remove '../dump_files/nohup*.out': No such file or directory\n",
      "rm: cannot remove 'config*/currentView': No such file or directory\n",
      "[sudo] password for tejas: rm: cannot remove '../dump_files/nohup*.out': No such file or directory\n",
      "rm: cannot remove 'config*/currentView': No such file or directory\n",
      "[sudo] password for tejas: rm: cannot remove '../dump_files/nohup*.out': No such file or directory\n",
      "rm: cannot remove 'config*/currentView': No such file or directory\n",
      "[sudo] password for tejas: rm: cannot remove '../dump_files/nohup*.out': No such file or directory\n",
      "rm: cannot remove 'config*/currentView': No such file or directory\n",
      "[sudo] password for tejas: "
     ]
    },
    {
     "name": "stdout",
     "output_type": "stream",
     "text": [
      "\n",
      "> Task :compileJava\n",
      "\n",
      "> Task :processResources NO-SOURCE\n",
      "> Task :classes\n",
      "> Task :jar\n",
      "> Task :installDist\n",
      "\n",
      "BUILD SUCCESSFUL in 914ms\n",
      "3 actionable tasks: 3 executed\n"
     ]
    },
    {
     "name": "stderr",
     "output_type": "stream",
     "text": [
      "Note: Some input files use unchecked or unsafe operations.\n",
      "Note: Recompile with -Xlint:unchecked for details.\n"
     ]
    }
   ],
   "source": [
    "for i in range(len(lines)):\n",
    "    kill_java(i)\n",
    "\n",
    "for i in range(len(lines)):\n",
    "    clean_job(i)\n",
    "    \n",
    "compile_job(1)\n",
    "\n"
   ]
  },
  {
   "cell_type": "code",
   "execution_count": 10,
   "id": "61165bc7",
   "metadata": {},
   "outputs": [
    {
     "name": "stdout",
     "output_type": "stream",
     "text": [
      "0\n",
      "nohup ./runscripts/startReplicaYCSB.sh 0 >../dump_files/nohup_s0.out 2>&1 & echo $! > ../dump_files/jobID_s0.txt\n",
      "1\n",
      "nohup ./runscripts/startReplicaYCSB.sh 1 >../dump_files/nohup_s1.out 2>&1 & echo $! > ../dump_files/jobID_s1.txt\n",
      "2\n",
      "nohup ./runscripts/startReplicaYCSB.sh 2 >../dump_files/nohup_s2.out 2>&1 & echo $! > ../dump_files/jobID_s2.txt\n",
      "3\n",
      "nohup ./runscripts/startReplicaYCSB.sh 3 >../dump_files/nohup_s3.out 2>&1 & echo $! > ../dump_files/jobID_s3.txt\n",
      "4\n",
      "nohup ./runscripts/startReplicaYCSB.sh 4 >../dump_files/nohup_s4.out 2>&1 & echo $! > ../dump_files/jobID_s4.txt\n",
      "5\n",
      "nohup ./runscripts/startReplicaYCSB.sh 5 >../dump_files/nohup_s5.out 2>&1 & echo $! > ../dump_files/jobID_s5.txt\n",
      "6\n",
      "nohup ./runscripts/startReplicaYCSB.sh 6 >../dump_files/nohup_s6.out 2>&1 & echo $! > ../dump_files/jobID_s6.txt\n",
      "10\n",
      "nohup ./runscripts/startReplicaYCSB.sh 10 >../dump_files/nohup_s10.out 2>&1 & echo $! > ../dump_files/jobID_s10.txt\n",
      "11\n",
      "nohup ./runscripts/startReplicaYCSB.sh 11 >../dump_files/nohup_s11.out 2>&1 & echo $! > ../dump_files/jobID_s11.txt\n",
      "12\n",
      "nohup ./runscripts/startReplicaYCSB.sh 12 >../dump_files/nohup_s12.out 2>&1 & echo $! > ../dump_files/jobID_s12.txt\n",
      "13\n",
      "nohup ./runscripts/startReplicaYCSB.sh 13 >../dump_files/nohup_s13.out 2>&1 & echo $! > ../dump_files/jobID_s13.txt\n",
      "14\n",
      "nohup ./runscripts/startReplicaYCSB.sh 14 >../dump_files/nohup_s14.out 2>&1 & echo $! > ../dump_files/jobID_s14.txt\n",
      "15\n",
      "nohup ./runscripts/startReplicaYCSB.sh 15 >../dump_files/nohup_s15.out 2>&1 & echo $! > ../dump_files/jobID_s15.txt\n",
      "16\n",
      "nohup ./runscripts/startReplicaYCSB.sh 16 >../dump_files/nohup_s16.out 2>&1 & echo $! > ../dump_files/jobID_s16.txt\n",
      "17\n",
      "nohup ./runscripts/startReplicaYCSB.sh 17 >../dump_files/nohup_s17.out 2>&1 & echo $! > ../dump_files/jobID_s17.txt\n",
      "18\n",
      "nohup ./runscripts/startReplicaYCSB.sh 18 >../dump_files/nohup_s18.out 2>&1 & echo $! > ../dump_files/jobID_s18.txt\n",
      "19\n",
      "nohup ./runscripts/startReplicaYCSB.sh 19 >../dump_files/nohup_s19.out 2>&1 & echo $! > ../dump_files/jobID_s19.txt\n"
     ]
    }
   ],
   "source": [
    "    \n",
    "for i in [0,1,2,3,4,5,6,10,11,12,13,14,15,16,17,18,19]:\n",
    "    print(i)\n",
    "    run_server_node(i)"
   ]
  },
  {
   "cell_type": "code",
   "execution_count": 11,
   "id": "c5833797",
   "metadata": {},
   "outputs": [],
   "source": [
    "# os.system('nohup ./runscripts/startReplicaYCSB.sh '+str(8)+' >../dump_files/nohup_s'+str(8)+'.out 2>&1 &')"
   ]
  },
  {
   "cell_type": "code",
   "execution_count": 12,
   "id": "34e2d5b7",
   "metadata": {},
   "outputs": [],
   "source": [
    "# os.system('nohup ./runscripts/startReplicaYCSB.sh '+str(9)+' >../dump_files/nohup_s'+str(9)+'.out 2>&1 &')\n",
    "# os.system('nohup ./runscripts/startReplicaYCSB.sh '+str(10)+' >../dump_files/nohup_s'+str(10)+'.out 2>&1 &')\n"
   ]
  },
  {
   "cell_type": "code",
   "execution_count": 13,
   "id": "15f0f554",
   "metadata": {},
   "outputs": [],
   "source": [
    "def join_node1(i):\n",
    "    ip = lines[i]\n",
    "    if ip!='None':\n",
    "        \n",
    "        current = (ip.split('.'))\n",
    "        command = 'sudo nohup  ./runscripts/smartrun.sh bftsmart.reconfiguration.util.DefaultVMServices 8 127.0.0.1 11080 11081 config0 >../dump_files/nohup_j1.out 2>&1 &\"'\n",
    "        \n",
    "        \n",
    "        os.system(command)   \n",
    "        \n"
   ]
  },
  {
   "cell_type": "code",
   "execution_count": null,
   "id": "aee0f110",
   "metadata": {},
   "outputs": [],
   "source": []
  },
  {
   "cell_type": "code",
   "execution_count": 14,
   "id": "ddcbb9c8",
   "metadata": {},
   "outputs": [
    {
     "data": {
      "text/plain": [
       "(['127.0.0.1',\n",
       "  '127.0.0.1',\n",
       "  '127.0.0.1',\n",
       "  '127.0.0.1',\n",
       "  '127.0.0.1',\n",
       "  '127.0.0.1',\n",
       "  '127.0.0.1',\n",
       "  '127.0.0.1',\n",
       "  '127.0.0.1',\n",
       "  '127.0.0.1',\n",
       "  '127.0.0.1',\n",
       "  '127.0.0.1',\n",
       "  '127.0.0.1',\n",
       "  '127.0.0.1',\n",
       "  '127.0.0.1',\n",
       "  '127.0.0.1',\n",
       "  '127.0.0.1',\n",
       "  '127.0.0.1',\n",
       "  '127.0.0.1',\n",
       "  '127.0.0.1',\n",
       "  '127.0.0.1',\n",
       "  '127.0.0.1'],\n",
       " 22)"
      ]
     },
     "execution_count": 14,
     "metadata": {},
     "output_type": "execute_result"
    }
   ],
   "source": [
    "lines, len(lines)"
   ]
  },
  {
   "cell_type": "code",
   "execution_count": 15,
   "id": "7f0293c0",
   "metadata": {
    "scrolled": true
   },
   "outputs": [
    {
     "name": "stdout",
     "output_type": "stream",
     "text": [
      "-- Received CID query from 5 with ID 5\r\n",
      "-- Going to send back response to CID query with CID: -1\r\n",
      "-- Sent CID reply to replica 5 with ID 5\r\n",
      "-- Tejas: Sending CID query with ID 6 to replicas [1, 2, 3, 4, 5, 6, 7, 8, 9]\r\n",
      "-- Received  CID reply from replica ( or smsg.getSender()) 3 with smsg.getCID() 7 (expecting queryID 7),  waitingCID -1, isInitializing true\r\n",
      "-- smsg.getSender() 3, smsg.getState().getLastCID() -1\r\n",
      "-- Received 1 replies for query ID 7 with quorum 6\r\n",
      "-- Received  CID reply from replica ( or smsg.getSender()) 2 with smsg.getCID() 7 (expecting queryID 7),  waitingCID -1, isInitializing true\r\n",
      "-- smsg.getSender() 2, smsg.getState().getLastCID() -1\r\n",
      "-- Received 2 replies for query ID 7 with quorum 6\r\n",
      "-- Received  CID reply from replica ( or smsg.getSender()) 4 with smsg.getCID() 7 (expecting queryID 7),  waitingCID -1, isInitializing true\r\n",
      "-- smsg.getSender() 4, smsg.getState().getLastCID() -1\r\n",
      "-- Received 3 replies for query ID 7 with quorum 6\r\n",
      "-- Received  CID reply from replica ( or smsg.getSender()) 1 with smsg.getCID() 7 (expecting queryID 7),  waitingCID -1, isInitializing true\r\n",
      "-- smsg.getSender() 1, smsg.getState().getLastCID() -1\r\n",
      "-- Received 4 replies for query ID 7 with quorum 6\r\n",
      "-- Received  CID reply from replica ( or smsg.getSender()) 5 with smsg.getCID() 7 (expecting queryID 7),  waitingCID -1, isInitializing true\r\n",
      "-- smsg.getSender() 5, smsg.getState().getLastCID() -1\r\n",
      "-- Received 5 replies for query ID 7 with quorum 6\r\n",
      "-- Received CID query from 6 with ID 5\r\n",
      "-- Going to send back response to CID query with CID: -1\r\n",
      "-- Sent CID reply to replica 6 with ID 5\r\n",
      "-- Tejas: Sending CID query with ID 7 to replicas [1, 2, 3, 4, 5, 6, 7, 8, 9]\r\n",
      "-- Received  CID reply from replica ( or smsg.getSender()) 1 with smsg.getCID() 8 (expecting queryID 8),  waitingCID -1, isInitializing true\r\n",
      "-- smsg.getSender() 1, smsg.getState().getLastCID() -1\r\n",
      "-- Received 1 replies for query ID 8 with quorum 6\r\n",
      "-- Received  CID reply from replica ( or smsg.getSender()) 5 with smsg.getCID() 8 (expecting queryID 8),  waitingCID -1, isInitializing true\r\n",
      "-- smsg.getSender() 5, smsg.getState().getLastCID() -1\r\n",
      "-- Received 2 replies for query ID 8 with quorum 6\r\n",
      "-- Received  CID reply from replica ( or smsg.getSender()) 4 with smsg.getCID() 8 (expecting queryID 8),  waitingCID -1, isInitializing true\r\n",
      "-- smsg.getSender() 4, smsg.getState().getLastCID() -1\r\n",
      "-- Received 3 replies for query ID 8 with quorum 6\r\n",
      "-- Received  CID reply from replica ( or smsg.getSender()) 3 with smsg.getCID() 8 (expecting queryID 8),  waitingCID -1, isInitializing true\r\n",
      "-- smsg.getSender() 3, smsg.getState().getLastCID() -1\r\n",
      "-- Received 4 replies for query ID 8 with quorum 6\r\n",
      "-- Received  CID reply from replica ( or smsg.getSender()) 2 with smsg.getCID() 8 (expecting queryID 8),  waitingCID -1, isInitializing true\r\n",
      "-- smsg.getSender() 2, smsg.getState().getLastCID() -1\r\n",
      "-- Received 5 replies for query ID 8 with quorum 6\r\n",
      "-- Received  CID reply from replica ( or smsg.getSender()) 6 with smsg.getCID() 8 (expecting queryID 8),  waitingCID -1, isInitializing true\r\n",
      "-- smsg.getSender() 6, smsg.getState().getLastCID() -1\r\n",
      "-- Received 6 replies for query ID 8 with quorum 6\r\n",
      "-- Received quorum of replies for query ID 8, replies.size(): 6\r\n",
      "-- CID -1 came from 6 replicas with quorum 6\r\n",
      "-- There is a quorum for CID -1 with lastCID -1\r\n",
      "-- Replica state is up to date\r\n",
      "-- \r\n",
      "\t\t###################################\r\n",
      "\t\t    Ready to process operations    \r\n",
      "\t\t###################################\r\n",
      "-- zsdqwd Before the prewait\r\n"
     ]
    }
   ],
   "source": [
    "time.sleep(30)\n",
    "!tail ../dump_files/nohup_s0.out -n 50"
   ]
  },
  {
   "cell_type": "code",
   "execution_count": 16,
   "id": "41900dd9",
   "metadata": {},
   "outputs": [],
   "source": [
    "\n",
    "\n",
    "# for i in range(len(lines)):\n",
    "#     kill_java(i)"
   ]
  },
  {
   "cell_type": "code",
   "execution_count": 17,
   "id": "4c1e4ec0",
   "metadata": {},
   "outputs": [
    {
     "data": {
      "text/plain": [
       "22"
      ]
     },
     "execution_count": 17,
     "metadata": {},
     "output_type": "execute_result"
    }
   ],
   "source": [
    "len(nodeIps)+len(no_cluster_yet_nodes)+len(clientIps)\n"
   ]
  },
  {
   "cell_type": "markdown",
   "id": "e44448aa",
   "metadata": {},
   "source": [
    "## Run basic client"
   ]
  },
  {
   "cell_type": "code",
   "execution_count": 18,
   "id": "fc3fe25b",
   "metadata": {},
   "outputs": [],
   "source": [
    "for i in range(len(nodeIps)+len(no_cluster_yet_nodes),len(nodeIps)+len(no_cluster_yet_nodes)+len(clientIps)):\n",
    "    run_basic_client(i)"
   ]
  },
  {
   "cell_type": "code",
   "execution_count": 19,
   "id": "b35f54a3",
   "metadata": {},
   "outputs": [],
   "source": [
    "time.sleep(40)"
   ]
  },
  {
   "cell_type": "code",
   "execution_count": 20,
   "id": "336301f8",
   "metadata": {},
   "outputs": [],
   "source": [
    "# os.system('./runscripts/smartrun.sh bftsmart.reconfiguration.util.DefaultVMServices 1 8 127.0.0.1 11080 11081 config0')\n",
    "# os.system('./runscripts/smartrun.sh bftsmart.reconfiguration.util.DefaultVMServices 9 127.0.0.1 11090 11091 config0')\n",
    "# os.system('./runscripts/smartrun.sh bftsmart.reconfiguration.util.DefaultVMServices 10 127.0.0.1 11100 11101 config0')"
   ]
  },
  {
   "cell_type": "code",
   "execution_count": 21,
   "id": "929ae743",
   "metadata": {},
   "outputs": [],
   "source": [
    "# time.sleep(30)"
   ]
  },
  {
   "cell_type": "code",
   "execution_count": 22,
   "id": "1c9d0be6",
   "metadata": {},
   "outputs": [],
   "source": [
    "# os.system('./runscripts/smartrun.sh bftsmart.reconfiguration.util.DefaultVMServices 8')\n"
   ]
  },
  {
   "cell_type": "code",
   "execution_count": 23,
   "id": "2b0efd4e",
   "metadata": {},
   "outputs": [],
   "source": [
    "# time.sleep(30)\n",
    "# time.sleep(50)\n"
   ]
  },
  {
   "cell_type": "code",
   "execution_count": 24,
   "id": "76b7e1d8",
   "metadata": {},
   "outputs": [],
   "source": [
    "# os.system('./runscripts/smartrun.sh bftsmart.reconfiguration.util.DefaultVMServices 8 127.0.0.1 11080 11081 config0')\n"
   ]
  },
  {
   "cell_type": "code",
   "execution_count": 25,
   "id": "16ab57a6",
   "metadata": {},
   "outputs": [],
   "source": [
    "# time.sleep(50)"
   ]
  },
  {
   "cell_type": "code",
   "execution_count": 26,
   "id": "88655e7e",
   "metadata": {},
   "outputs": [],
   "source": [
    "\n",
    "# time.sleep(30)\n",
    "# run_server_node(8)\n",
    "# time.sleep(15)\n",
    "# join_node1(8)\n",
    "\n",
    "# time.sleep(30)\n",
    "# run_server_node(9)\n",
    "\n",
    "# time.sleep(30)\n",
    "# join_node2(9)\n",
    "\n",
    "# time.sleep(30)\n",
    "# run_server_node(10)\n",
    "# time.sleep(30)\n",
    "# join_node3(10)"
   ]
  },
  {
   "cell_type": "code",
   "execution_count": 27,
   "id": "9f646865",
   "metadata": {
    "scrolled": true
   },
   "outputs": [
    {
     "name": "stderr",
     "output_type": "stream",
     "text": [
      "java(4318): Operation not permitted\n",
      "java(1051031): Operation not permitted\n",
      "nohup: no process found\n",
      "java(4318): Operation not permitted\n",
      "java(1051031): Operation not permitted\n",
      "nohup: no process found\n",
      "java(4318): Operation not permitted\n",
      "java(1051031): Operation not permitted\n",
      "nohup: no process found\n",
      "java(4318): Operation not permitted\n",
      "java(1051031): Operation not permitted\n",
      "nohup: no process found\n",
      "java(4318): Operation not permitted\n",
      "java(1051031): Operation not permitted\n",
      "nohup: no process found\n",
      "java(4318): Operation not permitted\n",
      "java(1051031): Operation not permitted\n",
      "nohup: no process found\n",
      "java(4318): Operation not permitted\n",
      "java(1051031): Operation not permitted\n",
      "nohup: no process found\n",
      "java(4318): Operation not permitted\n",
      "java(1051031): Operation not permitted\n",
      "nohup: no process found\n",
      "java(4318): Operation not permitted\n",
      "java(1051031): Operation not permitted\n",
      "nohup: no process found\n",
      "java(4318): Operation not permitted\n",
      "java(1051031): Operation not permitted\n",
      "nohup: no process found\n",
      "java(4318): Operation not permitted\n",
      "java(1051031): Operation not permitted\n",
      "nohup: no process found\n",
      "java(4318): Operation not permitted\n",
      "java(1051031): Operation not permitted\n",
      "nohup: no process found\n",
      "java(4318): Operation not permitted\n",
      "java(1051031): Operation not permitted\n",
      "nohup: no process found\n",
      "java(4318): Operation not permitted\n",
      "java(1051031): Operation not permitted\n",
      "nohup: no process found\n",
      "java(4318): Operation not permitted\n",
      "java(1051031): Operation not permitted\n",
      "nohup: no process found\n",
      "java(4318): Operation not permitted\n",
      "java(1051031): Operation not permitted\n",
      "nohup: no process found\n",
      "java(4318): Operation not permitted\n",
      "java(1051031): Operation not permitted\n",
      "nohup: no process found\n",
      "java(4318): Operation not permitted\n",
      "java(1051031): Operation not permitted\n",
      "nohup: no process found\n",
      "java(4318): Operation not permitted\n",
      "java(1051031): Operation not permitted\n",
      "nohup: no process found\n",
      "java(4318): Operation not permitted\n",
      "java(1051031): Operation not permitted\n",
      "nohup: no process found\n",
      "java(4318): Operation not permitted\n",
      "java(1051031): Operation not permitted\n",
      "nohup: no process found\n",
      "java(4318): Operation not permitted\n",
      "java(1051031): Operation not permitted\n",
      "nohup: no process found\n"
     ]
    }
   ],
   "source": [
    "# time.sleep(50)\n",
    "\n",
    "# run_server_node(9)\n",
    "\n",
    "# time.sleep(160)\n",
    "# join_node2(9)\n",
    "\n",
    "\n",
    "# for i in [2]:\n",
    "#     os.system('kill -9 `cat ../dump_files/jobID_s2.txt`')\n",
    "    \n",
    "\n",
    "\n",
    "# time.sleep(80)\n",
    "\n",
    "\n",
    "\n",
    "for i in range(len(lines)):\n",
    "    kill_java(i)\n",
    "    \n"
   ]
  },
  {
   "cell_type": "code",
   "execution_count": 28,
   "id": "0b36efbb",
   "metadata": {},
   "outputs": [],
   "source": [
    "# for i in range(len(lines)):\n",
    "#     kill_java(i)"
   ]
  },
  {
   "cell_type": "markdown",
   "id": "8b910594",
   "metadata": {},
   "source": [
    "## Main Job"
   ]
  },
  {
   "cell_type": "code",
   "execution_count": 29,
   "id": "5456aed4",
   "metadata": {},
   "outputs": [],
   "source": [
    "\n",
    "def getTimesThputs(file):\n",
    "    f = open(file, \"r\")\n",
    "    data = f.readlines() \n",
    "    times = []\n",
    "    thputs = []\n",
    "    latencies = []\n",
    "    for line in data:\n",
    "#         print(line)\n",
    "        if not line.startswith('--') and 'current ops/sec; ' in line and 'AverageLatency(us)=' in line and not 'JVM' in line:\n",
    "\n",
    "#         print(line)\n",
    "            times.append(line.split('sec:')[0].strip())\n",
    "            thputs.append(line.split(';')[1].split('current')[0].strip())\n",
    "\n",
    "\n",
    "            read_lat = '0'\n",
    "            write_lat = '0'\n",
    "\n",
    "            if ('READ AverageLatency' in line):\n",
    "\n",
    "                print(line)\n",
    "\n",
    "                read_lat = line.split('READ AverageLatency(us)=')[1].split(']')[0].strip()\n",
    "\n",
    "\n",
    "            if ('UPDATE AverageLatency' in line):                    \n",
    "\n",
    "                write_lat = line.split('UPDATE AverageLatency(us)=')[1].split(']')[0].strip()\n",
    "\n",
    "\n",
    "            if (('READ AverageLatency' not in line) and ('UPDATE AverageLatency' not in line)):\n",
    "                latencies.append(line.split('=')[1].split(']')[0].strip())\n",
    "            else:\n",
    "                read_frac = 0\n",
    "                write_frac = 0\n",
    "\n",
    "                if float(read_lat) > 0:\n",
    "                    read_frac = 0.85\n",
    "\n",
    "                if float(write_lat) > 0:\n",
    "                    write_frac = 0.15\n",
    "\n",
    "#                         print(line, write_frac, read_frac, float(read_lat), float(write_lat))\n",
    "\n",
    "                lat = str( (write_frac * float(write_lat) +\\\n",
    "                            read_frac*float(read_lat))/(write_frac+read_frac)\\\n",
    "                         )\n",
    "                latencies.append(lat)\n",
    "\n",
    "            print(line,latencies[-1],thputs[-1],times[-1])\n",
    "\n",
    "    return np.array(times).astype(float), np.array(thputs).astype(float), np.array(latencies).astype(float)/1e6  \n"
   ]
  },
  {
   "cell_type": "code",
   "execution_count": 30,
   "id": "e23027bf",
   "metadata": {},
   "outputs": [],
   "source": [
    "## Byzantine Remote View Change"
   ]
  },
  {
   "cell_type": "code",
   "execution_count": 31,
   "id": "f11bb247",
   "metadata": {},
   "outputs": [
    {
     "name": "stdout",
     "output_type": "stream",
     "text": [
      " 2 sec: 9 operations; 9 current ops/sec; [UPDATE AverageLatency(us)=155826] \n",
      " 155826.0 9 2\n",
      " 3 sec: 18 operations; 8.98 current ops/sec; [UPDATE AverageLatency(us)=105785] \n",
      " 105785.0 8.98 3\n",
      " 4 sec: 25 operations; 6.99 current ops/sec; [UPDATE AverageLatency(us)=152570.57] \n",
      " 152570.57 6.99 4\n",
      " 5 sec: 31 operations; 5.99 current ops/sec; [UPDATE AverageLatency(us)=152206.67] \n",
      " 152206.67 5.99 5\n",
      " 6 sec: 40 operations; 9 current ops/sec; [UPDATE AverageLatency(us)=117888.78] \n",
      " 117888.78 9 6\n",
      " 7 sec: 51 operations; 10.98 current ops/sec; [UPDATE AverageLatency(us)=92984.73] \n",
      " 92984.73 10.98 7\n",
      " 8 sec: 63 operations; 12 current ops/sec; [UPDATE AverageLatency(us)=82446.92] \n",
      " 82446.92 12 8\n",
      " 9 sec: 75 operations; 11.99 current ops/sec; [UPDATE AverageLatency(us)=78715.33] \n",
      " 78715.33 11.99 9\n",
      " 10 sec: 85 operations; 10 current ops/sec; [UPDATE AverageLatency(us)=104548.6] \n",
      " 104548.6 10 10\n",
      " 11 sec: 96 operations; 10.98 current ops/sec; [UPDATE AverageLatency(us)=92692.18] \n",
      " 92692.18 10.98 11\n",
      " 12 sec: 107 operations; 10.95 current ops/sec; [UPDATE AverageLatency(us)=82002.36] \n",
      " 82002.36 10.95 12\n",
      " 13 sec: 120 operations; 12.99 current ops/sec; [UPDATE AverageLatency(us)=84046] \n",
      " 84046.0 12.99 13\n",
      " 14 sec: 142 operations; 22 current ops/sec; [UPDATE AverageLatency(us)=46280.18] \n",
      " 46280.18 22 14\n",
      " 15 sec: 168 operations; 25.9 current ops/sec; [UPDATE AverageLatency(us)=37677.96] \n",
      " 37677.96 25.9 15\n",
      " 16 sec: 198 operations; 29.97 current ops/sec; [UPDATE AverageLatency(us)=34413.7] \n",
      " 34413.7 29.97 16\n",
      " 17 sec: 230 operations; 31.97 current ops/sec; [UPDATE AverageLatency(us)=30504.44] \n",
      " 30504.439999999995 31.97 17\n",
      " 18 sec: 255 operations; 24.98 current ops/sec; [UPDATE AverageLatency(us)=40538.44] \n",
      " 40538.44 24.98 18\n",
      " 19 sec: 291 operations; 36 current ops/sec; [UPDATE AverageLatency(us)=27365.67] \n",
      " 27365.67 36 19\n",
      " 20 sec: 328 operations; 37 current ops/sec; [UPDATE AverageLatency(us)=27337.7] \n",
      " 27337.7 37 20\n",
      " 21 sec: 371 operations; 42.96 current ops/sec; [UPDATE AverageLatency(us)=22970.42] \n",
      " 22970.42 42.96 21\n",
      " 22 sec: 414 operations; 43 current ops/sec; [UPDATE AverageLatency(us)=23591.07] \n",
      " 23591.07 43 22\n",
      " 23 sec: 452 operations; 37.96 current ops/sec; [UPDATE AverageLatency(us)=25130.63] \n",
      " 25130.63 37.96 23\n",
      " 24 sec: 497 operations; 44.96 current ops/sec; [UPDATE AverageLatency(us)=22953.67] \n",
      " 22953.67 44.96 24\n",
      " 25 sec: 508 operations; 11 current ops/sec; [UPDATE AverageLatency(us)=25225.18] \n",
      " 25225.18 11 25\n",
      " 2 sec: 9 operations; 8.99 current ops/sec; [UPDATE AverageLatency(us)=160634.78] \n",
      " 160634.78 8.99 2\n",
      " 3 sec: 18 operations; 8.99 current ops/sec; [UPDATE AverageLatency(us)=108436] \n",
      " 108436.0 8.99 3\n",
      " 4 sec: 25 operations; 7 current ops/sec; [UPDATE AverageLatency(us)=142099.71] \n",
      " 142099.71 7 4\n",
      " 5 sec: 31 operations; 5.99 current ops/sec; [UPDATE AverageLatency(us)=160910.5] \n",
      " 160910.5 5.99 5\n",
      " 6 sec: 40 operations; 8.99 current ops/sec; [UPDATE AverageLatency(us)=118183.22] \n",
      " 118183.22 8.99 6\n",
      " 7 sec: 51 operations; 11 current ops/sec; [UPDATE AverageLatency(us)=91536.36] \n",
      " 91536.36 11 7\n",
      " 8 sec: 63 operations; 11.99 current ops/sec; [UPDATE AverageLatency(us)=83029.42] \n",
      " 83029.42 11.99 8\n",
      " 9 sec: 76 operations; 12.95 current ops/sec; [UPDATE AverageLatency(us)=79424.54] \n",
      " 79424.54 12.95 9\n",
      " 10 sec: 85 operations; 9 current ops/sec; [UPDATE AverageLatency(us)=99096.44] \n",
      " 99096.44 9 10\n",
      " 11 sec: 96 operations; 10.95 current ops/sec; [UPDATE AverageLatency(us)=98007.09] \n",
      " 98007.09 10.95 11\n",
      " 12 sec: 108 operations; 11.99 current ops/sec; [UPDATE AverageLatency(us)=83429.92] \n",
      " 83429.92 11.99 12\n",
      " 13 sec: 121 operations; 12.95 current ops/sec; [UPDATE AverageLatency(us)=79725.38] \n",
      " 79725.38 12.95 13\n",
      " 14 sec: 143 operations; 22 current ops/sec; [UPDATE AverageLatency(us)=44215.14] \n",
      " 44215.14 22 14\n",
      " 15 sec: 169 operations; 25.97 current ops/sec; [UPDATE AverageLatency(us)=38397.54] \n",
      " 38397.54 25.97 15\n",
      " 16 sec: 198 operations; 28.91 current ops/sec; [UPDATE AverageLatency(us)=34459.38] \n",
      " 34459.38 28.91 16\n",
      " 17 sec: 230 operations; 32 current ops/sec; [UPDATE AverageLatency(us)=30330.81] \n",
      " 30330.81 32 17\n",
      " 18 sec: 256 operations; 25.97 current ops/sec; [UPDATE AverageLatency(us)=39998.35] \n",
      " 39998.35 25.97 18\n",
      " 19 sec: 292 operations; 36 current ops/sec; [UPDATE AverageLatency(us)=27425] \n",
      " 27425.0 36 19\n",
      " 20 sec: 329 operations; 36.93 current ops/sec; [UPDATE AverageLatency(us)=27149.76] \n",
      " 27149.76 36.93 20\n",
      " 21 sec: 372 operations; 42.91 current ops/sec; [UPDATE AverageLatency(us)=23105.23] \n",
      " 23105.23 42.91 21\n",
      " 22 sec: 415 operations; 42.96 current ops/sec; [UPDATE AverageLatency(us)=23338.86] \n",
      " 23338.86 42.96 22\n",
      " 23 sec: 454 operations; 38.96 current ops/sec; [UPDATE AverageLatency(us)=25737.67] \n",
      " 25737.67 38.96 23\n",
      " 24 sec: 498 operations; 44 current ops/sec; [UPDATE AverageLatency(us)=22359.5] \n",
      " 22359.5 44 24\n",
      " 25 sec: 509 operations; 10.99 current ops/sec; [UPDATE AverageLatency(us)=26045] \n",
      " 26045.0 10.99 25\n"
     ]
    },
    {
     "data": {
      "text/plain": [
       "'../dump_files/nohup_c20.out'"
      ]
     },
     "execution_count": 31,
     "metadata": {},
     "output_type": "execute_result"
    }
   ],
   "source": [
    "times ,thputs, lats = getTimesThputs('../dump_files/nohup_c'+str(len(nodeIps)+len(no_cluster_yet_nodes))+'.out')\n",
    "times2 ,thputs2, lats = getTimesThputs('../dump_files/nohup_c'+str(len(nodeIps)+len(no_cluster_yet_nodes)+1)+'.out')\n",
    "\n",
    "\n",
    "'../dump_files/nohup_c'+str(len(nodeIps)+len(no_cluster_yet_nodes))+'.out'"
   ]
  },
  {
   "cell_type": "code",
   "execution_count": 32,
   "id": "2b29408a",
   "metadata": {},
   "outputs": [
    {
     "data": {
      "text/plain": [
       "array([ 2.,  3.,  4.,  5.,  6.,  7.,  8.,  9., 10., 11., 12., 13., 14.,\n",
       "       15., 16., 17., 18., 19., 20., 21., 22., 23., 24., 25.])"
      ]
     },
     "execution_count": 32,
     "metadata": {},
     "output_type": "execute_result"
    }
   ],
   "source": [
    "times2"
   ]
  },
  {
   "cell_type": "code",
   "execution_count": 33,
   "id": "b6e64441",
   "metadata": {},
   "outputs": [],
   "source": [
    "# times - times2"
   ]
  },
  {
   "cell_type": "code",
   "execution_count": 34,
   "id": "2e17cd72",
   "metadata": {},
   "outputs": [],
   "source": [
    "# thputs = thputs + thputs2"
   ]
  },
  {
   "cell_type": "code",
   "execution_count": 35,
   "id": "8b5e2f0f",
   "metadata": {},
   "outputs": [],
   "source": [
    "# np.mean(lats[20:]) # 23604.83205128205"
   ]
  },
  {
   "cell_type": "code",
   "execution_count": 36,
   "id": "9110f856",
   "metadata": {},
   "outputs": [
    {
     "data": {
      "text/plain": [
       "0.0243702575"
      ]
     },
     "execution_count": 36,
     "metadata": {},
     "output_type": "execute_result"
    }
   ],
   "source": [
    "np.mean(lats[20:])"
   ]
  },
  {
   "cell_type": "code",
   "execution_count": 37,
   "id": "02426a46",
   "metadata": {},
   "outputs": [
    {
     "data": {
      "text/plain": [
       "array([0.16063478, 0.108436  , 0.14209971, 0.1609105 , 0.11818322,\n",
       "       0.09153636, 0.08302942, 0.07942454, 0.09909644, 0.09800709,\n",
       "       0.08342992, 0.07972538, 0.04421514, 0.03839754, 0.03445938,\n",
       "       0.03033081, 0.03999835, 0.027425  , 0.02714976, 0.02310523,\n",
       "       0.02333886, 0.02573767, 0.0223595 , 0.026045  ])"
      ]
     },
     "execution_count": 37,
     "metadata": {},
     "output_type": "execute_result"
    }
   ],
   "source": [
    "lats"
   ]
  },
  {
   "cell_type": "code",
   "execution_count": 38,
   "id": "55df87d4",
   "metadata": {},
   "outputs": [],
   "source": [
    "# import pylab as pl\n",
    "\n",
    "# pl.figure(figsize = (12,8))\n",
    "# pl.rcParams.update({'font.size': 17})\n",
    "# pl.plot(times[:], thputs[:], '-o', label='BfTSmart-MC')\n",
    "\n",
    "\n",
    "# pl.title(r'Throughput')\n",
    "\n",
    "# # pl.axvline(FailTimes[0], label = '1st fail', ls = '--', color = 'r')\n",
    "# # pl.axvline(FailTimes[1], label = '2nd fail', ls = '--', color = 'g')\n",
    "# # pl.axvline(JoinTimes[2], label = '3rd join', ls = '--', color = 'b')\n",
    "# # pl.axvline(JoinTimes[3], label = '4th join', ls = '--', color = 'orange')\n",
    "\n",
    "# pl.xlabel('Time (s)')\n",
    "# pl.ylabel('Throughput (Txn/s)')\n",
    "# pl.legend()\n",
    "# # pl.savefig('../Experiments/RemoteViewChange.png', dpi = 150)\n",
    "# pl.show()\n",
    "# pl.clf()\n"
   ]
  },
  {
   "cell_type": "code",
   "execution_count": 39,
   "id": "f195bebf",
   "metadata": {},
   "outputs": [],
   "source": [
    "# import pylab as pl\n",
    "\n",
    "# pl.figure(figsize = (12,8))\n",
    "# # pl.rcParams.update({'font.size': 17})\n",
    "# pl.plot(times[:], thputs[:], '-o', label='BfTSmart-MC')\n",
    "\n",
    "\n",
    "# # pl.title(r'Joins Throughput')\n",
    "\n",
    "# # pl.axvline(FailTimes[0], label = '1st fail', ls = '--', color = 'r')\n",
    "# # pl.axvline(FailTimes[1], label = '2nd fail', ls = '--', color = 'g')\n",
    "# # pl.axvline(JoinTimes[2], label = '3rd join', ls = '--', color = 'b')\n",
    "# # pl.axvline(JoinTimes[3], label = '4th join', ls = '--', color = 'orange')\n",
    "\n",
    "# pl.xlabel('Time (s)')\n",
    "# pl.ylabel('Throughput (Txn/s)')\n",
    "# pl.legend()\n",
    "# # pl.savefig('../Experiments/RemoteViewChange.png', dpi = 150)\n",
    "# pl.show()\n",
    "# pl.clf()\n"
   ]
  },
  {
   "cell_type": "code",
   "execution_count": 40,
   "id": "c49e166c",
   "metadata": {},
   "outputs": [
    {
     "data": {
      "text/plain": [
       "([0,\n",
       "  1,\n",
       "  2,\n",
       "  3,\n",
       "  4,\n",
       "  5,\n",
       "  6,\n",
       "  7,\n",
       "  8,\n",
       "  9,\n",
       "  10,\n",
       "  11,\n",
       "  12,\n",
       "  13,\n",
       "  14,\n",
       "  15,\n",
       "  16,\n",
       "  17,\n",
       "  18,\n",
       "  19,\n",
       "  20,\n",
       "  21,\n",
       "  22,\n",
       "  23,\n",
       "  24,\n",
       "  25,\n",
       "  26,\n",
       "  27,\n",
       "  28,\n",
       "  29,\n",
       "  30,\n",
       "  31,\n",
       "  32,\n",
       "  33,\n",
       "  34,\n",
       "  35,\n",
       "  36,\n",
       "  37,\n",
       "  38,\n",
       "  39,\n",
       "  40,\n",
       "  41,\n",
       "  42,\n",
       "  43,\n",
       "  44,\n",
       "  45,\n",
       "  46,\n",
       "  47,\n",
       "  48,\n",
       "  49,\n",
       "  50,\n",
       "  51,\n",
       "  52,\n",
       "  53,\n",
       "  54,\n",
       "  55,\n",
       "  56,\n",
       "  57,\n",
       "  58,\n",
       "  59,\n",
       "  60,\n",
       "  61,\n",
       "  62,\n",
       "  63,\n",
       "  64,\n",
       "  65,\n",
       "  66,\n",
       "  67,\n",
       "  68,\n",
       "  69,\n",
       "  70,\n",
       "  71,\n",
       "  72,\n",
       "  73,\n",
       "  74,\n",
       "  75,\n",
       "  76,\n",
       "  77,\n",
       "  78,\n",
       "  79,\n",
       "  80,\n",
       "  81,\n",
       "  82,\n",
       "  83,\n",
       "  84,\n",
       "  85,\n",
       "  86,\n",
       "  87,\n",
       "  88,\n",
       "  89,\n",
       "  90,\n",
       "  91,\n",
       "  92,\n",
       "  93,\n",
       "  94,\n",
       "  95,\n",
       "  96,\n",
       "  97,\n",
       "  98,\n",
       "  99,\n",
       "  100,\n",
       "  101,\n",
       "  102,\n",
       "  103,\n",
       "  104,\n",
       "  105,\n",
       "  106,\n",
       "  107,\n",
       "  108,\n",
       "  109,\n",
       "  110,\n",
       "  111,\n",
       "  112,\n",
       "  113,\n",
       "  114,\n",
       "  115,\n",
       "  116,\n",
       "  117,\n",
       "  118,\n",
       "  119,\n",
       "  120,\n",
       "  121,\n",
       "  122,\n",
       "  123,\n",
       "  124,\n",
       "  125,\n",
       "  126,\n",
       "  127,\n",
       "  128,\n",
       "  129,\n",
       "  130,\n",
       "  131,\n",
       "  132,\n",
       "  133,\n",
       "  134,\n",
       "  135,\n",
       "  136,\n",
       "  137,\n",
       "  138,\n",
       "  139,\n",
       "  140,\n",
       "  141,\n",
       "  142,\n",
       "  143,\n",
       "  144,\n",
       "  145,\n",
       "  146,\n",
       "  147,\n",
       "  148,\n",
       "  149],\n",
       " [0,\n",
       "  0,\n",
       "  17.990000000000002,\n",
       "  17.97,\n",
       "  13.99,\n",
       "  11.98,\n",
       "  17.990000000000002,\n",
       "  21.98,\n",
       "  23.990000000000002,\n",
       "  24.939999999999998,\n",
       "  19.0,\n",
       "  21.93,\n",
       "  22.939999999999998,\n",
       "  25.939999999999998,\n",
       "  44.0,\n",
       "  51.87,\n",
       "  58.879999999999995,\n",
       "  63.97,\n",
       "  50.95,\n",
       "  72.0,\n",
       "  73.93,\n",
       "  85.87,\n",
       "  85.96000000000001,\n",
       "  76.92,\n",
       "  88.96000000000001,\n",
       "  21.990000000000002,\n",
       "  0,\n",
       "  0,\n",
       "  0,\n",
       "  0,\n",
       "  0,\n",
       "  0,\n",
       "  0,\n",
       "  0,\n",
       "  0,\n",
       "  0,\n",
       "  0,\n",
       "  0,\n",
       "  0,\n",
       "  0,\n",
       "  0,\n",
       "  0,\n",
       "  0,\n",
       "  0,\n",
       "  0,\n",
       "  0,\n",
       "  0,\n",
       "  0,\n",
       "  0,\n",
       "  0,\n",
       "  0,\n",
       "  0,\n",
       "  0,\n",
       "  0,\n",
       "  0,\n",
       "  0,\n",
       "  0,\n",
       "  0,\n",
       "  0,\n",
       "  0,\n",
       "  0,\n",
       "  0,\n",
       "  0,\n",
       "  0,\n",
       "  0,\n",
       "  0,\n",
       "  0,\n",
       "  0,\n",
       "  0,\n",
       "  0,\n",
       "  0,\n",
       "  0,\n",
       "  0,\n",
       "  0,\n",
       "  0,\n",
       "  0,\n",
       "  0,\n",
       "  0,\n",
       "  0,\n",
       "  0,\n",
       "  0,\n",
       "  0,\n",
       "  0,\n",
       "  0,\n",
       "  0,\n",
       "  0,\n",
       "  0,\n",
       "  0,\n",
       "  0,\n",
       "  0,\n",
       "  0,\n",
       "  0,\n",
       "  0,\n",
       "  0,\n",
       "  0,\n",
       "  0,\n",
       "  0,\n",
       "  0,\n",
       "  0,\n",
       "  0,\n",
       "  0,\n",
       "  0,\n",
       "  0,\n",
       "  0,\n",
       "  0,\n",
       "  0,\n",
       "  0,\n",
       "  0,\n",
       "  0,\n",
       "  0,\n",
       "  0,\n",
       "  0,\n",
       "  0,\n",
       "  0,\n",
       "  0,\n",
       "  0,\n",
       "  0,\n",
       "  0,\n",
       "  0,\n",
       "  0,\n",
       "  0,\n",
       "  0,\n",
       "  0,\n",
       "  0,\n",
       "  0,\n",
       "  0,\n",
       "  0,\n",
       "  0,\n",
       "  0,\n",
       "  0,\n",
       "  0,\n",
       "  0,\n",
       "  0,\n",
       "  0,\n",
       "  0,\n",
       "  0,\n",
       "  0,\n",
       "  0,\n",
       "  0,\n",
       "  0,\n",
       "  0,\n",
       "  0,\n",
       "  0,\n",
       "  0,\n",
       "  0,\n",
       "  0,\n",
       "  0,\n",
       "  0,\n",
       "  0,\n",
       "  0])"
      ]
     },
     "execution_count": 40,
     "metadata": {},
     "output_type": "execute_result"
    }
   ],
   "source": [
    "times_new = [x for x in range(150)]\n",
    "thputs_new = [0 for x in range(150)]\n",
    "for idx, t in enumerate(times2):\n",
    "#     print(idx,t)\n",
    "    thputs_new[int(t)] = thputs[idx] + thputs2[idx]\n",
    "    \n",
    "\n",
    "times_new, thputs_new"
   ]
  },
  {
   "cell_type": "code",
   "execution_count": 41,
   "id": "e55c4d1e",
   "metadata": {},
   "outputs": [
    {
     "data": {
      "text/plain": [
       "24"
      ]
     },
     "execution_count": 41,
     "metadata": {},
     "output_type": "execute_result"
    }
   ],
   "source": [
    "len(times2)"
   ]
  },
  {
   "cell_type": "code",
   "execution_count": 42,
   "id": "dc0e5d4a",
   "metadata": {},
   "outputs": [
    {
     "data": {
      "text/plain": [
       "24"
      ]
     },
     "execution_count": 42,
     "metadata": {},
     "output_type": "execute_result"
    }
   ],
   "source": [
    "len(times)"
   ]
  },
  {
   "cell_type": "code",
   "execution_count": 43,
   "id": "2e52658b",
   "metadata": {},
   "outputs": [
    {
     "data": {
      "image/png": "[encoded data removed]",
      "text/plain": [
       "<Figure size 1200x800 with 1 Axes>"
      ]
     },
     "metadata": {},
     "output_type": "display_data"
    },
    {
     "data": {
      "text/plain": [
       "<Figure size 640x480 with 0 Axes>"
      ]
     },
     "metadata": {},
     "output_type": "display_data"
    }
   ],
   "source": [
    "import pylab as pl\n",
    "\n",
    "pl.figure(figsize = (12,8))\n",
    "# pl.rcParams.update({'font.size': 17})\n",
    "pl.plot(times_new[:], thputs_new[:], '-o', label='BfTSmart-MC')\n",
    "\n",
    "\n",
    "# pl.title(r'Joins Throughput')\n",
    "\n",
    "# pl.axvline(FailTimes[0], label = '1st fail', ls = '--', color = 'r')\n",
    "# pl.axvline(FailTimes[1], label = '2nd fail', ls = '--', color = 'g')\n",
    "# pl.axvline(JoinTimes[2], label = '3rd join', ls = '--', color = 'b')\n",
    "# pl.axvline(JoinTimes[3], label = '4th join', ls = '--', color = 'orange')\n",
    "\n",
    "pl.xlabel('Time (s)')\n",
    "pl.ylabel('Throughput (Txn/s)')\n",
    "pl.legend()\n",
    "# pl.savefig('../Experiments/RemoteViewChange.png', dpi = 150)\n",
    "pl.show()\n",
    "pl.clf()\n"
   ]
  },
  {
   "cell_type": "code",
   "execution_count": 44,
   "id": "cebb587b",
   "metadata": {},
   "outputs": [
    {
     "data": {
      "text/plain": [
       "(array([ 9.  ,  8.98,  6.99,  5.99,  9.  , 10.98, 12.  , 11.99, 10.  ,\n",
       "        10.98, 10.95, 12.99, 22.  , 25.9 , 29.97, 31.97, 24.98, 36.  ,\n",
       "        37.  , 42.96, 43.  , 37.96, 44.96, 11.  ]),\n",
       " 507.55)"
      ]
     },
     "execution_count": 44,
     "metadata": {},
     "output_type": "execute_result"
    }
   ],
   "source": [
    "(thputs), np.sum(thputs)"
   ]
  },
  {
   "cell_type": "code",
   "execution_count": 45,
   "id": "f4bd1761",
   "metadata": {},
   "outputs": [],
   "source": [
    "# import pylab as pl\n",
    "\n",
    "# pl.figure(figsize = (12,8))\n",
    "# pl.rcParams.update({'font.size': 17})\n",
    "# pl.plot(times[:], thputs[:], '-o', label='BfTSmart-MC')\n",
    "\n",
    "\n",
    "# pl.title(r'Joins Throughput')\n",
    "\n",
    "# # pl.axvline(FailTimes[0], label = '1st fail', ls = '--', color = 'r')\n",
    "# # pl.axvline(FailTimes[1], label = '2nd fail', ls = '--', color = 'g')\n",
    "# # pl.axvline(JoinTimes[2], label = '3rd join', ls = '--', color = 'b')\n",
    "# # pl.axvline(JoinTimes[3], label = '4th join', ls = '--', color = 'orange')\n",
    "\n",
    "# pl.xlabel('Time (s)')\n",
    "# pl.ylabel('Throughput (Txn/s)')\n",
    "# pl.legend()\n",
    "# # pl.savefig('../Experiments/RemoteViewChange.png', dpi = 150)\n",
    "# pl.show()\n",
    "# pl.clf()\n"
   ]
  },
  {
   "cell_type": "code",
   "execution_count": null,
   "id": "d5eb9ffe",
   "metadata": {},
   "outputs": [],
   "source": []
  },
  {
   "cell_type": "code",
   "execution_count": null,
   "id": "58275d23",
   "metadata": {},
   "outputs": [],
   "source": []
  },
  {
   "cell_type": "code",
   "execution_count": null,
   "id": "e0692410",
   "metadata": {},
   "outputs": [],
   "source": []
  },
  {
   "cell_type": "code",
   "execution_count": null,
   "id": "015d9d46",
   "metadata": {},
   "outputs": [],
   "source": []
  },
  {
   "cell_type": "code",
   "execution_count": null,
   "id": "1e321aca",
   "metadata": {},
   "outputs": [],
   "source": []
  },
  {
   "cell_type": "code",
   "execution_count": null,
   "id": "fcdf1e48",
   "metadata": {},
   "outputs": [],
   "source": []
  },
  {
   "cell_type": "code",
   "execution_count": null,
   "id": "cf7c959b",
   "metadata": {},
   "outputs": [],
   "source": []
  },
  {
   "cell_type": "code",
   "execution_count": null,
   "id": "2f12b7c5",
   "metadata": {},
   "outputs": [],
   "source": [
    "\n"
   ]
  }
 ],
 "metadata": {
  "kernelspec": {
   "display_name": "Python 3 (ipykernel)",
   "language": "python",
   "name": "python3"
  },
  "language_info": {
   "codemirror_mode": {
    "name": "ipython",
    "version": 3
   },
   "file_extension": ".py",
   "mimetype": "text/x-python",
   "name": "python",
   "nbconvert_exporter": "python",
   "pygments_lexer": "ipython3",
   "version": "3.11.5"
  }
 },
 "nbformat": 4,
 "nbformat_minor": 5
}

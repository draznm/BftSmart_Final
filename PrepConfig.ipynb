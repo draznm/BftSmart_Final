{
 "cells": [
  {
   "cell_type": "code",
   "execution_count": 1,
   "id": "9f678c04",
   "metadata": {},
   "outputs": [],
   "source": [
    "import numpy as np\n",
    "import os\n",
    "import shutil\n",
    "import subprocess\n",
    "\n"
   ]
  },
  {
   "cell_type": "code",
   "execution_count": 2,
   "id": "1026d7dd",
   "metadata": {},
   "outputs": [],
   "source": [
    "total_count = 12\n",
    "\n",
    "\n",
    "replica_count = 4\n",
    "\n",
    "n_clusters = int(total_count / replica_count)\n",
    "\n",
    "nclients = 3"
   ]
  },
  {
   "cell_type": "code",
   "execution_count": 3,
   "id": "e218e451",
   "metadata": {},
   "outputs": [],
   "source": [
    "for folder in os.listdir('.'):\n",
    "    if 'config' in folder and folder!='config' and 'zip' not in folder and '.' not in folder:\n",
    "        shutil.rmtree(folder)"
   ]
  },
  {
   "cell_type": "code",
   "execution_count": 4,
   "id": "89cbee19",
   "metadata": {},
   "outputs": [],
   "source": [
    "# os.system(\"aws --region us-west-1 ec2 describe-instances --filter Name=instance-type,Values=t2.small --query 'Reservations[*].Instances[*].[PrivateIpAddress]' --output text > all_internal_ips\")\n",
    "\n",
    "# os.system(\"aws --region us-west-1 ec2 describe-instances  --filter Name=instance-type,Values=t2.small --query 'Reservations[*].Instances[*].[PublicIpAddress]' --output text > all_external_ips\")\n"
   ]
  },
  {
   "cell_type": "code",
   "execution_count": 5,
   "id": "74564122",
   "metadata": {},
   "outputs": [],
   "source": [
    "with open('all_internal_ips') as f:\n",
    "    ipList = f.read().splitlines()\n",
    "ipList = [x for x in ipList if x!='None']"
   ]
  },
  {
   "cell_type": "code",
   "execution_count": 6,
   "id": "25f62170",
   "metadata": {},
   "outputs": [
    {
     "data": {
      "text/plain": [
       "(['127.0.0.1',\n",
       "  '127.0.0.1',\n",
       "  '127.0.0.1',\n",
       "  '127.0.0.1',\n",
       "  '127.0.0.1',\n",
       "  '127.0.0.1',\n",
       "  '127.0.0.1',\n",
       "  '127.0.0.1',\n",
       "  '127.0.0.1',\n",
       "  '127.0.0.1',\n",
       "  '127.0.0.1',\n",
       "  '127.0.0.1',\n",
       "  '127.0.0.1',\n",
       "  '127.0.0.1',\n",
       "  '127.0.0.1'],\n",
       " 15)"
      ]
     },
     "execution_count": 6,
     "metadata": {},
     "output_type": "execute_result"
    }
   ],
   "source": [
    "ipList, len(ipList)"
   ]
  },
  {
   "cell_type": "code",
   "execution_count": 7,
   "id": "579945bb",
   "metadata": {},
   "outputs": [],
   "source": [
    "clusterIpMap = {}\n",
    "\n",
    "for i in range(len(ipList)):\n",
    "    clusterIpMap[i] = ipList[i]\n",
    "\n",
    "    \n",
    "for i in range(nclients):\n",
    "    \n",
    "    clusterIpMap[7001+i] = ipList[-(nclients-i)]\n",
    "\n",
    "\n",
    "\n",
    "\n",
    "clusterPortMap1 = {}\n",
    "clusterPortMap2 = {}\n",
    "\n",
    "for i in range(len(ipList) - nclients):\n",
    "    \n",
    "    clusterPortMap1[i] = str(11000+i*10)\n",
    "    \n",
    "for i in range(len(ipList) - nclients):\n",
    "    clusterPortMap2[i] = str(11000+i*10+1)\n",
    "    \n",
    "# clusterPortMap1[7003] = '11400'\n",
    "# clusterPortMap2[7003] = '11410'\n",
    "\n",
    "\n",
    "\n",
    "temp = 11900\n",
    "\n",
    "for i in range(nclients):\n",
    "    \n",
    "    clusterPortMap1[7001+i] = str(temp+i*20)\n",
    "    clusterPortMap2[7001+i] = str(temp+i*20+10)\n",
    "\n"
   ]
  },
  {
   "cell_type": "code",
   "execution_count": 8,
   "id": "d0383f53",
   "metadata": {
    "scrolled": true
   },
   "outputs": [
    {
     "data": {
      "text/plain": [
       "({0: '11000',\n",
       "  1: '11010',\n",
       "  2: '11020',\n",
       "  3: '11030',\n",
       "  4: '11040',\n",
       "  5: '11050',\n",
       "  6: '11060',\n",
       "  7: '11070',\n",
       "  8: '11080',\n",
       "  9: '11090',\n",
       "  10: '11100',\n",
       "  11: '11110',\n",
       "  7001: '11900',\n",
       "  7002: '11920',\n",
       "  7003: '11940'},\n",
       " {0: '11001',\n",
       "  1: '11011',\n",
       "  2: '11021',\n",
       "  3: '11031',\n",
       "  4: '11041',\n",
       "  5: '11051',\n",
       "  6: '11061',\n",
       "  7: '11071',\n",
       "  8: '11081',\n",
       "  9: '11091',\n",
       "  10: '11101',\n",
       "  11: '11111',\n",
       "  7001: '11910',\n",
       "  7002: '11930',\n",
       "  7003: '11950'})"
      ]
     },
     "execution_count": 8,
     "metadata": {},
     "output_type": "execute_result"
    }
   ],
   "source": [
    "clusterPortMap1, clusterPortMap2"
   ]
  },
  {
   "cell_type": "code",
   "execution_count": 9,
   "id": "426b3b38",
   "metadata": {},
   "outputs": [
    {
     "name": "stderr",
     "output_type": "stream",
     "text": [
      "[sudo] password for tejas: "
     ]
    },
    {
     "name": "stdout",
     "output_type": "stream",
     "text": [
      "> Task :compileJava UP-TO-DATE\n",
      "> Task :processResources NO-SOURCE\n",
      "> Task :classes UP-TO-DATE\n",
      "> Task :jar UP-TO-DATE\n",
      "> Task :installDist UP-TO-DATE\n",
      "\n",
      "BUILD SUCCESSFUL in 568ms\n",
      "3 actionable tasks: 3 up-to-date\n"
     ]
    },
    {
     "data": {
      "text/plain": [
       "0"
      ]
     },
     "execution_count": 9,
     "metadata": {},
     "output_type": "execute_result"
    }
   ],
   "source": [
    "os.system('echo 1234 | sudo -S ./gradlew installDist')"
   ]
  },
  {
   "cell_type": "code",
   "execution_count": 10,
   "id": "86bbd62c",
   "metadata": {},
   "outputs": [
    {
     "data": {
      "text/plain": [
       "0"
      ]
     },
     "execution_count": 10,
     "metadata": {},
     "output_type": "execute_result"
    }
   ],
   "source": [
    "for i in range(total_count):\n",
    "    os.system('./runscripts/smartrun.sh bftsmart.tom.util.RSAKeyPairGenerator '+str(i)+' 1024')\n",
    "\n",
    "    \n",
    "\n",
    "os.system('./runscripts/smartrun.sh bftsmart.tom.util.RSAKeyPairGenerator '+str(7002)+' 1024')\n",
    "os.system('./runscripts/smartrun.sh bftsmart.tom.util.RSAKeyPairGenerator '+str(7001)+' 1024')"
   ]
  },
  {
   "cell_type": "code",
   "execution_count": 11,
   "id": "62bd80e8",
   "metadata": {},
   "outputs": [
    {
     "name": "stderr",
     "output_type": "stream",
     "text": [
      "[sudo] password for tejas: "
     ]
    },
    {
     "name": "stdout",
     "output_type": "stream",
     "text": [
      "> Task :clean\n",
      "\n",
      "BUILD SUCCESSFUL in 498ms\n",
      "1 actionable task: 1 executed\n"
     ]
    },
    {
     "data": {
      "text/plain": [
       "0"
      ]
     },
     "execution_count": 11,
     "metadata": {},
     "output_type": "execute_result"
    }
   ],
   "source": [
    "os.system('echo 1234 | sudo -S ./gradlew clean')"
   ]
  },
  {
   "cell_type": "code",
   "execution_count": 12,
   "id": "49b2f68a",
   "metadata": {},
   "outputs": [
    {
     "name": "stdout",
     "output_type": "stream",
     "text": [
      "7003\n",
      "\n",
      "----------\n",
      "\n"
     ]
    }
   ],
   "source": [
    "for key in clusterPortMap1.keys():\n",
    "    if key>7002:\n",
    "        print(key)\n",
    "        print()\n",
    "        \n",
    "        for folder in os.listdir('config/'):\n",
    "            if os.path.isdir('config/'+folder) and 'keys' in folder:\n",
    "                if os.path.exists('config/'+folder+'/'+'privatekey7001'):\n",
    "                    shutil.copy('config/'+folder+'/'+'privatekey7001','config/'+folder+'/'+'privatekey'+str(key))\n",
    "                    shutil.copy('config/'+folder+'/'+'publickey7001','config/'+folder+'/'+'publickey'+str(key))\n",
    "                \n",
    "        print('----------')\n",
    "        print()"
   ]
  },
  {
   "cell_type": "code",
   "execution_count": 13,
   "id": "8c844662",
   "metadata": {},
   "outputs": [],
   "source": [
    "for i in range(n_clusters):\n",
    "    \n",
    "    if os.path.exists('config'+str(i)):\n",
    "        shutil.rmtree('config'+str(i))\n",
    "    \n",
    "    os.mkdir('config'+str(i))\n",
    "    os.mkdir('config'+str(i)+'/keysRSA')\n",
    "    os.mkdir('config'+str(i)+'/keysSunEC')\n",
    "    os.mkdir('config'+str(i)+'/keysECDSA')\n",
    "    \n",
    "    \n",
    "    shutil.copytree('config/workloads/', 'config'+str(i)+'/workloads')\n",
    "    shutil.copytree('config/keysSSL_TLS/', 'config'+str(i)+'/keysSSL_TLS')\n",
    "    \n",
    "    \n",
    "    for file in os.listdir('config/keys/'):\n",
    "    \n",
    "        shutil.copy('config/keys/'+file, 'config'+str(i)+'/keysRSA/'+file)\n",
    "        shutil.copy('config/keys/'+file, 'config'+str(i)+'/keysSunEC/'+file)\n",
    "        shutil.copy('config/keys/'+file, 'config'+str(i)+'/keysECDSA/'+file)\n",
    "    \n",
    "    \n",
    "    shutil.copy('config/system.config', 'config'+str(i)+'/system.config')    \n",
    "    shutil.copy('config/logback.xml', 'config'+str(i)+'/logback.xml')\n",
    "    \n",
    "    \n",
    "    \n",
    "    "
   ]
  },
  {
   "cell_type": "code",
   "execution_count": 14,
   "id": "a4665ea0",
   "metadata": {},
   "outputs": [
    {
     "name": "stdout",
     "output_type": "stream",
     "text": [
      "7001 127.0.0.1 11900\n",
      "\n",
      "7002 127.0.0.1 11920\n",
      "\n",
      "7003 127.0.0.1 11940\n",
      "\n"
     ]
    }
   ],
   "source": [
    "        \n",
    "        for i in range(nclients):\n",
    "            print(str(7001+i)+' '+clusterIpMap[7001+i]+' '+clusterPortMap1[7001+i]+'\\n')"
   ]
  },
  {
   "cell_type": "code",
   "execution_count": 15,
   "id": "f6db0f1e",
   "metadata": {},
   "outputs": [],
   "source": [
    "for n_cluster in range(n_clusters):\n",
    "    \n",
    "    with open('config'+str(n_cluster)+'/hosts.config','w') as file:\n",
    "        \n",
    "        for n_cluster1 in range(n_clusters):\n",
    "        \n",
    "            for i_replica in range(replica_count):\n",
    "    #             file.writelines(str(i_replica)+' '+clusterIpMap[n_cluster*replica_count+i_replica]+' '  +clusterPortMap1[n_cluster*replica_count+i_replica]+' ' +  clusterPortMap2[n_cluster*replica_count+i_replica]+'\\n')\n",
    "                file.writelines(str(n_cluster1*replica_count+i_replica)+' '+clusterIpMap[n_cluster1*replica_count+i_replica]+' '  +clusterPortMap1[n_cluster1*replica_count+i_replica]+' ' +  clusterPortMap2[n_cluster1*replica_count+i_replica]+' '+str(n_cluster1)+'\\n')\n",
    "\n",
    "        for iter_ in range(len(ipList) - (n_clusters*replica_count)-nclients):\n",
    "            print((n_clusters*replica_count) + iter_)\n",
    "            \n",
    "#             file.writelines(str((n_clusters*replica_count) + iter_)+' '+clusterIpMap[(n_clusters*replica_count) + iter_]+' '  +clusterPortMap1[(n_clusters*replica_count) + iter_]+' ' +  clusterPortMap2[(n_clusters*replica_count) + iter_]+' '+str(iter_%n_clusters)+'\\n')\n",
    "            file.writelines(str((n_clusters*replica_count) + iter_)+' '+clusterIpMap[(n_clusters*replica_count) + iter_]+' '  +clusterPortMap1[(n_clusters*replica_count) + iter_]+' ' +  clusterPortMap2[(n_clusters*replica_count) + iter_]+' '+str(0%n_clusters)+'\\n')\n",
    "        \n",
    "        for i in range(nclients):\n",
    "            file.writelines(str(7001+i)+' '+clusterIpMap[7001+i]+' '+clusterPortMap1[7001+i]+'\\n')\n",
    "\n",
    "        \n",
    "        file.close()\n"
   ]
  },
  {
   "cell_type": "code",
   "execution_count": 16,
   "id": "b3c8b03d",
   "metadata": {},
   "outputs": [
    {
     "data": {
      "text/plain": [
       "4"
      ]
     },
     "execution_count": 16,
     "metadata": {},
     "output_type": "execute_result"
    }
   ],
   "source": [
    "replica_count"
   ]
  },
  {
   "cell_type": "code",
   "execution_count": 17,
   "id": "2b2fd25a",
   "metadata": {},
   "outputs": [
    {
     "name": "stdout",
     "output_type": "stream",
     "text": [
      "f is 1\n",
      "f is 1\n",
      "f is 1\n"
     ]
    }
   ],
   "source": [
    "for n_cluster in range(n_clusters):\n",
    "    with open('config'+str(n_cluster)+'/system.config','r') as file:\n",
    "        data = file.readlines()\n",
    "        f = int(np.ceil((replica_count-1)/3))\n",
    "        print('f is',f )\n",
    "        \n",
    "        for n_line in range(len(data)):\n",
    "            if ('system.servers.num' in data[n_line]) and '#' not in data[n_line]:\n",
    "                \n",
    "                data[n_line] = 'system.servers.num = '+str(replica_count)\n",
    "                \n",
    "            if ('system.servers.f' in data[n_line]) and '#' not in data[n_line]:\n",
    "                data[n_line] = 'system.servers.f = '+str(f)\n",
    "                \n",
    "            if ('system.initial.view' in data[n_line]) and '#' not in data[n_line]:\n",
    "                data[n_line] = 'system.initial.view = '\n",
    "                for iter_view in range(replica_count):\n",
    "                    data[n_line] = data[n_line] +str(n_cluster*replica_count+iter_view)+','\n",
    "#                     data[n_line] = data[n_line] +str(n_cluster*replica_count+iter_view)+','\n",
    "                \n",
    "                data[n_line] = data[n_line][:-1]\n",
    "                \n",
    "                \n",
    "        file.close()\n",
    "        \n",
    "    with open('config'+str(n_cluster)+'/system.config', 'w') as f:\n",
    "        for line in data:\n",
    "            f.write(f\"{line}\\n\")\n",
    "        "
   ]
  },
  {
   "cell_type": "code",
   "execution_count": 18,
   "id": "60b70c58",
   "metadata": {
    "scrolled": false
   },
   "outputs": [
    {
     "name": "stdout",
     "output_type": "stream",
     "text": [
      "config0/keysRSA/publickey7002 config0/keysRSA/publickey1000\n",
      "config0/keysRSA/publickey7002 config0/keysRSA/publickey1001\n",
      "config0/keysRSA/publickey7002 config0/keysRSA/publickey1002\n",
      "config0/keysRSA/publickey7002 config0/keysRSA/publickey1003\n",
      "config0/keysRSA/publickey7002 config0/keysRSA/publickey1004\n",
      "config0/keysRSA/publickey7002 config0/keysRSA/publickey1005\n",
      "config0/keysRSA/publickey7002 config0/keysRSA/publickey1006\n",
      "config0/keysRSA/publickey7002 config0/keysRSA/publickey1007\n",
      "config0/keysRSA/publickey7002 config0/keysRSA/publickey1008\n",
      "config0/keysRSA/publickey7002 config0/keysRSA/publickey1009\n",
      "config0/keysRSA/publickey7002 config0/keysRSA/publickey1010\n",
      "config1/keysRSA/publickey7002 config1/keysRSA/publickey1000\n",
      "config1/keysRSA/publickey7002 config1/keysRSA/publickey1001\n",
      "config1/keysRSA/publickey7002 config1/keysRSA/publickey1002\n",
      "config1/keysRSA/publickey7002 config1/keysRSA/publickey1003\n",
      "config1/keysRSA/publickey7002 config1/keysRSA/publickey1004\n",
      "config1/keysRSA/publickey7002 config1/keysRSA/publickey1005\n",
      "config1/keysRSA/publickey7002 config1/keysRSA/publickey1006\n",
      "config1/keysRSA/publickey7002 config1/keysRSA/publickey1007\n",
      "config1/keysRSA/publickey7002 config1/keysRSA/publickey1008\n",
      "config1/keysRSA/publickey7002 config1/keysRSA/publickey1009\n",
      "config1/keysRSA/publickey7002 config1/keysRSA/publickey1010\n",
      "config2/keysRSA/publickey7002 config2/keysRSA/publickey1000\n",
      "config2/keysRSA/publickey7002 config2/keysRSA/publickey1001\n",
      "config2/keysRSA/publickey7002 config2/keysRSA/publickey1002\n",
      "config2/keysRSA/publickey7002 config2/keysRSA/publickey1003\n",
      "config2/keysRSA/publickey7002 config2/keysRSA/publickey1004\n",
      "config2/keysRSA/publickey7002 config2/keysRSA/publickey1005\n",
      "config2/keysRSA/publickey7002 config2/keysRSA/publickey1006\n",
      "config2/keysRSA/publickey7002 config2/keysRSA/publickey1007\n",
      "config2/keysRSA/publickey7002 config2/keysRSA/publickey1008\n",
      "config2/keysRSA/publickey7002 config2/keysRSA/publickey1009\n",
      "config2/keysRSA/publickey7002 config2/keysRSA/publickey1010\n"
     ]
    }
   ],
   "source": [
    "for n_cluster in range(n_clusters):\n",
    "    for i in range(11):\n",
    "        \n",
    "        for ncls in  range(1):\n",
    "        \n",
    "        \n",
    "            print('config'+str(n_cluster)+'/keysRSA/'+'publickey7002', \\\n",
    "                        'config'+str(n_cluster)+'/keysRSA/'+'publickey'+str(1000+(ncls*100)+i))\n",
    "            shutil.copy('config'+str(n_cluster)+'/keysRSA/'+'publickey7002', \\\n",
    "                        'config'+str(n_cluster)+'/keysRSA/'+'publickey'+str(1000+(ncls*100)+i))\n",
    "            shutil.copy('config'+str(n_cluster)+'/keysRSA/'+'privatekey7002', \\\n",
    "                        'config'+str(n_cluster)+'/keysRSA/'+'privatekey'+str(1000+(ncls*100)+i))\n",
    "        \n",
    "#         shutil.copy('config'+str(n_cluster)+'/keysRSA/'+'publickey7002', \\\n",
    "#                     'config'+str(n_cluster)+'/keysRSA/'+'publickey7002')\n",
    "        \n",
    "#         shutil.copy('config'+str(n_cluster)+'/keysRSA/'+'privatekey7002', \\\n",
    "#                     'config'+str(n_cluster)+'/keysRSA/'+'privatekey7002')"
   ]
  },
  {
   "cell_type": "code",
   "execution_count": 19,
   "id": "b36cca3d",
   "metadata": {},
   "outputs": [],
   "source": [
    "# os.system('git remote set-url origin https://github.com/tmane002/BftSmart_Final.git')"
   ]
  },
  {
   "cell_type": "code",
   "execution_count": 20,
   "id": "c6e7ede1",
   "metadata": {
    "scrolled": true
   },
   "outputs": [
    {
     "name": "stdout",
     "output_type": "stream",
     "text": [
      "[main ca5c979] Working with modified ClusterInfo\n",
      " 508 files changed, 2453 insertions(+), 1583 deletions(-)\n",
      " rewrite BFTSmart-MCJob-Local.ipynb (77%)\n",
      " rewrite config/keys/privatekey0 (100%)\n",
      " rewrite config/keys/privatekey1 (100%)\n",
      " rewrite config/keys/privatekey10 (100%)\n",
      " rewrite config/keys/privatekey11 (100%)\n",
      " rewrite config/keys/privatekey2 (100%)\n",
      " rewrite config/keys/privatekey3 (100%)\n",
      " rewrite config/keys/privatekey4 (100%)\n",
      " rewrite config/keys/privatekey5 (100%)\n",
      " rewrite config/keys/privatekey6 (100%)\n",
      " rewrite config/keys/privatekey7 (100%)\n",
      " rewrite config/keys/privatekey7001 (100%)\n",
      " rewrite config/keys/privatekey7002 (100%)\n",
      " rewrite config/keys/privatekey7003 (100%)\n",
      " rewrite config/keys/privatekey8 (100%)\n",
      " rewrite config/keys/privatekey9 (100%)\n",
      " rewrite config0/keysECDSA/privatekey0 (100%)\n",
      " rewrite config0/keysECDSA/privatekey1 (100%)\n",
      " rewrite config0/keysECDSA/privatekey10 (100%)\n",
      " rewrite config0/keysECDSA/privatekey11 (100%)\n",
      " rewrite config0/keysECDSA/privatekey2 (100%)\n",
      " rewrite config0/keysECDSA/privatekey3 (100%)\n",
      " rewrite config0/keysECDSA/privatekey4 (100%)\n",
      " rewrite config0/keysECDSA/privatekey5 (100%)\n",
      " rewrite config0/keysECDSA/privatekey6 (100%)\n",
      " rewrite config0/keysECDSA/privatekey7 (100%)\n",
      " rewrite config0/keysECDSA/privatekey7001 (100%)\n",
      " rewrite config0/keysECDSA/privatekey7002 (100%)\n",
      " rewrite config0/keysECDSA/privatekey7003 (100%)\n",
      " rewrite config0/keysECDSA/privatekey8 (100%)\n",
      " rewrite config0/keysECDSA/privatekey9 (100%)\n",
      " rewrite config0/keysRSA/privatekey0 (100%)\n",
      " rewrite config0/keysRSA/privatekey1 (100%)\n",
      " rewrite config0/keysRSA/privatekey10 (100%)\n",
      " rewrite config0/keysRSA/privatekey1000 (100%)\n",
      " rewrite config0/keysRSA/privatekey1001 (100%)\n",
      " rewrite config0/keysRSA/privatekey1002 (100%)\n",
      " rewrite config0/keysRSA/privatekey1003 (100%)\n",
      " rewrite config0/keysRSA/privatekey1004 (100%)\n",
      " rewrite config0/keysRSA/privatekey1005 (100%)\n",
      " rewrite config0/keysRSA/privatekey1006 (100%)\n",
      " rewrite config0/keysRSA/privatekey1007 (100%)\n",
      " rewrite config0/keysRSA/privatekey1008 (100%)\n",
      " rewrite config0/keysRSA/privatekey1009 (100%)\n",
      " rewrite config0/keysRSA/privatekey1010 (100%)\n",
      " rewrite config0/keysRSA/privatekey11 (100%)\n",
      " rewrite config0/keysRSA/privatekey2 (100%)\n",
      " rewrite config0/keysRSA/privatekey3 (100%)\n",
      " rewrite config0/keysRSA/privatekey4 (100%)\n",
      " rewrite config0/keysRSA/privatekey5 (100%)\n",
      " rewrite config0/keysRSA/privatekey6 (100%)\n",
      " rewrite config0/keysRSA/privatekey7 (100%)\n",
      " rewrite config0/keysRSA/privatekey7001 (100%)\n",
      " rewrite config0/keysRSA/privatekey7002 (100%)\n",
      " rewrite config0/keysRSA/privatekey7003 (100%)\n",
      " rewrite config0/keysRSA/privatekey8 (100%)\n",
      " rewrite config0/keysRSA/privatekey9 (100%)\n",
      " rewrite config0/keysSunEC/privatekey0 (100%)\n",
      " rewrite config0/keysSunEC/privatekey1 (100%)\n",
      " rewrite config0/keysSunEC/privatekey10 (100%)\n",
      " rewrite config0/keysSunEC/privatekey11 (100%)\n",
      " rewrite config0/keysSunEC/privatekey2 (100%)\n",
      " rewrite config0/keysSunEC/privatekey3 (100%)\n",
      " rewrite config0/keysSunEC/privatekey4 (100%)\n",
      " rewrite config0/keysSunEC/privatekey5 (100%)\n",
      " rewrite config0/keysSunEC/privatekey6 (100%)\n",
      " rewrite config0/keysSunEC/privatekey7 (100%)\n",
      " rewrite config0/keysSunEC/privatekey7001 (100%)\n",
      " rewrite config0/keysSunEC/privatekey7002 (100%)\n",
      " rewrite config0/keysSunEC/privatekey7003 (100%)\n",
      " rewrite config0/keysSunEC/privatekey8 (100%)\n",
      " rewrite config0/keysSunEC/privatekey9 (100%)\n",
      " rewrite config1/keysECDSA/privatekey0 (100%)\n",
      " rewrite config1/keysECDSA/privatekey1 (100%)\n",
      " rewrite config1/keysECDSA/privatekey10 (100%)\n",
      " rewrite config1/keysECDSA/privatekey11 (100%)\n",
      " rewrite config1/keysECDSA/privatekey2 (100%)\n",
      " rewrite config1/keysECDSA/privatekey3 (100%)\n",
      " rewrite config1/keysECDSA/privatekey4 (100%)\n",
      " rewrite config1/keysECDSA/privatekey5 (100%)\n",
      " rewrite config1/keysECDSA/privatekey6 (100%)\n",
      " rewrite config1/keysECDSA/privatekey7 (100%)\n",
      " rewrite config1/keysECDSA/privatekey7001 (100%)\n",
      " rewrite config1/keysECDSA/privatekey7002 (100%)\n",
      " rewrite config1/keysECDSA/privatekey7003 (100%)\n",
      " rewrite config1/keysECDSA/privatekey8 (100%)\n",
      " rewrite config1/keysECDSA/privatekey9 (100%)\n",
      " rewrite config1/keysRSA/privatekey0 (100%)\n",
      " rewrite config1/keysRSA/privatekey1 (100%)\n",
      " rewrite config1/keysRSA/privatekey10 (100%)\n",
      " rewrite config1/keysRSA/privatekey1000 (100%)\n",
      " rewrite config1/keysRSA/privatekey1001 (100%)\n",
      " rewrite config1/keysRSA/privatekey1002 (100%)\n",
      " rewrite config1/keysRSA/privatekey1003 (100%)\n",
      " rewrite config1/keysRSA/privatekey1004 (100%)\n",
      " rewrite config1/keysRSA/privatekey1005 (100%)\n",
      " rewrite config1/keysRSA/privatekey1006 (100%)\n",
      " rewrite config1/keysRSA/privatekey1007 (100%)\n",
      " rewrite config1/keysRSA/privatekey1008 (100%)\n",
      " rewrite config1/keysRSA/privatekey1009 (100%)\n",
      " rewrite config1/keysRSA/privatekey1010 (100%)\n",
      " rewrite config1/keysRSA/privatekey11 (100%)\n",
      " rewrite config1/keysRSA/privatekey2 (100%)\n",
      " rewrite config1/keysRSA/privatekey3 (100%)\n",
      " rewrite config1/keysRSA/privatekey4 (100%)\n",
      " rewrite config1/keysRSA/privatekey5 (100%)\n",
      " rewrite config1/keysRSA/privatekey6 (100%)\n",
      " rewrite config1/keysRSA/privatekey7 (100%)\n",
      " rewrite config1/keysRSA/privatekey7001 (100%)\n",
      " rewrite config1/keysRSA/privatekey7002 (100%)\n",
      " rewrite config1/keysRSA/privatekey7003 (100%)\n",
      " rewrite config1/keysRSA/privatekey8 (100%)\n",
      " rewrite config1/keysRSA/privatekey9 (100%)\n",
      " rewrite config1/keysSunEC/privatekey0 (100%)\n",
      " rewrite config1/keysSunEC/privatekey1 (100%)\n",
      " rewrite config1/keysSunEC/privatekey10 (100%)\n",
      " rewrite config1/keysSunEC/privatekey11 (100%)\n",
      " rewrite config1/keysSunEC/privatekey2 (100%)\n",
      " rewrite config1/keysSunEC/privatekey3 (100%)\n",
      " rewrite config1/keysSunEC/privatekey4 (100%)\n",
      " rewrite config1/keysSunEC/privatekey5 (100%)\n",
      " rewrite config1/keysSunEC/privatekey6 (100%)\n",
      " rewrite config1/keysSunEC/privatekey7 (100%)\n",
      " rewrite config1/keysSunEC/privatekey7001 (100%)\n",
      " rewrite config1/keysSunEC/privatekey7002 (100%)\n",
      " rewrite config1/keysSunEC/privatekey7003 (100%)\n",
      " rewrite config1/keysSunEC/privatekey8 (100%)\n",
      " rewrite config1/keysSunEC/privatekey9 (100%)\n",
      " create mode 100644 config2/hosts.config\n",
      " create mode 100755 config2/keysECDSA/privatekey0\n",
      " create mode 100755 config2/keysECDSA/privatekey1\n",
      " create mode 100755 config2/keysECDSA/privatekey10\n",
      " create mode 100755 config2/keysECDSA/privatekey11\n",
      " create mode 100755 config2/keysECDSA/privatekey12\n",
      " create mode 100755 config2/keysECDSA/privatekey13\n",
      " create mode 100755 config2/keysECDSA/privatekey14\n",
      " create mode 100755 config2/keysECDSA/privatekey15\n",
      " create mode 100755 config2/keysECDSA/privatekey16\n",
      " create mode 100755 config2/keysECDSA/privatekey17\n",
      " create mode 100755 config2/keysECDSA/privatekey18\n",
      " create mode 100755 config2/keysECDSA/privatekey19\n",
      " create mode 100755 config2/keysECDSA/privatekey2\n",
      " create mode 100755 config2/keysECDSA/privatekey20\n",
      " create mode 100755 config2/keysECDSA/privatekey21\n",
      " create mode 100755 config2/keysECDSA/privatekey22\n",
      " create mode 100755 config2/keysECDSA/privatekey23\n",
      " create mode 100755 config2/keysECDSA/privatekey24\n",
      " create mode 100755 config2/keysECDSA/privatekey25\n",
      " create mode 100755 config2/keysECDSA/privatekey26\n",
      " create mode 100755 config2/keysECDSA/privatekey27\n",
      " create mode 100755 config2/keysECDSA/privatekey28\n",
      " create mode 100755 config2/keysECDSA/privatekey29\n",
      " create mode 100755 config2/keysECDSA/privatekey3\n",
      " create mode 100755 config2/keysECDSA/privatekey4\n",
      " create mode 100755 config2/keysECDSA/privatekey5\n",
      " create mode 100755 config2/keysECDSA/privatekey6\n",
      " create mode 100755 config2/keysECDSA/privatekey7\n",
      " create mode 100755 config2/keysECDSA/privatekey7001\n",
      " create mode 100755 config2/keysECDSA/privatekey7002\n",
      " create mode 100755 config2/keysECDSA/privatekey7003\n",
      " create mode 100755 config2/keysECDSA/privatekey7004\n",
      " create mode 100755 config2/keysECDSA/privatekey7005\n",
      " create mode 100755 config2/keysECDSA/privatekey7006\n",
      " create mode 100755 config2/keysECDSA/privatekey8\n",
      " create mode 100755 config2/keysECDSA/privatekey9\n",
      " create mode 100755 config2/keysECDSA/publickey0\n",
      " create mode 100755 config2/keysECDSA/publickey1\n",
      " create mode 100755 config2/keysECDSA/publickey10\n",
      " create mode 100755 config2/keysECDSA/publickey11\n",
      " create mode 100755 config2/keysECDSA/publickey12\n",
      " create mode 100755 config2/keysECDSA/publickey13\n",
      " create mode 100755 config2/keysECDSA/publickey14\n",
      " create mode 100755 config2/keysECDSA/publickey15\n",
      " create mode 100755 config2/keysECDSA/publickey16\n",
      " create mode 100755 config2/keysECDSA/publickey17\n",
      " create mode 100755 config2/keysECDSA/publickey18\n",
      " create mode 100755 config2/keysECDSA/publickey19\n",
      " create mode 100755 config2/keysECDSA/publickey2\n",
      " create mode 100755 config2/keysECDSA/publickey20\n",
      " create mode 100755 config2/keysECDSA/publickey21\n",
      " create mode 100755 config2/keysECDSA/publickey22\n",
      " create mode 100755 config2/keysECDSA/publickey23\n",
      " create mode 100755 config2/keysECDSA/publickey24\n",
      " create mode 100755 config2/keysECDSA/publickey25\n",
      " create mode 100755 config2/keysECDSA/publickey26\n",
      " create mode 100755 config2/keysECDSA/publickey27\n",
      " create mode 100755 config2/keysECDSA/publickey28\n",
      " create mode 100755 config2/keysECDSA/publickey29\n",
      " create mode 100755 config2/keysECDSA/publickey3\n",
      " create mode 100755 config2/keysECDSA/publickey4\n",
      " create mode 100755 config2/keysECDSA/publickey5\n",
      " create mode 100755 config2/keysECDSA/publickey6\n",
      " create mode 100755 config2/keysECDSA/publickey7\n",
      " create mode 100755 config2/keysECDSA/publickey7001\n",
      " create mode 100755 config2/keysECDSA/publickey7002\n",
      " create mode 100755 config2/keysECDSA/publickey7003\n",
      " create mode 100755 config2/keysECDSA/publickey7004\n",
      " create mode 100755 config2/keysECDSA/publickey7005\n",
      " create mode 100755 config2/keysECDSA/publickey7006\n",
      " create mode 100755 config2/keysECDSA/publickey8\n",
      " create mode 100755 config2/keysECDSA/publickey9\n",
      " create mode 100755 config2/keysRSA/privatekey0\n",
      " create mode 100755 config2/keysRSA/privatekey1\n",
      " create mode 100755 config2/keysRSA/privatekey10\n",
      " create mode 100755 config2/keysRSA/privatekey1000\n",
      " create mode 100755 config2/keysRSA/privatekey1001\n",
      " create mode 100755 config2/keysRSA/privatekey1002\n",
      " create mode 100755 config2/keysRSA/privatekey1003\n",
      " create mode 100755 config2/keysRSA/privatekey1004\n",
      " create mode 100755 config2/keysRSA/privatekey1005\n",
      " create mode 100755 config2/keysRSA/privatekey1006\n",
      " create mode 100755 config2/keysRSA/privatekey1007\n",
      " create mode 100755 config2/keysRSA/privatekey1008\n",
      " create mode 100755 config2/keysRSA/privatekey1009\n",
      " create mode 100755 config2/keysRSA/privatekey1010\n",
      " create mode 100755 config2/keysRSA/privatekey11\n",
      " create mode 100755 config2/keysRSA/privatekey12\n",
      " create mode 100755 config2/keysRSA/privatekey13\n",
      " create mode 100755 config2/keysRSA/privatekey14\n",
      " create mode 100755 config2/keysRSA/privatekey15\n",
      " create mode 100755 config2/keysRSA/privatekey16\n",
      " create mode 100755 config2/keysRSA/privatekey17\n",
      " create mode 100755 config2/keysRSA/privatekey18\n",
      " create mode 100755 config2/keysRSA/privatekey19\n",
      " create mode 100755 config2/keysRSA/privatekey2\n",
      " create mode 100755 config2/keysRSA/privatekey20\n",
      " create mode 100755 config2/keysRSA/privatekey21\n",
      " create mode 100755 config2/keysRSA/privatekey22\n",
      " create mode 100755 config2/keysRSA/privatekey23\n",
      " create mode 100755 config2/keysRSA/privatekey24\n",
      " create mode 100755 config2/keysRSA/privatekey25\n",
      " create mode 100755 config2/keysRSA/privatekey26\n",
      " create mode 100755 config2/keysRSA/privatekey27\n",
      " create mode 100755 config2/keysRSA/privatekey28\n",
      " create mode 100755 config2/keysRSA/privatekey29\n",
      " create mode 100755 config2/keysRSA/privatekey3\n",
      " create mode 100755 config2/keysRSA/privatekey4\n",
      " create mode 100755 config2/keysRSA/privatekey5\n",
      " create mode 100755 config2/keysRSA/privatekey6\n",
      " create mode 100755 config2/keysRSA/privatekey7\n",
      " create mode 100755 config2/keysRSA/privatekey7001\n",
      " create mode 100755 config2/keysRSA/privatekey7002\n",
      " create mode 100755 config2/keysRSA/privatekey7003\n",
      " create mode 100755 config2/keysRSA/privatekey7004\n",
      " create mode 100755 config2/keysRSA/privatekey7005\n",
      " create mode 100755 config2/keysRSA/privatekey7006\n",
      " create mode 100755 config2/keysRSA/privatekey8\n",
      " create mode 100755 config2/keysRSA/privatekey9\n",
      " create mode 100755 config2/keysRSA/publickey0\n",
      " create mode 100755 config2/keysRSA/publickey1\n",
      " create mode 100755 config2/keysRSA/publickey10\n",
      " create mode 100755 config2/keysRSA/publickey1000\n",
      " create mode 100755 config2/keysRSA/publickey1001\n",
      " create mode 100755 config2/keysRSA/publickey1002\n",
      " create mode 100755 config2/keysRSA/publickey1003\n",
      " create mode 100755 config2/keysRSA/publickey1004\n",
      " create mode 100755 config2/keysRSA/publickey1005\n",
      " create mode 100755 config2/keysRSA/publickey1006\n",
      " create mode 100755 config2/keysRSA/publickey1007\n",
      " create mode 100755 config2/keysRSA/publickey1008\n",
      " create mode 100755 config2/keysRSA/publickey1009\n",
      " create mode 100755 config2/keysRSA/publickey1010\n",
      " create mode 100755 config2/keysRSA/publickey11\n",
      " create mode 100755 config2/keysRSA/publickey12\n",
      " create mode 100755 config2/keysRSA/publickey13\n",
      " create mode 100755 config2/keysRSA/publickey14\n",
      " create mode 100755 config2/keysRSA/publickey15\n",
      " create mode 100755 config2/keysRSA/publickey16\n",
      " create mode 100755 config2/keysRSA/publickey17\n",
      " create mode 100755 config2/keysRSA/publickey18\n",
      " create mode 100755 config2/keysRSA/publickey19\n",
      " create mode 100755 config2/keysRSA/publickey2\n",
      " create mode 100755 config2/keysRSA/publickey20\n",
      " create mode 100755 config2/keysRSA/publickey21\n",
      " create mode 100755 config2/keysRSA/publickey22\n",
      " create mode 100755 config2/keysRSA/publickey23\n",
      " create mode 100755 config2/keysRSA/publickey24\n",
      " create mode 100755 config2/keysRSA/publickey25\n",
      " create mode 100755 config2/keysRSA/publickey26\n",
      " create mode 100755 config2/keysRSA/publickey27\n",
      " create mode 100755 config2/keysRSA/publickey28\n",
      " create mode 100755 config2/keysRSA/publickey29\n",
      " create mode 100755 config2/keysRSA/publickey3\n",
      " create mode 100755 config2/keysRSA/publickey4\n",
      " create mode 100755 config2/keysRSA/publickey5\n",
      " create mode 100755 config2/keysRSA/publickey6\n",
      " create mode 100755 config2/keysRSA/publickey7\n",
      " create mode 100755 config2/keysRSA/publickey7001\n",
      " create mode 100755 config2/keysRSA/publickey7002\n",
      " create mode 100755 config2/keysRSA/publickey7003\n",
      " create mode 100755 config2/keysRSA/publickey7004\n",
      " create mode 100755 config2/keysRSA/publickey7005\n",
      " create mode 100755 config2/keysRSA/publickey7006\n",
      " create mode 100755 config2/keysRSA/publickey8\n",
      " create mode 100755 config2/keysRSA/publickey9\n",
      " create mode 100755 config2/keysSSL_TLS/EC_KeyPair_256.pkcs12\n",
      " create mode 100755 config2/keysSSL_TLS/EC_KeyPair_384.pkcs12\n",
      " create mode 100755 config2/keysSSL_TLS/RSA_KeyPair_1024.pkcs12\n",
      " create mode 100755 config2/keysSSL_TLS/RSA_KeyPair_2048.pkcs12\n",
      " create mode 100755 config2/keysSunEC/privatekey0\n",
      " create mode 100755 config2/keysSunEC/privatekey1\n",
      " create mode 100755 config2/keysSunEC/privatekey10\n",
      " create mode 100755 config2/keysSunEC/privatekey11\n",
      " create mode 100755 config2/keysSunEC/privatekey12\n",
      " create mode 100755 config2/keysSunEC/privatekey13\n",
      " create mode 100755 config2/keysSunEC/privatekey14\n",
      " create mode 100755 config2/keysSunEC/privatekey15\n",
      " create mode 100755 config2/keysSunEC/privatekey16\n",
      " create mode 100755 config2/keysSunEC/privatekey17\n",
      " create mode 100755 config2/keysSunEC/privatekey18\n",
      " create mode 100755 config2/keysSunEC/privatekey19\n",
      " create mode 100755 config2/keysSunEC/privatekey2\n",
      " create mode 100755 config2/keysSunEC/privatekey20\n",
      " create mode 100755 config2/keysSunEC/privatekey21\n",
      " create mode 100755 config2/keysSunEC/privatekey22\n",
      " create mode 100755 config2/keysSunEC/privatekey23\n",
      " create mode 100755 config2/keysSunEC/privatekey24\n",
      " create mode 100755 config2/keysSunEC/privatekey25\n",
      " create mode 100755 config2/keysSunEC/privatekey26\n",
      " create mode 100755 config2/keysSunEC/privatekey27\n",
      " create mode 100755 config2/keysSunEC/privatekey28\n",
      " create mode 100755 config2/keysSunEC/privatekey29\n",
      " create mode 100755 config2/keysSunEC/privatekey3\n",
      " create mode 100755 config2/keysSunEC/privatekey4\n",
      " create mode 100755 config2/keysSunEC/privatekey5\n",
      " create mode 100755 config2/keysSunEC/privatekey6\n",
      " create mode 100755 config2/keysSunEC/privatekey7\n",
      " create mode 100755 config2/keysSunEC/privatekey7001\n",
      " create mode 100755 config2/keysSunEC/privatekey7002\n",
      " create mode 100755 config2/keysSunEC/privatekey7003\n",
      " create mode 100755 config2/keysSunEC/privatekey7004\n",
      " create mode 100755 config2/keysSunEC/privatekey7005\n",
      " create mode 100755 config2/keysSunEC/privatekey7006\n",
      " create mode 100755 config2/keysSunEC/privatekey8\n",
      " create mode 100755 config2/keysSunEC/privatekey9\n",
      " create mode 100755 config2/keysSunEC/publickey0\n",
      " create mode 100755 config2/keysSunEC/publickey1\n",
      " create mode 100755 config2/keysSunEC/publickey10\n",
      " create mode 100755 config2/keysSunEC/publickey11\n",
      " create mode 100755 config2/keysSunEC/publickey12\n",
      " create mode 100755 config2/keysSunEC/publickey13\n",
      " create mode 100755 config2/keysSunEC/publickey14\n",
      " create mode 100755 config2/keysSunEC/publickey15\n",
      " create mode 100755 config2/keysSunEC/publickey16\n",
      " create mode 100755 config2/keysSunEC/publickey17\n",
      " create mode 100755 config2/keysSunEC/publickey18\n",
      " create mode 100755 config2/keysSunEC/publickey19\n",
      " create mode 100755 config2/keysSunEC/publickey2\n",
      " create mode 100755 config2/keysSunEC/publickey20\n",
      " create mode 100755 config2/keysSunEC/publickey21\n",
      " create mode 100755 config2/keysSunEC/publickey22\n",
      " create mode 100755 config2/keysSunEC/publickey23\n",
      " create mode 100755 config2/keysSunEC/publickey24\n",
      " create mode 100755 config2/keysSunEC/publickey25\n",
      " create mode 100755 config2/keysSunEC/publickey26\n",
      " create mode 100755 config2/keysSunEC/publickey27\n",
      " create mode 100755 config2/keysSunEC/publickey28\n",
      " create mode 100755 config2/keysSunEC/publickey29\n",
      " create mode 100755 config2/keysSunEC/publickey3\n",
      " create mode 100755 config2/keysSunEC/publickey4\n",
      " create mode 100755 config2/keysSunEC/publickey5\n",
      " create mode 100755 config2/keysSunEC/publickey6\n",
      " create mode 100755 config2/keysSunEC/publickey7\n",
      " create mode 100755 config2/keysSunEC/publickey7001\n",
      " create mode 100755 config2/keysSunEC/publickey7002\n",
      " create mode 100755 config2/keysSunEC/publickey7003\n",
      " create mode 100755 config2/keysSunEC/publickey7004\n",
      " create mode 100755 config2/keysSunEC/publickey7005\n",
      " create mode 100755 config2/keysSunEC/publickey7006\n",
      " create mode 100755 config2/keysSunEC/publickey8\n",
      " create mode 100755 config2/keysSunEC/publickey9\n",
      " create mode 100755 config2/logback.xml\n",
      " create mode 100755 config2/system.config\n",
      " create mode 100755 config2/workloads/workloada\n"
     ]
    },
    {
     "name": "stderr",
     "output_type": "stream",
     "text": [
      "remote: Resolving deltas: 100% (11/11), completed with 7 local objects.        \n",
      "To github.com:tmane002/BftSmart_Final.git\n",
      "   ad78a23..ca5c979  main -> main\n"
     ]
    },
    {
     "data": {
      "text/plain": [
       "0"
      ]
     },
     "execution_count": 20,
     "metadata": {},
     "output_type": "execute_result"
    }
   ],
   "source": [
    "os.system('git add .; git commit -m \"Working with modified ClusterInfo\";git push')"
   ]
  },
  {
   "cell_type": "code",
   "execution_count": 21,
   "id": "bee7377b",
   "metadata": {},
   "outputs": [],
   "source": [
    "# 'gcloud compute instances create instance-1 --project=cellular-hybrid-358402 --zone=us-central1-a --machine-type=e2-medium --network-interface=network-tier=PREMIUM,subnet=default --no-restart-on-failure --maintenance-policy=TERMINATE --provisioning-model=SPOT --instance-termination-action=STOP --service-account=932709639592-compute@developer.gserviceaccount.com --scopes=https://www.googleapis.com/auth/devstorage.read_only,https://www.googleapis.com/auth/logging.write,https://www.googleapis.com/auth/monitoring.write,https://www.googleapis.com/auth/servicecontrol,https://www.googleapis.com/auth/service.management.readonly,https://www.googleapis.com/auth/trace.append --tags=http-server,https-server --create-disk=auto-delete=yes,boot=yes,device-name=instance-1,image=projects/ubuntu-os-cloud/global/images/ubuntu-2204-jammy-v20220810,mode=rw,size=10,type=projects/cellular-hybrid-358402/zones/us-central1-a/diskTypes/pd-balanced --no-shielded-secure-boot --shielded-vtpm --shielded-integrity-monitoring --reservation-affinity=any'"
   ]
  },
  {
   "cell_type": "code",
   "execution_count": 22,
   "id": "3086d997",
   "metadata": {},
   "outputs": [],
   "source": [
    "# gcloud compute instances create instance-1 --project=cellular-hybrid-358402 --zone=us-west1-b --machine-type=e2-medium --network-interface=network-tier=PREMIUM,subnet=default --no-restart-on-failure --maintenance-policy=TERMINATE --provisioning-model=SPOT --instance-termination-action=STOP --service-account=932709639592-compute@developer.gserviceaccount.com --scopes=https://www.googleapis.com/auth/devstorage.read_only,https://www.googleapis.com/auth/logging.write,https://www.googleapis.com/auth/monitoring.write,https://www.googleapis.com/auth/servicecontrol,https://www.googleapis.com/auth/service.management.readonly,https://www.googleapis.com/auth/trace.append --tags=http-server,https-server --create-disk=auto-delete=yes,boot=yes,device-name=instance-1,image=projects/ubuntu-os-cloud/global/images/ubuntu-2204-jammy-v20220810,mode=rw,size=10,type=projects/cellular-hybrid-358402/zones/us-central1-a/diskTypes/pd-balanced --no-shielded-secure-boot --shielded-vtpm --shielded-integrity-monitoring --reservation-affinity=any"
   ]
  },
  {
   "cell_type": "code",
   "execution_count": null,
   "id": "76c5f26a",
   "metadata": {},
   "outputs": [],
   "source": []
  }
 ],
 "metadata": {
  "kernelspec": {
   "display_name": "Python 3 (ipykernel)",
   "language": "python",
   "name": "python3"
  },
  "language_info": {
   "codemirror_mode": {
    "name": "ipython",
    "version": 3
   },
   "file_extension": ".py",
   "mimetype": "text/x-python",
   "name": "python",
   "nbconvert_exporter": "python",
   "pygments_lexer": "ipython3",
   "version": "3.10.9"
  }
 },
 "nbformat": 4,
 "nbformat_minor": 5
}
